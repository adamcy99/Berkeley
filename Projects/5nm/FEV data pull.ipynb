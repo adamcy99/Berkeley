{
 "cells": [
  {
   "cell_type": "code",
   "execution_count": null,
   "id": "1d65dea1",
   "metadata": {},
   "outputs": [],
   "source": [
    "fev = '5HPP_eval_CT2_MPW15ER5ER6'\n",
    "QUERY = f\"\"\"\n",
    "WITH cte AS(\n",
    "    SELECT\n",
    "        lot_Id, LEFT(wafer_id, 5) AS lot_id_base, wafer_Id, family_Code, \n",
    "        MIN(last_TestTimeStamp) AS earliest_test_date,\n",
    "        {aggs}\n",
    "    FROM\n",
    "        DMIW.ChipParmFactR cpfr\n",
    "        INNER JOIN DMIW_SYSPRC.TestParm tp ON cpfr.testparmkey = tp.testparmkey \n",
    "        INNER JOIN DMIW_SYSPRC.Geography g ON cpfr.geographykey = g.geographykey \n",
    "        INNER JOIN DMIW_SYSPRC.testedwafer tw ON cpfr.testedwaferkey = tw.testedwaferkey\n",
    "    WHERE ( Last_test_date >= (current date - 300 days))\n",
    "        AND parm_Label in ({parameters})\n",
    "        AND Tech_id = '5HPP'\n",
    "        AND Level = 'H4'\n",
    "        AND cpfr.parmValue IS NOT NULL\n",
    "        AND abs(parmValue) < 1e25\n",
    "        AND lot_id IN ('FZ2DZ.1','FZ2DY.1')\n",
    "    GROUP BY lot_id, LEFT(wafer_id, 5), wafer_Id, family_Code\n",
    "    ORDER BY\n",
    "        lot_Id, wafer_Id\n",
    "),\n",
    "cte2 AS(\n",
    "    SELECT lot_id, wafer_id, ewr_name, cell_name\n",
    "    FROM DMIW_SYSTEMS.EWR_EVENT_FACT eef\n",
    "        INNER JOIN DMIW_SYSTEMS.WAFER w ON eef.waferkey = w.waferkey\n",
    "        INNER JOIN DMIW_SYSTEMS.PRODUCT p ON eef.productkey = p.productkey\n",
    "        INNER JOIN DMIW_SYSTEMS.EWR_EVENT ee ON eef.ewr_eventkey = ee.ewr_eventkey\n",
    "        INNER JOIN DMIW_SYSTEMS.EWR_CELL ec ON eef.ewr_cellkey = ec.ewr_cellkey\n",
    "    WHERE lot_id IN ('FZ2DZ.1','FZ2DY.1')\n",
    "        AND EWR_NAME IN ('{fev}')\n",
    ")\n",
    "SELECT cte.*, ewr_name, cell_name\n",
    "FROM cte\n",
    "    INNER JOIN cte2 ON cte.wafer_id = cte2.wafer_id\n",
    "\"\"\""
   ]
  },
  {
   "cell_type": "code",
   "execution_count": null,
   "id": "199fdee8",
   "metadata": {},
   "outputs": [],
   "source": [
    "df = ibmdata.isdw.query(QUERY)"
   ]
  }
 ],
 "metadata": {
  "kernelspec": {
   "display_name": "Python 3 (ipykernel)",
   "language": "python",
   "name": "python3"
  },
  "language_info": {
   "codemirror_mode": {
    "name": "ipython",
    "version": 3
   },
   "file_extension": ".py",
   "mimetype": "text/x-python",
   "name": "python",
   "nbconvert_exporter": "python",
   "pygments_lexer": "ipython3",
   "version": "3.10.8"
  }
 },
 "nbformat": 4,
 "nbformat_minor": 5
}
