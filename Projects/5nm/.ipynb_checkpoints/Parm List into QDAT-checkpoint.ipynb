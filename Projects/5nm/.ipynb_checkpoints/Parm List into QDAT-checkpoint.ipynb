{
 "cells": [
  {
   "cell_type": "code",
   "execution_count": null,
   "id": "62d74d8b",
   "metadata": {},
   "outputs": [],
   "source": [
    "import pandas as pd\n",
    "import ibmdata\n",
    "param_df = pd.read_csv('~/Documents/FinalParmList.csv')\n",
    "\n",
    "param_df.head()"
   ]
  },
  {
   "cell_type": "code",
   "execution_count": null,
   "id": "ec0b6a38",
   "metadata": {},
   "outputs": [],
   "source": [
    "schema = 'CRB'\n",
    "new_qdat_table = 'fab_event_dashboard_params'\n",
    "\n",
    "# Add the df as a table in qdat.\n",
    "param_df.to_qdat_table(schema, new_qdat_table, if_exists='replace')\n",
    "ibmdata.qdat.table_exists(schema, new_qdat_table)\n",
    "\n",
    "# Set the data table permissions.\n",
    "ibmdata.qdat.set_permissions(schema, new_qdat_table, '300mm_systems', read=True, write=True)\n"
   ]
  },
  {
   "cell_type": "code",
   "execution_count": null,
   "id": "cb08ca26",
   "metadata": {},
   "outputs": [],
   "source": [
    "ibmdata.qdat.query(\"SELECT * FROM CRB.fab_event_dashboard_params\")"
   ]
  }
 ],
 "metadata": {
  "kernelspec": {
   "display_name": "Python 3 (ipykernel)",
   "language": "python",
   "name": "python3"
  },
  "language_info": {
   "codemirror_mode": {
    "name": "ipython",
    "version": 3
   },
   "file_extension": ".py",
   "mimetype": "text/x-python",
   "name": "python",
   "nbconvert_exporter": "python",
   "pygments_lexer": "ipython3",
   "version": "3.10.8"
  }
 },
 "nbformat": 4,
 "nbformat_minor": 5
}
