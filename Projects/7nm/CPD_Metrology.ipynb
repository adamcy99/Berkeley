{
 "cells": [
  {
   "cell_type": "code",
   "execution_count": null,
   "id": "widespread-newman",
   "metadata": {},
   "outputs": [],
   "source": [
    "import pandas as pd\n",
    "import numpy as np\n",
    "import datetime\n",
    "import time\n",
    "\n",
    "import warnings\n",
    "warnings.simplefilter(action='ignore', category=FutureWarning)\n",
    "pd.set_option('display.max_columns', None)\n",
    "\n",
    "import plotly.graph_objects as go\n",
    "import plotly.express as px\n",
    "import dash\n",
    "import dash_core_components as dcc\n",
    "import dash_html_components as html\n",
    "\n",
    "import ibmdata\n",
    "\n",
    "import ruptures as rpt\n",
    "import matplotlib.pyplot as plt\n",
    "from random import gauss\n",
    "import datetime"
   ]
  },
  {
   "cell_type": "markdown",
   "id": "metropolitan-cherry",
   "metadata": {},
   "source": [
    "Dataframes must:\n",
    "- have a column named \"date\"\n",
    "- must be ordered by date column\n",
    "- must have a column of interest ie. yield, mean, etc. There can't be too many variations for this. Might have to figure out a way to rename the column of interest into a single constant name.\n"
   ]
  },
  {
   "cell_type": "markdown",
   "id": "perceived-utilization",
   "metadata": {},
   "source": [
    "# Load Parms"
   ]
  },
  {
   "cell_type": "code",
   "execution_count": null,
   "id": "creative-antarctica",
   "metadata": {},
   "outputs": [],
   "source": [
    "metparms = pd.read_csv('~/Desktop/CPD/Parms/IQC_Metrology_Parms.csv', header=None)\n",
    "fixed_parms = []\n",
    "for p in list(m5parms[0]):\n",
    "    fixed_parms.append(p+\"_M5\")\n",
    "m5parms[0] = fixed_parms"
   ]
  }
 ],
 "metadata": {
  "kernelspec": {
   "display_name": "Python 3",
   "language": "python",
   "name": "python3"
  },
  "language_info": {
   "codemirror_mode": {
    "name": "ipython",
    "version": 3
   },
   "file_extension": ".py",
   "mimetype": "text/x-python",
   "name": "python",
   "nbconvert_exporter": "python",
   "pygments_lexer": "ipython3",
   "version": "3.9.2"
  }
 },
 "nbformat": 4,
 "nbformat_minor": 5
}
