{
 "cells": [
  {
   "cell_type": "code",
   "execution_count": 1,
   "metadata": {},
   "outputs": [],
   "source": [
    "import pandas as pd\n",
    "#pd.set_option(\"display.max_rows\", None)\n",
    "import numpy as np\n",
    "import datetime\n",
    "import time\n",
    "\n",
    "import warnings\n",
    "warnings.simplefilter(action='ignore', category=FutureWarning)\n",
    "pd.set_option('display.max_columns', None)\n",
    "\n",
    "import plotly.graph_objects as go\n",
    "import plotly.express as px\n",
    "import plotly.figure_factory as ff\n",
    "import dash\n",
    "import dash_core_components as dcc\n",
    "import dash_html_components as html\n",
    "\n",
    "import ibmdata"
   ]
  },
  {
   "cell_type": "markdown",
   "metadata": {},
   "source": [
    "# Plot HeatMap"
   ]
  },
  {
   "cell_type": "code",
   "execution_count": 2,
   "metadata": {},
   "outputs": [],
   "source": [
    "import copy\n",
    "def create_z(df,x_col,y_col,z_col):\n",
    "    # create an empty annotations container\n",
    "    if len(df['family_code'].unique()) == 1:\n",
    "        if df['family_code'].unique() == 'Q5':\n",
    "            annotations = [['', '', '', 0, 0, 0, 0, 0, '', '', ''],\n",
    "                           ['', '', 0, 0, 0, 0, 0, 0, 0, '', ''],\n",
    "                           ['', 0, 0, 0, 0, 0, 0, 0, 0, 0, ''],\n",
    "                           [0, 0, 0, 0, 0, 0, 0, 0, 0, 0, 0],\n",
    "                           [0, 0, 0, 0, 0, 0, 0, 0, 0, 0, 0],\n",
    "                           [0, 0, 0, 0, 0, 0, 0, 0, 0, 0, 0],\n",
    "                           ['', 0, 0, 0, 0, 0, 0, 0, 0, 0, ''],\n",
    "                           ['', '', 0, 0, 0, 0, 0, 0, 0, '', ''],\n",
    "                           ['', '', '', 0, 0, 0, 0, 0, '', '', '']]\n",
    "            # Fill the annotations container\n",
    "            for i in range(df.shape[0]):\n",
    "                x = int(df.iloc[i][x_col] - 1)\n",
    "                y = int(df.iloc[i][y_col] - 2)\n",
    "                annotations[y][x] = df.iloc[i][z_col].round(2)\n",
    "        elif df['family_code'].unique() == 'Q6':\n",
    "            annotations = [['', '', '', '', 0, 0, 0, '', '', '', ''],\n",
    "                           ['', '', 0, 0, 0, 0, 0, 0, 0, '', ''],\n",
    "                           ['', 0, 0, 0, 0, 0, 0, 0, 0, 0, ''],\n",
    "                           [0, 0, 0, 0, 0, 0, 0, 0, 0, 0, ''],\n",
    "                           [0, 0, 0, 0, 0, 0, 0, 0, 0, 0, 0],\n",
    "                           [0, 0, 0, 0, 0, 0, 0, 0, 0, 0, 0],\n",
    "                           [0, 0, 0, 0, 0, 0, 0, 0, 0, 0, ''],\n",
    "                           ['', 0, 0, 0, 0, 0, 0, 0, 0, 0, ''],\n",
    "                           ['', '', 0, 0, 0, 0, 0, 0, 0, '', ''],\n",
    "                           ['', '', '', '', 0, 0, 0, '', '', '', '']]\n",
    "            # Fill the annotations container\n",
    "            for i in range(df.shape[0]):\n",
    "                x = int(df.iloc[i][x_col] - 2)\n",
    "                y = int(df.iloc[i][y_col] - 2)\n",
    "                annotations[y][x] = df.iloc[i][z_col].round(2)\n",
    "    else:\n",
    "        return False, False\n",
    "\n",
    "    # Replace '' with a value to plot with\n",
    "    z = copy.deepcopy(annotations)\n",
    "    for y, row in enumerate(z):\n",
    "        for x, value in enumerate(row):\n",
    "            if z[y][x] == '':\n",
    "                if min(df[z_col]) <= 0:\n",
    "                    z[y][x] = min(df[z_col])-1\n",
    "                else:\n",
    "                    z[y][x] = -1\n",
    "        \n",
    "    return z, annotations\n",
    "\n",
    "\n",
    "def plot_heatmap(df,x_col,y_col,z_col):\n",
    "    z, annotation = create_z(df,x_col=x_col,y_col=y_col,z_col=z_col)\n",
    "    if z == False:\n",
    "        return\n",
    "    else:\n",
    "        if df['family_code'].unique() == 'Q5':\n",
    "            y = [i for i in range(2,11)]\n",
    "        elif df['family_code'].unique() == 'Q6':\n",
    "            y = [i for i in range(2,12)]\n",
    "        fig = ff.create_annotated_heatmap(\n",
    "            z=z,\n",
    "            y = y,\n",
    "            x = [i for i in range(1,12)],\n",
    "            annotation_text=annotation,\n",
    "            colorscale = [(0.00, \"white\"),(0.01,'rgb(255,247,236)'),(1.00, 'rgb(127, 0, 0)')]\n",
    "        )\n",
    "        fig.update_layout(\n",
    "            xaxis_title=\"retx\",\n",
    "            yaxis_title=\"rety\",\n",
    "            width = 680,\n",
    "            height = 600,\n",
    "            autosize = False\n",
    "        )\n",
    "        fig.update_xaxes(side=\"bottom\")\n",
    "        return fig"
   ]
  },
  {
   "cell_type": "markdown",
   "metadata": {},
   "source": [
    "# Pull data"
   ]
  },
  {
   "cell_type": "code",
   "execution_count": 3,
   "metadata": {},
   "outputs": [],
   "source": [
    "def fill_zeros(df):\n",
    "    data = {'lot_id':[],'wafer_id':[],'family_code':[],'sail_date':[],'retx':[],'rety':[],}\n",
    "    temp_df = df.groupby(['lot_id','wafer_id','family_code'])['sail_date'].min().reset_index()\n",
    "    for row in temp_df.drop_duplicates().iterrows():\n",
    "        if row[1][2] == 'Q5':\n",
    "            data['lot_id'].extend([row[1][0] for i in range(75)])\n",
    "            data['wafer_id'].extend([row[1][1] for i in range(75)])\n",
    "            data['family_code'].extend([row[1][2] for i in range(75)])\n",
    "            data['sail_date'].extend([row[1][3] for i in range(75)])\n",
    "            data['retx'].extend([1,1,1,2,2,2,2,2,3,3,3,3,3,3,3,4,4,4,4,4,4,4,4,4,5,5,5,5,5,5,5,5,5,\n",
    "                        6,6,6,6,6,6,6,6,6,7,7,7,7,7,7,7,7,7,8,8,8,8,8,8,8,8,8,9,9,9,9,9,9,\n",
    "                        9,10,10,10,10,10,11,11,11])\n",
    "            data['rety'].extend([5,6,7,4,5,6,7,8,3,4,5,6,7,8,9,2,3,4,5,6,7,8,9,10,2,3,4,5,6,7,8,9,\n",
    "                        10,2,3,4,5,6,7,8,9,10,2,3,4,5,6,7,8,9,10,2,3,4,5,6,7,8,9,10,3,4,5,\n",
    "                        6,7,8,9,4,5,6,7,8,5,6,7])\n",
    "        elif row[1][2] == 'Q6':\n",
    "            data['lot_id'].extend([row[1][0] for i in range(80)])\n",
    "            data['wafer_id'].extend([row[1][1] for i in range(80)])\n",
    "            data['family_code'].extend([row[1][2] for i in range(80)])\n",
    "            data['sail_date'].extend([row[1][3] for i in range(80)])\n",
    "            data['retx'].extend([2,2,2,2,3,3,3,3,3,3,4,4,4,4,4,4,4,4,5,5,5,5,5,5,5,5,6,6,6,6,6,6,6,\n",
    "                        6,6,6,7,7,7,7,7,7,7,7,7,7,8,8,8,8,8,8,8,8,8,8,9,9,9,9,9,9,9,9,10,\n",
    "                        10,10,10,10,10,10,10,11,11,11,11,11,11,12,12])\n",
    "            data['rety'].extend([5,6,7,8,4,5,6,7,8,9,3,4,5,6,7,8,9,10,3,4,5,6,7,8,9,10,2,3,4,5,6,7,\n",
    "                        8,9,10,11,2,3,4,5,6,7,8,9,10,11,2,3,4,5,6,7,8,9,10,11,3,4,5,6,7,8,9,10,3,4,5,\n",
    "                        6,7,8,9,10,4,5,6,7,8,9,6,7])\n",
    "    filler_df = pd.DataFrame(data)\n",
    "    output_df = filler_df.merge(df,how='left',on=['lot_id','wafer_id','family_code','retx','rety']).fillna(0)\n",
    "    output_df['sail_date'] = [output_df.iloc[i]['sail_date_x'] if output_df.iloc[i]['sail_date_y'] == 0 else output_df.iloc[i]['sail_date_y'] for i in range(len(output_df))]\n",
    "    output_df = output_df.drop(columns=['sail_date_x','sail_date_y'])\n",
    "    return output_df"
   ]
  },
  {
   "cell_type": "code",
   "execution_count": 4,
   "metadata": {},
   "outputs": [],
   "source": [
    "DAYSBACK = 365\n",
    "GF_QUERY = f\"\"\"\n",
    "WITH cte AS(\n",
    "    (SELECT lot_Id, wafer_Id, family_Code, tw.Calcdefs AS Sail, tw.Last_test_date AS date,\n",
    "        unitcell_X - 1 AS retx, unitcell_Y AS rety, radius_Center_5 AS erzone,\n",
    "        --(unitcell_X - 1)||'_'||unitcell_Y AS retXY,\n",
    "        CASE WHEN LENGTH(parm_Label) = 37 THEN tw.testProgramName||'_0p75'||RIGHT(parm_Label,11) ELSE tw.testProgramName||'_0p75'||RIGHT(parm_Label,12) END AS label,\n",
    "        parmYield as yield\n",
    "    FROM DMIW.ChipParmFactR cpfr\n",
    "        JOIN DMIW_SYSTEMS.TestParm tp ON tp.testParmKey = cpfr.testParmKey\n",
    "        JOIN DMIW_SYSTEMS.Geography g ON g.geographyKey = cpfr.geographyKey\n",
    "        JOIN DMIW_SYSTEMS.TestedWafer tw ON tw.testedWaferKey = cpfr.testedWaferKey\n",
    "    WHERE Last_test_date >= (current date - {DAYSBACK} days)\n",
    "        AND Tech_id = '7HPP' AND Level = 'H2' AND tw.Calcdefs IN ('SSL21', 'SSL31')\n",
    "        AND cpfr.parmValue IS NOT null AND ABS(parmValue) < 1e25 \n",
    "        AND (UCASE(SUBSTR(tp.parm_Label,10,17)) = 'SSCANLATCH0P75VFM' OR UCASE(SUBSTR(tp.parm_Label,10,14)) = '0P75V_SKIPTEST')\n",
    "        AND ((unitcell_X - 1) || '_' || unitcell_Y NOT IN ('-2_-1','1_8','2_9','2_10','3_10','4_11','5_11','6_11','7_11','9_10','10_9','11_8','1_4','2_3','3_2','4_1','5_1','7_1','9_2','10_3','11_4'))\n",
    "        AND parmYield < 100\n",
    "        AND family_Code = 'Q5'\n",
    "        AND SUBSTR(tp.parm_Label,5,1) = RIGHT(tw.testProgramName,1)\n",
    "        --AND wafer_id = 'AZ6B5-19'\n",
    "    ORDER BY lot_Id, wafer_Id, parm_Label)\n",
    "    \n",
    "    UNION ALL\n",
    "    \n",
    "    (SELECT lot_Id, wafer_Id, family_Code, tw.Calcdefs AS Sail, tw.Last_test_date AS date,\n",
    "        unitcell_X AS retx, unitcell_Y AS rety, radius_Center_5 AS erzone,\n",
    "        CASE WHEN LENGTH(parm_Label) = 37 THEN tw.testProgramName||'_0p75'||RIGHT(parm_Label,11) ELSE tw.testProgramName||'_0p75'||RIGHT(parm_Label,12) END AS label,\n",
    "        parmYield as yield\n",
    "    FROM DMIW.ChipParmFactR cpfr\n",
    "        JOIN DMIW_SYSTEMS.TestParm tp ON tp.testParmKey = cpfr.testParmKey\n",
    "        JOIN DMIW_SYSTEMS.Geography g ON g.geographyKey = cpfr.geographyKey\n",
    "        JOIN DMIW_SYSTEMS.TestedWafer tw ON tw.testedWaferKey = cpfr.testedWaferKey\n",
    "    WHERE Last_test_date >= (current date - {DAYSBACK} days)\n",
    "        AND Tech_id = '7HPP' AND Level = 'H2' AND tw.Calcdefs IN ('SSL21', 'SSL31')\n",
    "        AND cpfr.parmValue IS NOT null AND ABS(parmValue) < 1e25 \n",
    "        AND (UCASE(SUBSTR(tp.parm_Label,10,17)) = 'SSCANLATCH0P75VFM' OR UCASE(SUBSTR(tp.parm_Label,10,14)) = '0P75V_SKIPTEST')\n",
    "        AND ((unitcell_X) || '_' || unitcell_Y NOT IN ('1_7','2_9','3_10','4_11','5_11','6_12','7_12','9_11','10_11','11_10','12_8','12_5','11_3','10_2','9_2','6_1','5_2','4_2','3_3','2_4'))\n",
    "        AND parmYield < 100\n",
    "        AND family_Code = 'Q6'\n",
    "        AND SUBSTR(tp.parm_Label,5,1) = RIGHT(tw.testProgramName,1)\n",
    "        --AND wafer_id = 'AZA2K-07'\n",
    "    ORDER BY lot_Id, wafer_Id, parm_Label)\n",
    ")\n",
    "SELECT lot_id, wafer_id, family_Code, MIN(date) AS sail_date, retx, rety,\n",
    "    SUM(\n",
    "        CASE \n",
    "            WHEN Sail = 'SSL21' AND RIGHT(label,5) = 'Yield' AND erzone = 'E' THEN 10\n",
    "            WHEN Sail = 'SSL21' AND RIGHT(label,10) IN ('block6_so0','block6_so5','block7_so0','block7_so5') THEN 1\n",
    "            WHEN Sail = 'SSL21' AND SUBSTR(label,11,7) IN ('block22','block24','block25') THEN 1\n",
    "            WHEN Sail = 'SSL21' AND (RIGHT(label,5) != 'Yield' OR RIGHT(label,10) NOT IN ('block6_so0','block6_so5','block7_so0','block7_so5') OR SUBSTR(label,11,7) NOT IN ('block22','block24','block25')) THEN -0.3\n",
    "            ELSE 0 END\n",
    "        ) AS SSL2_GF_metric,\n",
    "    SUM(\n",
    "        CASE \n",
    "            WHEN Sail = 'SSL31' AND RIGHT(label,5) = 'Yield' AND erzone = 'E' THEN 10\n",
    "            WHEN Sail = 'SSL31' AND RIGHT(label,10) IN ('block6_so0','block6_so5','block7_so0','block7_so5') THEN 1\n",
    "            WHEN Sail = 'SSL31' AND SUBSTR(label,11,7) IN ('block22','block24','block25') THEN 1\n",
    "            WHEN Sail = 'SSL31' AND (RIGHT(label,5) != 'Yield' OR RIGHT(label,10) NOT IN ('block6_so0','block6_so5','block7_so0','block7_so5') OR SUBSTR(label,11,7) NOT IN ('block22','block24','block25')) THEN -0.3\n",
    "            ELSE 0 END\n",
    "        ) AS SSL3_GF_metric\n",
    "FROM cte\n",
    "GROUP BY lot_id, wafer_id, family_code, retx, rety\n",
    "ORDER BY MIN(date) DESC, lot_id, cte.wafer_id\n",
    "\"\"\""
   ]
  },
  {
   "cell_type": "code",
   "execution_count": 5,
   "metadata": {},
   "outputs": [],
   "source": [
    "def ghost_fin_chip():\n",
    "    df = ibmdata.isdw.query(GF_QUERY)\n",
    "    df['ssl2_gf_metric'] = df['ssl2_gf_metric'].astype(float).round(2)\n",
    "    df['ssl3_gf_metric'] = df['ssl3_gf_metric'].astype(float).round(2)\n",
    "    df['GF_metric'] = df['ssl2_gf_metric']+df['ssl3_gf_metric']\n",
    "    df['GF_metric'] = df['GF_metric'].round(2)\n",
    "    df['Ghost_Fin'] = df['GF_metric'].apply(lambda x: 1 if x > 1 else 0)\n",
    "    df = fill_zeros(df)\n",
    "    return df"
   ]
  },
  {
   "cell_type": "code",
   "execution_count": 6,
   "metadata": {},
   "outputs": [],
   "source": [
    "def ghost_fin_wafer():\n",
    "    df = ghost_fin_chip()\n",
    "    agg_df = df.groupby(['lot_id','wafer_id','family_code']).agg({'sail_date':'min', 'Ghost_Fin':'sum'}).reset_index()\n",
    "    Q5_df = agg_df[agg_df['family_code']=='Q5']\n",
    "    Q5_df['Ghost_Fin_YieldLoss'] = Q5_df['Ghost_Fin'].apply(lambda x: 100*x/75).round(2)\n",
    "    Q6_df = agg_df[agg_df['family_code']=='Q6']\n",
    "    Q6_df['Ghost_Fin_YieldLoss'] = Q6_df['Ghost_Fin'].apply(lambda x: 100*x/80).round(2)\n",
    "    agg_df = pd.concat([Q6_df,Q5_df])\n",
    "    agg_df = agg_df.rename(columns={\"Ghost_Fin\": \"Ghost_Fin_ChipCount\"})\n",
    "    agg_df = agg_df.sort_values('sail_date',ascending=False).reset_index(drop=True)\n",
    "    return agg_df"
   ]
  },
  {
   "cell_type": "code",
   "execution_count": 7,
   "metadata": {},
   "outputs": [],
   "source": [
    "def ghost_fin_lot():\n",
    "    df = ghost_fin_wafer()\n",
    "    agg_df = df.groupby(['lot_id','family_code']).agg({'sail_date':'min','Ghost_Fin_ChipCount':'mean', 'Ghost_Fin_YieldLoss':'mean'}).reset_index()\n",
    "    agg_df = agg_df.rename(columns={\"Ghost_Fin_ChipCount\": \"Avg_Ghost_Fin_ChipCount\",\"Ghost_Fin_YieldLoss\":\"Avg_Ghost_Fin_YieldLoss\" })\n",
    "    agg_df['Avg_Ghost_Fin_ChipCount'] = agg_df['Avg_Ghost_Fin_ChipCount'].astype(float).round(2)\n",
    "    agg_df['Avg_Ghost_Fin_YieldLoss'] = agg_df['Avg_Ghost_Fin_YieldLoss'].astype(float).round(2)\n",
    "    agg_df = agg_df.sort_values('sail_date',ascending=False).reset_index(drop=True)\n",
    "    return agg_df"
   ]
  },
  {
   "cell_type": "code",
   "execution_count": 8,
   "metadata": {},
   "outputs": [],
   "source": [
    "df = ghost_fin_chip()"
   ]
  },
  {
   "cell_type": "code",
   "execution_count": 8,
   "metadata": {},
   "outputs": [],
   "source": [
    "df = ghost_fin_wafer()"
   ]
  },
  {
   "cell_type": "code",
   "execution_count": 10,
   "metadata": {},
   "outputs": [],
   "source": [
    "df = ghost_fin_lot()"
   ]
  },
  {
   "cell_type": "code",
   "execution_count": 9,
   "metadata": {},
   "outputs": [],
   "source": [
    "df.to_csv('~/Downloads/tmp.csv')"
   ]
  },
  {
   "cell_type": "markdown",
   "metadata": {},
   "source": [
    "# Plotting"
   ]
  },
  {
   "cell_type": "code",
   "execution_count": 23,
   "metadata": {},
   "outputs": [],
   "source": [
    "wafers = ['A2B6D-17']\n",
    "wafer_df = df[df.wafer_id.isin(wafers)]\n",
    "#lots = ['A2BT9.1']\n",
    "#wafer_df = df[df.lot_id.isin(lots)]\n",
    "wafer_df = wafer_df.groupby(['family_code','retx','rety']).mean().reset_index()\n",
    "fig = plot_heatmap(wafer_df,'retx','rety','GF_metric')"
   ]
  },
  {
   "cell_type": "code",
   "execution_count": 24,
   "metadata": {},
   "outputs": [
    {
     "data": {
      "application/vnd.plotly.v1+json": {
       "config": {
        "plotlyServerURL": "https://plot.ly"
       },
       "data": [
        {
         "colorscale": [
          [
           0,
           "white"
          ],
          [
           0.01,
           "rgb(255,247,236)"
          ],
          [
           1,
           "rgb(127, 0, 0)"
          ]
         ],
         "reversescale": false,
         "showscale": false,
         "type": "heatmap",
         "x": [
          1,
          2,
          3,
          4,
          5,
          6,
          7,
          8,
          9,
          10,
          11
         ],
         "y": [
          2,
          3,
          4,
          5,
          6,
          7,
          8,
          9,
          10,
          11
         ],
         "z": [
          [
           -3.4,
           -3.4,
           -3.4,
           -3.4,
           0,
           0,
           0,
           -3.4,
           -3.4,
           -3.4,
           -3.4
          ],
          [
           -3.4,
           -3.4,
           0,
           0,
           0,
           0,
           0,
           0,
           0,
           -3.4,
           -3.4
          ],
          [
           -3.4,
           0,
           0,
           0,
           0,
           0,
           0,
           0,
           0,
           0,
           -3.4
          ],
          [
           0,
           0,
           0,
           0,
           0,
           0,
           0,
           0,
           0,
           0,
           -3.4
          ],
          [
           0,
           0,
           0,
           0,
           0,
           0,
           0,
           0,
           0,
           0,
           0
          ],
          [
           0,
           0,
           0,
           0,
           0,
           -2.4,
           0,
           0,
           0,
           0,
           0
          ],
          [
           0,
           0,
           0,
           0,
           0,
           0,
           0,
           0,
           0,
           0,
           -3.4
          ],
          [
           -3.4,
           0,
           0,
           0,
           0,
           0,
           0,
           0,
           0,
           0,
           -3.4
          ],
          [
           -3.4,
           -3.4,
           0,
           0,
           0,
           0,
           0,
           0,
           0,
           -3.4,
           -3.4
          ],
          [
           -3.4,
           -3.4,
           -3.4,
           -3.4,
           0,
           0,
           0,
           -3.4,
           -3.4,
           -3.4,
           -3.4
          ]
         ]
        }
       ],
       "layout": {
        "annotations": [
         {
          "font": {
           "color": "#000000"
          },
          "showarrow": false,
          "text": "",
          "x": 1,
          "xref": "x",
          "y": 2,
          "yref": "y"
         },
         {
          "font": {
           "color": "#000000"
          },
          "showarrow": false,
          "text": "",
          "x": 2,
          "xref": "x",
          "y": 2,
          "yref": "y"
         },
         {
          "font": {
           "color": "#000000"
          },
          "showarrow": false,
          "text": "",
          "x": 3,
          "xref": "x",
          "y": 2,
          "yref": "y"
         },
         {
          "font": {
           "color": "#000000"
          },
          "showarrow": false,
          "text": "",
          "x": 4,
          "xref": "x",
          "y": 2,
          "yref": "y"
         },
         {
          "font": {
           "color": "#FFFFFF"
          },
          "showarrow": false,
          "text": "0.0",
          "x": 5,
          "xref": "x",
          "y": 2,
          "yref": "y"
         },
         {
          "font": {
           "color": "#FFFFFF"
          },
          "showarrow": false,
          "text": "0.0",
          "x": 6,
          "xref": "x",
          "y": 2,
          "yref": "y"
         },
         {
          "font": {
           "color": "#FFFFFF"
          },
          "showarrow": false,
          "text": "0.0",
          "x": 7,
          "xref": "x",
          "y": 2,
          "yref": "y"
         },
         {
          "font": {
           "color": "#000000"
          },
          "showarrow": false,
          "text": "",
          "x": 8,
          "xref": "x",
          "y": 2,
          "yref": "y"
         },
         {
          "font": {
           "color": "#000000"
          },
          "showarrow": false,
          "text": "",
          "x": 9,
          "xref": "x",
          "y": 2,
          "yref": "y"
         },
         {
          "font": {
           "color": "#000000"
          },
          "showarrow": false,
          "text": "",
          "x": 10,
          "xref": "x",
          "y": 2,
          "yref": "y"
         },
         {
          "font": {
           "color": "#000000"
          },
          "showarrow": false,
          "text": "",
          "x": 11,
          "xref": "x",
          "y": 2,
          "yref": "y"
         },
         {
          "font": {
           "color": "#000000"
          },
          "showarrow": false,
          "text": "",
          "x": 1,
          "xref": "x",
          "y": 3,
          "yref": "y"
         },
         {
          "font": {
           "color": "#000000"
          },
          "showarrow": false,
          "text": "",
          "x": 2,
          "xref": "x",
          "y": 3,
          "yref": "y"
         },
         {
          "font": {
           "color": "#FFFFFF"
          },
          "showarrow": false,
          "text": "0.0",
          "x": 3,
          "xref": "x",
          "y": 3,
          "yref": "y"
         },
         {
          "font": {
           "color": "#FFFFFF"
          },
          "showarrow": false,
          "text": "0.0",
          "x": 4,
          "xref": "x",
          "y": 3,
          "yref": "y"
         },
         {
          "font": {
           "color": "#FFFFFF"
          },
          "showarrow": false,
          "text": "0.0",
          "x": 5,
          "xref": "x",
          "y": 3,
          "yref": "y"
         },
         {
          "font": {
           "color": "#FFFFFF"
          },
          "showarrow": false,
          "text": "0.0",
          "x": 6,
          "xref": "x",
          "y": 3,
          "yref": "y"
         },
         {
          "font": {
           "color": "#FFFFFF"
          },
          "showarrow": false,
          "text": "0.0",
          "x": 7,
          "xref": "x",
          "y": 3,
          "yref": "y"
         },
         {
          "font": {
           "color": "#FFFFFF"
          },
          "showarrow": false,
          "text": "0.0",
          "x": 8,
          "xref": "x",
          "y": 3,
          "yref": "y"
         },
         {
          "font": {
           "color": "#FFFFFF"
          },
          "showarrow": false,
          "text": "0.0",
          "x": 9,
          "xref": "x",
          "y": 3,
          "yref": "y"
         },
         {
          "font": {
           "color": "#000000"
          },
          "showarrow": false,
          "text": "",
          "x": 10,
          "xref": "x",
          "y": 3,
          "yref": "y"
         },
         {
          "font": {
           "color": "#000000"
          },
          "showarrow": false,
          "text": "",
          "x": 11,
          "xref": "x",
          "y": 3,
          "yref": "y"
         },
         {
          "font": {
           "color": "#000000"
          },
          "showarrow": false,
          "text": "",
          "x": 1,
          "xref": "x",
          "y": 4,
          "yref": "y"
         },
         {
          "font": {
           "color": "#FFFFFF"
          },
          "showarrow": false,
          "text": "0.0",
          "x": 2,
          "xref": "x",
          "y": 4,
          "yref": "y"
         },
         {
          "font": {
           "color": "#FFFFFF"
          },
          "showarrow": false,
          "text": "0.0",
          "x": 3,
          "xref": "x",
          "y": 4,
          "yref": "y"
         },
         {
          "font": {
           "color": "#FFFFFF"
          },
          "showarrow": false,
          "text": "0.0",
          "x": 4,
          "xref": "x",
          "y": 4,
          "yref": "y"
         },
         {
          "font": {
           "color": "#FFFFFF"
          },
          "showarrow": false,
          "text": "0.0",
          "x": 5,
          "xref": "x",
          "y": 4,
          "yref": "y"
         },
         {
          "font": {
           "color": "#FFFFFF"
          },
          "showarrow": false,
          "text": "0.0",
          "x": 6,
          "xref": "x",
          "y": 4,
          "yref": "y"
         },
         {
          "font": {
           "color": "#FFFFFF"
          },
          "showarrow": false,
          "text": "0.0",
          "x": 7,
          "xref": "x",
          "y": 4,
          "yref": "y"
         },
         {
          "font": {
           "color": "#FFFFFF"
          },
          "showarrow": false,
          "text": "0.0",
          "x": 8,
          "xref": "x",
          "y": 4,
          "yref": "y"
         },
         {
          "font": {
           "color": "#FFFFFF"
          },
          "showarrow": false,
          "text": "0.0",
          "x": 9,
          "xref": "x",
          "y": 4,
          "yref": "y"
         },
         {
          "font": {
           "color": "#FFFFFF"
          },
          "showarrow": false,
          "text": "0.0",
          "x": 10,
          "xref": "x",
          "y": 4,
          "yref": "y"
         },
         {
          "font": {
           "color": "#000000"
          },
          "showarrow": false,
          "text": "",
          "x": 11,
          "xref": "x",
          "y": 4,
          "yref": "y"
         },
         {
          "font": {
           "color": "#FFFFFF"
          },
          "showarrow": false,
          "text": "0.0",
          "x": 1,
          "xref": "x",
          "y": 5,
          "yref": "y"
         },
         {
          "font": {
           "color": "#FFFFFF"
          },
          "showarrow": false,
          "text": "0.0",
          "x": 2,
          "xref": "x",
          "y": 5,
          "yref": "y"
         },
         {
          "font": {
           "color": "#FFFFFF"
          },
          "showarrow": false,
          "text": "0.0",
          "x": 3,
          "xref": "x",
          "y": 5,
          "yref": "y"
         },
         {
          "font": {
           "color": "#FFFFFF"
          },
          "showarrow": false,
          "text": "0.0",
          "x": 4,
          "xref": "x",
          "y": 5,
          "yref": "y"
         },
         {
          "font": {
           "color": "#FFFFFF"
          },
          "showarrow": false,
          "text": "0.0",
          "x": 5,
          "xref": "x",
          "y": 5,
          "yref": "y"
         },
         {
          "font": {
           "color": "#FFFFFF"
          },
          "showarrow": false,
          "text": "0.0",
          "x": 6,
          "xref": "x",
          "y": 5,
          "yref": "y"
         },
         {
          "font": {
           "color": "#FFFFFF"
          },
          "showarrow": false,
          "text": "0.0",
          "x": 7,
          "xref": "x",
          "y": 5,
          "yref": "y"
         },
         {
          "font": {
           "color": "#FFFFFF"
          },
          "showarrow": false,
          "text": "0.0",
          "x": 8,
          "xref": "x",
          "y": 5,
          "yref": "y"
         },
         {
          "font": {
           "color": "#FFFFFF"
          },
          "showarrow": false,
          "text": "0.0",
          "x": 9,
          "xref": "x",
          "y": 5,
          "yref": "y"
         },
         {
          "font": {
           "color": "#FFFFFF"
          },
          "showarrow": false,
          "text": "0.0",
          "x": 10,
          "xref": "x",
          "y": 5,
          "yref": "y"
         },
         {
          "font": {
           "color": "#000000"
          },
          "showarrow": false,
          "text": "",
          "x": 11,
          "xref": "x",
          "y": 5,
          "yref": "y"
         },
         {
          "font": {
           "color": "#FFFFFF"
          },
          "showarrow": false,
          "text": "0.0",
          "x": 1,
          "xref": "x",
          "y": 6,
          "yref": "y"
         },
         {
          "font": {
           "color": "#FFFFFF"
          },
          "showarrow": false,
          "text": "0.0",
          "x": 2,
          "xref": "x",
          "y": 6,
          "yref": "y"
         },
         {
          "font": {
           "color": "#FFFFFF"
          },
          "showarrow": false,
          "text": "0.0",
          "x": 3,
          "xref": "x",
          "y": 6,
          "yref": "y"
         },
         {
          "font": {
           "color": "#FFFFFF"
          },
          "showarrow": false,
          "text": "0.0",
          "x": 4,
          "xref": "x",
          "y": 6,
          "yref": "y"
         },
         {
          "font": {
           "color": "#FFFFFF"
          },
          "showarrow": false,
          "text": "0.0",
          "x": 5,
          "xref": "x",
          "y": 6,
          "yref": "y"
         },
         {
          "font": {
           "color": "#FFFFFF"
          },
          "showarrow": false,
          "text": "0.0",
          "x": 6,
          "xref": "x",
          "y": 6,
          "yref": "y"
         },
         {
          "font": {
           "color": "#FFFFFF"
          },
          "showarrow": false,
          "text": "0.0",
          "x": 7,
          "xref": "x",
          "y": 6,
          "yref": "y"
         },
         {
          "font": {
           "color": "#FFFFFF"
          },
          "showarrow": false,
          "text": "0.0",
          "x": 8,
          "xref": "x",
          "y": 6,
          "yref": "y"
         },
         {
          "font": {
           "color": "#FFFFFF"
          },
          "showarrow": false,
          "text": "0.0",
          "x": 9,
          "xref": "x",
          "y": 6,
          "yref": "y"
         },
         {
          "font": {
           "color": "#FFFFFF"
          },
          "showarrow": false,
          "text": "0.0",
          "x": 10,
          "xref": "x",
          "y": 6,
          "yref": "y"
         },
         {
          "font": {
           "color": "#FFFFFF"
          },
          "showarrow": false,
          "text": "0.0",
          "x": 11,
          "xref": "x",
          "y": 6,
          "yref": "y"
         },
         {
          "font": {
           "color": "#FFFFFF"
          },
          "showarrow": false,
          "text": "0.0",
          "x": 1,
          "xref": "x",
          "y": 7,
          "yref": "y"
         },
         {
          "font": {
           "color": "#FFFFFF"
          },
          "showarrow": false,
          "text": "0.0",
          "x": 2,
          "xref": "x",
          "y": 7,
          "yref": "y"
         },
         {
          "font": {
           "color": "#FFFFFF"
          },
          "showarrow": false,
          "text": "0.0",
          "x": 3,
          "xref": "x",
          "y": 7,
          "yref": "y"
         },
         {
          "font": {
           "color": "#FFFFFF"
          },
          "showarrow": false,
          "text": "0.0",
          "x": 4,
          "xref": "x",
          "y": 7,
          "yref": "y"
         },
         {
          "font": {
           "color": "#FFFFFF"
          },
          "showarrow": false,
          "text": "0.0",
          "x": 5,
          "xref": "x",
          "y": 7,
          "yref": "y"
         },
         {
          "font": {
           "color": "#000000"
          },
          "showarrow": false,
          "text": "-2.4",
          "x": 6,
          "xref": "x",
          "y": 7,
          "yref": "y"
         },
         {
          "font": {
           "color": "#FFFFFF"
          },
          "showarrow": false,
          "text": "0.0",
          "x": 7,
          "xref": "x",
          "y": 7,
          "yref": "y"
         },
         {
          "font": {
           "color": "#FFFFFF"
          },
          "showarrow": false,
          "text": "0.0",
          "x": 8,
          "xref": "x",
          "y": 7,
          "yref": "y"
         },
         {
          "font": {
           "color": "#FFFFFF"
          },
          "showarrow": false,
          "text": "0.0",
          "x": 9,
          "xref": "x",
          "y": 7,
          "yref": "y"
         },
         {
          "font": {
           "color": "#FFFFFF"
          },
          "showarrow": false,
          "text": "0.0",
          "x": 10,
          "xref": "x",
          "y": 7,
          "yref": "y"
         },
         {
          "font": {
           "color": "#FFFFFF"
          },
          "showarrow": false,
          "text": "0.0",
          "x": 11,
          "xref": "x",
          "y": 7,
          "yref": "y"
         },
         {
          "font": {
           "color": "#FFFFFF"
          },
          "showarrow": false,
          "text": "0.0",
          "x": 1,
          "xref": "x",
          "y": 8,
          "yref": "y"
         },
         {
          "font": {
           "color": "#FFFFFF"
          },
          "showarrow": false,
          "text": "0.0",
          "x": 2,
          "xref": "x",
          "y": 8,
          "yref": "y"
         },
         {
          "font": {
           "color": "#FFFFFF"
          },
          "showarrow": false,
          "text": "0.0",
          "x": 3,
          "xref": "x",
          "y": 8,
          "yref": "y"
         },
         {
          "font": {
           "color": "#FFFFFF"
          },
          "showarrow": false,
          "text": "0.0",
          "x": 4,
          "xref": "x",
          "y": 8,
          "yref": "y"
         },
         {
          "font": {
           "color": "#FFFFFF"
          },
          "showarrow": false,
          "text": "0.0",
          "x": 5,
          "xref": "x",
          "y": 8,
          "yref": "y"
         },
         {
          "font": {
           "color": "#FFFFFF"
          },
          "showarrow": false,
          "text": "0.0",
          "x": 6,
          "xref": "x",
          "y": 8,
          "yref": "y"
         },
         {
          "font": {
           "color": "#FFFFFF"
          },
          "showarrow": false,
          "text": "0.0",
          "x": 7,
          "xref": "x",
          "y": 8,
          "yref": "y"
         },
         {
          "font": {
           "color": "#FFFFFF"
          },
          "showarrow": false,
          "text": "0.0",
          "x": 8,
          "xref": "x",
          "y": 8,
          "yref": "y"
         },
         {
          "font": {
           "color": "#FFFFFF"
          },
          "showarrow": false,
          "text": "0.0",
          "x": 9,
          "xref": "x",
          "y": 8,
          "yref": "y"
         },
         {
          "font": {
           "color": "#FFFFFF"
          },
          "showarrow": false,
          "text": "0.0",
          "x": 10,
          "xref": "x",
          "y": 8,
          "yref": "y"
         },
         {
          "font": {
           "color": "#000000"
          },
          "showarrow": false,
          "text": "",
          "x": 11,
          "xref": "x",
          "y": 8,
          "yref": "y"
         },
         {
          "font": {
           "color": "#000000"
          },
          "showarrow": false,
          "text": "",
          "x": 1,
          "xref": "x",
          "y": 9,
          "yref": "y"
         },
         {
          "font": {
           "color": "#FFFFFF"
          },
          "showarrow": false,
          "text": "0.0",
          "x": 2,
          "xref": "x",
          "y": 9,
          "yref": "y"
         },
         {
          "font": {
           "color": "#FFFFFF"
          },
          "showarrow": false,
          "text": "0.0",
          "x": 3,
          "xref": "x",
          "y": 9,
          "yref": "y"
         },
         {
          "font": {
           "color": "#FFFFFF"
          },
          "showarrow": false,
          "text": "0.0",
          "x": 4,
          "xref": "x",
          "y": 9,
          "yref": "y"
         },
         {
          "font": {
           "color": "#FFFFFF"
          },
          "showarrow": false,
          "text": "0.0",
          "x": 5,
          "xref": "x",
          "y": 9,
          "yref": "y"
         },
         {
          "font": {
           "color": "#FFFFFF"
          },
          "showarrow": false,
          "text": "0.0",
          "x": 6,
          "xref": "x",
          "y": 9,
          "yref": "y"
         },
         {
          "font": {
           "color": "#FFFFFF"
          },
          "showarrow": false,
          "text": "0.0",
          "x": 7,
          "xref": "x",
          "y": 9,
          "yref": "y"
         },
         {
          "font": {
           "color": "#FFFFFF"
          },
          "showarrow": false,
          "text": "0.0",
          "x": 8,
          "xref": "x",
          "y": 9,
          "yref": "y"
         },
         {
          "font": {
           "color": "#FFFFFF"
          },
          "showarrow": false,
          "text": "0.0",
          "x": 9,
          "xref": "x",
          "y": 9,
          "yref": "y"
         },
         {
          "font": {
           "color": "#FFFFFF"
          },
          "showarrow": false,
          "text": "0.0",
          "x": 10,
          "xref": "x",
          "y": 9,
          "yref": "y"
         },
         {
          "font": {
           "color": "#000000"
          },
          "showarrow": false,
          "text": "",
          "x": 11,
          "xref": "x",
          "y": 9,
          "yref": "y"
         },
         {
          "font": {
           "color": "#000000"
          },
          "showarrow": false,
          "text": "",
          "x": 1,
          "xref": "x",
          "y": 10,
          "yref": "y"
         },
         {
          "font": {
           "color": "#000000"
          },
          "showarrow": false,
          "text": "",
          "x": 2,
          "xref": "x",
          "y": 10,
          "yref": "y"
         },
         {
          "font": {
           "color": "#FFFFFF"
          },
          "showarrow": false,
          "text": "0.0",
          "x": 3,
          "xref": "x",
          "y": 10,
          "yref": "y"
         },
         {
          "font": {
           "color": "#FFFFFF"
          },
          "showarrow": false,
          "text": "0.0",
          "x": 4,
          "xref": "x",
          "y": 10,
          "yref": "y"
         },
         {
          "font": {
           "color": "#FFFFFF"
          },
          "showarrow": false,
          "text": "0.0",
          "x": 5,
          "xref": "x",
          "y": 10,
          "yref": "y"
         },
         {
          "font": {
           "color": "#FFFFFF"
          },
          "showarrow": false,
          "text": "0.0",
          "x": 6,
          "xref": "x",
          "y": 10,
          "yref": "y"
         },
         {
          "font": {
           "color": "#FFFFFF"
          },
          "showarrow": false,
          "text": "0.0",
          "x": 7,
          "xref": "x",
          "y": 10,
          "yref": "y"
         },
         {
          "font": {
           "color": "#FFFFFF"
          },
          "showarrow": false,
          "text": "0.0",
          "x": 8,
          "xref": "x",
          "y": 10,
          "yref": "y"
         },
         {
          "font": {
           "color": "#FFFFFF"
          },
          "showarrow": false,
          "text": "0.0",
          "x": 9,
          "xref": "x",
          "y": 10,
          "yref": "y"
         },
         {
          "font": {
           "color": "#000000"
          },
          "showarrow": false,
          "text": "",
          "x": 10,
          "xref": "x",
          "y": 10,
          "yref": "y"
         },
         {
          "font": {
           "color": "#000000"
          },
          "showarrow": false,
          "text": "",
          "x": 11,
          "xref": "x",
          "y": 10,
          "yref": "y"
         },
         {
          "font": {
           "color": "#000000"
          },
          "showarrow": false,
          "text": "",
          "x": 1,
          "xref": "x",
          "y": 11,
          "yref": "y"
         },
         {
          "font": {
           "color": "#000000"
          },
          "showarrow": false,
          "text": "",
          "x": 2,
          "xref": "x",
          "y": 11,
          "yref": "y"
         },
         {
          "font": {
           "color": "#000000"
          },
          "showarrow": false,
          "text": "",
          "x": 3,
          "xref": "x",
          "y": 11,
          "yref": "y"
         },
         {
          "font": {
           "color": "#000000"
          },
          "showarrow": false,
          "text": "",
          "x": 4,
          "xref": "x",
          "y": 11,
          "yref": "y"
         },
         {
          "font": {
           "color": "#FFFFFF"
          },
          "showarrow": false,
          "text": "0.0",
          "x": 5,
          "xref": "x",
          "y": 11,
          "yref": "y"
         },
         {
          "font": {
           "color": "#FFFFFF"
          },
          "showarrow": false,
          "text": "0.0",
          "x": 6,
          "xref": "x",
          "y": 11,
          "yref": "y"
         },
         {
          "font": {
           "color": "#FFFFFF"
          },
          "showarrow": false,
          "text": "0.0",
          "x": 7,
          "xref": "x",
          "y": 11,
          "yref": "y"
         },
         {
          "font": {
           "color": "#000000"
          },
          "showarrow": false,
          "text": "",
          "x": 8,
          "xref": "x",
          "y": 11,
          "yref": "y"
         },
         {
          "font": {
           "color": "#000000"
          },
          "showarrow": false,
          "text": "",
          "x": 9,
          "xref": "x",
          "y": 11,
          "yref": "y"
         },
         {
          "font": {
           "color": "#000000"
          },
          "showarrow": false,
          "text": "",
          "x": 10,
          "xref": "x",
          "y": 11,
          "yref": "y"
         },
         {
          "font": {
           "color": "#000000"
          },
          "showarrow": false,
          "text": "",
          "x": 11,
          "xref": "x",
          "y": 11,
          "yref": "y"
         }
        ],
        "autosize": false,
        "height": 600,
        "template": {
         "data": {
          "bar": [
           {
            "error_x": {
             "color": "#2a3f5f"
            },
            "error_y": {
             "color": "#2a3f5f"
            },
            "marker": {
             "line": {
              "color": "#E5ECF6",
              "width": 0.5
             },
             "pattern": {
              "fillmode": "overlay",
              "size": 10,
              "solidity": 0.2
             }
            },
            "type": "bar"
           }
          ],
          "barpolar": [
           {
            "marker": {
             "line": {
              "color": "#E5ECF6",
              "width": 0.5
             },
             "pattern": {
              "fillmode": "overlay",
              "size": 10,
              "solidity": 0.2
             }
            },
            "type": "barpolar"
           }
          ],
          "carpet": [
           {
            "aaxis": {
             "endlinecolor": "#2a3f5f",
             "gridcolor": "white",
             "linecolor": "white",
             "minorgridcolor": "white",
             "startlinecolor": "#2a3f5f"
            },
            "baxis": {
             "endlinecolor": "#2a3f5f",
             "gridcolor": "white",
             "linecolor": "white",
             "minorgridcolor": "white",
             "startlinecolor": "#2a3f5f"
            },
            "type": "carpet"
           }
          ],
          "choropleth": [
           {
            "colorbar": {
             "outlinewidth": 0,
             "ticks": ""
            },
            "type": "choropleth"
           }
          ],
          "contour": [
           {
            "colorbar": {
             "outlinewidth": 0,
             "ticks": ""
            },
            "colorscale": [
             [
              0,
              "#0d0887"
             ],
             [
              0.1111111111111111,
              "#46039f"
             ],
             [
              0.2222222222222222,
              "#7201a8"
             ],
             [
              0.3333333333333333,
              "#9c179e"
             ],
             [
              0.4444444444444444,
              "#bd3786"
             ],
             [
              0.5555555555555556,
              "#d8576b"
             ],
             [
              0.6666666666666666,
              "#ed7953"
             ],
             [
              0.7777777777777778,
              "#fb9f3a"
             ],
             [
              0.8888888888888888,
              "#fdca26"
             ],
             [
              1,
              "#f0f921"
             ]
            ],
            "type": "contour"
           }
          ],
          "contourcarpet": [
           {
            "colorbar": {
             "outlinewidth": 0,
             "ticks": ""
            },
            "type": "contourcarpet"
           }
          ],
          "heatmap": [
           {
            "colorbar": {
             "outlinewidth": 0,
             "ticks": ""
            },
            "colorscale": [
             [
              0,
              "#0d0887"
             ],
             [
              0.1111111111111111,
              "#46039f"
             ],
             [
              0.2222222222222222,
              "#7201a8"
             ],
             [
              0.3333333333333333,
              "#9c179e"
             ],
             [
              0.4444444444444444,
              "#bd3786"
             ],
             [
              0.5555555555555556,
              "#d8576b"
             ],
             [
              0.6666666666666666,
              "#ed7953"
             ],
             [
              0.7777777777777778,
              "#fb9f3a"
             ],
             [
              0.8888888888888888,
              "#fdca26"
             ],
             [
              1,
              "#f0f921"
             ]
            ],
            "type": "heatmap"
           }
          ],
          "heatmapgl": [
           {
            "colorbar": {
             "outlinewidth": 0,
             "ticks": ""
            },
            "colorscale": [
             [
              0,
              "#0d0887"
             ],
             [
              0.1111111111111111,
              "#46039f"
             ],
             [
              0.2222222222222222,
              "#7201a8"
             ],
             [
              0.3333333333333333,
              "#9c179e"
             ],
             [
              0.4444444444444444,
              "#bd3786"
             ],
             [
              0.5555555555555556,
              "#d8576b"
             ],
             [
              0.6666666666666666,
              "#ed7953"
             ],
             [
              0.7777777777777778,
              "#fb9f3a"
             ],
             [
              0.8888888888888888,
              "#fdca26"
             ],
             [
              1,
              "#f0f921"
             ]
            ],
            "type": "heatmapgl"
           }
          ],
          "histogram": [
           {
            "marker": {
             "pattern": {
              "fillmode": "overlay",
              "size": 10,
              "solidity": 0.2
             }
            },
            "type": "histogram"
           }
          ],
          "histogram2d": [
           {
            "colorbar": {
             "outlinewidth": 0,
             "ticks": ""
            },
            "colorscale": [
             [
              0,
              "#0d0887"
             ],
             [
              0.1111111111111111,
              "#46039f"
             ],
             [
              0.2222222222222222,
              "#7201a8"
             ],
             [
              0.3333333333333333,
              "#9c179e"
             ],
             [
              0.4444444444444444,
              "#bd3786"
             ],
             [
              0.5555555555555556,
              "#d8576b"
             ],
             [
              0.6666666666666666,
              "#ed7953"
             ],
             [
              0.7777777777777778,
              "#fb9f3a"
             ],
             [
              0.8888888888888888,
              "#fdca26"
             ],
             [
              1,
              "#f0f921"
             ]
            ],
            "type": "histogram2d"
           }
          ],
          "histogram2dcontour": [
           {
            "colorbar": {
             "outlinewidth": 0,
             "ticks": ""
            },
            "colorscale": [
             [
              0,
              "#0d0887"
             ],
             [
              0.1111111111111111,
              "#46039f"
             ],
             [
              0.2222222222222222,
              "#7201a8"
             ],
             [
              0.3333333333333333,
              "#9c179e"
             ],
             [
              0.4444444444444444,
              "#bd3786"
             ],
             [
              0.5555555555555556,
              "#d8576b"
             ],
             [
              0.6666666666666666,
              "#ed7953"
             ],
             [
              0.7777777777777778,
              "#fb9f3a"
             ],
             [
              0.8888888888888888,
              "#fdca26"
             ],
             [
              1,
              "#f0f921"
             ]
            ],
            "type": "histogram2dcontour"
           }
          ],
          "mesh3d": [
           {
            "colorbar": {
             "outlinewidth": 0,
             "ticks": ""
            },
            "type": "mesh3d"
           }
          ],
          "parcoords": [
           {
            "line": {
             "colorbar": {
              "outlinewidth": 0,
              "ticks": ""
             }
            },
            "type": "parcoords"
           }
          ],
          "pie": [
           {
            "automargin": true,
            "type": "pie"
           }
          ],
          "scatter": [
           {
            "fillpattern": {
             "fillmode": "overlay",
             "size": 10,
             "solidity": 0.2
            },
            "type": "scatter"
           }
          ],
          "scatter3d": [
           {
            "line": {
             "colorbar": {
              "outlinewidth": 0,
              "ticks": ""
             }
            },
            "marker": {
             "colorbar": {
              "outlinewidth": 0,
              "ticks": ""
             }
            },
            "type": "scatter3d"
           }
          ],
          "scattercarpet": [
           {
            "marker": {
             "colorbar": {
              "outlinewidth": 0,
              "ticks": ""
             }
            },
            "type": "scattercarpet"
           }
          ],
          "scattergeo": [
           {
            "marker": {
             "colorbar": {
              "outlinewidth": 0,
              "ticks": ""
             }
            },
            "type": "scattergeo"
           }
          ],
          "scattergl": [
           {
            "marker": {
             "colorbar": {
              "outlinewidth": 0,
              "ticks": ""
             }
            },
            "type": "scattergl"
           }
          ],
          "scattermapbox": [
           {
            "marker": {
             "colorbar": {
              "outlinewidth": 0,
              "ticks": ""
             }
            },
            "type": "scattermapbox"
           }
          ],
          "scatterpolar": [
           {
            "marker": {
             "colorbar": {
              "outlinewidth": 0,
              "ticks": ""
             }
            },
            "type": "scatterpolar"
           }
          ],
          "scatterpolargl": [
           {
            "marker": {
             "colorbar": {
              "outlinewidth": 0,
              "ticks": ""
             }
            },
            "type": "scatterpolargl"
           }
          ],
          "scatterternary": [
           {
            "marker": {
             "colorbar": {
              "outlinewidth": 0,
              "ticks": ""
             }
            },
            "type": "scatterternary"
           }
          ],
          "surface": [
           {
            "colorbar": {
             "outlinewidth": 0,
             "ticks": ""
            },
            "colorscale": [
             [
              0,
              "#0d0887"
             ],
             [
              0.1111111111111111,
              "#46039f"
             ],
             [
              0.2222222222222222,
              "#7201a8"
             ],
             [
              0.3333333333333333,
              "#9c179e"
             ],
             [
              0.4444444444444444,
              "#bd3786"
             ],
             [
              0.5555555555555556,
              "#d8576b"
             ],
             [
              0.6666666666666666,
              "#ed7953"
             ],
             [
              0.7777777777777778,
              "#fb9f3a"
             ],
             [
              0.8888888888888888,
              "#fdca26"
             ],
             [
              1,
              "#f0f921"
             ]
            ],
            "type": "surface"
           }
          ],
          "table": [
           {
            "cells": {
             "fill": {
              "color": "#EBF0F8"
             },
             "line": {
              "color": "white"
             }
            },
            "header": {
             "fill": {
              "color": "#C8D4E3"
             },
             "line": {
              "color": "white"
             }
            },
            "type": "table"
           }
          ]
         },
         "layout": {
          "annotationdefaults": {
           "arrowcolor": "#2a3f5f",
           "arrowhead": 0,
           "arrowwidth": 1
          },
          "autotypenumbers": "strict",
          "coloraxis": {
           "colorbar": {
            "outlinewidth": 0,
            "ticks": ""
           }
          },
          "colorscale": {
           "diverging": [
            [
             0,
             "#8e0152"
            ],
            [
             0.1,
             "#c51b7d"
            ],
            [
             0.2,
             "#de77ae"
            ],
            [
             0.3,
             "#f1b6da"
            ],
            [
             0.4,
             "#fde0ef"
            ],
            [
             0.5,
             "#f7f7f7"
            ],
            [
             0.6,
             "#e6f5d0"
            ],
            [
             0.7,
             "#b8e186"
            ],
            [
             0.8,
             "#7fbc41"
            ],
            [
             0.9,
             "#4d9221"
            ],
            [
             1,
             "#276419"
            ]
           ],
           "sequential": [
            [
             0,
             "#0d0887"
            ],
            [
             0.1111111111111111,
             "#46039f"
            ],
            [
             0.2222222222222222,
             "#7201a8"
            ],
            [
             0.3333333333333333,
             "#9c179e"
            ],
            [
             0.4444444444444444,
             "#bd3786"
            ],
            [
             0.5555555555555556,
             "#d8576b"
            ],
            [
             0.6666666666666666,
             "#ed7953"
            ],
            [
             0.7777777777777778,
             "#fb9f3a"
            ],
            [
             0.8888888888888888,
             "#fdca26"
            ],
            [
             1,
             "#f0f921"
            ]
           ],
           "sequentialminus": [
            [
             0,
             "#0d0887"
            ],
            [
             0.1111111111111111,
             "#46039f"
            ],
            [
             0.2222222222222222,
             "#7201a8"
            ],
            [
             0.3333333333333333,
             "#9c179e"
            ],
            [
             0.4444444444444444,
             "#bd3786"
            ],
            [
             0.5555555555555556,
             "#d8576b"
            ],
            [
             0.6666666666666666,
             "#ed7953"
            ],
            [
             0.7777777777777778,
             "#fb9f3a"
            ],
            [
             0.8888888888888888,
             "#fdca26"
            ],
            [
             1,
             "#f0f921"
            ]
           ]
          },
          "colorway": [
           "#636efa",
           "#EF553B",
           "#00cc96",
           "#ab63fa",
           "#FFA15A",
           "#19d3f3",
           "#FF6692",
           "#B6E880",
           "#FF97FF",
           "#FECB52"
          ],
          "font": {
           "color": "#2a3f5f"
          },
          "geo": {
           "bgcolor": "white",
           "lakecolor": "white",
           "landcolor": "#E5ECF6",
           "showlakes": true,
           "showland": true,
           "subunitcolor": "white"
          },
          "hoverlabel": {
           "align": "left"
          },
          "hovermode": "closest",
          "mapbox": {
           "style": "light"
          },
          "paper_bgcolor": "white",
          "plot_bgcolor": "#E5ECF6",
          "polar": {
           "angularaxis": {
            "gridcolor": "white",
            "linecolor": "white",
            "ticks": ""
           },
           "bgcolor": "#E5ECF6",
           "radialaxis": {
            "gridcolor": "white",
            "linecolor": "white",
            "ticks": ""
           }
          },
          "scene": {
           "xaxis": {
            "backgroundcolor": "#E5ECF6",
            "gridcolor": "white",
            "gridwidth": 2,
            "linecolor": "white",
            "showbackground": true,
            "ticks": "",
            "zerolinecolor": "white"
           },
           "yaxis": {
            "backgroundcolor": "#E5ECF6",
            "gridcolor": "white",
            "gridwidth": 2,
            "linecolor": "white",
            "showbackground": true,
            "ticks": "",
            "zerolinecolor": "white"
           },
           "zaxis": {
            "backgroundcolor": "#E5ECF6",
            "gridcolor": "white",
            "gridwidth": 2,
            "linecolor": "white",
            "showbackground": true,
            "ticks": "",
            "zerolinecolor": "white"
           }
          },
          "shapedefaults": {
           "line": {
            "color": "#2a3f5f"
           }
          },
          "ternary": {
           "aaxis": {
            "gridcolor": "white",
            "linecolor": "white",
            "ticks": ""
           },
           "baxis": {
            "gridcolor": "white",
            "linecolor": "white",
            "ticks": ""
           },
           "bgcolor": "#E5ECF6",
           "caxis": {
            "gridcolor": "white",
            "linecolor": "white",
            "ticks": ""
           }
          },
          "title": {
           "x": 0.05
          },
          "xaxis": {
           "automargin": true,
           "gridcolor": "white",
           "linecolor": "white",
           "ticks": "",
           "title": {
            "standoff": 15
           },
           "zerolinecolor": "white",
           "zerolinewidth": 2
          },
          "yaxis": {
           "automargin": true,
           "gridcolor": "white",
           "linecolor": "white",
           "ticks": "",
           "title": {
            "standoff": 15
           },
           "zerolinecolor": "white",
           "zerolinewidth": 2
          }
         }
        },
        "width": 680,
        "xaxis": {
         "dtick": 1,
         "gridcolor": "rgb(0, 0, 0)",
         "side": "bottom",
         "ticks": "",
         "title": {
          "text": "retx"
         }
        },
        "yaxis": {
         "dtick": 1,
         "ticks": "",
         "ticksuffix": "  ",
         "title": {
          "text": "rety"
         }
        }
       }
      },
      "text/html": [
       "<div>                            <div id=\"b2c1e934-34ef-47ed-a8e5-c64b2371233d\" class=\"plotly-graph-div\" style=\"height:600px; width:680px;\"></div>            <script type=\"text/javascript\">                require([\"plotly\"], function(Plotly) {                    window.PLOTLYENV=window.PLOTLYENV || {};                                    if (document.getElementById(\"b2c1e934-34ef-47ed-a8e5-c64b2371233d\")) {                    Plotly.newPlot(                        \"b2c1e934-34ef-47ed-a8e5-c64b2371233d\",                        [{\"colorscale\":[[0.0,\"white\"],[0.01,\"rgb(255,247,236)\"],[1.0,\"rgb(127, 0, 0)\"]],\"reversescale\":false,\"showscale\":false,\"x\":[1,2,3,4,5,6,7,8,9,10,11],\"y\":[2,3,4,5,6,7,8,9,10,11],\"z\":[[-3.4,-3.4,-3.4,-3.4,0.0,0.0,0.0,-3.4,-3.4,-3.4,-3.4],[-3.4,-3.4,0.0,0.0,0.0,0.0,0.0,0.0,0.0,-3.4,-3.4],[-3.4,0.0,0.0,0.0,0.0,0.0,0.0,0.0,0.0,0.0,-3.4],[0.0,0.0,0.0,0.0,0.0,0.0,0.0,0.0,0.0,0.0,-3.4],[0.0,0.0,0.0,0.0,0.0,0.0,0.0,0.0,0.0,0.0,0.0],[0.0,0.0,0.0,0.0,0.0,-2.4,0.0,0.0,0.0,0.0,0.0],[0.0,0.0,0.0,0.0,0.0,0.0,0.0,0.0,0.0,0.0,-3.4],[-3.4,0.0,0.0,0.0,0.0,0.0,0.0,0.0,0.0,0.0,-3.4],[-3.4,-3.4,0.0,0.0,0.0,0.0,0.0,0.0,0.0,-3.4,-3.4],[-3.4,-3.4,-3.4,-3.4,0.0,0.0,0.0,-3.4,-3.4,-3.4,-3.4]],\"type\":\"heatmap\"}],                        {\"annotations\":[{\"font\":{\"color\":\"#000000\"},\"showarrow\":false,\"text\":\"\",\"x\":1,\"xref\":\"x\",\"y\":2,\"yref\":\"y\"},{\"font\":{\"color\":\"#000000\"},\"showarrow\":false,\"text\":\"\",\"x\":2,\"xref\":\"x\",\"y\":2,\"yref\":\"y\"},{\"font\":{\"color\":\"#000000\"},\"showarrow\":false,\"text\":\"\",\"x\":3,\"xref\":\"x\",\"y\":2,\"yref\":\"y\"},{\"font\":{\"color\":\"#000000\"},\"showarrow\":false,\"text\":\"\",\"x\":4,\"xref\":\"x\",\"y\":2,\"yref\":\"y\"},{\"font\":{\"color\":\"#FFFFFF\"},\"showarrow\":false,\"text\":\"0.0\",\"x\":5,\"xref\":\"x\",\"y\":2,\"yref\":\"y\"},{\"font\":{\"color\":\"#FFFFFF\"},\"showarrow\":false,\"text\":\"0.0\",\"x\":6,\"xref\":\"x\",\"y\":2,\"yref\":\"y\"},{\"font\":{\"color\":\"#FFFFFF\"},\"showarrow\":false,\"text\":\"0.0\",\"x\":7,\"xref\":\"x\",\"y\":2,\"yref\":\"y\"},{\"font\":{\"color\":\"#000000\"},\"showarrow\":false,\"text\":\"\",\"x\":8,\"xref\":\"x\",\"y\":2,\"yref\":\"y\"},{\"font\":{\"color\":\"#000000\"},\"showarrow\":false,\"text\":\"\",\"x\":9,\"xref\":\"x\",\"y\":2,\"yref\":\"y\"},{\"font\":{\"color\":\"#000000\"},\"showarrow\":false,\"text\":\"\",\"x\":10,\"xref\":\"x\",\"y\":2,\"yref\":\"y\"},{\"font\":{\"color\":\"#000000\"},\"showarrow\":false,\"text\":\"\",\"x\":11,\"xref\":\"x\",\"y\":2,\"yref\":\"y\"},{\"font\":{\"color\":\"#000000\"},\"showarrow\":false,\"text\":\"\",\"x\":1,\"xref\":\"x\",\"y\":3,\"yref\":\"y\"},{\"font\":{\"color\":\"#000000\"},\"showarrow\":false,\"text\":\"\",\"x\":2,\"xref\":\"x\",\"y\":3,\"yref\":\"y\"},{\"font\":{\"color\":\"#FFFFFF\"},\"showarrow\":false,\"text\":\"0.0\",\"x\":3,\"xref\":\"x\",\"y\":3,\"yref\":\"y\"},{\"font\":{\"color\":\"#FFFFFF\"},\"showarrow\":false,\"text\":\"0.0\",\"x\":4,\"xref\":\"x\",\"y\":3,\"yref\":\"y\"},{\"font\":{\"color\":\"#FFFFFF\"},\"showarrow\":false,\"text\":\"0.0\",\"x\":5,\"xref\":\"x\",\"y\":3,\"yref\":\"y\"},{\"font\":{\"color\":\"#FFFFFF\"},\"showarrow\":false,\"text\":\"0.0\",\"x\":6,\"xref\":\"x\",\"y\":3,\"yref\":\"y\"},{\"font\":{\"color\":\"#FFFFFF\"},\"showarrow\":false,\"text\":\"0.0\",\"x\":7,\"xref\":\"x\",\"y\":3,\"yref\":\"y\"},{\"font\":{\"color\":\"#FFFFFF\"},\"showarrow\":false,\"text\":\"0.0\",\"x\":8,\"xref\":\"x\",\"y\":3,\"yref\":\"y\"},{\"font\":{\"color\":\"#FFFFFF\"},\"showarrow\":false,\"text\":\"0.0\",\"x\":9,\"xref\":\"x\",\"y\":3,\"yref\":\"y\"},{\"font\":{\"color\":\"#000000\"},\"showarrow\":false,\"text\":\"\",\"x\":10,\"xref\":\"x\",\"y\":3,\"yref\":\"y\"},{\"font\":{\"color\":\"#000000\"},\"showarrow\":false,\"text\":\"\",\"x\":11,\"xref\":\"x\",\"y\":3,\"yref\":\"y\"},{\"font\":{\"color\":\"#000000\"},\"showarrow\":false,\"text\":\"\",\"x\":1,\"xref\":\"x\",\"y\":4,\"yref\":\"y\"},{\"font\":{\"color\":\"#FFFFFF\"},\"showarrow\":false,\"text\":\"0.0\",\"x\":2,\"xref\":\"x\",\"y\":4,\"yref\":\"y\"},{\"font\":{\"color\":\"#FFFFFF\"},\"showarrow\":false,\"text\":\"0.0\",\"x\":3,\"xref\":\"x\",\"y\":4,\"yref\":\"y\"},{\"font\":{\"color\":\"#FFFFFF\"},\"showarrow\":false,\"text\":\"0.0\",\"x\":4,\"xref\":\"x\",\"y\":4,\"yref\":\"y\"},{\"font\":{\"color\":\"#FFFFFF\"},\"showarrow\":false,\"text\":\"0.0\",\"x\":5,\"xref\":\"x\",\"y\":4,\"yref\":\"y\"},{\"font\":{\"color\":\"#FFFFFF\"},\"showarrow\":false,\"text\":\"0.0\",\"x\":6,\"xref\":\"x\",\"y\":4,\"yref\":\"y\"},{\"font\":{\"color\":\"#FFFFFF\"},\"showarrow\":false,\"text\":\"0.0\",\"x\":7,\"xref\":\"x\",\"y\":4,\"yref\":\"y\"},{\"font\":{\"color\":\"#FFFFFF\"},\"showarrow\":false,\"text\":\"0.0\",\"x\":8,\"xref\":\"x\",\"y\":4,\"yref\":\"y\"},{\"font\":{\"color\":\"#FFFFFF\"},\"showarrow\":false,\"text\":\"0.0\",\"x\":9,\"xref\":\"x\",\"y\":4,\"yref\":\"y\"},{\"font\":{\"color\":\"#FFFFFF\"},\"showarrow\":false,\"text\":\"0.0\",\"x\":10,\"xref\":\"x\",\"y\":4,\"yref\":\"y\"},{\"font\":{\"color\":\"#000000\"},\"showarrow\":false,\"text\":\"\",\"x\":11,\"xref\":\"x\",\"y\":4,\"yref\":\"y\"},{\"font\":{\"color\":\"#FFFFFF\"},\"showarrow\":false,\"text\":\"0.0\",\"x\":1,\"xref\":\"x\",\"y\":5,\"yref\":\"y\"},{\"font\":{\"color\":\"#FFFFFF\"},\"showarrow\":false,\"text\":\"0.0\",\"x\":2,\"xref\":\"x\",\"y\":5,\"yref\":\"y\"},{\"font\":{\"color\":\"#FFFFFF\"},\"showarrow\":false,\"text\":\"0.0\",\"x\":3,\"xref\":\"x\",\"y\":5,\"yref\":\"y\"},{\"font\":{\"color\":\"#FFFFFF\"},\"showarrow\":false,\"text\":\"0.0\",\"x\":4,\"xref\":\"x\",\"y\":5,\"yref\":\"y\"},{\"font\":{\"color\":\"#FFFFFF\"},\"showarrow\":false,\"text\":\"0.0\",\"x\":5,\"xref\":\"x\",\"y\":5,\"yref\":\"y\"},{\"font\":{\"color\":\"#FFFFFF\"},\"showarrow\":false,\"text\":\"0.0\",\"x\":6,\"xref\":\"x\",\"y\":5,\"yref\":\"y\"},{\"font\":{\"color\":\"#FFFFFF\"},\"showarrow\":false,\"text\":\"0.0\",\"x\":7,\"xref\":\"x\",\"y\":5,\"yref\":\"y\"},{\"font\":{\"color\":\"#FFFFFF\"},\"showarrow\":false,\"text\":\"0.0\",\"x\":8,\"xref\":\"x\",\"y\":5,\"yref\":\"y\"},{\"font\":{\"color\":\"#FFFFFF\"},\"showarrow\":false,\"text\":\"0.0\",\"x\":9,\"xref\":\"x\",\"y\":5,\"yref\":\"y\"},{\"font\":{\"color\":\"#FFFFFF\"},\"showarrow\":false,\"text\":\"0.0\",\"x\":10,\"xref\":\"x\",\"y\":5,\"yref\":\"y\"},{\"font\":{\"color\":\"#000000\"},\"showarrow\":false,\"text\":\"\",\"x\":11,\"xref\":\"x\",\"y\":5,\"yref\":\"y\"},{\"font\":{\"color\":\"#FFFFFF\"},\"showarrow\":false,\"text\":\"0.0\",\"x\":1,\"xref\":\"x\",\"y\":6,\"yref\":\"y\"},{\"font\":{\"color\":\"#FFFFFF\"},\"showarrow\":false,\"text\":\"0.0\",\"x\":2,\"xref\":\"x\",\"y\":6,\"yref\":\"y\"},{\"font\":{\"color\":\"#FFFFFF\"},\"showarrow\":false,\"text\":\"0.0\",\"x\":3,\"xref\":\"x\",\"y\":6,\"yref\":\"y\"},{\"font\":{\"color\":\"#FFFFFF\"},\"showarrow\":false,\"text\":\"0.0\",\"x\":4,\"xref\":\"x\",\"y\":6,\"yref\":\"y\"},{\"font\":{\"color\":\"#FFFFFF\"},\"showarrow\":false,\"text\":\"0.0\",\"x\":5,\"xref\":\"x\",\"y\":6,\"yref\":\"y\"},{\"font\":{\"color\":\"#FFFFFF\"},\"showarrow\":false,\"text\":\"0.0\",\"x\":6,\"xref\":\"x\",\"y\":6,\"yref\":\"y\"},{\"font\":{\"color\":\"#FFFFFF\"},\"showarrow\":false,\"text\":\"0.0\",\"x\":7,\"xref\":\"x\",\"y\":6,\"yref\":\"y\"},{\"font\":{\"color\":\"#FFFFFF\"},\"showarrow\":false,\"text\":\"0.0\",\"x\":8,\"xref\":\"x\",\"y\":6,\"yref\":\"y\"},{\"font\":{\"color\":\"#FFFFFF\"},\"showarrow\":false,\"text\":\"0.0\",\"x\":9,\"xref\":\"x\",\"y\":6,\"yref\":\"y\"},{\"font\":{\"color\":\"#FFFFFF\"},\"showarrow\":false,\"text\":\"0.0\",\"x\":10,\"xref\":\"x\",\"y\":6,\"yref\":\"y\"},{\"font\":{\"color\":\"#FFFFFF\"},\"showarrow\":false,\"text\":\"0.0\",\"x\":11,\"xref\":\"x\",\"y\":6,\"yref\":\"y\"},{\"font\":{\"color\":\"#FFFFFF\"},\"showarrow\":false,\"text\":\"0.0\",\"x\":1,\"xref\":\"x\",\"y\":7,\"yref\":\"y\"},{\"font\":{\"color\":\"#FFFFFF\"},\"showarrow\":false,\"text\":\"0.0\",\"x\":2,\"xref\":\"x\",\"y\":7,\"yref\":\"y\"},{\"font\":{\"color\":\"#FFFFFF\"},\"showarrow\":false,\"text\":\"0.0\",\"x\":3,\"xref\":\"x\",\"y\":7,\"yref\":\"y\"},{\"font\":{\"color\":\"#FFFFFF\"},\"showarrow\":false,\"text\":\"0.0\",\"x\":4,\"xref\":\"x\",\"y\":7,\"yref\":\"y\"},{\"font\":{\"color\":\"#FFFFFF\"},\"showarrow\":false,\"text\":\"0.0\",\"x\":5,\"xref\":\"x\",\"y\":7,\"yref\":\"y\"},{\"font\":{\"color\":\"#000000\"},\"showarrow\":false,\"text\":\"-2.4\",\"x\":6,\"xref\":\"x\",\"y\":7,\"yref\":\"y\"},{\"font\":{\"color\":\"#FFFFFF\"},\"showarrow\":false,\"text\":\"0.0\",\"x\":7,\"xref\":\"x\",\"y\":7,\"yref\":\"y\"},{\"font\":{\"color\":\"#FFFFFF\"},\"showarrow\":false,\"text\":\"0.0\",\"x\":8,\"xref\":\"x\",\"y\":7,\"yref\":\"y\"},{\"font\":{\"color\":\"#FFFFFF\"},\"showarrow\":false,\"text\":\"0.0\",\"x\":9,\"xref\":\"x\",\"y\":7,\"yref\":\"y\"},{\"font\":{\"color\":\"#FFFFFF\"},\"showarrow\":false,\"text\":\"0.0\",\"x\":10,\"xref\":\"x\",\"y\":7,\"yref\":\"y\"},{\"font\":{\"color\":\"#FFFFFF\"},\"showarrow\":false,\"text\":\"0.0\",\"x\":11,\"xref\":\"x\",\"y\":7,\"yref\":\"y\"},{\"font\":{\"color\":\"#FFFFFF\"},\"showarrow\":false,\"text\":\"0.0\",\"x\":1,\"xref\":\"x\",\"y\":8,\"yref\":\"y\"},{\"font\":{\"color\":\"#FFFFFF\"},\"showarrow\":false,\"text\":\"0.0\",\"x\":2,\"xref\":\"x\",\"y\":8,\"yref\":\"y\"},{\"font\":{\"color\":\"#FFFFFF\"},\"showarrow\":false,\"text\":\"0.0\",\"x\":3,\"xref\":\"x\",\"y\":8,\"yref\":\"y\"},{\"font\":{\"color\":\"#FFFFFF\"},\"showarrow\":false,\"text\":\"0.0\",\"x\":4,\"xref\":\"x\",\"y\":8,\"yref\":\"y\"},{\"font\":{\"color\":\"#FFFFFF\"},\"showarrow\":false,\"text\":\"0.0\",\"x\":5,\"xref\":\"x\",\"y\":8,\"yref\":\"y\"},{\"font\":{\"color\":\"#FFFFFF\"},\"showarrow\":false,\"text\":\"0.0\",\"x\":6,\"xref\":\"x\",\"y\":8,\"yref\":\"y\"},{\"font\":{\"color\":\"#FFFFFF\"},\"showarrow\":false,\"text\":\"0.0\",\"x\":7,\"xref\":\"x\",\"y\":8,\"yref\":\"y\"},{\"font\":{\"color\":\"#FFFFFF\"},\"showarrow\":false,\"text\":\"0.0\",\"x\":8,\"xref\":\"x\",\"y\":8,\"yref\":\"y\"},{\"font\":{\"color\":\"#FFFFFF\"},\"showarrow\":false,\"text\":\"0.0\",\"x\":9,\"xref\":\"x\",\"y\":8,\"yref\":\"y\"},{\"font\":{\"color\":\"#FFFFFF\"},\"showarrow\":false,\"text\":\"0.0\",\"x\":10,\"xref\":\"x\",\"y\":8,\"yref\":\"y\"},{\"font\":{\"color\":\"#000000\"},\"showarrow\":false,\"text\":\"\",\"x\":11,\"xref\":\"x\",\"y\":8,\"yref\":\"y\"},{\"font\":{\"color\":\"#000000\"},\"showarrow\":false,\"text\":\"\",\"x\":1,\"xref\":\"x\",\"y\":9,\"yref\":\"y\"},{\"font\":{\"color\":\"#FFFFFF\"},\"showarrow\":false,\"text\":\"0.0\",\"x\":2,\"xref\":\"x\",\"y\":9,\"yref\":\"y\"},{\"font\":{\"color\":\"#FFFFFF\"},\"showarrow\":false,\"text\":\"0.0\",\"x\":3,\"xref\":\"x\",\"y\":9,\"yref\":\"y\"},{\"font\":{\"color\":\"#FFFFFF\"},\"showarrow\":false,\"text\":\"0.0\",\"x\":4,\"xref\":\"x\",\"y\":9,\"yref\":\"y\"},{\"font\":{\"color\":\"#FFFFFF\"},\"showarrow\":false,\"text\":\"0.0\",\"x\":5,\"xref\":\"x\",\"y\":9,\"yref\":\"y\"},{\"font\":{\"color\":\"#FFFFFF\"},\"showarrow\":false,\"text\":\"0.0\",\"x\":6,\"xref\":\"x\",\"y\":9,\"yref\":\"y\"},{\"font\":{\"color\":\"#FFFFFF\"},\"showarrow\":false,\"text\":\"0.0\",\"x\":7,\"xref\":\"x\",\"y\":9,\"yref\":\"y\"},{\"font\":{\"color\":\"#FFFFFF\"},\"showarrow\":false,\"text\":\"0.0\",\"x\":8,\"xref\":\"x\",\"y\":9,\"yref\":\"y\"},{\"font\":{\"color\":\"#FFFFFF\"},\"showarrow\":false,\"text\":\"0.0\",\"x\":9,\"xref\":\"x\",\"y\":9,\"yref\":\"y\"},{\"font\":{\"color\":\"#FFFFFF\"},\"showarrow\":false,\"text\":\"0.0\",\"x\":10,\"xref\":\"x\",\"y\":9,\"yref\":\"y\"},{\"font\":{\"color\":\"#000000\"},\"showarrow\":false,\"text\":\"\",\"x\":11,\"xref\":\"x\",\"y\":9,\"yref\":\"y\"},{\"font\":{\"color\":\"#000000\"},\"showarrow\":false,\"text\":\"\",\"x\":1,\"xref\":\"x\",\"y\":10,\"yref\":\"y\"},{\"font\":{\"color\":\"#000000\"},\"showarrow\":false,\"text\":\"\",\"x\":2,\"xref\":\"x\",\"y\":10,\"yref\":\"y\"},{\"font\":{\"color\":\"#FFFFFF\"},\"showarrow\":false,\"text\":\"0.0\",\"x\":3,\"xref\":\"x\",\"y\":10,\"yref\":\"y\"},{\"font\":{\"color\":\"#FFFFFF\"},\"showarrow\":false,\"text\":\"0.0\",\"x\":4,\"xref\":\"x\",\"y\":10,\"yref\":\"y\"},{\"font\":{\"color\":\"#FFFFFF\"},\"showarrow\":false,\"text\":\"0.0\",\"x\":5,\"xref\":\"x\",\"y\":10,\"yref\":\"y\"},{\"font\":{\"color\":\"#FFFFFF\"},\"showarrow\":false,\"text\":\"0.0\",\"x\":6,\"xref\":\"x\",\"y\":10,\"yref\":\"y\"},{\"font\":{\"color\":\"#FFFFFF\"},\"showarrow\":false,\"text\":\"0.0\",\"x\":7,\"xref\":\"x\",\"y\":10,\"yref\":\"y\"},{\"font\":{\"color\":\"#FFFFFF\"},\"showarrow\":false,\"text\":\"0.0\",\"x\":8,\"xref\":\"x\",\"y\":10,\"yref\":\"y\"},{\"font\":{\"color\":\"#FFFFFF\"},\"showarrow\":false,\"text\":\"0.0\",\"x\":9,\"xref\":\"x\",\"y\":10,\"yref\":\"y\"},{\"font\":{\"color\":\"#000000\"},\"showarrow\":false,\"text\":\"\",\"x\":10,\"xref\":\"x\",\"y\":10,\"yref\":\"y\"},{\"font\":{\"color\":\"#000000\"},\"showarrow\":false,\"text\":\"\",\"x\":11,\"xref\":\"x\",\"y\":10,\"yref\":\"y\"},{\"font\":{\"color\":\"#000000\"},\"showarrow\":false,\"text\":\"\",\"x\":1,\"xref\":\"x\",\"y\":11,\"yref\":\"y\"},{\"font\":{\"color\":\"#000000\"},\"showarrow\":false,\"text\":\"\",\"x\":2,\"xref\":\"x\",\"y\":11,\"yref\":\"y\"},{\"font\":{\"color\":\"#000000\"},\"showarrow\":false,\"text\":\"\",\"x\":3,\"xref\":\"x\",\"y\":11,\"yref\":\"y\"},{\"font\":{\"color\":\"#000000\"},\"showarrow\":false,\"text\":\"\",\"x\":4,\"xref\":\"x\",\"y\":11,\"yref\":\"y\"},{\"font\":{\"color\":\"#FFFFFF\"},\"showarrow\":false,\"text\":\"0.0\",\"x\":5,\"xref\":\"x\",\"y\":11,\"yref\":\"y\"},{\"font\":{\"color\":\"#FFFFFF\"},\"showarrow\":false,\"text\":\"0.0\",\"x\":6,\"xref\":\"x\",\"y\":11,\"yref\":\"y\"},{\"font\":{\"color\":\"#FFFFFF\"},\"showarrow\":false,\"text\":\"0.0\",\"x\":7,\"xref\":\"x\",\"y\":11,\"yref\":\"y\"},{\"font\":{\"color\":\"#000000\"},\"showarrow\":false,\"text\":\"\",\"x\":8,\"xref\":\"x\",\"y\":11,\"yref\":\"y\"},{\"font\":{\"color\":\"#000000\"},\"showarrow\":false,\"text\":\"\",\"x\":9,\"xref\":\"x\",\"y\":11,\"yref\":\"y\"},{\"font\":{\"color\":\"#000000\"},\"showarrow\":false,\"text\":\"\",\"x\":10,\"xref\":\"x\",\"y\":11,\"yref\":\"y\"},{\"font\":{\"color\":\"#000000\"},\"showarrow\":false,\"text\":\"\",\"x\":11,\"xref\":\"x\",\"y\":11,\"yref\":\"y\"}],\"xaxis\":{\"dtick\":1,\"gridcolor\":\"rgb(0, 0, 0)\",\"side\":\"bottom\",\"ticks\":\"\",\"title\":{\"text\":\"retx\"}},\"yaxis\":{\"dtick\":1,\"ticks\":\"\",\"ticksuffix\":\"  \",\"title\":{\"text\":\"rety\"}},\"template\":{\"data\":{\"histogram2dcontour\":[{\"type\":\"histogram2dcontour\",\"colorbar\":{\"outlinewidth\":0,\"ticks\":\"\"},\"colorscale\":[[0.0,\"#0d0887\"],[0.1111111111111111,\"#46039f\"],[0.2222222222222222,\"#7201a8\"],[0.3333333333333333,\"#9c179e\"],[0.4444444444444444,\"#bd3786\"],[0.5555555555555556,\"#d8576b\"],[0.6666666666666666,\"#ed7953\"],[0.7777777777777778,\"#fb9f3a\"],[0.8888888888888888,\"#fdca26\"],[1.0,\"#f0f921\"]]}],\"choropleth\":[{\"type\":\"choropleth\",\"colorbar\":{\"outlinewidth\":0,\"ticks\":\"\"}}],\"histogram2d\":[{\"type\":\"histogram2d\",\"colorbar\":{\"outlinewidth\":0,\"ticks\":\"\"},\"colorscale\":[[0.0,\"#0d0887\"],[0.1111111111111111,\"#46039f\"],[0.2222222222222222,\"#7201a8\"],[0.3333333333333333,\"#9c179e\"],[0.4444444444444444,\"#bd3786\"],[0.5555555555555556,\"#d8576b\"],[0.6666666666666666,\"#ed7953\"],[0.7777777777777778,\"#fb9f3a\"],[0.8888888888888888,\"#fdca26\"],[1.0,\"#f0f921\"]]}],\"heatmap\":[{\"type\":\"heatmap\",\"colorbar\":{\"outlinewidth\":0,\"ticks\":\"\"},\"colorscale\":[[0.0,\"#0d0887\"],[0.1111111111111111,\"#46039f\"],[0.2222222222222222,\"#7201a8\"],[0.3333333333333333,\"#9c179e\"],[0.4444444444444444,\"#bd3786\"],[0.5555555555555556,\"#d8576b\"],[0.6666666666666666,\"#ed7953\"],[0.7777777777777778,\"#fb9f3a\"],[0.8888888888888888,\"#fdca26\"],[1.0,\"#f0f921\"]]}],\"heatmapgl\":[{\"type\":\"heatmapgl\",\"colorbar\":{\"outlinewidth\":0,\"ticks\":\"\"},\"colorscale\":[[0.0,\"#0d0887\"],[0.1111111111111111,\"#46039f\"],[0.2222222222222222,\"#7201a8\"],[0.3333333333333333,\"#9c179e\"],[0.4444444444444444,\"#bd3786\"],[0.5555555555555556,\"#d8576b\"],[0.6666666666666666,\"#ed7953\"],[0.7777777777777778,\"#fb9f3a\"],[0.8888888888888888,\"#fdca26\"],[1.0,\"#f0f921\"]]}],\"contourcarpet\":[{\"type\":\"contourcarpet\",\"colorbar\":{\"outlinewidth\":0,\"ticks\":\"\"}}],\"contour\":[{\"type\":\"contour\",\"colorbar\":{\"outlinewidth\":0,\"ticks\":\"\"},\"colorscale\":[[0.0,\"#0d0887\"],[0.1111111111111111,\"#46039f\"],[0.2222222222222222,\"#7201a8\"],[0.3333333333333333,\"#9c179e\"],[0.4444444444444444,\"#bd3786\"],[0.5555555555555556,\"#d8576b\"],[0.6666666666666666,\"#ed7953\"],[0.7777777777777778,\"#fb9f3a\"],[0.8888888888888888,\"#fdca26\"],[1.0,\"#f0f921\"]]}],\"surface\":[{\"type\":\"surface\",\"colorbar\":{\"outlinewidth\":0,\"ticks\":\"\"},\"colorscale\":[[0.0,\"#0d0887\"],[0.1111111111111111,\"#46039f\"],[0.2222222222222222,\"#7201a8\"],[0.3333333333333333,\"#9c179e\"],[0.4444444444444444,\"#bd3786\"],[0.5555555555555556,\"#d8576b\"],[0.6666666666666666,\"#ed7953\"],[0.7777777777777778,\"#fb9f3a\"],[0.8888888888888888,\"#fdca26\"],[1.0,\"#f0f921\"]]}],\"mesh3d\":[{\"type\":\"mesh3d\",\"colorbar\":{\"outlinewidth\":0,\"ticks\":\"\"}}],\"scatter\":[{\"fillpattern\":{\"fillmode\":\"overlay\",\"size\":10,\"solidity\":0.2},\"type\":\"scatter\"}],\"parcoords\":[{\"type\":\"parcoords\",\"line\":{\"colorbar\":{\"outlinewidth\":0,\"ticks\":\"\"}}}],\"scatterpolargl\":[{\"type\":\"scatterpolargl\",\"marker\":{\"colorbar\":{\"outlinewidth\":0,\"ticks\":\"\"}}}],\"bar\":[{\"error_x\":{\"color\":\"#2a3f5f\"},\"error_y\":{\"color\":\"#2a3f5f\"},\"marker\":{\"line\":{\"color\":\"#E5ECF6\",\"width\":0.5},\"pattern\":{\"fillmode\":\"overlay\",\"size\":10,\"solidity\":0.2}},\"type\":\"bar\"}],\"scattergeo\":[{\"type\":\"scattergeo\",\"marker\":{\"colorbar\":{\"outlinewidth\":0,\"ticks\":\"\"}}}],\"scatterpolar\":[{\"type\":\"scatterpolar\",\"marker\":{\"colorbar\":{\"outlinewidth\":0,\"ticks\":\"\"}}}],\"histogram\":[{\"marker\":{\"pattern\":{\"fillmode\":\"overlay\",\"size\":10,\"solidity\":0.2}},\"type\":\"histogram\"}],\"scattergl\":[{\"type\":\"scattergl\",\"marker\":{\"colorbar\":{\"outlinewidth\":0,\"ticks\":\"\"}}}],\"scatter3d\":[{\"type\":\"scatter3d\",\"line\":{\"colorbar\":{\"outlinewidth\":0,\"ticks\":\"\"}},\"marker\":{\"colorbar\":{\"outlinewidth\":0,\"ticks\":\"\"}}}],\"scattermapbox\":[{\"type\":\"scattermapbox\",\"marker\":{\"colorbar\":{\"outlinewidth\":0,\"ticks\":\"\"}}}],\"scatterternary\":[{\"type\":\"scatterternary\",\"marker\":{\"colorbar\":{\"outlinewidth\":0,\"ticks\":\"\"}}}],\"scattercarpet\":[{\"type\":\"scattercarpet\",\"marker\":{\"colorbar\":{\"outlinewidth\":0,\"ticks\":\"\"}}}],\"carpet\":[{\"aaxis\":{\"endlinecolor\":\"#2a3f5f\",\"gridcolor\":\"white\",\"linecolor\":\"white\",\"minorgridcolor\":\"white\",\"startlinecolor\":\"#2a3f5f\"},\"baxis\":{\"endlinecolor\":\"#2a3f5f\",\"gridcolor\":\"white\",\"linecolor\":\"white\",\"minorgridcolor\":\"white\",\"startlinecolor\":\"#2a3f5f\"},\"type\":\"carpet\"}],\"table\":[{\"cells\":{\"fill\":{\"color\":\"#EBF0F8\"},\"line\":{\"color\":\"white\"}},\"header\":{\"fill\":{\"color\":\"#C8D4E3\"},\"line\":{\"color\":\"white\"}},\"type\":\"table\"}],\"barpolar\":[{\"marker\":{\"line\":{\"color\":\"#E5ECF6\",\"width\":0.5},\"pattern\":{\"fillmode\":\"overlay\",\"size\":10,\"solidity\":0.2}},\"type\":\"barpolar\"}],\"pie\":[{\"automargin\":true,\"type\":\"pie\"}]},\"layout\":{\"autotypenumbers\":\"strict\",\"colorway\":[\"#636efa\",\"#EF553B\",\"#00cc96\",\"#ab63fa\",\"#FFA15A\",\"#19d3f3\",\"#FF6692\",\"#B6E880\",\"#FF97FF\",\"#FECB52\"],\"font\":{\"color\":\"#2a3f5f\"},\"hovermode\":\"closest\",\"hoverlabel\":{\"align\":\"left\"},\"paper_bgcolor\":\"white\",\"plot_bgcolor\":\"#E5ECF6\",\"polar\":{\"bgcolor\":\"#E5ECF6\",\"angularaxis\":{\"gridcolor\":\"white\",\"linecolor\":\"white\",\"ticks\":\"\"},\"radialaxis\":{\"gridcolor\":\"white\",\"linecolor\":\"white\",\"ticks\":\"\"}},\"ternary\":{\"bgcolor\":\"#E5ECF6\",\"aaxis\":{\"gridcolor\":\"white\",\"linecolor\":\"white\",\"ticks\":\"\"},\"baxis\":{\"gridcolor\":\"white\",\"linecolor\":\"white\",\"ticks\":\"\"},\"caxis\":{\"gridcolor\":\"white\",\"linecolor\":\"white\",\"ticks\":\"\"}},\"coloraxis\":{\"colorbar\":{\"outlinewidth\":0,\"ticks\":\"\"}},\"colorscale\":{\"sequential\":[[0.0,\"#0d0887\"],[0.1111111111111111,\"#46039f\"],[0.2222222222222222,\"#7201a8\"],[0.3333333333333333,\"#9c179e\"],[0.4444444444444444,\"#bd3786\"],[0.5555555555555556,\"#d8576b\"],[0.6666666666666666,\"#ed7953\"],[0.7777777777777778,\"#fb9f3a\"],[0.8888888888888888,\"#fdca26\"],[1.0,\"#f0f921\"]],\"sequentialminus\":[[0.0,\"#0d0887\"],[0.1111111111111111,\"#46039f\"],[0.2222222222222222,\"#7201a8\"],[0.3333333333333333,\"#9c179e\"],[0.4444444444444444,\"#bd3786\"],[0.5555555555555556,\"#d8576b\"],[0.6666666666666666,\"#ed7953\"],[0.7777777777777778,\"#fb9f3a\"],[0.8888888888888888,\"#fdca26\"],[1.0,\"#f0f921\"]],\"diverging\":[[0,\"#8e0152\"],[0.1,\"#c51b7d\"],[0.2,\"#de77ae\"],[0.3,\"#f1b6da\"],[0.4,\"#fde0ef\"],[0.5,\"#f7f7f7\"],[0.6,\"#e6f5d0\"],[0.7,\"#b8e186\"],[0.8,\"#7fbc41\"],[0.9,\"#4d9221\"],[1,\"#276419\"]]},\"xaxis\":{\"gridcolor\":\"white\",\"linecolor\":\"white\",\"ticks\":\"\",\"title\":{\"standoff\":15},\"zerolinecolor\":\"white\",\"automargin\":true,\"zerolinewidth\":2},\"yaxis\":{\"gridcolor\":\"white\",\"linecolor\":\"white\",\"ticks\":\"\",\"title\":{\"standoff\":15},\"zerolinecolor\":\"white\",\"automargin\":true,\"zerolinewidth\":2},\"scene\":{\"xaxis\":{\"backgroundcolor\":\"#E5ECF6\",\"gridcolor\":\"white\",\"linecolor\":\"white\",\"showbackground\":true,\"ticks\":\"\",\"zerolinecolor\":\"white\",\"gridwidth\":2},\"yaxis\":{\"backgroundcolor\":\"#E5ECF6\",\"gridcolor\":\"white\",\"linecolor\":\"white\",\"showbackground\":true,\"ticks\":\"\",\"zerolinecolor\":\"white\",\"gridwidth\":2},\"zaxis\":{\"backgroundcolor\":\"#E5ECF6\",\"gridcolor\":\"white\",\"linecolor\":\"white\",\"showbackground\":true,\"ticks\":\"\",\"zerolinecolor\":\"white\",\"gridwidth\":2}},\"shapedefaults\":{\"line\":{\"color\":\"#2a3f5f\"}},\"annotationdefaults\":{\"arrowcolor\":\"#2a3f5f\",\"arrowhead\":0,\"arrowwidth\":1},\"geo\":{\"bgcolor\":\"white\",\"landcolor\":\"#E5ECF6\",\"subunitcolor\":\"white\",\"showland\":true,\"showlakes\":true,\"lakecolor\":\"white\"},\"title\":{\"x\":0.05},\"mapbox\":{\"style\":\"light\"}}},\"width\":680,\"height\":600,\"autosize\":false},                        {\"responsive\": true}                    ).then(function(){\n",
       "                            \n",
       "var gd = document.getElementById('b2c1e934-34ef-47ed-a8e5-c64b2371233d');\n",
       "var x = new MutationObserver(function (mutations, observer) {{\n",
       "        var display = window.getComputedStyle(gd).display;\n",
       "        if (!display || display === 'none') {{\n",
       "            console.log([gd, 'removed!']);\n",
       "            Plotly.purge(gd);\n",
       "            observer.disconnect();\n",
       "        }}\n",
       "}});\n",
       "\n",
       "// Listen for the removal of the full notebook cells\n",
       "var notebookContainer = gd.closest('#notebook-container');\n",
       "if (notebookContainer) {{\n",
       "    x.observe(notebookContainer, {childList: true});\n",
       "}}\n",
       "\n",
       "// Listen for the clearing of the current output cell\n",
       "var outputEl = gd.closest('.output');\n",
       "if (outputEl) {{\n",
       "    x.observe(outputEl, {childList: true});\n",
       "}}\n",
       "\n",
       "                        })                };                });            </script>        </div>"
      ]
     },
     "metadata": {},
     "output_type": "display_data"
    }
   ],
   "source": [
    "fig"
   ]
  },
  {
   "cell_type": "code",
   "execution_count": null,
   "metadata": {},
   "outputs": [],
   "source": []
  },
  {
   "cell_type": "code",
   "execution_count": 9,
   "metadata": {},
   "outputs": [],
   "source": [
    "asdf = ghost_fin_lot()"
   ]
  },
  {
   "cell_type": "code",
   "execution_count": 218,
   "metadata": {},
   "outputs": [
    {
     "data": {
      "text/plain": [
       "array(['A28R6.1', 'A289C.1', 'A29NZ.1', 'A2AZ8.1', 'A25XR.1', 'A2115.1',\n",
       "       'A291X.1', 'A2516.1', 'A24D3.1', 'A24R3.1', 'A22CG.1', 'A2269.1',\n",
       "       'A202D.1', 'A21HN.1', 'A1YW7.1', 'A20C3.1', 'A1ZT5.1', 'A1ZAT.1',\n",
       "       'A1YGB.1', 'A20PB.1', 'A1Y28.1', 'A1YGC.1', 'A1Y29.1', 'A1YUH.1',\n",
       "       'A1ZAU.1', 'A1VPH.1', 'A1U67.1', 'A1V77B.1', 'A1UGY.1', 'A1VPK.1',\n",
       "       'A1T1R.1', 'A1V77.1', 'A1UWP.1', 'A1UGZ.1', 'A1TNX.1', 'A1UWRA.1',\n",
       "       'A1KRZ.1', 'AZA9N.1', 'A1HPZ.1', 'A1H8N.1', 'AZA7B.1', 'AZAN4.1',\n",
       "       'A1NTN.1', 'A1K7Z.1', 'A1KK3.1', 'A1F38.1', 'A1DXC.1', 'A1DZA.1',\n",
       "       'A1B2G.1', 'A1F18.1', 'A1FRF.1', 'A1AXZ.1', 'A1B75.1', 'AZAKV.1',\n",
       "       'A1B4P.1', 'AZAF2.1', 'AZAH5.1', 'AZAHR.1', 'AZAFX.1', 'AZAHX.1',\n",
       "       'A1B08.1', 'A1B76.1', 'AZADF.1', 'AZAGK.1', 'AZAGW.1', 'AZAKDA.1',\n",
       "       'AZAFG.1', 'A1B05A.1', 'A1B2F.1'], dtype=object)"
      ]
     },
     "execution_count": 218,
     "metadata": {},
     "output_type": "execute_result"
    }
   ],
   "source": [
    "asdf[(asdf['Avg_Ghost_Fin_YieldLoss'] > 0.3) & (asdf['family_code'] == 'Q6')].lot_id.unique()"
   ]
  },
  {
   "cell_type": "markdown",
   "metadata": {},
   "source": [
    "# Sail Dashboard Stuff"
   ]
  },
  {
   "cell_type": "code",
   "execution_count": 3,
   "metadata": {},
   "outputs": [],
   "source": [
    "DAYSBACK = 365\n",
    "QUERY = f\"\"\"\n",
    "WITH lot_name_cte AS(\n",
    "    SELECT DISTINCT wafer_id, E.CELL_NAME AS Lot_Name\n",
    "    FROM DMIW_SYSTEMS.WAFER A,\n",
    "        DMIW_SYSTEMS.PRODUCT B,\n",
    "        DMIW_SYSTEMS.EWR_EVENT_FACT C,\n",
    "        DMIW_SYSTEMS.EWR_EVENT D,\n",
    "        DMIW_SYSTEMS.EWR_CELL E\n",
    "    WHERE A.WAFERKEY=C.WAFERKEY\n",
    "        AND B.PRODUCTKEY=C.PRODUCTKEY\n",
    "        AND  C.EWR_CELLKEY=E.EWR_CELLKEY\n",
    "        AND OWNER_USER_ID='hai.zhu@ibm.com'\n",
    "        AND EWR_NAME IN ('7HPP_Name_P10')\n",
    "        AND CELL_ID LIKE '7HPP_Name_P10%'\n",
    "        AND E.CELL_NAME NOT IN ('Lot0-1','Lot0-2','uncertain')\n",
    "),\n",
    "sail_cte AS(\n",
    "    SELECT --LEFT(wafer_id,5) AS lot_id_base, \n",
    "        lot_id, wafer_id, MIN(tw.Last_test_date) AS date,\n",
    "        AVG(CASE WHEN parm_Label = 'SAILALL_H2_0p50to1p05_PerfectYield' THEN yield ELSE NULL END) AS SAILALL_0p50to1p05,\n",
    "        AVG(CASE WHEN parm_Label = 'SAILALL_H2_0p65to1p05_PerfectYield' THEN yield ELSE NULL END) AS SAILALL_0p65to1p05,\n",
    "        AVG(CASE WHEN parm_Label = 'SAIL1_H2_0p50to1p05_PerfectYield' THEN yield ELSE NULL END) AS SAIL1_0p50to1p05,\n",
    "        AVG(CASE WHEN parm_Label = 'SAIL1_H2_0p65to1p05_PerfectYield' THEN yield ELSE NULL END) AS SAIL1_0p65to1p05,\n",
    "        AVG(CASE WHEN parm_Label = 'SAIL2_H2_0p50to1p05_PerfectYield' THEN yield ELSE NULL END) AS SAIL2_0p50to1p05,\n",
    "        AVG(CASE WHEN parm_Label = 'SAIL2_H2_0p65to1p05_PerfectYield' THEN yield ELSE NULL END) AS SAIL2_0p65to1p05,\n",
    "        AVG(CASE WHEN parm_Label = 'SAIL3_H2_0p50to1p05_PerfectYield' THEN yield ELSE NULL END) AS SAIL3_0p50to1p05,\n",
    "        AVG(CASE WHEN parm_Label = 'SAIL3_H2_0p65to1p05_PerfectYield' THEN yield ELSE NULL END) AS SAIL3_0p65to1p05\n",
    "    FROM DMIW.PTileWaferFact ptwf\n",
    "    INNER JOIN DMIW_SYSTEMS.TestParm tp ON ptwf.testparmkey = tp.testparmkey\n",
    "    INNER JOIN DMIW_SYSTEMS.TestedWafer tw ON ptwf.testedWaferKey = tw.testedWaferKey\n",
    "    WHERE tw.Last_test_date >= (current date - {DAYSBACK} days)\n",
    "        AND tw.Tech_id = '7HPP'\n",
    "        AND tw.Level = 'H2'\n",
    "        AND tw.Calcdefs in ('SSL11', 'SSL21', 'SSL31')\n",
    "        AND weighted_Mean IS NOT null AND ABS(weighted_Mean) < 1e25\n",
    "        AND UCASE(tp.parm_Label) LIKE '%_PERFECTYIELD'\n",
    "    GROUP BY lot_id, wafer_id, family_code\n",
    "    ORDER BY date desc, lot_id, wafer_id\n",
    ")\n",
    "SELECT ln.Lot_Name, s.*\n",
    "FROM sail_cte s\n",
    "LEFT JOIN lot_name_cte ln ON ln.wafer_id = s.wafer_id\n",
    "ORDER BY date desc, lot_id, wafer_id\n",
    "\"\"\""
   ]
  },
  {
   "cell_type": "code",
   "execution_count": 4,
   "metadata": {},
   "outputs": [],
   "source": [
    "def get_wafer_data():\n",
    "    w_df = ibmdata.isdw.query(QUERY)\n",
    "    w_df['sailall_0p50to1p05'] = w_df['sailall_0p50to1p05'].astype(float).round(2)\n",
    "    w_df['sailall_0p65to1p05'] = w_df['sailall_0p65to1p05'].astype(float).round(2)\n",
    "    w_df['sail1_0p50to1p05'] = w_df['sail1_0p50to1p05'].astype(float).round(2)\n",
    "    w_df['sail1_0p65to1p05'] = w_df['sail1_0p65to1p05'].astype(float).round(2)\n",
    "    w_df['sail2_0p50to1p05'] = w_df['sail2_0p50to1p05'].astype(float).round(2)\n",
    "    w_df['sail2_0p65to1p05'] = w_df['sail2_0p65to1p05'].astype(float).round(2)\n",
    "    w_df['sail3_0p50to1p05'] = w_df['sail3_0p50to1p05'].astype(float).round(2)\n",
    "    w_df['sail3_0p65to1p05'] = w_df['sail3_0p65to1p05'].astype(float).round(2)\n",
    "    return w_df"
   ]
  },
  {
   "cell_type": "code",
   "execution_count": 61,
   "metadata": {},
   "outputs": [],
   "source": [
    "def get_lot_data():\n",
    "    w_df = get_wafer_data()\n",
    "    w_df['lot_name'] = w_df['lot_name'].fillna('')\n",
    "    lot_df = w_df.groupby(['lot_name','lot_id']).agg({\n",
    "        'date':'min', \n",
    "        'sailall_0p50to1p05':'mean', 'sailall_0p65to1p05':'mean',\n",
    "        'sail1_0p50to1p05':'mean','sail1_0p65to1p05':'mean',\n",
    "        'sail2_0p50to1p05':'mean', 'sail2_0p65to1p05':'mean',\n",
    "        'sail3_0p50to1p05':'mean', 'sail3_0p65to1p05':'mean'\n",
    "        }).round(2).sort_values('date',ascending=False).reset_index()\n",
    "    return lot_df"
   ]
  },
  {
   "cell_type": "code",
   "execution_count": 62,
   "metadata": {},
   "outputs": [],
   "source": [
    "def get_block_data(corner='vnom'):\n",
    "    if corner == 'vmin':\n",
    "        CORNER = '_H2_0P50V_BLOCK'\n",
    "    elif corner == 'vnom':\n",
    "        CORNER = '_H2_0P75V_BLOCK'\n",
    "    elif corner == 'vmax':\n",
    "        CORNER = '_H2_1P05V_BLOCK'\n",
    "\n",
    "    BLOCK_QUERY = f\"\"\"\n",
    "    SELECT lot_id, wafer_id, tw.testProgramName AS step,\n",
    "        tw.testProgramName||RIGHT(parm_Label,8) AS label, yield, 100 - yield AS yld_loss\n",
    "    FROM DMIW.PTileWaferFact ptwf\n",
    "    INNER JOIN DMIW_SYSTEMS.TestParm tp ON ptwf.testparmkey = tp.testparmkey\n",
    "    INNER JOIN DMIW_SYSTEMS.TestedWafer tw ON ptwf.testedWaferKey = tw.testedWaferKey\n",
    "    WHERE tw.Last_test_date >= (current date - {DAYSBACK} days)\n",
    "        AND tw.Tech_id = '7HPP'\n",
    "        AND tw.Level = 'H2'\n",
    "        AND tw.Calcdefs in ('SSL11', 'SSL21', 'SSL31')\n",
    "        AND weighted_Mean IS NOT null AND ABS(weighted_Mean) < 1e25\n",
    "        AND (UCASE(SUBSTR(tp.parm_Label,6,15)) = '{CORNER}')\n",
    "        AND SUBSTR(tp.parm_Label,5,1) = RIGHT(tw.testProgramName,1)\n",
    "    \"\"\"\n",
    "    Block_df = ibmdata.isdw.query(BLOCK_QUERY)\n",
    "    Block_df['yield'] = Block_df['yield'].astype(float).round(2)\n",
    "    Block_df['yld_loss'] = Block_df['yld_loss'].astype(float).round(2)\n",
    "    return Block_df"
   ]
  },
  {
   "cell_type": "code",
   "execution_count": 63,
   "metadata": {},
   "outputs": [],
   "source": [
    "def get_so_data(corner='vnom'):\n",
    "    if corner == 'vmin':\n",
    "        CORNER = 'SSCANLATCH0P50VFM'\n",
    "    elif corner == 'vnom':\n",
    "        CORNER = 'SSCANLATCH0P75VFM'\n",
    "    elif corner == 'vmax':\n",
    "        CORNER = 'SSCANLATCH1P05VFM'\n",
    "\n",
    "    SO_QUERY = f\"\"\"\n",
    "    SELECT lot_id, wafer_id, tw.testProgramName AS step,\n",
    "        CASE WHEN LENGTH(parm_Label) = 37 THEN tw.testProgramName||RIGHT(parm_Label,11) ELSE tw.testProgramName||RIGHT(parm_Label,12) END AS label,\n",
    "        yield, 100 - yield AS yld_loss\n",
    "    FROM DMIW.PTileWaferFact ptwf\n",
    "    INNER JOIN DMIW_SYSTEMS.TestParm tp ON ptwf.testparmkey = tp.testparmkey\n",
    "    INNER JOIN DMIW_SYSTEMS.TestedWafer tw ON ptwf.testedWaferKey = tw.testedWaferKey\n",
    "    WHERE tw.Last_test_date >= (current date - {DAYSBACK} days)\n",
    "        AND tw.Tech_id = '7HPP'\n",
    "        AND tw.Level = 'H2'\n",
    "        AND tw.Calcdefs in ('SSL11', 'SSL21', 'SSL31')\n",
    "        AND weighted_Mean IS NOT null AND ABS(weighted_Mean) < 1e25\n",
    "        AND (UCASE(SUBSTR(tp.parm_Label,10,17)) = '{CORNER}')\n",
    "        AND SUBSTR(tp.parm_Label,5,1) = RIGHT(tw.testProgramName,1)\n",
    "    \"\"\"\n",
    "    ScanOut_df = ibmdata.isdw.query(SO_QUERY)\n",
    "    ScanOut_df['yield'] = ScanOut_df['yield'].astype(float).round(2)\n",
    "    ScanOut_df['yld_loss'] = ScanOut_df['yld_loss'].astype(float).round(2)\n",
    "    return ScanOut_df"
   ]
  },
  {
   "cell_type": "code",
   "execution_count": 15,
   "metadata": {},
   "outputs": [
    {
     "data": {
      "text/html": [
       "<div>\n",
       "<style scoped>\n",
       "    .dataframe tbody tr th:only-of-type {\n",
       "        vertical-align: middle;\n",
       "    }\n",
       "\n",
       "    .dataframe tbody tr th {\n",
       "        vertical-align: top;\n",
       "    }\n",
       "\n",
       "    .dataframe thead th {\n",
       "        text-align: right;\n",
       "    }\n",
       "</style>\n",
       "<table border=\"1\" class=\"dataframe\">\n",
       "  <thead>\n",
       "    <tr style=\"text-align: right;\">\n",
       "      <th></th>\n",
       "      <th>lot_name</th>\n",
       "      <th>lot_id</th>\n",
       "      <th>wafer_id</th>\n",
       "      <th>date</th>\n",
       "      <th>sailall_0p50to1p05</th>\n",
       "      <th>sailall_0p65to1p05</th>\n",
       "      <th>sail1_0p50to1p05</th>\n",
       "      <th>sail1_0p65to1p05</th>\n",
       "      <th>sail2_0p50to1p05</th>\n",
       "      <th>sail2_0p65to1p05</th>\n",
       "      <th>sail3_0p50to1p05</th>\n",
       "      <th>sail3_0p65to1p05</th>\n",
       "    </tr>\n",
       "  </thead>\n",
       "  <tbody>\n",
       "    <tr>\n",
       "      <th>0</th>\n",
       "      <td>None</td>\n",
       "      <td>AZA2KB.1</td>\n",
       "      <td>AZA2K-07</td>\n",
       "      <td>2021-02-28</td>\n",
       "      <td>NaN</td>\n",
       "      <td>NaN</td>\n",
       "      <td>NaN</td>\n",
       "      <td>NaN</td>\n",
       "      <td>97.72</td>\n",
       "      <td>98.86</td>\n",
       "      <td>94.50</td>\n",
       "      <td>96.70</td>\n",
       "    </tr>\n",
       "    <tr>\n",
       "      <th>1</th>\n",
       "      <td>None</td>\n",
       "      <td>AZA2KB.1</td>\n",
       "      <td>AZA2K-10</td>\n",
       "      <td>2021-02-28</td>\n",
       "      <td>NaN</td>\n",
       "      <td>NaN</td>\n",
       "      <td>NaN</td>\n",
       "      <td>NaN</td>\n",
       "      <td>95.45</td>\n",
       "      <td>100.00</td>\n",
       "      <td>94.50</td>\n",
       "      <td>96.70</td>\n",
       "    </tr>\n",
       "    <tr>\n",
       "      <th>2</th>\n",
       "      <td>D2_Lot0-3C</td>\n",
       "      <td>AZA7PB.1</td>\n",
       "      <td>AZA7P-02</td>\n",
       "      <td>2021-02-28</td>\n",
       "      <td>NaN</td>\n",
       "      <td>NaN</td>\n",
       "      <td>NaN</td>\n",
       "      <td>NaN</td>\n",
       "      <td>95.45</td>\n",
       "      <td>97.72</td>\n",
       "      <td>93.40</td>\n",
       "      <td>94.50</td>\n",
       "    </tr>\n",
       "    <tr>\n",
       "      <th>3</th>\n",
       "      <td>D2_Lot0-3A DVB</td>\n",
       "      <td>AZA7PB.1</td>\n",
       "      <td>AZA7P-04</td>\n",
       "      <td>2021-02-28</td>\n",
       "      <td>NaN</td>\n",
       "      <td>NaN</td>\n",
       "      <td>NaN</td>\n",
       "      <td>NaN</td>\n",
       "      <td>95.45</td>\n",
       "      <td>97.72</td>\n",
       "      <td>92.30</td>\n",
       "      <td>95.60</td>\n",
       "    </tr>\n",
       "    <tr>\n",
       "      <th>4</th>\n",
       "      <td>D2_Lot0-3A DVB</td>\n",
       "      <td>AZA7PB.1</td>\n",
       "      <td>AZA7P-06</td>\n",
       "      <td>2021-02-28</td>\n",
       "      <td>NaN</td>\n",
       "      <td>NaN</td>\n",
       "      <td>NaN</td>\n",
       "      <td>NaN</td>\n",
       "      <td>96.59</td>\n",
       "      <td>98.86</td>\n",
       "      <td>90.10</td>\n",
       "      <td>93.40</td>\n",
       "    </tr>\n",
       "    <tr>\n",
       "      <th>...</th>\n",
       "      <td>...</td>\n",
       "      <td>...</td>\n",
       "      <td>...</td>\n",
       "      <td>...</td>\n",
       "      <td>...</td>\n",
       "      <td>...</td>\n",
       "      <td>...</td>\n",
       "      <td>...</td>\n",
       "      <td>...</td>\n",
       "      <td>...</td>\n",
       "      <td>...</td>\n",
       "      <td>...</td>\n",
       "    </tr>\n",
       "    <tr>\n",
       "      <th>782</th>\n",
       "      <td>Lot2</td>\n",
       "      <td>AZ6PK.1</td>\n",
       "      <td>AZ6PK-25</td>\n",
       "      <td>2020-06-27</td>\n",
       "      <td>94.73</td>\n",
       "      <td>96.05</td>\n",
       "      <td>95.29</td>\n",
       "      <td>95.29</td>\n",
       "      <td>97.61</td>\n",
       "      <td>98.80</td>\n",
       "      <td>97.67</td>\n",
       "      <td>100.00</td>\n",
       "    </tr>\n",
       "    <tr>\n",
       "      <th>783</th>\n",
       "      <td>Lot1</td>\n",
       "      <td>AZ6NN.1</td>\n",
       "      <td>AZ6NN-03</td>\n",
       "      <td>2020-06-25</td>\n",
       "      <td>64.47</td>\n",
       "      <td>81.57</td>\n",
       "      <td>78.82</td>\n",
       "      <td>87.05</td>\n",
       "      <td>77.38</td>\n",
       "      <td>86.90</td>\n",
       "      <td>87.20</td>\n",
       "      <td>94.36</td>\n",
       "    </tr>\n",
       "    <tr>\n",
       "      <th>784</th>\n",
       "      <td>Lot1</td>\n",
       "      <td>AZ6NN.1</td>\n",
       "      <td>AZ6NN-15</td>\n",
       "      <td>2020-06-25</td>\n",
       "      <td>78.94</td>\n",
       "      <td>82.89</td>\n",
       "      <td>84.70</td>\n",
       "      <td>85.88</td>\n",
       "      <td>88.09</td>\n",
       "      <td>89.28</td>\n",
       "      <td>86.04</td>\n",
       "      <td>92.48</td>\n",
       "    </tr>\n",
       "    <tr>\n",
       "      <th>785</th>\n",
       "      <td>Pavement2</td>\n",
       "      <td>AZ6B5.1</td>\n",
       "      <td>AZ6B5-19</td>\n",
       "      <td>2020-06-24</td>\n",
       "      <td>48.68</td>\n",
       "      <td>55.26</td>\n",
       "      <td>62.35</td>\n",
       "      <td>68.64</td>\n",
       "      <td>54.76</td>\n",
       "      <td>57.14</td>\n",
       "      <td>68.96</td>\n",
       "      <td>71.26</td>\n",
       "    </tr>\n",
       "    <tr>\n",
       "      <th>786</th>\n",
       "      <td>Pavement</td>\n",
       "      <td>AZ6DF.1</td>\n",
       "      <td>AZ6DF-14</td>\n",
       "      <td>2020-06-18</td>\n",
       "      <td>0.00</td>\n",
       "      <td>82.89</td>\n",
       "      <td>0.00</td>\n",
       "      <td>90.58</td>\n",
       "      <td>0.00</td>\n",
       "      <td>91.76</td>\n",
       "      <td>0.00</td>\n",
       "      <td>94.41</td>\n",
       "    </tr>\n",
       "  </tbody>\n",
       "</table>\n",
       "<p>787 rows × 12 columns</p>\n",
       "</div>"
      ],
      "text/plain": [
       "           lot_name    lot_id  wafer_id        date  sailall_0p50to1p05  \\\n",
       "0              None  AZA2KB.1  AZA2K-07  2021-02-28                 NaN   \n",
       "1              None  AZA2KB.1  AZA2K-10  2021-02-28                 NaN   \n",
       "2        D2_Lot0-3C  AZA7PB.1  AZA7P-02  2021-02-28                 NaN   \n",
       "3    D2_Lot0-3A DVB  AZA7PB.1  AZA7P-04  2021-02-28                 NaN   \n",
       "4    D2_Lot0-3A DVB  AZA7PB.1  AZA7P-06  2021-02-28                 NaN   \n",
       "..              ...       ...       ...         ...                 ...   \n",
       "782            Lot2   AZ6PK.1  AZ6PK-25  2020-06-27               94.73   \n",
       "783            Lot1   AZ6NN.1  AZ6NN-03  2020-06-25               64.47   \n",
       "784            Lot1   AZ6NN.1  AZ6NN-15  2020-06-25               78.94   \n",
       "785       Pavement2   AZ6B5.1  AZ6B5-19  2020-06-24               48.68   \n",
       "786        Pavement   AZ6DF.1  AZ6DF-14  2020-06-18                0.00   \n",
       "\n",
       "     sailall_0p65to1p05  sail1_0p50to1p05  sail1_0p65to1p05  sail2_0p50to1p05  \\\n",
       "0                   NaN               NaN               NaN             97.72   \n",
       "1                   NaN               NaN               NaN             95.45   \n",
       "2                   NaN               NaN               NaN             95.45   \n",
       "3                   NaN               NaN               NaN             95.45   \n",
       "4                   NaN               NaN               NaN             96.59   \n",
       "..                  ...               ...               ...               ...   \n",
       "782               96.05             95.29             95.29             97.61   \n",
       "783               81.57             78.82             87.05             77.38   \n",
       "784               82.89             84.70             85.88             88.09   \n",
       "785               55.26             62.35             68.64             54.76   \n",
       "786               82.89              0.00             90.58              0.00   \n",
       "\n",
       "     sail2_0p65to1p05  sail3_0p50to1p05  sail3_0p65to1p05  \n",
       "0               98.86             94.50             96.70  \n",
       "1              100.00             94.50             96.70  \n",
       "2               97.72             93.40             94.50  \n",
       "3               97.72             92.30             95.60  \n",
       "4               98.86             90.10             93.40  \n",
       "..                ...               ...               ...  \n",
       "782             98.80             97.67            100.00  \n",
       "783             86.90             87.20             94.36  \n",
       "784             89.28             86.04             92.48  \n",
       "785             57.14             68.96             71.26  \n",
       "786             91.76              0.00             94.41  \n",
       "\n",
       "[787 rows x 12 columns]"
      ]
     },
     "execution_count": 15,
     "metadata": {},
     "output_type": "execute_result"
    }
   ],
   "source": [
    "get_wafer_data()"
   ]
  },
  {
   "cell_type": "code",
   "execution_count": 17,
   "metadata": {},
   "outputs": [
    {
     "data": {
      "text/html": [
       "<div>\n",
       "<style scoped>\n",
       "    .dataframe tbody tr th:only-of-type {\n",
       "        vertical-align: middle;\n",
       "    }\n",
       "\n",
       "    .dataframe tbody tr th {\n",
       "        vertical-align: top;\n",
       "    }\n",
       "\n",
       "    .dataframe thead th {\n",
       "        text-align: right;\n",
       "    }\n",
       "</style>\n",
       "<table border=\"1\" class=\"dataframe\">\n",
       "  <thead>\n",
       "    <tr style=\"text-align: right;\">\n",
       "      <th></th>\n",
       "      <th>lot_name</th>\n",
       "      <th>lot_id</th>\n",
       "      <th>date</th>\n",
       "      <th>sailall_0p50to1p05</th>\n",
       "      <th>sailall_0p65to1p05</th>\n",
       "      <th>sail1_0p50to1p05</th>\n",
       "      <th>sail1_0p65to1p05</th>\n",
       "      <th>sail2_0p50to1p05</th>\n",
       "      <th>sail2_0p65to1p05</th>\n",
       "      <th>sail3_0p50to1p05</th>\n",
       "      <th>sail3_0p65to1p05</th>\n",
       "    </tr>\n",
       "  </thead>\n",
       "  <tbody>\n",
       "    <tr>\n",
       "      <th>0</th>\n",
       "      <td></td>\n",
       "      <td>AZA2KB.1</td>\n",
       "      <td>2021-02-28</td>\n",
       "      <td>NaN</td>\n",
       "      <td>NaN</td>\n",
       "      <td>NaN</td>\n",
       "      <td>NaN</td>\n",
       "      <td>96.58</td>\n",
       "      <td>99.43</td>\n",
       "      <td>94.50</td>\n",
       "      <td>96.70</td>\n",
       "    </tr>\n",
       "    <tr>\n",
       "      <th>1</th>\n",
       "      <td>D2_Lot0-3C</td>\n",
       "      <td>AZA7PB.1</td>\n",
       "      <td>2021-02-28</td>\n",
       "      <td>NaN</td>\n",
       "      <td>NaN</td>\n",
       "      <td>NaN</td>\n",
       "      <td>NaN</td>\n",
       "      <td>94.32</td>\n",
       "      <td>96.58</td>\n",
       "      <td>92.85</td>\n",
       "      <td>93.40</td>\n",
       "    </tr>\n",
       "    <tr>\n",
       "      <th>2</th>\n",
       "      <td>D2_Lot0-3A DVB</td>\n",
       "      <td>AZA7PB.1</td>\n",
       "      <td>2021-02-28</td>\n",
       "      <td>NaN</td>\n",
       "      <td>NaN</td>\n",
       "      <td>NaN</td>\n",
       "      <td>NaN</td>\n",
       "      <td>96.21</td>\n",
       "      <td>97.72</td>\n",
       "      <td>91.20</td>\n",
       "      <td>93.77</td>\n",
       "    </tr>\n",
       "    <tr>\n",
       "      <th>3</th>\n",
       "      <td>D2_Lot0-1_0-2</td>\n",
       "      <td>AZA62A.1</td>\n",
       "      <td>2021-02-23</td>\n",
       "      <td>NaN</td>\n",
       "      <td>NaN</td>\n",
       "      <td>NaN</td>\n",
       "      <td>NaN</td>\n",
       "      <td>91.13</td>\n",
       "      <td>98.40</td>\n",
       "      <td>87.47</td>\n",
       "      <td>94.50</td>\n",
       "    </tr>\n",
       "    <tr>\n",
       "      <th>4</th>\n",
       "      <td>D2_Pave Wfrs</td>\n",
       "      <td>AZA29.1</td>\n",
       "      <td>2021-02-20</td>\n",
       "      <td>NaN</td>\n",
       "      <td>NaN</td>\n",
       "      <td>NaN</td>\n",
       "      <td>NaN</td>\n",
       "      <td>70.45</td>\n",
       "      <td>76.70</td>\n",
       "      <td>90.10</td>\n",
       "      <td>91.20</td>\n",
       "    </tr>\n",
       "    <tr>\n",
       "      <th>5</th>\n",
       "      <td>CS27</td>\n",
       "      <td>AZ8BY.1</td>\n",
       "      <td>2021-02-17</td>\n",
       "      <td>87.10</td>\n",
       "      <td>88.59</td>\n",
       "      <td>93.56</td>\n",
       "      <td>93.96</td>\n",
       "      <td>96.42</td>\n",
       "      <td>97.13</td>\n",
       "      <td>93.10</td>\n",
       "      <td>93.48</td>\n",
       "    </tr>\n",
       "    <tr>\n",
       "      <th>6</th>\n",
       "      <td>ER29</td>\n",
       "      <td>AZ92Y.1</td>\n",
       "      <td>2021-02-08</td>\n",
       "      <td>65.29</td>\n",
       "      <td>95.06</td>\n",
       "      <td>87.64</td>\n",
       "      <td>98.06</td>\n",
       "      <td>85.86</td>\n",
       "      <td>97.76</td>\n",
       "      <td>85.77</td>\n",
       "      <td>97.56</td>\n",
       "    </tr>\n",
       "    <tr>\n",
       "      <th>7</th>\n",
       "      <td>ER \"DP2\"(DP#5)</td>\n",
       "      <td>AZ81Y.1</td>\n",
       "      <td>2021-01-22</td>\n",
       "      <td>90.13</td>\n",
       "      <td>92.17</td>\n",
       "      <td>95.11</td>\n",
       "      <td>95.59</td>\n",
       "      <td>97.49</td>\n",
       "      <td>98.33</td>\n",
       "      <td>96.43</td>\n",
       "      <td>97.07</td>\n",
       "    </tr>\n",
       "    <tr>\n",
       "      <th>8</th>\n",
       "      <td>ER28A (wasCS28)</td>\n",
       "      <td>AZ8CK.1</td>\n",
       "      <td>2021-01-11</td>\n",
       "      <td>91.44</td>\n",
       "      <td>93.23</td>\n",
       "      <td>96.34</td>\n",
       "      <td>97.10</td>\n",
       "      <td>97.02</td>\n",
       "      <td>97.61</td>\n",
       "      <td>95.89</td>\n",
       "      <td>96.47</td>\n",
       "    </tr>\n",
       "    <tr>\n",
       "      <th>9</th>\n",
       "      <td>ER28B (wasCS28)</td>\n",
       "      <td>AZ8CKA.1</td>\n",
       "      <td>2021-01-10</td>\n",
       "      <td>88.55</td>\n",
       "      <td>90.39</td>\n",
       "      <td>94.40</td>\n",
       "      <td>94.64</td>\n",
       "      <td>96.18</td>\n",
       "      <td>97.13</td>\n",
       "      <td>92.41</td>\n",
       "      <td>92.99</td>\n",
       "    </tr>\n",
       "    <tr>\n",
       "      <th>10</th>\n",
       "      <td>CS24</td>\n",
       "      <td>AZ884.1</td>\n",
       "      <td>2020-12-28</td>\n",
       "      <td>90.60</td>\n",
       "      <td>92.28</td>\n",
       "      <td>96.27</td>\n",
       "      <td>96.87</td>\n",
       "      <td>96.32</td>\n",
       "      <td>96.92</td>\n",
       "      <td>94.54</td>\n",
       "      <td>95.40</td>\n",
       "    </tr>\n",
       "    <tr>\n",
       "      <th>11</th>\n",
       "      <td>ER Unknown</td>\n",
       "      <td>AZ7UTB.1</td>\n",
       "      <td>2020-12-18</td>\n",
       "      <td>91.17</td>\n",
       "      <td>93.03</td>\n",
       "      <td>94.11</td>\n",
       "      <td>94.88</td>\n",
       "      <td>96.91</td>\n",
       "      <td>97.47</td>\n",
       "      <td>96.55</td>\n",
       "      <td>97.16</td>\n",
       "    </tr>\n",
       "    <tr>\n",
       "      <th>12</th>\n",
       "      <td>CS22</td>\n",
       "      <td>AZ797.1</td>\n",
       "      <td>2020-12-09</td>\n",
       "      <td>59.42</td>\n",
       "      <td>91.78</td>\n",
       "      <td>66.66</td>\n",
       "      <td>95.28</td>\n",
       "      <td>69.47</td>\n",
       "      <td>97.85</td>\n",
       "      <td>67.40</td>\n",
       "      <td>94.89</td>\n",
       "    </tr>\n",
       "    <tr>\n",
       "      <th>13</th>\n",
       "      <td>CS25</td>\n",
       "      <td>AZ88W.1</td>\n",
       "      <td>2020-11-25</td>\n",
       "      <td>90.12</td>\n",
       "      <td>92.10</td>\n",
       "      <td>95.53</td>\n",
       "      <td>96.12</td>\n",
       "      <td>96.12</td>\n",
       "      <td>96.72</td>\n",
       "      <td>95.69</td>\n",
       "      <td>97.41</td>\n",
       "    </tr>\n",
       "    <tr>\n",
       "      <th>14</th>\n",
       "      <td>CS21A</td>\n",
       "      <td>AZ78N.1</td>\n",
       "      <td>2020-11-25</td>\n",
       "      <td>93.71</td>\n",
       "      <td>94.45</td>\n",
       "      <td>95.18</td>\n",
       "      <td>95.34</td>\n",
       "      <td>98.09</td>\n",
       "      <td>98.17</td>\n",
       "      <td>95.25</td>\n",
       "      <td>96.09</td>\n",
       "    </tr>\n",
       "    <tr>\n",
       "      <th>15</th>\n",
       "      <td>ER \"DP1\"(DP#5)</td>\n",
       "      <td>AZ7XU.1</td>\n",
       "      <td>2020-11-24</td>\n",
       "      <td>86.33</td>\n",
       "      <td>94.51</td>\n",
       "      <td>96.49</td>\n",
       "      <td>98.34</td>\n",
       "      <td>95.16</td>\n",
       "      <td>98.34</td>\n",
       "      <td>93.67</td>\n",
       "      <td>96.55</td>\n",
       "    </tr>\n",
       "    <tr>\n",
       "      <th>16</th>\n",
       "      <td>CS26B</td>\n",
       "      <td>AZ894A.1</td>\n",
       "      <td>2020-11-24</td>\n",
       "      <td>80.74</td>\n",
       "      <td>85.88</td>\n",
       "      <td>88.74</td>\n",
       "      <td>90.04</td>\n",
       "      <td>94.58</td>\n",
       "      <td>96.31</td>\n",
       "      <td>90.07</td>\n",
       "      <td>92.37</td>\n",
       "    </tr>\n",
       "    <tr>\n",
       "      <th>17</th>\n",
       "      <td>CS23B</td>\n",
       "      <td>AZ878A.1</td>\n",
       "      <td>2020-11-23</td>\n",
       "      <td>89.86</td>\n",
       "      <td>93.55</td>\n",
       "      <td>96.06</td>\n",
       "      <td>96.54</td>\n",
       "      <td>96.06</td>\n",
       "      <td>97.61</td>\n",
       "      <td>95.06</td>\n",
       "      <td>96.78</td>\n",
       "    </tr>\n",
       "    <tr>\n",
       "      <th>18</th>\n",
       "      <td>CS20B</td>\n",
       "      <td>AZ75RB.1</td>\n",
       "      <td>2020-10-23</td>\n",
       "      <td>91.17</td>\n",
       "      <td>92.64</td>\n",
       "      <td>95.72</td>\n",
       "      <td>96.28</td>\n",
       "      <td>98.31</td>\n",
       "      <td>98.59</td>\n",
       "      <td>94.45</td>\n",
       "      <td>95.20</td>\n",
       "    </tr>\n",
       "    <tr>\n",
       "      <th>19</th>\n",
       "      <td>CS19A</td>\n",
       "      <td>AZ74TK2.1</td>\n",
       "      <td>2020-10-15</td>\n",
       "      <td>96.05</td>\n",
       "      <td>96.05</td>\n",
       "      <td>98.80</td>\n",
       "      <td>98.80</td>\n",
       "      <td>100.00</td>\n",
       "      <td>100.00</td>\n",
       "      <td>96.55</td>\n",
       "      <td>96.55</td>\n",
       "    </tr>\n",
       "    <tr>\n",
       "      <th>20</th>\n",
       "      <td>CS19A</td>\n",
       "      <td>AZ74TK.1</td>\n",
       "      <td>2020-10-15</td>\n",
       "      <td>94.73</td>\n",
       "      <td>96.05</td>\n",
       "      <td>98.80</td>\n",
       "      <td>98.80</td>\n",
       "      <td>98.80</td>\n",
       "      <td>100.00</td>\n",
       "      <td>96.55</td>\n",
       "      <td>96.55</td>\n",
       "    </tr>\n",
       "    <tr>\n",
       "      <th>21</th>\n",
       "      <td>CS17B</td>\n",
       "      <td>AZ73FA.1</td>\n",
       "      <td>2020-10-13</td>\n",
       "      <td>85.22</td>\n",
       "      <td>94.23</td>\n",
       "      <td>93.03</td>\n",
       "      <td>96.69</td>\n",
       "      <td>93.86</td>\n",
       "      <td>97.79</td>\n",
       "      <td>94.34</td>\n",
       "      <td>96.73</td>\n",
       "    </tr>\n",
       "    <tr>\n",
       "      <th>22</th>\n",
       "      <td>CS19B</td>\n",
       "      <td>AZ74TA.1</td>\n",
       "      <td>2020-10-11</td>\n",
       "      <td>82.49</td>\n",
       "      <td>95.44</td>\n",
       "      <td>93.03</td>\n",
       "      <td>97.79</td>\n",
       "      <td>94.41</td>\n",
       "      <td>98.44</td>\n",
       "      <td>92.66</td>\n",
       "      <td>97.17</td>\n",
       "    </tr>\n",
       "    <tr>\n",
       "      <th>23</th>\n",
       "      <td>CS20</td>\n",
       "      <td>AZ75R.1</td>\n",
       "      <td>2020-10-08</td>\n",
       "      <td>86.57</td>\n",
       "      <td>92.89</td>\n",
       "      <td>93.56</td>\n",
       "      <td>96.66</td>\n",
       "      <td>96.90</td>\n",
       "      <td>99.04</td>\n",
       "      <td>94.71</td>\n",
       "      <td>96.09</td>\n",
       "    </tr>\n",
       "    <tr>\n",
       "      <th>24</th>\n",
       "      <td>CS19A</td>\n",
       "      <td>AZ74T.1</td>\n",
       "      <td>2020-09-26</td>\n",
       "      <td>82.56</td>\n",
       "      <td>95.17</td>\n",
       "      <td>93.35</td>\n",
       "      <td>97.12</td>\n",
       "      <td>94.44</td>\n",
       "      <td>99.20</td>\n",
       "      <td>91.95</td>\n",
       "      <td>96.74</td>\n",
       "    </tr>\n",
       "    <tr>\n",
       "      <th>25</th>\n",
       "      <td>CS17A</td>\n",
       "      <td>AZ73F.1</td>\n",
       "      <td>2020-09-25</td>\n",
       "      <td>85.96</td>\n",
       "      <td>93.85</td>\n",
       "      <td>95.03</td>\n",
       "      <td>97.01</td>\n",
       "      <td>95.03</td>\n",
       "      <td>97.71</td>\n",
       "      <td>91.95</td>\n",
       "      <td>95.59</td>\n",
       "    </tr>\n",
       "    <tr>\n",
       "      <th>26</th>\n",
       "      <td>Lot1</td>\n",
       "      <td>AZ6NNM.1</td>\n",
       "      <td>2020-09-24</td>\n",
       "      <td>NaN</td>\n",
       "      <td>NaN</td>\n",
       "      <td>50.00</td>\n",
       "      <td>50.00</td>\n",
       "      <td>81.81</td>\n",
       "      <td>81.81</td>\n",
       "      <td>100.00</td>\n",
       "      <td>100.00</td>\n",
       "    </tr>\n",
       "    <tr>\n",
       "      <th>27</th>\n",
       "      <td>Lot3</td>\n",
       "      <td>AZ6RAM.1</td>\n",
       "      <td>2020-09-14</td>\n",
       "      <td>NaN</td>\n",
       "      <td>NaN</td>\n",
       "      <td>0.00</td>\n",
       "      <td>8.33</td>\n",
       "      <td>98.80</td>\n",
       "      <td>100.00</td>\n",
       "      <td>NaN</td>\n",
       "      <td>NaN</td>\n",
       "    </tr>\n",
       "    <tr>\n",
       "      <th>28</th>\n",
       "      <td></td>\n",
       "      <td>AZ6VD.1</td>\n",
       "      <td>2020-09-05</td>\n",
       "      <td>89.47</td>\n",
       "      <td>92.54</td>\n",
       "      <td>96.02</td>\n",
       "      <td>96.95</td>\n",
       "      <td>97.48</td>\n",
       "      <td>98.67</td>\n",
       "      <td>92.97</td>\n",
       "      <td>94.38</td>\n",
       "    </tr>\n",
       "    <tr>\n",
       "      <th>29</th>\n",
       "      <td>CS18</td>\n",
       "      <td>AZ741.1</td>\n",
       "      <td>2020-09-04</td>\n",
       "      <td>90.58</td>\n",
       "      <td>93.10</td>\n",
       "      <td>96.28</td>\n",
       "      <td>96.80</td>\n",
       "      <td>97.90</td>\n",
       "      <td>98.57</td>\n",
       "      <td>93.28</td>\n",
       "      <td>94.76</td>\n",
       "    </tr>\n",
       "    <tr>\n",
       "      <th>30</th>\n",
       "      <td>CS16</td>\n",
       "      <td>AZ72Z.1</td>\n",
       "      <td>2020-08-20</td>\n",
       "      <td>91.21</td>\n",
       "      <td>94.31</td>\n",
       "      <td>96.23</td>\n",
       "      <td>97.23</td>\n",
       "      <td>97.61</td>\n",
       "      <td>98.76</td>\n",
       "      <td>94.85</td>\n",
       "      <td>96.27</td>\n",
       "    </tr>\n",
       "    <tr>\n",
       "      <th>31</th>\n",
       "      <td>CS15</td>\n",
       "      <td>AZ72KA.1</td>\n",
       "      <td>2020-08-19</td>\n",
       "      <td>89.47</td>\n",
       "      <td>94.21</td>\n",
       "      <td>95.15</td>\n",
       "      <td>96.50</td>\n",
       "      <td>97.61</td>\n",
       "      <td>99.20</td>\n",
       "      <td>94.17</td>\n",
       "      <td>96.17</td>\n",
       "    </tr>\n",
       "    <tr>\n",
       "      <th>32</th>\n",
       "      <td>CS14</td>\n",
       "      <td>AZ72H.1</td>\n",
       "      <td>2020-08-19</td>\n",
       "      <td>94.05</td>\n",
       "      <td>97.10</td>\n",
       "      <td>97.56</td>\n",
       "      <td>98.61</td>\n",
       "      <td>97.42</td>\n",
       "      <td>98.75</td>\n",
       "      <td>97.47</td>\n",
       "      <td>98.44</td>\n",
       "    </tr>\n",
       "    <tr>\n",
       "      <th>33</th>\n",
       "      <td>CS13</td>\n",
       "      <td>AZ725.1</td>\n",
       "      <td>2020-08-06</td>\n",
       "      <td>88.73</td>\n",
       "      <td>90.94</td>\n",
       "      <td>96.04</td>\n",
       "      <td>96.47</td>\n",
       "      <td>96.04</td>\n",
       "      <td>96.85</td>\n",
       "      <td>93.79</td>\n",
       "      <td>94.71</td>\n",
       "    </tr>\n",
       "    <tr>\n",
       "      <th>34</th>\n",
       "      <td>SF int1</td>\n",
       "      <td>AZ6BZA.1</td>\n",
       "      <td>2020-08-01</td>\n",
       "      <td>74.34</td>\n",
       "      <td>80.70</td>\n",
       "      <td>90.67</td>\n",
       "      <td>92.85</td>\n",
       "      <td>87.10</td>\n",
       "      <td>89.28</td>\n",
       "      <td>88.12</td>\n",
       "      <td>90.42</td>\n",
       "    </tr>\n",
       "    <tr>\n",
       "      <th>35</th>\n",
       "      <td>CS12</td>\n",
       "      <td>AZ71P.1</td>\n",
       "      <td>2020-07-31</td>\n",
       "      <td>95.36</td>\n",
       "      <td>96.57</td>\n",
       "      <td>97.99</td>\n",
       "      <td>98.23</td>\n",
       "      <td>98.42</td>\n",
       "      <td>99.14</td>\n",
       "      <td>97.52</td>\n",
       "      <td>97.98</td>\n",
       "    </tr>\n",
       "    <tr>\n",
       "      <th>36</th>\n",
       "      <td>CS11</td>\n",
       "      <td>AZ715.1</td>\n",
       "      <td>2020-07-31</td>\n",
       "      <td>92.72</td>\n",
       "      <td>95.77</td>\n",
       "      <td>96.67</td>\n",
       "      <td>97.67</td>\n",
       "      <td>97.37</td>\n",
       "      <td>98.85</td>\n",
       "      <td>97.19</td>\n",
       "      <td>98.30</td>\n",
       "    </tr>\n",
       "    <tr>\n",
       "      <th>37</th>\n",
       "      <td>SF int1</td>\n",
       "      <td>AZ6BZ.1</td>\n",
       "      <td>2020-07-31</td>\n",
       "      <td>NaN</td>\n",
       "      <td>NaN</td>\n",
       "      <td>NaN</td>\n",
       "      <td>NaN</td>\n",
       "      <td>82.14</td>\n",
       "      <td>83.33</td>\n",
       "      <td>NaN</td>\n",
       "      <td>NaN</td>\n",
       "    </tr>\n",
       "    <tr>\n",
       "      <th>38</th>\n",
       "      <td>CS9 child_</td>\n",
       "      <td>AZ6XZ.1</td>\n",
       "      <td>2020-07-30</td>\n",
       "      <td>94.08</td>\n",
       "      <td>95.39</td>\n",
       "      <td>98.20</td>\n",
       "      <td>98.80</td>\n",
       "      <td>98.20</td>\n",
       "      <td>98.20</td>\n",
       "      <td>95.98</td>\n",
       "      <td>97.12</td>\n",
       "    </tr>\n",
       "    <tr>\n",
       "      <th>39</th>\n",
       "      <td>CS10</td>\n",
       "      <td>AZ70T.1</td>\n",
       "      <td>2020-07-30</td>\n",
       "      <td>91.37</td>\n",
       "      <td>94.94</td>\n",
       "      <td>96.75</td>\n",
       "      <td>97.37</td>\n",
       "      <td>97.14</td>\n",
       "      <td>98.90</td>\n",
       "      <td>94.89</td>\n",
       "      <td>96.55</td>\n",
       "    </tr>\n",
       "    <tr>\n",
       "      <th>40</th>\n",
       "      <td>CS8</td>\n",
       "      <td>AZ6XP.1</td>\n",
       "      <td>2020-07-30</td>\n",
       "      <td>87.99</td>\n",
       "      <td>90.15</td>\n",
       "      <td>96.28</td>\n",
       "      <td>96.90</td>\n",
       "      <td>97.18</td>\n",
       "      <td>98.18</td>\n",
       "      <td>91.12</td>\n",
       "      <td>92.27</td>\n",
       "    </tr>\n",
       "    <tr>\n",
       "      <th>41</th>\n",
       "      <td>CS4</td>\n",
       "      <td>AZ6W8.1</td>\n",
       "      <td>2020-07-30</td>\n",
       "      <td>94.84</td>\n",
       "      <td>95.39</td>\n",
       "      <td>97.56</td>\n",
       "      <td>97.71</td>\n",
       "      <td>97.80</td>\n",
       "      <td>98.52</td>\n",
       "      <td>96.45</td>\n",
       "      <td>96.98</td>\n",
       "    </tr>\n",
       "    <tr>\n",
       "      <th>42</th>\n",
       "      <td>CS9</td>\n",
       "      <td>AZ6XZ.1</td>\n",
       "      <td>2020-07-29</td>\n",
       "      <td>93.18</td>\n",
       "      <td>95.63</td>\n",
       "      <td>97.61</td>\n",
       "      <td>98.39</td>\n",
       "      <td>98.18</td>\n",
       "      <td>99.17</td>\n",
       "      <td>95.70</td>\n",
       "      <td>97.00</td>\n",
       "    </tr>\n",
       "    <tr>\n",
       "      <th>43</th>\n",
       "      <td>CS5</td>\n",
       "      <td>AZ6WT.1</td>\n",
       "      <td>2020-07-22</td>\n",
       "      <td>89.59</td>\n",
       "      <td>91.62</td>\n",
       "      <td>96.31</td>\n",
       "      <td>97.02</td>\n",
       "      <td>97.23</td>\n",
       "      <td>98.37</td>\n",
       "      <td>92.63</td>\n",
       "      <td>93.78</td>\n",
       "    </tr>\n",
       "    <tr>\n",
       "      <th>44</th>\n",
       "      <td>CS7</td>\n",
       "      <td>AZ6X5.1</td>\n",
       "      <td>2020-07-20</td>\n",
       "      <td>90.84</td>\n",
       "      <td>92.05</td>\n",
       "      <td>93.85</td>\n",
       "      <td>94.23</td>\n",
       "      <td>97.32</td>\n",
       "      <td>97.85</td>\n",
       "      <td>95.49</td>\n",
       "      <td>96.32</td>\n",
       "    </tr>\n",
       "    <tr>\n",
       "      <th>45</th>\n",
       "      <td>CS6</td>\n",
       "      <td>AZ6X4.1</td>\n",
       "      <td>2020-07-19</td>\n",
       "      <td>91.15</td>\n",
       "      <td>93.21</td>\n",
       "      <td>97.13</td>\n",
       "      <td>97.71</td>\n",
       "      <td>97.61</td>\n",
       "      <td>98.90</td>\n",
       "      <td>94.30</td>\n",
       "      <td>95.31</td>\n",
       "    </tr>\n",
       "    <tr>\n",
       "      <th>46</th>\n",
       "      <td></td>\n",
       "      <td>AZ6PC.1</td>\n",
       "      <td>2020-07-16</td>\n",
       "      <td>NaN</td>\n",
       "      <td>NaN</td>\n",
       "      <td>NaN</td>\n",
       "      <td>NaN</td>\n",
       "      <td>89.76</td>\n",
       "      <td>89.76</td>\n",
       "      <td>NaN</td>\n",
       "      <td>NaN</td>\n",
       "    </tr>\n",
       "    <tr>\n",
       "      <th>47</th>\n",
       "      <td>CS3</td>\n",
       "      <td>AZ6W7.1</td>\n",
       "      <td>2020-07-14</td>\n",
       "      <td>92.98</td>\n",
       "      <td>96.82</td>\n",
       "      <td>96.72</td>\n",
       "      <td>98.01</td>\n",
       "      <td>97.46</td>\n",
       "      <td>98.90</td>\n",
       "      <td>96.12</td>\n",
       "      <td>98.27</td>\n",
       "    </tr>\n",
       "    <tr>\n",
       "      <th>48</th>\n",
       "      <td>Pavement</td>\n",
       "      <td>AZ6DFA.1</td>\n",
       "      <td>2020-07-14</td>\n",
       "      <td>NaN</td>\n",
       "      <td>NaN</td>\n",
       "      <td>NaN</td>\n",
       "      <td>NaN</td>\n",
       "      <td>97.61</td>\n",
       "      <td>98.80</td>\n",
       "      <td>90.80</td>\n",
       "      <td>90.80</td>\n",
       "    </tr>\n",
       "    <tr>\n",
       "      <th>49</th>\n",
       "      <td>CS1</td>\n",
       "      <td>AZ6VB.1</td>\n",
       "      <td>2020-07-11</td>\n",
       "      <td>93.47</td>\n",
       "      <td>97.14</td>\n",
       "      <td>97.16</td>\n",
       "      <td>98.11</td>\n",
       "      <td>97.47</td>\n",
       "      <td>99.14</td>\n",
       "      <td>97.33</td>\n",
       "      <td>98.67</td>\n",
       "    </tr>\n",
       "    <tr>\n",
       "      <th>50</th>\n",
       "      <td>CS2</td>\n",
       "      <td>AZ6VC.1</td>\n",
       "      <td>2020-07-10</td>\n",
       "      <td>92.15</td>\n",
       "      <td>95.10</td>\n",
       "      <td>96.99</td>\n",
       "      <td>98.09</td>\n",
       "      <td>96.61</td>\n",
       "      <td>97.85</td>\n",
       "      <td>96.00</td>\n",
       "      <td>97.42</td>\n",
       "    </tr>\n",
       "    <tr>\n",
       "      <th>51</th>\n",
       "      <td>Lot4</td>\n",
       "      <td>AZ6R9.1</td>\n",
       "      <td>2020-07-10</td>\n",
       "      <td>88.62</td>\n",
       "      <td>95.39</td>\n",
       "      <td>95.57</td>\n",
       "      <td>97.44</td>\n",
       "      <td>95.65</td>\n",
       "      <td>98.72</td>\n",
       "      <td>94.74</td>\n",
       "      <td>97.62</td>\n",
       "    </tr>\n",
       "    <tr>\n",
       "      <th>52</th>\n",
       "      <td>Lot4 Child</td>\n",
       "      <td>AZ6R9.1</td>\n",
       "      <td>2020-07-10</td>\n",
       "      <td>88.81</td>\n",
       "      <td>92.54</td>\n",
       "      <td>95.03</td>\n",
       "      <td>96.42</td>\n",
       "      <td>96.62</td>\n",
       "      <td>98.61</td>\n",
       "      <td>93.48</td>\n",
       "      <td>95.59</td>\n",
       "    </tr>\n",
       "    <tr>\n",
       "      <th>53</th>\n",
       "      <td>Lot3 child</td>\n",
       "      <td>AZ6RAB.1</td>\n",
       "      <td>2020-07-03</td>\n",
       "      <td>78.12</td>\n",
       "      <td>84.70</td>\n",
       "      <td>90.17</td>\n",
       "      <td>92.40</td>\n",
       "      <td>90.17</td>\n",
       "      <td>93.45</td>\n",
       "      <td>89.94</td>\n",
       "      <td>92.24</td>\n",
       "    </tr>\n",
       "    <tr>\n",
       "      <th>54</th>\n",
       "      <td>Lot3b</td>\n",
       "      <td>AZ6RAB.1</td>\n",
       "      <td>2020-07-03</td>\n",
       "      <td>88.48</td>\n",
       "      <td>98.02</td>\n",
       "      <td>95.23</td>\n",
       "      <td>98.50</td>\n",
       "      <td>96.12</td>\n",
       "      <td>100.00</td>\n",
       "      <td>95.69</td>\n",
       "      <td>98.28</td>\n",
       "    </tr>\n",
       "    <tr>\n",
       "      <th>55</th>\n",
       "      <td>Lot3</td>\n",
       "      <td>AZ6RA.1</td>\n",
       "      <td>2020-07-01</td>\n",
       "      <td>89.14</td>\n",
       "      <td>96.60</td>\n",
       "      <td>94.64</td>\n",
       "      <td>97.81</td>\n",
       "      <td>95.73</td>\n",
       "      <td>99.00</td>\n",
       "      <td>96.84</td>\n",
       "      <td>99.33</td>\n",
       "    </tr>\n",
       "    <tr>\n",
       "      <th>56</th>\n",
       "      <td>Lot2</td>\n",
       "      <td>AZ6PK.1</td>\n",
       "      <td>2020-06-27</td>\n",
       "      <td>92.96</td>\n",
       "      <td>95.70</td>\n",
       "      <td>95.14</td>\n",
       "      <td>95.96</td>\n",
       "      <td>97.77</td>\n",
       "      <td>98.81</td>\n",
       "      <td>97.06</td>\n",
       "      <td>98.68</td>\n",
       "    </tr>\n",
       "    <tr>\n",
       "      <th>57</th>\n",
       "      <td>Lot1</td>\n",
       "      <td>AZ6NN.1</td>\n",
       "      <td>2020-06-25</td>\n",
       "      <td>74.56</td>\n",
       "      <td>82.45</td>\n",
       "      <td>85.06</td>\n",
       "      <td>88.20</td>\n",
       "      <td>84.92</td>\n",
       "      <td>89.28</td>\n",
       "      <td>87.25</td>\n",
       "      <td>92.55</td>\n",
       "    </tr>\n",
       "    <tr>\n",
       "      <th>58</th>\n",
       "      <td>Pavement2</td>\n",
       "      <td>AZ6B5.1</td>\n",
       "      <td>2020-06-24</td>\n",
       "      <td>48.68</td>\n",
       "      <td>55.26</td>\n",
       "      <td>62.35</td>\n",
       "      <td>68.64</td>\n",
       "      <td>54.76</td>\n",
       "      <td>57.14</td>\n",
       "      <td>68.96</td>\n",
       "      <td>71.26</td>\n",
       "    </tr>\n",
       "    <tr>\n",
       "      <th>59</th>\n",
       "      <td>Pavement</td>\n",
       "      <td>AZ6DF.1</td>\n",
       "      <td>2020-06-18</td>\n",
       "      <td>0.00</td>\n",
       "      <td>82.89</td>\n",
       "      <td>0.00</td>\n",
       "      <td>90.58</td>\n",
       "      <td>64.25</td>\n",
       "      <td>94.84</td>\n",
       "      <td>0.00</td>\n",
       "      <td>94.41</td>\n",
       "    </tr>\n",
       "  </tbody>\n",
       "</table>\n",
       "</div>"
      ],
      "text/plain": [
       "           lot_name     lot_id        date  sailall_0p50to1p05  \\\n",
       "0                     AZA2KB.1  2021-02-28                 NaN   \n",
       "1        D2_Lot0-3C   AZA7PB.1  2021-02-28                 NaN   \n",
       "2    D2_Lot0-3A DVB   AZA7PB.1  2021-02-28                 NaN   \n",
       "3     D2_Lot0-1_0-2   AZA62A.1  2021-02-23                 NaN   \n",
       "4      D2_Pave Wfrs    AZA29.1  2021-02-20                 NaN   \n",
       "5              CS27    AZ8BY.1  2021-02-17               87.10   \n",
       "6              ER29    AZ92Y.1  2021-02-08               65.29   \n",
       "7    ER \"DP2\"(DP#5)    AZ81Y.1  2021-01-22               90.13   \n",
       "8   ER28A (wasCS28)    AZ8CK.1  2021-01-11               91.44   \n",
       "9   ER28B (wasCS28)   AZ8CKA.1  2021-01-10               88.55   \n",
       "10             CS24    AZ884.1  2020-12-28               90.60   \n",
       "11       ER Unknown   AZ7UTB.1  2020-12-18               91.17   \n",
       "12             CS22    AZ797.1  2020-12-09               59.42   \n",
       "13             CS25    AZ88W.1  2020-11-25               90.12   \n",
       "14            CS21A    AZ78N.1  2020-11-25               93.71   \n",
       "15   ER \"DP1\"(DP#5)    AZ7XU.1  2020-11-24               86.33   \n",
       "16            CS26B   AZ894A.1  2020-11-24               80.74   \n",
       "17            CS23B   AZ878A.1  2020-11-23               89.86   \n",
       "18            CS20B   AZ75RB.1  2020-10-23               91.17   \n",
       "19            CS19A  AZ74TK2.1  2020-10-15               96.05   \n",
       "20            CS19A   AZ74TK.1  2020-10-15               94.73   \n",
       "21            CS17B   AZ73FA.1  2020-10-13               85.22   \n",
       "22            CS19B   AZ74TA.1  2020-10-11               82.49   \n",
       "23             CS20    AZ75R.1  2020-10-08               86.57   \n",
       "24            CS19A    AZ74T.1  2020-09-26               82.56   \n",
       "25            CS17A    AZ73F.1  2020-09-25               85.96   \n",
       "26             Lot1   AZ6NNM.1  2020-09-24                 NaN   \n",
       "27             Lot3   AZ6RAM.1  2020-09-14                 NaN   \n",
       "28                     AZ6VD.1  2020-09-05               89.47   \n",
       "29             CS18    AZ741.1  2020-09-04               90.58   \n",
       "30             CS16    AZ72Z.1  2020-08-20               91.21   \n",
       "31             CS15   AZ72KA.1  2020-08-19               89.47   \n",
       "32             CS14    AZ72H.1  2020-08-19               94.05   \n",
       "33             CS13    AZ725.1  2020-08-06               88.73   \n",
       "34          SF int1   AZ6BZA.1  2020-08-01               74.34   \n",
       "35             CS12    AZ71P.1  2020-07-31               95.36   \n",
       "36             CS11    AZ715.1  2020-07-31               92.72   \n",
       "37          SF int1    AZ6BZ.1  2020-07-31                 NaN   \n",
       "38       CS9 child_    AZ6XZ.1  2020-07-30               94.08   \n",
       "39             CS10    AZ70T.1  2020-07-30               91.37   \n",
       "40              CS8    AZ6XP.1  2020-07-30               87.99   \n",
       "41              CS4    AZ6W8.1  2020-07-30               94.84   \n",
       "42              CS9    AZ6XZ.1  2020-07-29               93.18   \n",
       "43              CS5    AZ6WT.1  2020-07-22               89.59   \n",
       "44              CS7    AZ6X5.1  2020-07-20               90.84   \n",
       "45              CS6    AZ6X4.1  2020-07-19               91.15   \n",
       "46                     AZ6PC.1  2020-07-16                 NaN   \n",
       "47              CS3    AZ6W7.1  2020-07-14               92.98   \n",
       "48         Pavement   AZ6DFA.1  2020-07-14                 NaN   \n",
       "49              CS1    AZ6VB.1  2020-07-11               93.47   \n",
       "50              CS2    AZ6VC.1  2020-07-10               92.15   \n",
       "51             Lot4    AZ6R9.1  2020-07-10               88.62   \n",
       "52       Lot4 Child    AZ6R9.1  2020-07-10               88.81   \n",
       "53       Lot3 child   AZ6RAB.1  2020-07-03               78.12   \n",
       "54            Lot3b   AZ6RAB.1  2020-07-03               88.48   \n",
       "55             Lot3    AZ6RA.1  2020-07-01               89.14   \n",
       "56             Lot2    AZ6PK.1  2020-06-27               92.96   \n",
       "57             Lot1    AZ6NN.1  2020-06-25               74.56   \n",
       "58        Pavement2    AZ6B5.1  2020-06-24               48.68   \n",
       "59         Pavement    AZ6DF.1  2020-06-18                0.00   \n",
       "\n",
       "    sailall_0p65to1p05  sail1_0p50to1p05  sail1_0p65to1p05  sail2_0p50to1p05  \\\n",
       "0                  NaN               NaN               NaN             96.58   \n",
       "1                  NaN               NaN               NaN             94.32   \n",
       "2                  NaN               NaN               NaN             96.21   \n",
       "3                  NaN               NaN               NaN             91.13   \n",
       "4                  NaN               NaN               NaN             70.45   \n",
       "5                88.59             93.56             93.96             96.42   \n",
       "6                95.06             87.64             98.06             85.86   \n",
       "7                92.17             95.11             95.59             97.49   \n",
       "8                93.23             96.34             97.10             97.02   \n",
       "9                90.39             94.40             94.64             96.18   \n",
       "10               92.28             96.27             96.87             96.32   \n",
       "11               93.03             94.11             94.88             96.91   \n",
       "12               91.78             66.66             95.28             69.47   \n",
       "13               92.10             95.53             96.12             96.12   \n",
       "14               94.45             95.18             95.34             98.09   \n",
       "15               94.51             96.49             98.34             95.16   \n",
       "16               85.88             88.74             90.04             94.58   \n",
       "17               93.55             96.06             96.54             96.06   \n",
       "18               92.64             95.72             96.28             98.31   \n",
       "19               96.05             98.80             98.80            100.00   \n",
       "20               96.05             98.80             98.80             98.80   \n",
       "21               94.23             93.03             96.69             93.86   \n",
       "22               95.44             93.03             97.79             94.41   \n",
       "23               92.89             93.56             96.66             96.90   \n",
       "24               95.17             93.35             97.12             94.44   \n",
       "25               93.85             95.03             97.01             95.03   \n",
       "26                 NaN             50.00             50.00             81.81   \n",
       "27                 NaN              0.00              8.33             98.80   \n",
       "28               92.54             96.02             96.95             97.48   \n",
       "29               93.10             96.28             96.80             97.90   \n",
       "30               94.31             96.23             97.23             97.61   \n",
       "31               94.21             95.15             96.50             97.61   \n",
       "32               97.10             97.56             98.61             97.42   \n",
       "33               90.94             96.04             96.47             96.04   \n",
       "34               80.70             90.67             92.85             87.10   \n",
       "35               96.57             97.99             98.23             98.42   \n",
       "36               95.77             96.67             97.67             97.37   \n",
       "37                 NaN               NaN               NaN             82.14   \n",
       "38               95.39             98.20             98.80             98.20   \n",
       "39               94.94             96.75             97.37             97.14   \n",
       "40               90.15             96.28             96.90             97.18   \n",
       "41               95.39             97.56             97.71             97.80   \n",
       "42               95.63             97.61             98.39             98.18   \n",
       "43               91.62             96.31             97.02             97.23   \n",
       "44               92.05             93.85             94.23             97.32   \n",
       "45               93.21             97.13             97.71             97.61   \n",
       "46                 NaN               NaN               NaN             89.76   \n",
       "47               96.82             96.72             98.01             97.46   \n",
       "48                 NaN               NaN               NaN             97.61   \n",
       "49               97.14             97.16             98.11             97.47   \n",
       "50               95.10             96.99             98.09             96.61   \n",
       "51               95.39             95.57             97.44             95.65   \n",
       "52               92.54             95.03             96.42             96.62   \n",
       "53               84.70             90.17             92.40             90.17   \n",
       "54               98.02             95.23             98.50             96.12   \n",
       "55               96.60             94.64             97.81             95.73   \n",
       "56               95.70             95.14             95.96             97.77   \n",
       "57               82.45             85.06             88.20             84.92   \n",
       "58               55.26             62.35             68.64             54.76   \n",
       "59               82.89              0.00             90.58             64.25   \n",
       "\n",
       "    sail2_0p65to1p05  sail3_0p50to1p05  sail3_0p65to1p05  \n",
       "0              99.43             94.50             96.70  \n",
       "1              96.58             92.85             93.40  \n",
       "2              97.72             91.20             93.77  \n",
       "3              98.40             87.47             94.50  \n",
       "4              76.70             90.10             91.20  \n",
       "5              97.13             93.10             93.48  \n",
       "6              97.76             85.77             97.56  \n",
       "7              98.33             96.43             97.07  \n",
       "8              97.61             95.89             96.47  \n",
       "9              97.13             92.41             92.99  \n",
       "10             96.92             94.54             95.40  \n",
       "11             97.47             96.55             97.16  \n",
       "12             97.85             67.40             94.89  \n",
       "13             96.72             95.69             97.41  \n",
       "14             98.17             95.25             96.09  \n",
       "15             98.34             93.67             96.55  \n",
       "16             96.31             90.07             92.37  \n",
       "17             97.61             95.06             96.78  \n",
       "18             98.59             94.45             95.20  \n",
       "19            100.00             96.55             96.55  \n",
       "20            100.00             96.55             96.55  \n",
       "21             97.79             94.34             96.73  \n",
       "22             98.44             92.66             97.17  \n",
       "23             99.04             94.71             96.09  \n",
       "24             99.20             91.95             96.74  \n",
       "25             97.71             91.95             95.59  \n",
       "26             81.81            100.00            100.00  \n",
       "27            100.00               NaN               NaN  \n",
       "28             98.67             92.97             94.38  \n",
       "29             98.57             93.28             94.76  \n",
       "30             98.76             94.85             96.27  \n",
       "31             99.20             94.17             96.17  \n",
       "32             98.75             97.47             98.44  \n",
       "33             96.85             93.79             94.71  \n",
       "34             89.28             88.12             90.42  \n",
       "35             99.14             97.52             97.98  \n",
       "36             98.85             97.19             98.30  \n",
       "37             83.33               NaN               NaN  \n",
       "38             98.20             95.98             97.12  \n",
       "39             98.90             94.89             96.55  \n",
       "40             98.18             91.12             92.27  \n",
       "41             98.52             96.45             96.98  \n",
       "42             99.17             95.70             97.00  \n",
       "43             98.37             92.63             93.78  \n",
       "44             97.85             95.49             96.32  \n",
       "45             98.90             94.30             95.31  \n",
       "46             89.76               NaN               NaN  \n",
       "47             98.90             96.12             98.27  \n",
       "48             98.80             90.80             90.80  \n",
       "49             99.14             97.33             98.67  \n",
       "50             97.85             96.00             97.42  \n",
       "51             98.72             94.74             97.62  \n",
       "52             98.61             93.48             95.59  \n",
       "53             93.45             89.94             92.24  \n",
       "54            100.00             95.69             98.28  \n",
       "55             99.00             96.84             99.33  \n",
       "56             98.81             97.06             98.68  \n",
       "57             89.28             87.25             92.55  \n",
       "58             57.14             68.96             71.26  \n",
       "59             94.84              0.00             94.41  "
      ]
     },
     "execution_count": 17,
     "metadata": {},
     "output_type": "execute_result"
    }
   ],
   "source": [
    "get_lot_data()"
   ]
  },
  {
   "cell_type": "code",
   "execution_count": 53,
   "metadata": {},
   "outputs": [],
   "source": [
    "get_block_data()"
   ]
  },
  {
   "cell_type": "code",
   "execution_count": 64,
   "metadata": {},
   "outputs": [
    {
     "data": {
      "text/html": [
       "<div>\n",
       "<style scoped>\n",
       "    .dataframe tbody tr th:only-of-type {\n",
       "        vertical-align: middle;\n",
       "    }\n",
       "\n",
       "    .dataframe tbody tr th {\n",
       "        vertical-align: top;\n",
       "    }\n",
       "\n",
       "    .dataframe thead th {\n",
       "        text-align: right;\n",
       "    }\n",
       "</style>\n",
       "<table border=\"1\" class=\"dataframe\">\n",
       "  <thead>\n",
       "    <tr style=\"text-align: right;\">\n",
       "      <th></th>\n",
       "      <th>lot_id</th>\n",
       "      <th>wafer_id</th>\n",
       "      <th>step</th>\n",
       "      <th>label</th>\n",
       "      <th>yield</th>\n",
       "      <th>yld_loss</th>\n",
       "    </tr>\n",
       "  </thead>\n",
       "  <tbody>\n",
       "    <tr>\n",
       "      <th>0</th>\n",
       "      <td>AZ6PK.1</td>\n",
       "      <td>AZ6PK-09</td>\n",
       "      <td>SSL1</td>\n",
       "      <td>SSL1_block12_so0</td>\n",
       "      <td>100.00</td>\n",
       "      <td>0.00</td>\n",
       "    </tr>\n",
       "    <tr>\n",
       "      <th>1</th>\n",
       "      <td>AZ6PK.1</td>\n",
       "      <td>AZ6PK-09</td>\n",
       "      <td>SSL1</td>\n",
       "      <td>SSL1_block9_so5</td>\n",
       "      <td>100.00</td>\n",
       "      <td>0.00</td>\n",
       "    </tr>\n",
       "    <tr>\n",
       "      <th>2</th>\n",
       "      <td>AZ6PK.1</td>\n",
       "      <td>AZ6PK-09</td>\n",
       "      <td>SSL1</td>\n",
       "      <td>SSL1_block1_so2</td>\n",
       "      <td>100.00</td>\n",
       "      <td>0.00</td>\n",
       "    </tr>\n",
       "    <tr>\n",
       "      <th>3</th>\n",
       "      <td>AZ6PK.1</td>\n",
       "      <td>AZ6PK-21</td>\n",
       "      <td>SSL2</td>\n",
       "      <td>SSL2_block17_so3</td>\n",
       "      <td>100.00</td>\n",
       "      <td>0.00</td>\n",
       "    </tr>\n",
       "    <tr>\n",
       "      <th>4</th>\n",
       "      <td>AZ6PK.1</td>\n",
       "      <td>AZ6PK-21</td>\n",
       "      <td>SSL2</td>\n",
       "      <td>SSL2_block18_so4</td>\n",
       "      <td>100.00</td>\n",
       "      <td>0.00</td>\n",
       "    </tr>\n",
       "    <tr>\n",
       "      <th>5</th>\n",
       "      <td>AZ6PK.1</td>\n",
       "      <td>AZ6PK-21</td>\n",
       "      <td>SSL2</td>\n",
       "      <td>SSL2_block2_so5</td>\n",
       "      <td>100.00</td>\n",
       "      <td>0.00</td>\n",
       "    </tr>\n",
       "    <tr>\n",
       "      <th>6</th>\n",
       "      <td>AZ6VB.1</td>\n",
       "      <td>AZ6VB-10</td>\n",
       "      <td>SSL2</td>\n",
       "      <td>SSL2_block17_so3</td>\n",
       "      <td>100.00</td>\n",
       "      <td>0.00</td>\n",
       "    </tr>\n",
       "    <tr>\n",
       "      <th>7</th>\n",
       "      <td>AZ6VB.1</td>\n",
       "      <td>AZ6VB-10</td>\n",
       "      <td>SSL2</td>\n",
       "      <td>SSL2_block18_so4</td>\n",
       "      <td>100.00</td>\n",
       "      <td>0.00</td>\n",
       "    </tr>\n",
       "    <tr>\n",
       "      <th>8</th>\n",
       "      <td>AZ6PK.1</td>\n",
       "      <td>AZ6PK-05</td>\n",
       "      <td>SSL1</td>\n",
       "      <td>SSL1_block12_so0</td>\n",
       "      <td>100.00</td>\n",
       "      <td>0.00</td>\n",
       "    </tr>\n",
       "    <tr>\n",
       "      <th>9</th>\n",
       "      <td>AZ6PK.1</td>\n",
       "      <td>AZ6PK-05</td>\n",
       "      <td>SSL1</td>\n",
       "      <td>SSL1_block9_so5</td>\n",
       "      <td>100.00</td>\n",
       "      <td>0.00</td>\n",
       "    </tr>\n",
       "    <tr>\n",
       "      <th>10</th>\n",
       "      <td>AZ6PK.1</td>\n",
       "      <td>AZ6PK-05</td>\n",
       "      <td>SSL1</td>\n",
       "      <td>SSL1_block1_so2</td>\n",
       "      <td>100.00</td>\n",
       "      <td>0.00</td>\n",
       "    </tr>\n",
       "    <tr>\n",
       "      <th>11</th>\n",
       "      <td>AZ6RA.1</td>\n",
       "      <td>AZ6RA-05</td>\n",
       "      <td>SSL2</td>\n",
       "      <td>SSL2_block17_so3</td>\n",
       "      <td>100.00</td>\n",
       "      <td>0.00</td>\n",
       "    </tr>\n",
       "    <tr>\n",
       "      <th>12</th>\n",
       "      <td>AZ6RA.1</td>\n",
       "      <td>AZ6RA-05</td>\n",
       "      <td>SSL2</td>\n",
       "      <td>SSL2_block18_so4</td>\n",
       "      <td>100.00</td>\n",
       "      <td>0.00</td>\n",
       "    </tr>\n",
       "    <tr>\n",
       "      <th>13</th>\n",
       "      <td>AZ6RA.1</td>\n",
       "      <td>AZ6RA-05</td>\n",
       "      <td>SSL2</td>\n",
       "      <td>SSL2_block2_so5</td>\n",
       "      <td>100.00</td>\n",
       "      <td>0.00</td>\n",
       "    </tr>\n",
       "    <tr>\n",
       "      <th>14</th>\n",
       "      <td>AZ6VB.1</td>\n",
       "      <td>AZ6VB-15</td>\n",
       "      <td>SSL1</td>\n",
       "      <td>SSL1_block12_so0</td>\n",
       "      <td>100.00</td>\n",
       "      <td>0.00</td>\n",
       "    </tr>\n",
       "    <tr>\n",
       "      <th>15</th>\n",
       "      <td>AZ6R9.1</td>\n",
       "      <td>AZ6R9-15</td>\n",
       "      <td>SSL3</td>\n",
       "      <td>SSL3_block15_so5</td>\n",
       "      <td>100.00</td>\n",
       "      <td>0.00</td>\n",
       "    </tr>\n",
       "    <tr>\n",
       "      <th>16</th>\n",
       "      <td>AZ6R9.1</td>\n",
       "      <td>AZ6R9-15</td>\n",
       "      <td>SSL3</td>\n",
       "      <td>SSL3_block23_so4</td>\n",
       "      <td>100.00</td>\n",
       "      <td>0.00</td>\n",
       "    </tr>\n",
       "    <tr>\n",
       "      <th>17</th>\n",
       "      <td>AZ6R9.1</td>\n",
       "      <td>AZ6R9-15</td>\n",
       "      <td>SSL3</td>\n",
       "      <td>SSL3_block21_so2</td>\n",
       "      <td>100.00</td>\n",
       "      <td>0.00</td>\n",
       "    </tr>\n",
       "    <tr>\n",
       "      <th>18</th>\n",
       "      <td>AZ6R9.1</td>\n",
       "      <td>AZ6R9-15</td>\n",
       "      <td>SSL3</td>\n",
       "      <td>SSL3_block10_so3</td>\n",
       "      <td>100.00</td>\n",
       "      <td>0.00</td>\n",
       "    </tr>\n",
       "    <tr>\n",
       "      <th>19</th>\n",
       "      <td>AZ6VB.1</td>\n",
       "      <td>AZ6VB-20</td>\n",
       "      <td>SSL1</td>\n",
       "      <td>SSL1_block12_so0</td>\n",
       "      <td>100.00</td>\n",
       "      <td>0.00</td>\n",
       "    </tr>\n",
       "    <tr>\n",
       "      <th>20</th>\n",
       "      <td>AZ6VB.1</td>\n",
       "      <td>AZ6VB-20</td>\n",
       "      <td>SSL1</td>\n",
       "      <td>SSL1_block9_so5</td>\n",
       "      <td>100.00</td>\n",
       "      <td>0.00</td>\n",
       "    </tr>\n",
       "    <tr>\n",
       "      <th>21</th>\n",
       "      <td>AZ6VB.1</td>\n",
       "      <td>AZ6VB-20</td>\n",
       "      <td>SSL1</td>\n",
       "      <td>SSL1_block1_so2</td>\n",
       "      <td>100.00</td>\n",
       "      <td>0.00</td>\n",
       "    </tr>\n",
       "    <tr>\n",
       "      <th>22</th>\n",
       "      <td>AZ6WT.1</td>\n",
       "      <td>AZ6WT-04</td>\n",
       "      <td>SSL3</td>\n",
       "      <td>SSL3_block15_so5</td>\n",
       "      <td>100.00</td>\n",
       "      <td>0.00</td>\n",
       "    </tr>\n",
       "    <tr>\n",
       "      <th>23</th>\n",
       "      <td>AZ6WT.1</td>\n",
       "      <td>AZ6WT-04</td>\n",
       "      <td>SSL3</td>\n",
       "      <td>SSL3_block23_so4</td>\n",
       "      <td>100.00</td>\n",
       "      <td>0.00</td>\n",
       "    </tr>\n",
       "    <tr>\n",
       "      <th>24</th>\n",
       "      <td>AZ6PK.1</td>\n",
       "      <td>AZ6PK-16</td>\n",
       "      <td>SSL2</td>\n",
       "      <td>SSL2_block17_so3</td>\n",
       "      <td>100.00</td>\n",
       "      <td>0.00</td>\n",
       "    </tr>\n",
       "    <tr>\n",
       "      <th>25</th>\n",
       "      <td>AZ6PK.1</td>\n",
       "      <td>AZ6PK-16</td>\n",
       "      <td>SSL2</td>\n",
       "      <td>SSL2_block18_so4</td>\n",
       "      <td>100.00</td>\n",
       "      <td>0.00</td>\n",
       "    </tr>\n",
       "    <tr>\n",
       "      <th>26</th>\n",
       "      <td>AZ6PK.1</td>\n",
       "      <td>AZ6PK-16</td>\n",
       "      <td>SSL2</td>\n",
       "      <td>SSL2_block2_so5</td>\n",
       "      <td>100.00</td>\n",
       "      <td>0.00</td>\n",
       "    </tr>\n",
       "    <tr>\n",
       "      <th>27</th>\n",
       "      <td>AZ6RA.1</td>\n",
       "      <td>AZ6RA-12</td>\n",
       "      <td>SSL2</td>\n",
       "      <td>SSL2_block17_so3</td>\n",
       "      <td>100.00</td>\n",
       "      <td>0.00</td>\n",
       "    </tr>\n",
       "    <tr>\n",
       "      <th>28</th>\n",
       "      <td>AZ6RA.1</td>\n",
       "      <td>AZ6RA-12</td>\n",
       "      <td>SSL2</td>\n",
       "      <td>SSL2_block18_so4</td>\n",
       "      <td>100.00</td>\n",
       "      <td>0.00</td>\n",
       "    </tr>\n",
       "    <tr>\n",
       "      <th>29</th>\n",
       "      <td>AZ6RA.1</td>\n",
       "      <td>AZ6RA-12</td>\n",
       "      <td>SSL2</td>\n",
       "      <td>SSL2_block2_so5</td>\n",
       "      <td>100.00</td>\n",
       "      <td>0.00</td>\n",
       "    </tr>\n",
       "    <tr>\n",
       "      <th>30</th>\n",
       "      <td>AZ6RA.1</td>\n",
       "      <td>AZ6RA-02</td>\n",
       "      <td>SSL3</td>\n",
       "      <td>SSL3_block15_so5</td>\n",
       "      <td>100.00</td>\n",
       "      <td>0.00</td>\n",
       "    </tr>\n",
       "    <tr>\n",
       "      <th>31</th>\n",
       "      <td>AZ6RA.1</td>\n",
       "      <td>AZ6RA-02</td>\n",
       "      <td>SSL3</td>\n",
       "      <td>SSL3_block23_so4</td>\n",
       "      <td>100.00</td>\n",
       "      <td>0.00</td>\n",
       "    </tr>\n",
       "    <tr>\n",
       "      <th>32</th>\n",
       "      <td>AZ6RA.1</td>\n",
       "      <td>AZ6RA-02</td>\n",
       "      <td>SSL3</td>\n",
       "      <td>SSL3_block21_so2</td>\n",
       "      <td>100.00</td>\n",
       "      <td>0.00</td>\n",
       "    </tr>\n",
       "    <tr>\n",
       "      <th>33</th>\n",
       "      <td>AZ6VC.1</td>\n",
       "      <td>AZ6VC-22</td>\n",
       "      <td>SSL1</td>\n",
       "      <td>SSL1_block12_so0</td>\n",
       "      <td>100.00</td>\n",
       "      <td>0.00</td>\n",
       "    </tr>\n",
       "    <tr>\n",
       "      <th>34</th>\n",
       "      <td>AZ6VC.1</td>\n",
       "      <td>AZ6VC-22</td>\n",
       "      <td>SSL1</td>\n",
       "      <td>SSL1_block9_so5</td>\n",
       "      <td>100.00</td>\n",
       "      <td>0.00</td>\n",
       "    </tr>\n",
       "    <tr>\n",
       "      <th>35</th>\n",
       "      <td>AZ6VC.1</td>\n",
       "      <td>AZ6VC-22</td>\n",
       "      <td>SSL1</td>\n",
       "      <td>SSL1_block1_so2</td>\n",
       "      <td>100.00</td>\n",
       "      <td>0.00</td>\n",
       "    </tr>\n",
       "    <tr>\n",
       "      <th>36</th>\n",
       "      <td>AZ6VB.1</td>\n",
       "      <td>AZ6VB-24</td>\n",
       "      <td>SSL1</td>\n",
       "      <td>SSL1_block12_so0</td>\n",
       "      <td>100.00</td>\n",
       "      <td>0.00</td>\n",
       "    </tr>\n",
       "    <tr>\n",
       "      <th>37</th>\n",
       "      <td>AZ6VB.1</td>\n",
       "      <td>AZ6VB-24</td>\n",
       "      <td>SSL1</td>\n",
       "      <td>SSL1_block9_so5</td>\n",
       "      <td>100.00</td>\n",
       "      <td>0.00</td>\n",
       "    </tr>\n",
       "    <tr>\n",
       "      <th>38</th>\n",
       "      <td>AZ6VB.1</td>\n",
       "      <td>AZ6VB-24</td>\n",
       "      <td>SSL1</td>\n",
       "      <td>SSL1_block1_so2</td>\n",
       "      <td>100.00</td>\n",
       "      <td>0.00</td>\n",
       "    </tr>\n",
       "    <tr>\n",
       "      <th>39</th>\n",
       "      <td>AZ6VB.1</td>\n",
       "      <td>AZ6VB-04</td>\n",
       "      <td>SSL1</td>\n",
       "      <td>SSL1_block12_so0</td>\n",
       "      <td>100.00</td>\n",
       "      <td>0.00</td>\n",
       "    </tr>\n",
       "    <tr>\n",
       "      <th>40</th>\n",
       "      <td>AZ6RAB.1</td>\n",
       "      <td>AZ6RA-23</td>\n",
       "      <td>SSL1</td>\n",
       "      <td>SSL1_block12_so0</td>\n",
       "      <td>100.00</td>\n",
       "      <td>0.00</td>\n",
       "    </tr>\n",
       "    <tr>\n",
       "      <th>41</th>\n",
       "      <td>AZ6RAB.1</td>\n",
       "      <td>AZ6RA-23</td>\n",
       "      <td>SSL1</td>\n",
       "      <td>SSL1_block9_so5</td>\n",
       "      <td>100.00</td>\n",
       "      <td>0.00</td>\n",
       "    </tr>\n",
       "    <tr>\n",
       "      <th>42</th>\n",
       "      <td>AZ6RAB.1</td>\n",
       "      <td>AZ6RA-23</td>\n",
       "      <td>SSL1</td>\n",
       "      <td>SSL1_block1_so2</td>\n",
       "      <td>100.00</td>\n",
       "      <td>0.00</td>\n",
       "    </tr>\n",
       "    <tr>\n",
       "      <th>43</th>\n",
       "      <td>AZ6W7.1</td>\n",
       "      <td>AZ6W7-20</td>\n",
       "      <td>SSL3</td>\n",
       "      <td>SSL3_block15_so5</td>\n",
       "      <td>100.00</td>\n",
       "      <td>0.00</td>\n",
       "    </tr>\n",
       "    <tr>\n",
       "      <th>44</th>\n",
       "      <td>AZ6W7.1</td>\n",
       "      <td>AZ6W7-20</td>\n",
       "      <td>SSL3</td>\n",
       "      <td>SSL3_block23_so4</td>\n",
       "      <td>100.00</td>\n",
       "      <td>0.00</td>\n",
       "    </tr>\n",
       "    <tr>\n",
       "      <th>45</th>\n",
       "      <td>AZ6W7.1</td>\n",
       "      <td>AZ6W7-20</td>\n",
       "      <td>SSL3</td>\n",
       "      <td>SSL3_block21_so2</td>\n",
       "      <td>100.00</td>\n",
       "      <td>0.00</td>\n",
       "    </tr>\n",
       "    <tr>\n",
       "      <th>46</th>\n",
       "      <td>AZ6W7.1</td>\n",
       "      <td>AZ6W7-20</td>\n",
       "      <td>SSL3</td>\n",
       "      <td>SSL3_block10_so3</td>\n",
       "      <td>100.00</td>\n",
       "      <td>0.00</td>\n",
       "    </tr>\n",
       "    <tr>\n",
       "      <th>47</th>\n",
       "      <td>AZ6W7.1</td>\n",
       "      <td>AZ6W7-16</td>\n",
       "      <td>SSL2</td>\n",
       "      <td>SSL2_block17_so3</td>\n",
       "      <td>100.00</td>\n",
       "      <td>0.00</td>\n",
       "    </tr>\n",
       "    <tr>\n",
       "      <th>48</th>\n",
       "      <td>AZ715.1</td>\n",
       "      <td>AZ715-23</td>\n",
       "      <td>SSL1</td>\n",
       "      <td>SSL1_block12_so0</td>\n",
       "      <td>100.00</td>\n",
       "      <td>0.00</td>\n",
       "    </tr>\n",
       "    <tr>\n",
       "      <th>49</th>\n",
       "      <td>AZ715.1</td>\n",
       "      <td>AZ715-23</td>\n",
       "      <td>SSL1</td>\n",
       "      <td>SSL1_block9_so5</td>\n",
       "      <td>100.00</td>\n",
       "      <td>0.00</td>\n",
       "    </tr>\n",
       "    <tr>\n",
       "      <th>50</th>\n",
       "      <td>AZ715.1</td>\n",
       "      <td>AZ715-23</td>\n",
       "      <td>SSL1</td>\n",
       "      <td>SSL1_block1_so2</td>\n",
       "      <td>100.00</td>\n",
       "      <td>0.00</td>\n",
       "    </tr>\n",
       "    <tr>\n",
       "      <th>51</th>\n",
       "      <td>AZ6PK.1</td>\n",
       "      <td>AZ6PK-19</td>\n",
       "      <td>SSL1</td>\n",
       "      <td>SSL1_block12_so0</td>\n",
       "      <td>100.00</td>\n",
       "      <td>0.00</td>\n",
       "    </tr>\n",
       "    <tr>\n",
       "      <th>52</th>\n",
       "      <td>AZ6PK.1</td>\n",
       "      <td>AZ6PK-19</td>\n",
       "      <td>SSL1</td>\n",
       "      <td>SSL1_block9_so5</td>\n",
       "      <td>100.00</td>\n",
       "      <td>0.00</td>\n",
       "    </tr>\n",
       "    <tr>\n",
       "      <th>53</th>\n",
       "      <td>AZ6PK.1</td>\n",
       "      <td>AZ6PK-19</td>\n",
       "      <td>SSL1</td>\n",
       "      <td>SSL1_block1_so2</td>\n",
       "      <td>100.00</td>\n",
       "      <td>0.00</td>\n",
       "    </tr>\n",
       "    <tr>\n",
       "      <th>54</th>\n",
       "      <td>AZ6PK.1</td>\n",
       "      <td>AZ6PK-09</td>\n",
       "      <td>SSL1</td>\n",
       "      <td>SSL1_block17_so2</td>\n",
       "      <td>100.00</td>\n",
       "      <td>0.00</td>\n",
       "    </tr>\n",
       "    <tr>\n",
       "      <th>55</th>\n",
       "      <td>AZ6PK.1</td>\n",
       "      <td>AZ6PK-09</td>\n",
       "      <td>SSL1</td>\n",
       "      <td>SSL1_block25_so0</td>\n",
       "      <td>100.00</td>\n",
       "      <td>0.00</td>\n",
       "    </tr>\n",
       "    <tr>\n",
       "      <th>56</th>\n",
       "      <td>AZ6PK.1</td>\n",
       "      <td>AZ6PK-09</td>\n",
       "      <td>SSL1</td>\n",
       "      <td>SSL1_block13_so3</td>\n",
       "      <td>100.00</td>\n",
       "      <td>0.00</td>\n",
       "    </tr>\n",
       "    <tr>\n",
       "      <th>57</th>\n",
       "      <td>AZ6PK.1</td>\n",
       "      <td>AZ6PK-09</td>\n",
       "      <td>SSL1</td>\n",
       "      <td>SSL1_block13_so2</td>\n",
       "      <td>100.00</td>\n",
       "      <td>0.00</td>\n",
       "    </tr>\n",
       "    <tr>\n",
       "      <th>58</th>\n",
       "      <td>AZ6PK.1</td>\n",
       "      <td>AZ6PK-21</td>\n",
       "      <td>SSL2</td>\n",
       "      <td>SSL2_block12_so5</td>\n",
       "      <td>100.00</td>\n",
       "      <td>0.00</td>\n",
       "    </tr>\n",
       "    <tr>\n",
       "      <th>59</th>\n",
       "      <td>AZ6PK.1</td>\n",
       "      <td>AZ6PK-21</td>\n",
       "      <td>SSL2</td>\n",
       "      <td>SSL2_block7_so2</td>\n",
       "      <td>100.00</td>\n",
       "      <td>0.00</td>\n",
       "    </tr>\n",
       "    <tr>\n",
       "      <th>60</th>\n",
       "      <td>AZ6PK.1</td>\n",
       "      <td>AZ6PK-21</td>\n",
       "      <td>SSL2</td>\n",
       "      <td>SSL2_block3_so4</td>\n",
       "      <td>100.00</td>\n",
       "      <td>0.00</td>\n",
       "    </tr>\n",
       "    <tr>\n",
       "      <th>61</th>\n",
       "      <td>AZ6VB.1</td>\n",
       "      <td>AZ6VB-10</td>\n",
       "      <td>SSL2</td>\n",
       "      <td>SSL2_block12_so5</td>\n",
       "      <td>100.00</td>\n",
       "      <td>0.00</td>\n",
       "    </tr>\n",
       "    <tr>\n",
       "      <th>62</th>\n",
       "      <td>AZ6PK.1</td>\n",
       "      <td>AZ6PK-05</td>\n",
       "      <td>SSL1</td>\n",
       "      <td>SSL1_block17_so2</td>\n",
       "      <td>100.00</td>\n",
       "      <td>0.00</td>\n",
       "    </tr>\n",
       "    <tr>\n",
       "      <th>63</th>\n",
       "      <td>AZ6PK.1</td>\n",
       "      <td>AZ6PK-05</td>\n",
       "      <td>SSL1</td>\n",
       "      <td>SSL1_block25_so0</td>\n",
       "      <td>98.80</td>\n",
       "      <td>1.20</td>\n",
       "    </tr>\n",
       "    <tr>\n",
       "      <th>64</th>\n",
       "      <td>AZ6PK.1</td>\n",
       "      <td>AZ6PK-05</td>\n",
       "      <td>SSL1</td>\n",
       "      <td>SSL1_block13_so3</td>\n",
       "      <td>100.00</td>\n",
       "      <td>0.00</td>\n",
       "    </tr>\n",
       "    <tr>\n",
       "      <th>65</th>\n",
       "      <td>AZ6PK.1</td>\n",
       "      <td>AZ6PK-05</td>\n",
       "      <td>SSL1</td>\n",
       "      <td>SSL1_block13_so2</td>\n",
       "      <td>100.00</td>\n",
       "      <td>0.00</td>\n",
       "    </tr>\n",
       "    <tr>\n",
       "      <th>66</th>\n",
       "      <td>AZ6RA.1</td>\n",
       "      <td>AZ6RA-05</td>\n",
       "      <td>SSL2</td>\n",
       "      <td>SSL2_block12_so5</td>\n",
       "      <td>100.00</td>\n",
       "      <td>0.00</td>\n",
       "    </tr>\n",
       "    <tr>\n",
       "      <th>67</th>\n",
       "      <td>AZ6RA.1</td>\n",
       "      <td>AZ6RA-05</td>\n",
       "      <td>SSL2</td>\n",
       "      <td>SSL2_block7_so2</td>\n",
       "      <td>100.00</td>\n",
       "      <td>0.00</td>\n",
       "    </tr>\n",
       "    <tr>\n",
       "      <th>68</th>\n",
       "      <td>AZ6RA.1</td>\n",
       "      <td>AZ6RA-05</td>\n",
       "      <td>SSL2</td>\n",
       "      <td>SSL2_block3_so4</td>\n",
       "      <td>100.00</td>\n",
       "      <td>0.00</td>\n",
       "    </tr>\n",
       "    <tr>\n",
       "      <th>69</th>\n",
       "      <td>AZ6VB.1</td>\n",
       "      <td>AZ6VB-15</td>\n",
       "      <td>SSL1</td>\n",
       "      <td>SSL1_block17_so2</td>\n",
       "      <td>100.00</td>\n",
       "      <td>0.00</td>\n",
       "    </tr>\n",
       "    <tr>\n",
       "      <th>70</th>\n",
       "      <td>AZ6VB.1</td>\n",
       "      <td>AZ6VB-15</td>\n",
       "      <td>SSL1</td>\n",
       "      <td>SSL1_block25_so0</td>\n",
       "      <td>100.00</td>\n",
       "      <td>0.00</td>\n",
       "    </tr>\n",
       "    <tr>\n",
       "      <th>71</th>\n",
       "      <td>AZ6PK.1</td>\n",
       "      <td>AZ6PK-16</td>\n",
       "      <td>SSL2</td>\n",
       "      <td>SSL2_block12_so5</td>\n",
       "      <td>100.00</td>\n",
       "      <td>0.00</td>\n",
       "    </tr>\n",
       "    <tr>\n",
       "      <th>72</th>\n",
       "      <td>AZ6PK.1</td>\n",
       "      <td>AZ6PK-16</td>\n",
       "      <td>SSL2</td>\n",
       "      <td>SSL2_block7_so2</td>\n",
       "      <td>100.00</td>\n",
       "      <td>0.00</td>\n",
       "    </tr>\n",
       "    <tr>\n",
       "      <th>73</th>\n",
       "      <td>AZ6PK.1</td>\n",
       "      <td>AZ6PK-16</td>\n",
       "      <td>SSL2</td>\n",
       "      <td>SSL2_block3_so4</td>\n",
       "      <td>100.00</td>\n",
       "      <td>0.00</td>\n",
       "    </tr>\n",
       "    <tr>\n",
       "      <th>74</th>\n",
       "      <td>AZ6RA.1</td>\n",
       "      <td>AZ6RA-12</td>\n",
       "      <td>SSL2</td>\n",
       "      <td>SSL2_block12_so5</td>\n",
       "      <td>100.00</td>\n",
       "      <td>0.00</td>\n",
       "    </tr>\n",
       "    <tr>\n",
       "      <th>75</th>\n",
       "      <td>AZ6RA.1</td>\n",
       "      <td>AZ6RA-12</td>\n",
       "      <td>SSL2</td>\n",
       "      <td>SSL2_block7_so2</td>\n",
       "      <td>100.00</td>\n",
       "      <td>0.00</td>\n",
       "    </tr>\n",
       "    <tr>\n",
       "      <th>76</th>\n",
       "      <td>AZ6RA.1</td>\n",
       "      <td>AZ6RA-12</td>\n",
       "      <td>SSL2</td>\n",
       "      <td>SSL2_block3_so4</td>\n",
       "      <td>100.00</td>\n",
       "      <td>0.00</td>\n",
       "    </tr>\n",
       "    <tr>\n",
       "      <th>77</th>\n",
       "      <td>AZ6RA.1</td>\n",
       "      <td>AZ6RA-02</td>\n",
       "      <td>SSL3</td>\n",
       "      <td>SSL3_block9_so1</td>\n",
       "      <td>100.00</td>\n",
       "      <td>0.00</td>\n",
       "    </tr>\n",
       "    <tr>\n",
       "      <th>78</th>\n",
       "      <td>AZ6RA.1</td>\n",
       "      <td>AZ6RA-02</td>\n",
       "      <td>SSL3</td>\n",
       "      <td>SSL3_block5_so2</td>\n",
       "      <td>100.00</td>\n",
       "      <td>0.00</td>\n",
       "    </tr>\n",
       "    <tr>\n",
       "      <th>79</th>\n",
       "      <td>AZ6R9.1</td>\n",
       "      <td>AZ6R9-15</td>\n",
       "      <td>SSL3</td>\n",
       "      <td>SSL3_block9_so1</td>\n",
       "      <td>100.00</td>\n",
       "      <td>0.00</td>\n",
       "    </tr>\n",
       "    <tr>\n",
       "      <th>80</th>\n",
       "      <td>AZ6R9.1</td>\n",
       "      <td>AZ6R9-15</td>\n",
       "      <td>SSL3</td>\n",
       "      <td>SSL3_block5_so2</td>\n",
       "      <td>100.00</td>\n",
       "      <td>0.00</td>\n",
       "    </tr>\n",
       "    <tr>\n",
       "      <th>81</th>\n",
       "      <td>AZ6VB.1</td>\n",
       "      <td>AZ6VB-20</td>\n",
       "      <td>SSL1</td>\n",
       "      <td>SSL1_block17_so2</td>\n",
       "      <td>100.00</td>\n",
       "      <td>0.00</td>\n",
       "    </tr>\n",
       "    <tr>\n",
       "      <th>82</th>\n",
       "      <td>AZ6VB.1</td>\n",
       "      <td>AZ6VB-20</td>\n",
       "      <td>SSL1</td>\n",
       "      <td>SSL1_block25_so0</td>\n",
       "      <td>100.00</td>\n",
       "      <td>0.00</td>\n",
       "    </tr>\n",
       "    <tr>\n",
       "      <th>83</th>\n",
       "      <td>AZ6VB.1</td>\n",
       "      <td>AZ6VB-20</td>\n",
       "      <td>SSL1</td>\n",
       "      <td>SSL1_block13_so3</td>\n",
       "      <td>100.00</td>\n",
       "      <td>0.00</td>\n",
       "    </tr>\n",
       "    <tr>\n",
       "      <th>84</th>\n",
       "      <td>AZ6VB.1</td>\n",
       "      <td>AZ6VB-20</td>\n",
       "      <td>SSL1</td>\n",
       "      <td>SSL1_block13_so2</td>\n",
       "      <td>100.00</td>\n",
       "      <td>0.00</td>\n",
       "    </tr>\n",
       "    <tr>\n",
       "      <th>85</th>\n",
       "      <td>AZ6WT.1</td>\n",
       "      <td>AZ6WT-04</td>\n",
       "      <td>SSL3</td>\n",
       "      <td>SSL3_block9_so1</td>\n",
       "      <td>100.00</td>\n",
       "      <td>0.00</td>\n",
       "    </tr>\n",
       "    <tr>\n",
       "      <th>86</th>\n",
       "      <td>AZ6WT.1</td>\n",
       "      <td>AZ6WT-04</td>\n",
       "      <td>SSL3</td>\n",
       "      <td>SSL3_block5_so2</td>\n",
       "      <td>100.00</td>\n",
       "      <td>0.00</td>\n",
       "    </tr>\n",
       "    <tr>\n",
       "      <th>87</th>\n",
       "      <td>AZ6VC.1</td>\n",
       "      <td>AZ6VC-22</td>\n",
       "      <td>SSL1</td>\n",
       "      <td>SSL1_block17_so2</td>\n",
       "      <td>100.00</td>\n",
       "      <td>0.00</td>\n",
       "    </tr>\n",
       "    <tr>\n",
       "      <th>88</th>\n",
       "      <td>AZ6VC.1</td>\n",
       "      <td>AZ6VC-22</td>\n",
       "      <td>SSL1</td>\n",
       "      <td>SSL1_block25_so0</td>\n",
       "      <td>100.00</td>\n",
       "      <td>0.00</td>\n",
       "    </tr>\n",
       "    <tr>\n",
       "      <th>89</th>\n",
       "      <td>AZ6VC.1</td>\n",
       "      <td>AZ6VC-22</td>\n",
       "      <td>SSL1</td>\n",
       "      <td>SSL1_block13_so3</td>\n",
       "      <td>100.00</td>\n",
       "      <td>0.00</td>\n",
       "    </tr>\n",
       "    <tr>\n",
       "      <th>90</th>\n",
       "      <td>AZ6VC.1</td>\n",
       "      <td>AZ6VC-22</td>\n",
       "      <td>SSL1</td>\n",
       "      <td>SSL1_block13_so2</td>\n",
       "      <td>100.00</td>\n",
       "      <td>0.00</td>\n",
       "    </tr>\n",
       "    <tr>\n",
       "      <th>91</th>\n",
       "      <td>AZ6VB.1</td>\n",
       "      <td>AZ6VB-24</td>\n",
       "      <td>SSL1</td>\n",
       "      <td>SSL1_block17_so2</td>\n",
       "      <td>100.00</td>\n",
       "      <td>0.00</td>\n",
       "    </tr>\n",
       "    <tr>\n",
       "      <th>92</th>\n",
       "      <td>AZ6VB.1</td>\n",
       "      <td>AZ6VB-24</td>\n",
       "      <td>SSL1</td>\n",
       "      <td>SSL1_block25_so0</td>\n",
       "      <td>100.00</td>\n",
       "      <td>0.00</td>\n",
       "    </tr>\n",
       "    <tr>\n",
       "      <th>93</th>\n",
       "      <td>AZ6VB.1</td>\n",
       "      <td>AZ6VB-24</td>\n",
       "      <td>SSL1</td>\n",
       "      <td>SSL1_block13_so3</td>\n",
       "      <td>100.00</td>\n",
       "      <td>0.00</td>\n",
       "    </tr>\n",
       "    <tr>\n",
       "      <th>94</th>\n",
       "      <td>AZ6VB.1</td>\n",
       "      <td>AZ6VB-24</td>\n",
       "      <td>SSL1</td>\n",
       "      <td>SSL1_block13_so2</td>\n",
       "      <td>100.00</td>\n",
       "      <td>0.00</td>\n",
       "    </tr>\n",
       "    <tr>\n",
       "      <th>95</th>\n",
       "      <td>AZ6VB.1</td>\n",
       "      <td>AZ6VB-04</td>\n",
       "      <td>SSL1</td>\n",
       "      <td>SSL1_block17_so2</td>\n",
       "      <td>100.00</td>\n",
       "      <td>0.00</td>\n",
       "    </tr>\n",
       "    <tr>\n",
       "      <th>96</th>\n",
       "      <td>AZ6VB.1</td>\n",
       "      <td>AZ6VB-04</td>\n",
       "      <td>SSL1</td>\n",
       "      <td>SSL1_block25_so0</td>\n",
       "      <td>97.61</td>\n",
       "      <td>2.39</td>\n",
       "    </tr>\n",
       "    <tr>\n",
       "      <th>97</th>\n",
       "      <td>AZ6VB.1</td>\n",
       "      <td>AZ6VB-04</td>\n",
       "      <td>SSL1</td>\n",
       "      <td>SSL1_block13_so3</td>\n",
       "      <td>100.00</td>\n",
       "      <td>0.00</td>\n",
       "    </tr>\n",
       "    <tr>\n",
       "      <th>98</th>\n",
       "      <td>AZ6VB.1</td>\n",
       "      <td>AZ6VB-04</td>\n",
       "      <td>SSL1</td>\n",
       "      <td>SSL1_block13_so2</td>\n",
       "      <td>100.00</td>\n",
       "      <td>0.00</td>\n",
       "    </tr>\n",
       "    <tr>\n",
       "      <th>99</th>\n",
       "      <td>AZ6RAB.1</td>\n",
       "      <td>AZ6RA-23</td>\n",
       "      <td>SSL1</td>\n",
       "      <td>SSL1_block17_so2</td>\n",
       "      <td>100.00</td>\n",
       "      <td>0.00</td>\n",
       "    </tr>\n",
       "  </tbody>\n",
       "</table>\n",
       "</div>"
      ],
      "text/plain": [
       "      lot_id  wafer_id  step             label   yield  yld_loss\n",
       "0    AZ6PK.1  AZ6PK-09  SSL1  SSL1_block12_so0  100.00      0.00\n",
       "1    AZ6PK.1  AZ6PK-09  SSL1   SSL1_block9_so5  100.00      0.00\n",
       "2    AZ6PK.1  AZ6PK-09  SSL1   SSL1_block1_so2  100.00      0.00\n",
       "3    AZ6PK.1  AZ6PK-21  SSL2  SSL2_block17_so3  100.00      0.00\n",
       "4    AZ6PK.1  AZ6PK-21  SSL2  SSL2_block18_so4  100.00      0.00\n",
       "5    AZ6PK.1  AZ6PK-21  SSL2   SSL2_block2_so5  100.00      0.00\n",
       "6    AZ6VB.1  AZ6VB-10  SSL2  SSL2_block17_so3  100.00      0.00\n",
       "7    AZ6VB.1  AZ6VB-10  SSL2  SSL2_block18_so4  100.00      0.00\n",
       "8    AZ6PK.1  AZ6PK-05  SSL1  SSL1_block12_so0  100.00      0.00\n",
       "9    AZ6PK.1  AZ6PK-05  SSL1   SSL1_block9_so5  100.00      0.00\n",
       "10   AZ6PK.1  AZ6PK-05  SSL1   SSL1_block1_so2  100.00      0.00\n",
       "11   AZ6RA.1  AZ6RA-05  SSL2  SSL2_block17_so3  100.00      0.00\n",
       "12   AZ6RA.1  AZ6RA-05  SSL2  SSL2_block18_so4  100.00      0.00\n",
       "13   AZ6RA.1  AZ6RA-05  SSL2   SSL2_block2_so5  100.00      0.00\n",
       "14   AZ6VB.1  AZ6VB-15  SSL1  SSL1_block12_so0  100.00      0.00\n",
       "15   AZ6R9.1  AZ6R9-15  SSL3  SSL3_block15_so5  100.00      0.00\n",
       "16   AZ6R9.1  AZ6R9-15  SSL3  SSL3_block23_so4  100.00      0.00\n",
       "17   AZ6R9.1  AZ6R9-15  SSL3  SSL3_block21_so2  100.00      0.00\n",
       "18   AZ6R9.1  AZ6R9-15  SSL3  SSL3_block10_so3  100.00      0.00\n",
       "19   AZ6VB.1  AZ6VB-20  SSL1  SSL1_block12_so0  100.00      0.00\n",
       "20   AZ6VB.1  AZ6VB-20  SSL1   SSL1_block9_so5  100.00      0.00\n",
       "21   AZ6VB.1  AZ6VB-20  SSL1   SSL1_block1_so2  100.00      0.00\n",
       "22   AZ6WT.1  AZ6WT-04  SSL3  SSL3_block15_so5  100.00      0.00\n",
       "23   AZ6WT.1  AZ6WT-04  SSL3  SSL3_block23_so4  100.00      0.00\n",
       "24   AZ6PK.1  AZ6PK-16  SSL2  SSL2_block17_so3  100.00      0.00\n",
       "25   AZ6PK.1  AZ6PK-16  SSL2  SSL2_block18_so4  100.00      0.00\n",
       "26   AZ6PK.1  AZ6PK-16  SSL2   SSL2_block2_so5  100.00      0.00\n",
       "27   AZ6RA.1  AZ6RA-12  SSL2  SSL2_block17_so3  100.00      0.00\n",
       "28   AZ6RA.1  AZ6RA-12  SSL2  SSL2_block18_so4  100.00      0.00\n",
       "29   AZ6RA.1  AZ6RA-12  SSL2   SSL2_block2_so5  100.00      0.00\n",
       "30   AZ6RA.1  AZ6RA-02  SSL3  SSL3_block15_so5  100.00      0.00\n",
       "31   AZ6RA.1  AZ6RA-02  SSL3  SSL3_block23_so4  100.00      0.00\n",
       "32   AZ6RA.1  AZ6RA-02  SSL3  SSL3_block21_so2  100.00      0.00\n",
       "33   AZ6VC.1  AZ6VC-22  SSL1  SSL1_block12_so0  100.00      0.00\n",
       "34   AZ6VC.1  AZ6VC-22  SSL1   SSL1_block9_so5  100.00      0.00\n",
       "35   AZ6VC.1  AZ6VC-22  SSL1   SSL1_block1_so2  100.00      0.00\n",
       "36   AZ6VB.1  AZ6VB-24  SSL1  SSL1_block12_so0  100.00      0.00\n",
       "37   AZ6VB.1  AZ6VB-24  SSL1   SSL1_block9_so5  100.00      0.00\n",
       "38   AZ6VB.1  AZ6VB-24  SSL1   SSL1_block1_so2  100.00      0.00\n",
       "39   AZ6VB.1  AZ6VB-04  SSL1  SSL1_block12_so0  100.00      0.00\n",
       "40  AZ6RAB.1  AZ6RA-23  SSL1  SSL1_block12_so0  100.00      0.00\n",
       "41  AZ6RAB.1  AZ6RA-23  SSL1   SSL1_block9_so5  100.00      0.00\n",
       "42  AZ6RAB.1  AZ6RA-23  SSL1   SSL1_block1_so2  100.00      0.00\n",
       "43   AZ6W7.1  AZ6W7-20  SSL3  SSL3_block15_so5  100.00      0.00\n",
       "44   AZ6W7.1  AZ6W7-20  SSL3  SSL3_block23_so4  100.00      0.00\n",
       "45   AZ6W7.1  AZ6W7-20  SSL3  SSL3_block21_so2  100.00      0.00\n",
       "46   AZ6W7.1  AZ6W7-20  SSL3  SSL3_block10_so3  100.00      0.00\n",
       "47   AZ6W7.1  AZ6W7-16  SSL2  SSL2_block17_so3  100.00      0.00\n",
       "48   AZ715.1  AZ715-23  SSL1  SSL1_block12_so0  100.00      0.00\n",
       "49   AZ715.1  AZ715-23  SSL1   SSL1_block9_so5  100.00      0.00\n",
       "50   AZ715.1  AZ715-23  SSL1   SSL1_block1_so2  100.00      0.00\n",
       "51   AZ6PK.1  AZ6PK-19  SSL1  SSL1_block12_so0  100.00      0.00\n",
       "52   AZ6PK.1  AZ6PK-19  SSL1   SSL1_block9_so5  100.00      0.00\n",
       "53   AZ6PK.1  AZ6PK-19  SSL1   SSL1_block1_so2  100.00      0.00\n",
       "54   AZ6PK.1  AZ6PK-09  SSL1  SSL1_block17_so2  100.00      0.00\n",
       "55   AZ6PK.1  AZ6PK-09  SSL1  SSL1_block25_so0  100.00      0.00\n",
       "56   AZ6PK.1  AZ6PK-09  SSL1  SSL1_block13_so3  100.00      0.00\n",
       "57   AZ6PK.1  AZ6PK-09  SSL1  SSL1_block13_so2  100.00      0.00\n",
       "58   AZ6PK.1  AZ6PK-21  SSL2  SSL2_block12_so5  100.00      0.00\n",
       "59   AZ6PK.1  AZ6PK-21  SSL2   SSL2_block7_so2  100.00      0.00\n",
       "60   AZ6PK.1  AZ6PK-21  SSL2   SSL2_block3_so4  100.00      0.00\n",
       "61   AZ6VB.1  AZ6VB-10  SSL2  SSL2_block12_so5  100.00      0.00\n",
       "62   AZ6PK.1  AZ6PK-05  SSL1  SSL1_block17_so2  100.00      0.00\n",
       "63   AZ6PK.1  AZ6PK-05  SSL1  SSL1_block25_so0   98.80      1.20\n",
       "64   AZ6PK.1  AZ6PK-05  SSL1  SSL1_block13_so3  100.00      0.00\n",
       "65   AZ6PK.1  AZ6PK-05  SSL1  SSL1_block13_so2  100.00      0.00\n",
       "66   AZ6RA.1  AZ6RA-05  SSL2  SSL2_block12_so5  100.00      0.00\n",
       "67   AZ6RA.1  AZ6RA-05  SSL2   SSL2_block7_so2  100.00      0.00\n",
       "68   AZ6RA.1  AZ6RA-05  SSL2   SSL2_block3_so4  100.00      0.00\n",
       "69   AZ6VB.1  AZ6VB-15  SSL1  SSL1_block17_so2  100.00      0.00\n",
       "70   AZ6VB.1  AZ6VB-15  SSL1  SSL1_block25_so0  100.00      0.00\n",
       "71   AZ6PK.1  AZ6PK-16  SSL2  SSL2_block12_so5  100.00      0.00\n",
       "72   AZ6PK.1  AZ6PK-16  SSL2   SSL2_block7_so2  100.00      0.00\n",
       "73   AZ6PK.1  AZ6PK-16  SSL2   SSL2_block3_so4  100.00      0.00\n",
       "74   AZ6RA.1  AZ6RA-12  SSL2  SSL2_block12_so5  100.00      0.00\n",
       "75   AZ6RA.1  AZ6RA-12  SSL2   SSL2_block7_so2  100.00      0.00\n",
       "76   AZ6RA.1  AZ6RA-12  SSL2   SSL2_block3_so4  100.00      0.00\n",
       "77   AZ6RA.1  AZ6RA-02  SSL3   SSL3_block9_so1  100.00      0.00\n",
       "78   AZ6RA.1  AZ6RA-02  SSL3   SSL3_block5_so2  100.00      0.00\n",
       "79   AZ6R9.1  AZ6R9-15  SSL3   SSL3_block9_so1  100.00      0.00\n",
       "80   AZ6R9.1  AZ6R9-15  SSL3   SSL3_block5_so2  100.00      0.00\n",
       "81   AZ6VB.1  AZ6VB-20  SSL1  SSL1_block17_so2  100.00      0.00\n",
       "82   AZ6VB.1  AZ6VB-20  SSL1  SSL1_block25_so0  100.00      0.00\n",
       "83   AZ6VB.1  AZ6VB-20  SSL1  SSL1_block13_so3  100.00      0.00\n",
       "84   AZ6VB.1  AZ6VB-20  SSL1  SSL1_block13_so2  100.00      0.00\n",
       "85   AZ6WT.1  AZ6WT-04  SSL3   SSL3_block9_so1  100.00      0.00\n",
       "86   AZ6WT.1  AZ6WT-04  SSL3   SSL3_block5_so2  100.00      0.00\n",
       "87   AZ6VC.1  AZ6VC-22  SSL1  SSL1_block17_so2  100.00      0.00\n",
       "88   AZ6VC.1  AZ6VC-22  SSL1  SSL1_block25_so0  100.00      0.00\n",
       "89   AZ6VC.1  AZ6VC-22  SSL1  SSL1_block13_so3  100.00      0.00\n",
       "90   AZ6VC.1  AZ6VC-22  SSL1  SSL1_block13_so2  100.00      0.00\n",
       "91   AZ6VB.1  AZ6VB-24  SSL1  SSL1_block17_so2  100.00      0.00\n",
       "92   AZ6VB.1  AZ6VB-24  SSL1  SSL1_block25_so0  100.00      0.00\n",
       "93   AZ6VB.1  AZ6VB-24  SSL1  SSL1_block13_so3  100.00      0.00\n",
       "94   AZ6VB.1  AZ6VB-24  SSL1  SSL1_block13_so2  100.00      0.00\n",
       "95   AZ6VB.1  AZ6VB-04  SSL1  SSL1_block17_so2  100.00      0.00\n",
       "96   AZ6VB.1  AZ6VB-04  SSL1  SSL1_block25_so0   97.61      2.39\n",
       "97   AZ6VB.1  AZ6VB-04  SSL1  SSL1_block13_so3  100.00      0.00\n",
       "98   AZ6VB.1  AZ6VB-04  SSL1  SSL1_block13_so2  100.00      0.00\n",
       "99  AZ6RAB.1  AZ6RA-23  SSL1  SSL1_block17_so2  100.00      0.00"
      ]
     },
     "execution_count": 64,
     "metadata": {},
     "output_type": "execute_result"
    }
   ],
   "source": [
    "get_so_data()[0:100]"
   ]
  },
  {
   "cell_type": "code",
   "execution_count": null,
   "metadata": {},
   "outputs": [],
   "source": []
  }
 ],
 "metadata": {
  "kernelspec": {
   "display_name": "Python 3 (ipykernel)",
   "language": "python",
   "name": "python3"
  },
  "language_info": {
   "codemirror_mode": {
    "name": "ipython",
    "version": 3
   },
   "file_extension": ".py",
   "mimetype": "text/x-python",
   "name": "python",
   "nbconvert_exporter": "python",
   "pygments_lexer": "ipython3",
   "version": "3.9.2"
  }
 },
 "nbformat": 4,
 "nbformat_minor": 4
}
