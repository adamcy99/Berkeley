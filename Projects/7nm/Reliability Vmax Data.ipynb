{
 "cells": [
  {
   "cell_type": "code",
   "execution_count": null,
   "id": "seeing-jungle",
   "metadata": {},
   "outputs": [],
   "source": [
    "import ibmdata\n",
    "import pandas as pd\n",
    "import numpy as np\n",
    "import plotly.express as px\n",
    "import plotly.graph_objects as go\n",
    "from plotly.subplots import make_subplots"
   ]
  },
  {
   "cell_type": "markdown",
   "id": "5da170e6",
   "metadata": {},
   "source": [
    "# Original Pull From QDAT"
   ]
  },
  {
   "cell_type": "code",
   "execution_count": null,
   "id": "valuable-handbook",
   "metadata": {},
   "outputs": [],
   "source": [
    "columns = \"\"\"\n",
    "VERSION, LOTNUMBER, PRODUCT_SCHEMA, WAFER_ID, CHIPX, CHIPY, KERF_X, KERF_Y,\n",
    "RADIUS_CENTER_5_NEW, RADIUS_CENTER_5, MOL_VMAX, RVT_PFET_VMAX,\n",
    "CASE\n",
    "    WHEN PRODUCT_SCHEMA = 'p10dd2' THEN RVT_PFET_VMAX + 0.018\n",
    "    ELSE RVT_PFET_VMAX\n",
    "END AS RVTP_VMAX_18,\n",
    "ULVT_PFET_VMAX, \n",
    "CASE\n",
    "    WHEN PRODUCT_SCHEMA = 'p10dd2' THEN ULVT_PFET_VMAX + 0.018\n",
    "    ELSE ULVT_PFET_VMAX\n",
    "END AS ULVTP_VMAX_18,\n",
    "VMAXPFET, SLVT_NFET_VMAX, \n",
    "CASE\n",
    "    WHEN PRODUCT_SCHEMA = 'p10dd2' THEN SLVT_NFET_VMAX + 0.018\n",
    "    ELSE SLVT_NFET_VMAX\n",
    "END AS SLVTN_VMAX_18,\n",
    "OPDB_VMAX, MOL54, \n",
    "CASE\n",
    "    WHEN PRODUCT_SCHEMA = 'p10dd2' THEN MOL54 + 0.018\n",
    "    ELSE MOL54\n",
    "END AS MOL54_VMAX_18, \n",
    "MOL60,\n",
    "CASE\n",
    "    WHEN PRODUCT_SCHEMA = 'p10dd2' THEN MOL60 + 0.018\n",
    "    ELSE MOL60\n",
    "END AS MOL60_VMAX_18,\n",
    "FILE_DATE, TIMESTAMP, DATE(timestamp) as Test_Date, VARCHAR_FORMAT(timestamp,'YYYY-MM') AS Test_Month,\n",
    "VARCHAR_FORMAT(timestamp,'YYYY-WW') AS Test_Week\n",
    "\"\"\"\n",
    "DAYSBACK = 120\n",
    "\n",
    "QUERY = f\"\"\"\n",
    "SELECT {columns}, NULL AS LVT_PFET_VMAX\n",
    "FROM\n",
    "    P10DD2.OPDBVMAX\n",
    "WHERE\n",
    "    DATE(timestamp) >= (CURRENT DATE - {DAYSBACK} days)\n",
    "    AND version = 1009\n",
    "    AND wafer_id like 'A2F3V-01'\n",
    "UNION\n",
    "SELECT {columns}, LVT_PFET_VMAX\n",
    "FROM\n",
    "    zArtemis.OPDBVMAX\n",
    "WHERE\n",
    "    DATE(timestamp) >= (CURRENT DATE - {DAYSBACK} days)\n",
    "    AND version = 1004\n",
    "    AND wafer_id like 'A2F3V-01'\n",
    "ORDER BY\n",
    "    PRODUCT_SCHEMA, wafer_id, chipx, chipy, test_date\n",
    "\"\"\""
   ]
  },
  {
   "cell_type": "code",
   "execution_count": null,
   "id": "e5016543",
   "metadata": {},
   "outputs": [],
   "source": [
    "df = ibmdata.qdat.query(QUERY)\n",
    "df = df.drop_duplicates(subset = ['wafer_id','chipx','chipy'],keep='last')\n",
    "df['mol_vmax'] = df['mol_vmax'].astype(float).round(2)\n",
    "df['rvt_pfet_vmax'] = df['rvt_pfet_vmax'].astype(float).round(2)\n",
    "df['rvtp_vmax_18'] = df['rvtp_vmax_18'].astype(float).round(2)\n",
    "df['ulvt_pfet_vmax'] = df['ulvt_pfet_vmax'].astype(float).round(2)\n",
    "df['ulvtp_vmax_18'] = df['ulvtp_vmax_18'].astype(float).round(2)\n",
    "df['vmaxpfet'] = df['vmaxpfet'].astype(float).round(2)\n",
    "df['slvt_nfet_vmax'] = df['slvt_nfet_vmax'].astype(float).round(2)\n",
    "df['slvtn_vmax_18'] = df['slvtn_vmax_18'].astype(float).round(2)\n",
    "df['opdb_vmax'] = df['opdb_vmax'].astype(float).round(2)\n",
    "df['mol54'] = df['mol54'].astype(float).round(2)\n",
    "df['mol54_vmax_18'] = df['mol54_vmax_18'].astype(float).round(2)\n",
    "df['mol60'] = df['mol60'].astype(float).round(2)\n",
    "df['mol60_vmax_18'] = df['mol60_vmax_18'].astype(float).round(2)"
   ]
  },
  {
   "cell_type": "code",
   "execution_count": null,
   "id": "7ebc87bd",
   "metadata": {},
   "outputs": [],
   "source": [
    "df.iloc[:,0:20]"
   ]
  },
  {
   "cell_type": "code",
   "execution_count": null,
   "id": "48a597d8",
   "metadata": {},
   "outputs": [],
   "source": [
    "df.to_csv('/Users/acyang/Downloads/tmp1.csv')"
   ]
  },
  {
   "cell_type": "markdown",
   "id": "199a4154",
   "metadata": {},
   "source": [
    "# Pull From ISDW"
   ]
  },
  {
   "cell_type": "code",
   "execution_count": null,
   "id": "b579effc",
   "metadata": {},
   "outputs": [],
   "source": [
    "def generate_SQL_GroupBy(mydict, parm_label = 'parm_Label', val = 'parmYield', agg = 'AVG'):\n",
    "    output = ''\n",
    "    n = len(mydict)\n",
    "    for i,parm in enumerate(mydict):\n",
    "        if i == n-1:\n",
    "            output += f\"{agg}(CASE WHEN {parm_label} = '{parm}' THEN {val} ELSE NULL END) AS {parm}\"\n",
    "        else:\n",
    "            output += f\"{agg}(CASE WHEN {parm_label} = '{parm}' THEN {val} ELSE NULL END) AS {parm},\\n\"\n",
    "    return output"
   ]
  },
  {
   "cell_type": "code",
   "execution_count": null,
   "id": "051b23f2",
   "metadata": {},
   "outputs": [],
   "source": [
    "parms = ['MOL_VMAX','RVT_PFET_VMAX','ULVT_PFET_VMAX','VmaxPFET','SLVT_NFET_VMAX','OPDB_VMAX','MOL54','MOL60','LVT_PFET_VMAX']\n",
    "cases = generate_SQL_GroupBy(parms, 'parm_label', 'parmvalue')"
   ]
  },
  {
   "cell_type": "code",
   "execution_count": null,
   "id": "ed6ff0d1",
   "metadata": {},
   "outputs": [],
   "source": [
    "DAYSBACK = 300\n",
    "QUERY = f\"\"\"\n",
    "SELECT lotlabel AS lotnumber, family_code, wafer_id, \n",
    "    normalized_testx AS chipx, normalized_testy AS chipy, kerf_x, kerf_y,\n",
    "    radius_center_5, quadrant, MAX(last_testtimestamp) AS timestamp, \n",
    "    MAX(DATE(last_testtimestamp)) AS Test_Date, MAX(VARCHAR_FORMAT(last_testtimestamp,'YYYY-MM')) AS Test_Month,\n",
    "    MAX(VARCHAR_FORMAT(last_testtimestamp,'YYYY-WW')) AS Test_Week, {cases},\n",
    "    AVG(CASE\n",
    "        WHEN family_code = 'Q6' AND parm_label = 'RVT_PFET_VMAX' THEN parmvalue + 0.018\n",
    "        WHEN family_code = 'X2' AND parm_label = 'RVT_PFET_VMAX' THEN parmvalue\n",
    "        ELSE NULL\n",
    "    END) AS RVTP_VMAX_18,\n",
    "    AVG(CASE\n",
    "        WHEN family_code = 'Q6' AND parm_label = 'ULVT_PFET_VMAX' THEN parmvalue + 0.018\n",
    "        WHEN family_code = 'X2' AND parm_label = 'ULVT_PFET_VMAX' THEN parmvalue\n",
    "        ELSE NULL\n",
    "    END) AS ULVTP_VMAX_18,\n",
    "    AVG(CASE\n",
    "        WHEN family_code = 'Q6' AND parm_label = 'SLVT_NFET_VMAX' THEN parmvalue + 0.018\n",
    "        WHEN family_code = 'X2' AND parm_label = 'SLVT_NFET_VMAX' THEN parmvalue\n",
    "        ELSE NULL\n",
    "    END) AS SLVTN_VMAX_18,\n",
    "    AVG(CASE\n",
    "        WHEN family_code = 'Q6' AND parm_label = 'MOL54' THEN parmvalue + 0.018\n",
    "        WHEN family_code = 'X2' AND parm_label = 'MOL54' THEN parmvalue\n",
    "        ELSE NULL\n",
    "    END) AS MOL54_VMAX_18,\n",
    "    AVG(CASE\n",
    "        WHEN family_code = 'Q6' AND parm_label = 'MOL60' THEN parmvalue + 0.018\n",
    "        WHEN family_code = 'X2' AND parm_label = 'MOL60' THEN parmvalue\n",
    "        ELSE NULL\n",
    "    END) AS MOL60_VMAX_18\n",
    "FROM\n",
    "    DMIW.ChipParmFactR cpfr\n",
    "    INNER JOIN DMIW_SYSPRC.testparm tp ON cpfr.testparmkey = tp.testparmkey\n",
    "    INNER JOIN DMIW_SYSPRC.Geography g ON cpfr.geographyKey = g.geographyKey\n",
    "    INNER JOIN DMIW_SYSPRC.testedwafer tw ON cpfr.testedwaferkey = tw.testedwaferkey\n",
    "WHERE\n",
    "    Tech_id = '7HPP' AND tw.Calcdefs = 'WL01R'\n",
    "    AND DATE(tw.last_TestTimeStamp) >= (CURRENT DATE - {DAYSBACK} days)\n",
    "    AND family_code IN ('Q6', 'X2')\n",
    "    AND wafer_id like 'A2F3V-01'\n",
    "GROUP BY \n",
    "    lotlabel,family_code,wafer_id,normalized_testx,normalized_testy,kerf_x, kerf_y,radius_center_5,quadrant\n",
    "ORDER BY\n",
    "    family_code, wafer_id, chipx, chipy, test_date\n",
    "\"\"\""
   ]
  },
  {
   "cell_type": "code",
   "execution_count": null,
   "id": "5481c42a",
   "metadata": {},
   "outputs": [],
   "source": [
    "df = ibmdata.isdw.query(QUERY)\n",
    "df = df.drop_duplicates(subset = ['wafer_id','chipx','chipy'],keep='last')\n",
    "df['product_schema'] = df['family_code'].apply(lambda x: 'p10dd2' if x == 'Q6' else 'zadd2')\n",
    "df['mol_vmax'] = df['mol_vmax'].astype(float).round(2)\n",
    "df['rvt_pfet_vmax'] = df['rvt_pfet_vmax'].astype(float).round(2)\n",
    "df['rvtp_vmax_18'] = df['rvtp_vmax_18'].astype(float).round(2)\n",
    "df['ulvt_pfet_vmax'] = df['ulvt_pfet_vmax'].astype(float).round(2)\n",
    "df['ulvtp_vmax_18'] = df['ulvtp_vmax_18'].astype(float).round(2)\n",
    "df['vmaxpfet'] = df['vmaxpfet'].astype(float).round(2)\n",
    "df['slvt_nfet_vmax'] = df['slvt_nfet_vmax'].astype(float).round(2)\n",
    "df['slvtn_vmax_18'] = df['slvtn_vmax_18'].astype(float).round(2)\n",
    "df['opdb_vmax'] = df['opdb_vmax'].astype(float).round(2)\n",
    "df['mol54'] = df['mol54'].astype(float).round(2)\n",
    "df['mol54_vmax_18'] = df['mol54_vmax_18'].astype(float).round(2)\n",
    "df['mol60'] = df['mol60'].astype(float).round(2)\n",
    "df['mol60_vmax_18'] = df['mol60_vmax_18'].astype(float).round(2)"
   ]
  },
  {
   "cell_type": "code",
   "execution_count": null,
   "id": "ae2c292e",
   "metadata": {},
   "outputs": [],
   "source": [
    "df"
   ]
  },
  {
   "cell_type": "code",
   "execution_count": null,
   "id": "electronic-stockholm",
   "metadata": {},
   "outputs": [],
   "source": [
    "# Run this line to save the data as a csv file\n",
    "# You might have to change the file path for destination\n",
    "df.to_csv('~/Downloads/tmp2.csv')"
   ]
  },
  {
   "cell_type": "markdown",
   "id": "f91f6dfa",
   "metadata": {},
   "source": [
    "# Generate Tables and Charts"
   ]
  },
  {
   "cell_type": "code",
   "execution_count": null,
   "id": "7b8a454d",
   "metadata": {},
   "outputs": [],
   "source": [
    "df['num_bad_chips'] = df.apply(lambda x: 1 if (x.product_schema == 'p10dd2' and x.opdb_vmax < 0.9) or (x.product_schema == 'zadd2' and x.opdb_vmax < 1.05) else 0, axis = 1)\n",
    "df['%_bad_chips'] = df.apply(lambda x: 1 if (x.product_schema == 'p10dd2' and x.opdb_vmax < 0.9) or (x.product_schema == 'zadd2' and x.opdb_vmax < 1.05) else 0, axis = 1)"
   ]
  },
  {
   "cell_type": "code",
   "execution_count": null,
   "id": "70300841",
   "metadata": {},
   "outputs": [],
   "source": [
    "df.groupby(['product_schema','test_month']).agg({'wafer_id':lambda x: x.nunique(),'num_bad_chips':'sum','%_bad_chips':'mean', 'opdb_vmax':'mean','rvt_pfet_vmax':'mean',\n",
    "      'rvtp_vmax_18':'mean','ulvt_pfet_vmax':'mean','ulvtp_vmax_18':'mean',\n",
    "      'slvt_nfet_vmax':'mean','slvtn_vmax_18':'mean','mol54':'mean',\n",
    "      'mol54_vmax_18':'mean','mol60':'mean','mol60_vmax_18':'mean','mol_vmax':'mean',\n",
    "      'vmaxpfet':'mean','pfet_lvt_vbd_scale':'mean'}).reset_index().rename(columns={'wafer_id':'num_wafers'})"
   ]
  },
  {
   "cell_type": "code",
   "execution_count": null,
   "id": "33d1ba62",
   "metadata": {},
   "outputs": [],
   "source": [
    "df.groupby(['product_schema','lotnumber','wafer_id']).agg({'test_date':'min','num_bad_chips':'sum','%_bad_chips':'mean', 'opdb_vmax':'mean','rvt_pfet_vmax':'mean',\n",
    "      'rvtp_vmax_18':'mean','ulvt_pfet_vmax':'mean','ulvtp_vmax_18':'mean',\n",
    "      'slvt_nfet_vmax':'mean','slvtn_vmax_18':'mean','mol54':'mean',\n",
    "      'mol54_vmax_18':'mean','mol60':'mean','mol60_vmax_18':'mean','mol_vmax':'mean',\n",
    "      'vmaxpfet':'mean','pfet_lvt_vbd_scale':'mean'}).reset_index()"
   ]
  },
  {
   "cell_type": "code",
   "execution_count": null,
   "id": "naval-quantity",
   "metadata": {},
   "outputs": [],
   "source": [
    "df.groupby('product_schema').apply(lambda x: 100*len(x[x['opdb_vmax']<1])/len(x)).round(4).reset_index(name='opdb_vmax < 1 (%)')"
   ]
  },
  {
   "cell_type": "code",
   "execution_count": null,
   "id": "fda5f85d",
   "metadata": {},
   "outputs": [],
   "source": [
    "t = df[['rvtp_vmax_18', 'ulvtp_vmax_18', 'slvtn_vmax_18', 'mol54_vmax_18', 'mol60_vmax_18']].agg(['mean','median','std']).transpose().reset_index().rename(columns={'index':'device','mean':'mean (V)','median':'median (V)', 'std':'std (mV)'})\n",
    "t['std (mV)'] = t['std (mV)'].map(lambda x: x*1000)\n",
    "t"
   ]
  },
  {
   "cell_type": "code",
   "execution_count": null,
   "id": "7a544778",
   "metadata": {},
   "outputs": [],
   "source": [
    "data = df.groupby('product_schema').agg({'opdb_vmax':['mean','median','std']}).reset_index().rename(columns={'mean':'mean (V)','median':'median (V)', 'std':'std (mV)'})\n",
    "data.columns = data.columns.droplevel()\n",
    "data['std (mV)'] = data['std (mV)'].map(lambda x: x*1000)\n",
    "data.round(4)"
   ]
  },
  {
   "cell_type": "code",
   "execution_count": null,
   "id": "0020bdd3",
   "metadata": {},
   "outputs": [],
   "source": [
    "data = pd.pivot_table(df, values='wafer_id', \n",
    "                                index='product_schema', \n",
    "                                columns='test_month', \n",
    "                                aggfunc=lambda x: x.nunique())\n",
    "data.columns.name = None\n",
    "data['total'] = data.sum(axis = 1)\n",
    "data = data.reset_index().rename(columns={'product_schema':'family_code'})\n",
    "data"
   ]
  },
  {
   "cell_type": "code",
   "execution_count": null,
   "id": "fbd2647c",
   "metadata": {},
   "outputs": [],
   "source": []
  },
  {
   "cell_type": "code",
   "execution_count": null,
   "id": "noble-station",
   "metadata": {},
   "outputs": [],
   "source": [
    "fig = px.ecdf(df[df['product_schema'] == 'p10dd2'], x=['rvtp_vmax_18', 'ulvtp_vmax_18',\n",
    "       'slvtn_vmax_18','mol54_vmax_18','mol60_vmax_18']) #, marginal='histogram')\n",
    "fig.update_xaxes(range=[1, 1.5])"
   ]
  },
  {
   "cell_type": "code",
   "execution_count": null,
   "id": "noticed-neutral",
   "metadata": {},
   "outputs": [],
   "source": [
    "fig = px.ecdf(df[df['product_schema'] == 'zadd2'], x=['rvtp_vmax_18', 'ulvtp_vmax_18',\n",
    "       'slvtn_vmax_18','mol54_vmax_18','mol60_vmax_18']) #, marginal='histogram')\n",
    "fig.update_xaxes(range=[1, 1.5])"
   ]
  },
  {
   "cell_type": "code",
   "execution_count": null,
   "id": "equipped-footage",
   "metadata": {},
   "outputs": [],
   "source": [
    "fig = px.box(df[df['product_schema'] == 'p10dd2'],y=['rvtp_vmax_18', 'ulvtp_vmax_18',\n",
    "       'slvtn_vmax_18','mol54_vmax_18','mol60_vmax_18'])\n",
    "fig.show()"
   ]
  },
  {
   "cell_type": "code",
   "execution_count": null,
   "id": "jewish-enterprise",
   "metadata": {},
   "outputs": [],
   "source": [
    "fig = px.box(df[df['product_schema'] == 'zadd2'],y=['rvtp_vmax_18', 'ulvtp_vmax_18',\n",
    "       'slvtn_vmax_18','mol54_vmax_18','mol60_vmax_18'])\n",
    "fig.show()"
   ]
  },
  {
   "cell_type": "code",
   "execution_count": null,
   "id": "atlantic-payday",
   "metadata": {},
   "outputs": [],
   "source": [
    "def multigroup(df, xval, yvals, xylabels, subplots=False):\n",
    "    if subplots:\n",
    "        n = len(yvals)\n",
    "        fig = make_subplots(rows=1, cols=n, subplot_titles=(yvals))\n",
    "        for i,yval in enumerate(yvals):\n",
    "            fig.add_trace(go.Box(y=df[yval],x=df[xval],name=yval),row=1, col=i+1)\n",
    "            fig.update_xaxes(title_text=xylabels[0], row=1, col=i+1)\n",
    "        fig.update_layout(\n",
    "            yaxis_title=xylabels[1]           \n",
    "        )\n",
    "    else:\n",
    "        fig = go.Figure()\n",
    "        for yval in yvals:\n",
    "            fig.add_trace(go.Box(y=df[yval],x=df[xval],name=yval))\n",
    "        fig.update_layout(\n",
    "            yaxis_title=xylabels[1],\n",
    "            xaxis_title=xylabels[0],\n",
    "            boxmode='group' # group together boxes of the different traces for each value of x\n",
    "        )\n",
    "    return fig"
   ]
  },
  {
   "cell_type": "code",
   "execution_count": null,
   "id": "4a17f417",
   "metadata": {},
   "outputs": [],
   "source": [
    "plotdf.test_month"
   ]
  },
  {
   "cell_type": "code",
   "execution_count": null,
   "id": "million-hardware",
   "metadata": {},
   "outputs": [],
   "source": [
    "plotdf = df[df['product_schema'] == 'p10dd2']\n",
    "xval = 'test_month'\n",
    "yvals = ['rvtp_vmax_18', 'ulvtp_vmax_18','slvtn_vmax_18']\n",
    "#yvals = ['mol54_vmax_18','mol60_vmax_18']\n",
    "fig = multigroup(plotdf,xval,yvals,xylabels=['Month','Vmax'],subplots=False)\n",
    "fig.show()"
   ]
  },
  {
   "cell_type": "code",
   "execution_count": null,
   "id": "golden-respect",
   "metadata": {},
   "outputs": [],
   "source": [
    "plotdf = df[df['product_schema'] == 'p10dd2']\n",
    "xval = 'test_month'\n",
    "yvals = ['rvtp_vmax_18', 'ulvtp_vmax_18','slvtn_vmax_18']\n",
    "#yvals = ['mol54_vmax_18','mol60_vmax_18']\n",
    "fig = multigroup(plotdf,xval,yvals,xylabels=['Month','Vmax'], subplots=True)\n",
    "fig.show()"
   ]
  },
  {
   "cell_type": "code",
   "execution_count": null,
   "id": "strange-muscle",
   "metadata": {},
   "outputs": [],
   "source": [
    "plotdf = df[df['product_schema'] == 'p10dd2']\n",
    "xval = 'test_month'\n",
    "yvals = ['opdb_vmax']\n",
    "fig = multigroup(plotdf,xval,yvals,xylabels=['Month','Vmax'], subplots=True)\n",
    "fig.show()"
   ]
  },
  {
   "cell_type": "code",
   "execution_count": null,
   "id": "skilled-leeds",
   "metadata": {},
   "outputs": [],
   "source": [
    "fig = px.ecdf(df, x='opdb_vmax', color='product_schema') #, marginal='histogram')\n",
    "fig.update_xaxes(range=[1.05, 1.10])\n",
    "fig.show()"
   ]
  },
  {
   "cell_type": "code",
   "execution_count": null,
   "id": "patent-sellers",
   "metadata": {},
   "outputs": [],
   "source": [
    "data_table = ibmdata.qdat.table('P10','DTS_POST_RBI')"
   ]
  },
  {
   "cell_type": "code",
   "execution_count": null,
   "id": "crude-husband",
   "metadata": {},
   "outputs": [],
   "source": [
    "where_predicates = [data_table.c.component_serial_number.like('B6669778')]"
   ]
  },
  {
   "cell_type": "code",
   "execution_count": null,
   "id": "accessible-retailer",
   "metadata": {},
   "outputs": [],
   "source": [
    "where_predicates"
   ]
  },
  {
   "cell_type": "code",
   "execution_count": null,
   "id": "nonprofit-optics",
   "metadata": {},
   "outputs": [],
   "source": [
    "data_table[where_predicates[0]]"
   ]
  },
  {
   "cell_type": "code",
   "execution_count": null,
   "id": "pharmaceutical-asbestos",
   "metadata": {},
   "outputs": [],
   "source": [
    "a = data_table.c.component_serial_number.like('B6669778')"
   ]
  },
  {
   "cell_type": "code",
   "execution_count": null,
   "id": "documented-madonna",
   "metadata": {},
   "outputs": [],
   "source": [
    "data_table"
   ]
  },
  {
   "cell_type": "code",
   "execution_count": null,
   "id": "portable-nancy",
   "metadata": {},
   "outputs": [],
   "source": []
  },
  {
   "cell_type": "code",
   "execution_count": null,
   "id": "august-delivery",
   "metadata": {},
   "outputs": [],
   "source": []
  },
  {
   "cell_type": "code",
   "execution_count": null,
   "id": "bdad9839",
   "metadata": {},
   "outputs": [],
   "source": []
  },
  {
   "cell_type": "code",
   "execution_count": null,
   "id": "328f3ea8",
   "metadata": {},
   "outputs": [],
   "source": []
  }
 ],
 "metadata": {
  "kernelspec": {
   "display_name": "Python 3 (ipykernel)",
   "language": "python",
   "name": "python3"
  },
  "language_info": {
   "codemirror_mode": {
    "name": "ipython",
    "version": 3
   },
   "file_extension": ".py",
   "mimetype": "text/x-python",
   "name": "python",
   "nbconvert_exporter": "python",
   "pygments_lexer": "ipython3",
   "version": "3.10.8"
  }
 },
 "nbformat": 4,
 "nbformat_minor": 5
}
