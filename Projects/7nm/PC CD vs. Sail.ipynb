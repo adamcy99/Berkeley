{
 "cells": [
  {
   "cell_type": "code",
   "execution_count": 71,
   "metadata": {},
   "outputs": [],
   "source": [
    "import pandas as pd\n",
    "import numpy as np\n",
    "import datetime\n",
    "import time\n",
    "\n",
    "import warnings\n",
    "warnings.simplefilter(action='ignore', category=FutureWarning)\n",
    "pd.set_option('display.max_columns', None)\n",
    "\n",
    "import plotly.graph_objects as go\n",
    "import plotly.express as px\n",
    "import plotly.figure_factory as ff\n",
    "import dash\n",
    "import dash_core_components as dcc\n",
    "import dash_html_components as html\n",
    "\n",
    "import ibmdata"
   ]
  },
  {
   "cell_type": "code",
   "execution_count": 77,
   "metadata": {},
   "outputs": [],
   "source": [
    "DAYSBACK = 365\n",
    "SQLQUERY = f\"\"\"\n",
    "WITH PC_CD AS (\n",
    "    SELECT wafer_id||unitcell_X||unitcell_Y AS id, wafer_Id,\n",
    "        unitcell_X - 1 AS retx, unitcell_Y AS rety,\n",
    "        dcItem_Value AS PC_ACI_CD_Logic_60CPP\n",
    "    FROM DMIW.MeasuredRawFact mrf\n",
    "        INNER JOIN DMIW_SYSTEMS.MeasuredParm mp ON mrf.measuredParmKey = mp.measuredParmKey\n",
    "        INNER JOIN DMIW_SYSTEMS.Geography g ON mrf.geographyKey = g.geographyKey\n",
    "        INNER JOIN DMIW_SYSTEMS.MeasuredWafer mw ON mrf.measuredWaferKey = mw.measuredWaferKey\n",
    "    WHERE Measurement_date >= (current date - {DAYSBACK} days) AND Tech_id = '7HPP' AND Meas_pd_id LIKE '%KU072615' \n",
    "        AND meas_Pd_Id <> '' and dcItem_Value is not null \n",
    "        AND ucase(dcItem_Name) not in ('XCOORD', 'YCOORD', 'XSITE', 'YSITE', 'FIELD X', 'FIELD Y', 'SITE X', 'SITE Y', 'SITEID', 'ROW', 'COLUMN') \n",
    "        AND( ucase(rtrim(meas_Pd_Id) || ' ' || dcItem_Name) like '%PC%ACI%CD%(LOGIC%60%' )  \n",
    "    ORDER BY lot_Id, wafer_Id, unitcell_X - 1, unitcell_Y\n",
    "),\n",
    "Sailyield AS(\n",
    "    SELECT wafer_id||unitcell_X||unitcell_Y AS id, lot_Id, wafer_Id, unitcell_X - 1 as retx, unitcell_Y as rety, DATE(Last_test_date) as date,\n",
    "        --parmYield AS SAILALL_0p50to1p05_yield\n",
    "        parmYield AS SAILALL_0p65to1p05_yield\n",
    "    FROM DMIW.ChipParmFactR cpfr\n",
    "         INNER JOIN DMIW_SYSTEMS.TestParm tp ON tp.testParmKey = cpfr.testParmKey\n",
    "         INNER JOIN DMIW_SYSTEMS.Geography g ON g.geographyKey = cpfr.geographyKey\n",
    "         INNER JOIN DMIW_SYSTEMS.TestedWafer tw ON tw.testedWaferKey = cpfr.testedWaferKey\n",
    "    WHERE Last_test_date >= (current date - {DAYSBACK} days) AND Tech_id = '7HPP' AND Level = 'H2' AND tw.Calcdefs IN ('SSL11', 'SSL21', 'SSL31')\n",
    "        AND cpfr.parmValue IS NOT null AND ABS(parmValue) < 1e25 \n",
    "        --AND ( UCASE(tp.parm_Label) LIKE '%SAILALL%0P50%PERFECTYIELD%')\n",
    "        AND ( UCASE(tp.parm_Label) LIKE '%SAILALL%0P65%PERFECTYIELD%')\n",
    "    ORDER BY lot_Id, wafer_Id, unitcell_X - 1, unitcell_Y\n",
    ")\n",
    "\n",
    "SELECT\n",
    "    s.lot_id, s.wafer_id, s.retx, s.rety, s.date, \n",
    "    --sailall_0p50to1p05_yield,\n",
    "    sailall_0p65to1p05_yield,\n",
    "    PC_ACI_CD_Logic_60CPP AS \"PC ACI CD (logic 60cpp)\"\n",
    "FROM\n",
    "    Sailyield s\n",
    "INNER JOIN PC_CD p ON s.id = p.id\n",
    "\n",
    "\"\"\"\n",
    "df = ibmdata.isdw.query(SQLQUERY)"
   ]
  },
  {
   "cell_type": "code",
   "execution_count": 78,
   "metadata": {},
   "outputs": [],
   "source": [
    "df.to_csv('~/Downloads/temp.csv')"
   ]
  },
  {
   "cell_type": "code",
   "execution_count": 66,
   "metadata": {},
   "outputs": [
    {
     "data": {
      "text/html": [
       "<div>\n",
       "<style scoped>\n",
       "    .dataframe tbody tr th:only-of-type {\n",
       "        vertical-align: middle;\n",
       "    }\n",
       "\n",
       "    .dataframe tbody tr th {\n",
       "        vertical-align: top;\n",
       "    }\n",
       "\n",
       "    .dataframe thead th {\n",
       "        text-align: right;\n",
       "    }\n",
       "</style>\n",
       "<table border=\"1\" class=\"dataframe\">\n",
       "  <thead>\n",
       "    <tr style=\"text-align: right;\">\n",
       "      <th></th>\n",
       "      <th>lot_id</th>\n",
       "      <th>wafer_id</th>\n",
       "      <th>retx</th>\n",
       "      <th>rety</th>\n",
       "      <th>date</th>\n",
       "      <th>sailall_0p65to1p05_yield</th>\n",
       "      <th>pc aci cd (logic 60cpp)</th>\n",
       "    </tr>\n",
       "  </thead>\n",
       "  <tbody>\n",
       "    <tr>\n",
       "      <th>0</th>\n",
       "      <td>AZ6NN.1</td>\n",
       "      <td>AZ6NN-01</td>\n",
       "      <td>1</td>\n",
       "      <td>6</td>\n",
       "      <td>2020-06-29</td>\n",
       "      <td>100.00</td>\n",
       "      <td>99.7</td>\n",
       "    </tr>\n",
       "    <tr>\n",
       "      <th>1</th>\n",
       "      <td>AZ6NN.1</td>\n",
       "      <td>AZ6NN-01</td>\n",
       "      <td>1</td>\n",
       "      <td>6</td>\n",
       "      <td>2020-06-29</td>\n",
       "      <td>100.00</td>\n",
       "      <td>99.7</td>\n",
       "    </tr>\n",
       "    <tr>\n",
       "      <th>2</th>\n",
       "      <td>AZ6NN.1</td>\n",
       "      <td>AZ6NN-01</td>\n",
       "      <td>3</td>\n",
       "      <td>8</td>\n",
       "      <td>2020-06-29</td>\n",
       "      <td>100.00</td>\n",
       "      <td>98.4</td>\n",
       "    </tr>\n",
       "    <tr>\n",
       "      <th>3</th>\n",
       "      <td>AZ6NN.1</td>\n",
       "      <td>AZ6NN-01</td>\n",
       "      <td>3</td>\n",
       "      <td>8</td>\n",
       "      <td>2020-06-29</td>\n",
       "      <td>100.00</td>\n",
       "      <td>98.4</td>\n",
       "    </tr>\n",
       "    <tr>\n",
       "      <th>4</th>\n",
       "      <td>AZ6NN.1</td>\n",
       "      <td>AZ6NN-01</td>\n",
       "      <td>4</td>\n",
       "      <td>4</td>\n",
       "      <td>2020-06-29</td>\n",
       "      <td>100.00</td>\n",
       "      <td>100.1</td>\n",
       "    </tr>\n",
       "    <tr>\n",
       "      <th>...</th>\n",
       "      <td>...</td>\n",
       "      <td>...</td>\n",
       "      <td>...</td>\n",
       "      <td>...</td>\n",
       "      <td>...</td>\n",
       "      <td>...</td>\n",
       "      <td>...</td>\n",
       "    </tr>\n",
       "    <tr>\n",
       "      <th>3115</th>\n",
       "      <td>AZ75R.1</td>\n",
       "      <td>AZ75R-11</td>\n",
       "      <td>7</td>\n",
       "      <td>5</td>\n",
       "      <td>2020-10-08</td>\n",
       "      <td>100.00</td>\n",
       "      <td>98.7</td>\n",
       "    </tr>\n",
       "    <tr>\n",
       "      <th>3116</th>\n",
       "      <td>AZ75R.1</td>\n",
       "      <td>AZ75R-11</td>\n",
       "      <td>8</td>\n",
       "      <td>9</td>\n",
       "      <td>2020-10-08</td>\n",
       "      <td>100.00</td>\n",
       "      <td>98.0</td>\n",
       "    </tr>\n",
       "    <tr>\n",
       "      <th>3117</th>\n",
       "      <td>AZ75R.1</td>\n",
       "      <td>AZ75R-11</td>\n",
       "      <td>9</td>\n",
       "      <td>6</td>\n",
       "      <td>2020-10-08</td>\n",
       "      <td>100.00</td>\n",
       "      <td>98.3</td>\n",
       "    </tr>\n",
       "    <tr>\n",
       "      <th>3118</th>\n",
       "      <td>AZ75R.1</td>\n",
       "      <td>AZ75R-11</td>\n",
       "      <td>10</td>\n",
       "      <td>4</td>\n",
       "      <td>2020-10-08</td>\n",
       "      <td>100.00</td>\n",
       "      <td>98.3</td>\n",
       "    </tr>\n",
       "    <tr>\n",
       "      <th>3119</th>\n",
       "      <td>AZ75R.1</td>\n",
       "      <td>AZ75R-11</td>\n",
       "      <td>11</td>\n",
       "      <td>7</td>\n",
       "      <td>2020-10-08</td>\n",
       "      <td>100.00</td>\n",
       "      <td>99.4</td>\n",
       "    </tr>\n",
       "  </tbody>\n",
       "</table>\n",
       "<p>3120 rows × 7 columns</p>\n",
       "</div>"
      ],
      "text/plain": [
       "       lot_id  wafer_id  retx  rety        date sailall_0p65to1p05_yield  \\\n",
       "0     AZ6NN.1  AZ6NN-01     1     6  2020-06-29                   100.00   \n",
       "1     AZ6NN.1  AZ6NN-01     1     6  2020-06-29                   100.00   \n",
       "2     AZ6NN.1  AZ6NN-01     3     8  2020-06-29                   100.00   \n",
       "3     AZ6NN.1  AZ6NN-01     3     8  2020-06-29                   100.00   \n",
       "4     AZ6NN.1  AZ6NN-01     4     4  2020-06-29                   100.00   \n",
       "...       ...       ...   ...   ...         ...                      ...   \n",
       "3115  AZ75R.1  AZ75R-11     7     5  2020-10-08                   100.00   \n",
       "3116  AZ75R.1  AZ75R-11     8     9  2020-10-08                   100.00   \n",
       "3117  AZ75R.1  AZ75R-11     9     6  2020-10-08                   100.00   \n",
       "3118  AZ75R.1  AZ75R-11    10     4  2020-10-08                   100.00   \n",
       "3119  AZ75R.1  AZ75R-11    11     7  2020-10-08                   100.00   \n",
       "\n",
       "      pc aci cd (logic 60cpp)  \n",
       "0                        99.7  \n",
       "1                        99.7  \n",
       "2                        98.4  \n",
       "3                        98.4  \n",
       "4                       100.1  \n",
       "...                       ...  \n",
       "3115                     98.7  \n",
       "3116                     98.0  \n",
       "3117                     98.3  \n",
       "3118                     98.3  \n",
       "3119                     99.4  \n",
       "\n",
       "[3120 rows x 7 columns]"
      ]
     },
     "execution_count": 66,
     "metadata": {},
     "output_type": "execute_result"
    }
   ],
   "source": [
    "df"
   ]
  },
  {
   "cell_type": "code",
   "execution_count": 79,
   "metadata": {},
   "outputs": [],
   "source": [
    "DAYSBACK = 365\n",
    "SQLQUERY = f\"\"\"\n",
    "WITH sail_cte AS(\n",
    "    SELECT wafer_id||unitcell_X||unitcell_Y AS id, tw.Calcdefs AS Sail, lot_id,\n",
    "        CASE WHEN LENGTH(parm_Label) = 37 THEN tw.testProgramName||'_0p75'||RIGHT(parm_Label,11) ELSE tw.testProgramName||'_0p75'||RIGHT(parm_Label,12) END AS label,\n",
    "        parmYield as yield\n",
    "    FROM DMIW.ChipParmFactR cpfr\n",
    "        JOIN DMIW_SYSTEMS.TestParm tp ON tp.testParmKey = cpfr.testParmKey\n",
    "        JOIN DMIW_SYSTEMS.Geography g ON g.geographyKey = cpfr.geographyKey\n",
    "        JOIN DMIW_SYSTEMS.TestedWafer tw ON tw.testedWaferKey = cpfr.testedWaferKey\n",
    "    WHERE Last_test_date >= (current date - {DAYSBACK} days)\n",
    "        AND Tech_id = '7HPP' AND Level = 'H2' AND tw.Calcdefs IN ('SSL11', 'SSL21', 'SSL31')\n",
    "        AND cpfr.parmValue IS NOT null AND ABS(parmValue) < 1e25 \n",
    "        AND (UCASE(SUBSTR(tp.parm_Label,10,17)) = 'SSCANLATCH0P75VFM')\n",
    "        AND ((unitcell_X - 1) || '_' || unitcell_Y NOT IN ('-2_-1','1_8','2_9','2_10','3_10','4_11','5_11','6_11','7_11','9_10','10_9','11_8','1_4','2_3','3_2','4_1','5_1','7_1','9_2','10_3','11_4'))\n",
    "        --AND parmYield < 100\n",
    "        --AND wafer_id = 'AZ6B5-19'\n",
    "    ORDER BY lot_Id, wafer_Id, parm_Label\n",
    "),\n",
    "PC_CD AS (\n",
    "    SELECT wafer_id||unitcell_X||unitcell_Y AS id, wafer_Id,\n",
    "        unitcell_X - 1 AS retx, unitcell_Y AS rety,\n",
    "        dcItem_Value AS PC_ACI_CD_Logic_60CPP\n",
    "    FROM DMIW.MeasuredRawFact mrf\n",
    "        INNER JOIN DMIW_SYSTEMS.MeasuredParm mp ON mrf.measuredParmKey = mp.measuredParmKey\n",
    "        INNER JOIN DMIW_SYSTEMS.Geography g ON mrf.geographyKey = g.geographyKey\n",
    "        INNER JOIN DMIW_SYSTEMS.MeasuredWafer mw ON mrf.measuredWaferKey = mw.measuredWaferKey\n",
    "    WHERE Measurement_date >= (current date - {DAYSBACK} days) AND Tech_id = '7HPP' AND Meas_pd_id LIKE '%KU072615' \n",
    "        AND meas_Pd_Id <> '' and dcItem_Value is not null \n",
    "        AND ucase(dcItem_Name) not in ('XCOORD', 'YCOORD', 'XSITE', 'YSITE', 'FIELD X', 'FIELD Y', 'SITE X', 'SITE Y', 'SITEID', 'ROW', 'COLUMN') \n",
    "        AND( ucase(rtrim(meas_Pd_Id) || ' ' || dcItem_Name) like '%PC%ACI%CD%(LOGIC%60%' ) \n",
    "        AND dcItem_Value < 98\n",
    "    ORDER BY lot_Id, wafer_Id, unitcell_X - 1, unitcell_Y\n",
    ")\n",
    "SELECT \n",
    "    s.lot_id, p.wafer_id, p.retx, p.rety, \n",
    "    sail, label, yield,\n",
    "    PC_ACI_CD_Logic_60CPP AS \"PC ACI CD (logic 60cpp)\"\n",
    "FROM\n",
    "    PC_CD p\n",
    "INNER JOIN sail_cte s ON s.id = p.id\n",
    "\"\"\"\n",
    "df = ibmdata.isdw.query(SQLQUERY)\n",
    "df['yield'] = df['yield'].astype(float).round(2)\n",
    "df['yld_loss'] = 100.00 - df['yield']"
   ]
  },
  {
   "cell_type": "code",
   "execution_count": 89,
   "metadata": {},
   "outputs": [
    {
     "data": {
      "text/plain": [
       "array(['AZ6NN-01', 'AZ6NN-03', 'AZ6NN-15', 'AZ6PC-01', 'AZ6PC-03',\n",
       "       'AZ6PK-01', 'AZ6PK-04', 'AZ6PK-15', 'AZ6PK-25', 'AZ6R9-15',\n",
       "       'AZ6R9-17', 'AZ6RA-01', 'AZ6RA-03', 'AZ6RA-04', 'AZ6RA-07',\n",
       "       'AZ6RA-11', 'AZ6RA-12', 'AZ6RA-15', 'AZ6RA-17', 'AZ6RA-20',\n",
       "       'AZ6RA-23', 'AZ6RA-25', 'AZ6VB-01', 'AZ6VB-03', 'AZ6VB-04',\n",
       "       'AZ6VB-07', 'AZ6VB-11', 'AZ6VB-12', 'AZ6VB-15', 'AZ6VB-17',\n",
       "       'AZ6VB-20', 'AZ6VB-23', 'AZ6W7-03', 'AZ6W7-11', 'AZ6W7-12',\n",
       "       'AZ6W8-25', 'AZ6WT-15', 'AZ6X4-17', 'AZ6XZ-04', 'AZ6XZ-17',\n",
       "       'AZ715-23', 'AZ71P-11', 'AZ71P-15', 'AZ71P-25', 'AZ725-01',\n",
       "       'AZ725-03', 'AZ725-04', 'AZ725-07', 'AZ725-17', 'AZ725-21',\n",
       "       'AZ725-23', 'AZ725-24', 'AZ725-25', 'AZ72K-01', 'AZ72K-04',\n",
       "       'AZ75R-11'], dtype=object)"
      ]
     },
     "execution_count": 89,
     "metadata": {},
     "output_type": "execute_result"
    }
   ],
   "source": [
    "df[df['label'].str.contains('block26') | df['label'].str.contains('block28')].wafer_id.unique()"
   ]
  },
  {
   "cell_type": "code",
   "execution_count": 96,
   "metadata": {},
   "outputs": [],
   "source": [
    "df_agg=df.groupby(['label', 'sail']).mean().sort_values('yld_loss', ascending=False)[0:20].reset_index()"
   ]
  },
  {
   "cell_type": "code",
   "execution_count": 75,
   "metadata": {},
   "outputs": [
    {
     "data": {
      "application/vnd.plotly.v1+json": {
       "config": {
        "plotlyServerURL": "https://plot.ly"
       },
       "data": [
        {
         "alignmentgroup": "True",
         "customdata": [
          [
           "SSL2_0p75_block6_so5",
           2.586206896551724
          ],
          [
           "SSL2_0p75_block22_so0",
           1.293103448275862
          ],
          [
           "SSL2_0p75_block25_so0",
           1.293103448275862
          ],
          [
           "SSL2_0p75_block6_so4",
           1.293103448275862
          ],
          [
           "SSL2_0p75_block6_so0",
           1.293103448275862
          ]
         ],
         "hovertemplate": "sail=SSL21<br>Label=%{customdata[0]}<br>yld_loss (%)=%{customdata[1]}<extra></extra>",
         "legendgroup": "SSL21",
         "marker": {
          "color": "#ab63fa"
         },
         "name": "SSL21",
         "offsetgroup": "SSL21",
         "orientation": "v",
         "showlegend": true,
         "textposition": "auto",
         "type": "bar",
         "x": [
          "SSL2_0p75_block6_so5",
          "SSL2_0p75_block22_so0",
          "SSL2_0p75_block25_so0",
          "SSL2_0p75_block6_so4",
          "SSL2_0p75_block6_so0"
         ],
         "xaxis": "x",
         "y": [
          2.586206896551724,
          1.293103448275862,
          1.293103448275862,
          1.293103448275862,
          1.293103448275862
         ],
         "yaxis": "y"
        },
        {
         "alignmentgroup": "True",
         "customdata": [
          [
           "SSL1_0p75_block24_so1",
           1.4563106796116505
          ],
          [
           "SSL1_0p75_block24_so0",
           1.4563106796116505
          ],
          [
           "SSL1_0p75_block8_so1",
           0.970873786407767
          ],
          [
           "SSL1_0p75_block8_so3",
           0.970873786407767
          ]
         ],
         "hovertemplate": "sail=SSL11<br>Label=%{customdata[0]}<br>yld_loss (%)=%{customdata[1]}<extra></extra>",
         "legendgroup": "SSL11",
         "marker": {
          "color": "#FFA15A"
         },
         "name": "SSL11",
         "offsetgroup": "SSL11",
         "orientation": "v",
         "showlegend": true,
         "textposition": "auto",
         "type": "bar",
         "x": [
          "SSL1_0p75_block24_so1",
          "SSL1_0p75_block24_so0",
          "SSL1_0p75_block8_so1",
          "SSL1_0p75_block8_so3"
         ],
         "xaxis": "x",
         "y": [
          1.4563106796116505,
          1.4563106796116505,
          0.970873786407767,
          0.970873786407767
         ],
         "yaxis": "y"
        },
        {
         "alignmentgroup": "True",
         "customdata": [
          [
           "SSL3_0p75_block28_so3",
           1.4492753623188406
          ],
          [
           "SSL3_0p75_block28_so5",
           1.4492753623188406
          ],
          [
           "SSL3_0p75_block26_so2",
           1.4492753623188406
          ],
          [
           "SSL3_0p75_block26_so1",
           1.4492753623188406
          ],
          [
           "SSL3_0p75_block26_so0",
           1.4492753623188406
          ],
          [
           "SSL3_0p75_block25_so2",
           1.4492753623188406
          ],
          [
           "SSL3_0p75_block22_so0",
           1.4492753623188406
          ],
          [
           "SSL3_0p75_block17_so1",
           0.966183574879227
          ],
          [
           "SSL3_0p75_block26_so3",
           0.966183574879227
          ],
          [
           "SSL3_0p75_block15_so0",
           0.966183574879227
          ],
          [
           "SSL3_0p75_block22_so1",
           0.966183574879227
          ]
         ],
         "hovertemplate": "sail=SSL31<br>Label=%{customdata[0]}<br>yld_loss (%)=%{customdata[1]}<extra></extra>",
         "legendgroup": "SSL31",
         "marker": {
          "color": "#19d3f3"
         },
         "name": "SSL31",
         "offsetgroup": "SSL31",
         "orientation": "v",
         "showlegend": true,
         "textposition": "auto",
         "type": "bar",
         "x": [
          "SSL3_0p75_block28_so3",
          "SSL3_0p75_block28_so5",
          "SSL3_0p75_block26_so2",
          "SSL3_0p75_block26_so1",
          "SSL3_0p75_block26_so0",
          "SSL3_0p75_block25_so2",
          "SSL3_0p75_block22_so0",
          "SSL3_0p75_block17_so1",
          "SSL3_0p75_block26_so3",
          "SSL3_0p75_block15_so0",
          "SSL3_0p75_block22_so1"
         ],
         "xaxis": "x",
         "y": [
          1.4492753623188406,
          1.4492753623188406,
          1.4492753623188406,
          1.4492753623188406,
          1.4492753623188406,
          1.4492753623188406,
          1.4492753623188406,
          0.966183574879227,
          0.966183574879227,
          0.966183574879227,
          0.966183574879227
         ],
         "yaxis": "y"
        }
       ],
       "layout": {
        "barmode": "relative",
        "legend": {
         "title": {
          "text": "sail"
         },
         "tracegroupgap": 0
        },
        "margin": {
         "t": 60
        },
        "template": {
         "data": {
          "bar": [
           {
            "error_x": {
             "color": "#2a3f5f"
            },
            "error_y": {
             "color": "#2a3f5f"
            },
            "marker": {
             "line": {
              "color": "white",
              "width": 0.5
             }
            },
            "type": "bar"
           }
          ],
          "barpolar": [
           {
            "marker": {
             "line": {
              "color": "white",
              "width": 0.5
             }
            },
            "type": "barpolar"
           }
          ],
          "carpet": [
           {
            "aaxis": {
             "endlinecolor": "#2a3f5f",
             "gridcolor": "#C8D4E3",
             "linecolor": "#C8D4E3",
             "minorgridcolor": "#C8D4E3",
             "startlinecolor": "#2a3f5f"
            },
            "baxis": {
             "endlinecolor": "#2a3f5f",
             "gridcolor": "#C8D4E3",
             "linecolor": "#C8D4E3",
             "minorgridcolor": "#C8D4E3",
             "startlinecolor": "#2a3f5f"
            },
            "type": "carpet"
           }
          ],
          "choropleth": [
           {
            "colorbar": {
             "outlinewidth": 0,
             "ticks": ""
            },
            "type": "choropleth"
           }
          ],
          "contour": [
           {
            "colorbar": {
             "outlinewidth": 0,
             "ticks": ""
            },
            "colorscale": [
             [
              0,
              "#0d0887"
             ],
             [
              0.1111111111111111,
              "#46039f"
             ],
             [
              0.2222222222222222,
              "#7201a8"
             ],
             [
              0.3333333333333333,
              "#9c179e"
             ],
             [
              0.4444444444444444,
              "#bd3786"
             ],
             [
              0.5555555555555556,
              "#d8576b"
             ],
             [
              0.6666666666666666,
              "#ed7953"
             ],
             [
              0.7777777777777778,
              "#fb9f3a"
             ],
             [
              0.8888888888888888,
              "#fdca26"
             ],
             [
              1,
              "#f0f921"
             ]
            ],
            "type": "contour"
           }
          ],
          "contourcarpet": [
           {
            "colorbar": {
             "outlinewidth": 0,
             "ticks": ""
            },
            "type": "contourcarpet"
           }
          ],
          "heatmap": [
           {
            "colorbar": {
             "outlinewidth": 0,
             "ticks": ""
            },
            "colorscale": [
             [
              0,
              "#0d0887"
             ],
             [
              0.1111111111111111,
              "#46039f"
             ],
             [
              0.2222222222222222,
              "#7201a8"
             ],
             [
              0.3333333333333333,
              "#9c179e"
             ],
             [
              0.4444444444444444,
              "#bd3786"
             ],
             [
              0.5555555555555556,
              "#d8576b"
             ],
             [
              0.6666666666666666,
              "#ed7953"
             ],
             [
              0.7777777777777778,
              "#fb9f3a"
             ],
             [
              0.8888888888888888,
              "#fdca26"
             ],
             [
              1,
              "#f0f921"
             ]
            ],
            "type": "heatmap"
           }
          ],
          "heatmapgl": [
           {
            "colorbar": {
             "outlinewidth": 0,
             "ticks": ""
            },
            "colorscale": [
             [
              0,
              "#0d0887"
             ],
             [
              0.1111111111111111,
              "#46039f"
             ],
             [
              0.2222222222222222,
              "#7201a8"
             ],
             [
              0.3333333333333333,
              "#9c179e"
             ],
             [
              0.4444444444444444,
              "#bd3786"
             ],
             [
              0.5555555555555556,
              "#d8576b"
             ],
             [
              0.6666666666666666,
              "#ed7953"
             ],
             [
              0.7777777777777778,
              "#fb9f3a"
             ],
             [
              0.8888888888888888,
              "#fdca26"
             ],
             [
              1,
              "#f0f921"
             ]
            ],
            "type": "heatmapgl"
           }
          ],
          "histogram": [
           {
            "marker": {
             "colorbar": {
              "outlinewidth": 0,
              "ticks": ""
             }
            },
            "type": "histogram"
           }
          ],
          "histogram2d": [
           {
            "colorbar": {
             "outlinewidth": 0,
             "ticks": ""
            },
            "colorscale": [
             [
              0,
              "#0d0887"
             ],
             [
              0.1111111111111111,
              "#46039f"
             ],
             [
              0.2222222222222222,
              "#7201a8"
             ],
             [
              0.3333333333333333,
              "#9c179e"
             ],
             [
              0.4444444444444444,
              "#bd3786"
             ],
             [
              0.5555555555555556,
              "#d8576b"
             ],
             [
              0.6666666666666666,
              "#ed7953"
             ],
             [
              0.7777777777777778,
              "#fb9f3a"
             ],
             [
              0.8888888888888888,
              "#fdca26"
             ],
             [
              1,
              "#f0f921"
             ]
            ],
            "type": "histogram2d"
           }
          ],
          "histogram2dcontour": [
           {
            "colorbar": {
             "outlinewidth": 0,
             "ticks": ""
            },
            "colorscale": [
             [
              0,
              "#0d0887"
             ],
             [
              0.1111111111111111,
              "#46039f"
             ],
             [
              0.2222222222222222,
              "#7201a8"
             ],
             [
              0.3333333333333333,
              "#9c179e"
             ],
             [
              0.4444444444444444,
              "#bd3786"
             ],
             [
              0.5555555555555556,
              "#d8576b"
             ],
             [
              0.6666666666666666,
              "#ed7953"
             ],
             [
              0.7777777777777778,
              "#fb9f3a"
             ],
             [
              0.8888888888888888,
              "#fdca26"
             ],
             [
              1,
              "#f0f921"
             ]
            ],
            "type": "histogram2dcontour"
           }
          ],
          "mesh3d": [
           {
            "colorbar": {
             "outlinewidth": 0,
             "ticks": ""
            },
            "type": "mesh3d"
           }
          ],
          "parcoords": [
           {
            "line": {
             "colorbar": {
              "outlinewidth": 0,
              "ticks": ""
             }
            },
            "type": "parcoords"
           }
          ],
          "pie": [
           {
            "automargin": true,
            "type": "pie"
           }
          ],
          "scatter": [
           {
            "marker": {
             "colorbar": {
              "outlinewidth": 0,
              "ticks": ""
             }
            },
            "type": "scatter"
           }
          ],
          "scatter3d": [
           {
            "line": {
             "colorbar": {
              "outlinewidth": 0,
              "ticks": ""
             }
            },
            "marker": {
             "colorbar": {
              "outlinewidth": 0,
              "ticks": ""
             }
            },
            "type": "scatter3d"
           }
          ],
          "scattercarpet": [
           {
            "marker": {
             "colorbar": {
              "outlinewidth": 0,
              "ticks": ""
             }
            },
            "type": "scattercarpet"
           }
          ],
          "scattergeo": [
           {
            "marker": {
             "colorbar": {
              "outlinewidth": 0,
              "ticks": ""
             }
            },
            "type": "scattergeo"
           }
          ],
          "scattergl": [
           {
            "marker": {
             "colorbar": {
              "outlinewidth": 0,
              "ticks": ""
             }
            },
            "type": "scattergl"
           }
          ],
          "scattermapbox": [
           {
            "marker": {
             "colorbar": {
              "outlinewidth": 0,
              "ticks": ""
             }
            },
            "type": "scattermapbox"
           }
          ],
          "scatterpolar": [
           {
            "marker": {
             "colorbar": {
              "outlinewidth": 0,
              "ticks": ""
             }
            },
            "type": "scatterpolar"
           }
          ],
          "scatterpolargl": [
           {
            "marker": {
             "colorbar": {
              "outlinewidth": 0,
              "ticks": ""
             }
            },
            "type": "scatterpolargl"
           }
          ],
          "scatterternary": [
           {
            "marker": {
             "colorbar": {
              "outlinewidth": 0,
              "ticks": ""
             }
            },
            "type": "scatterternary"
           }
          ],
          "surface": [
           {
            "colorbar": {
             "outlinewidth": 0,
             "ticks": ""
            },
            "colorscale": [
             [
              0,
              "#0d0887"
             ],
             [
              0.1111111111111111,
              "#46039f"
             ],
             [
              0.2222222222222222,
              "#7201a8"
             ],
             [
              0.3333333333333333,
              "#9c179e"
             ],
             [
              0.4444444444444444,
              "#bd3786"
             ],
             [
              0.5555555555555556,
              "#d8576b"
             ],
             [
              0.6666666666666666,
              "#ed7953"
             ],
             [
              0.7777777777777778,
              "#fb9f3a"
             ],
             [
              0.8888888888888888,
              "#fdca26"
             ],
             [
              1,
              "#f0f921"
             ]
            ],
            "type": "surface"
           }
          ],
          "table": [
           {
            "cells": {
             "fill": {
              "color": "#EBF0F8"
             },
             "line": {
              "color": "white"
             }
            },
            "header": {
             "fill": {
              "color": "#C8D4E3"
             },
             "line": {
              "color": "white"
             }
            },
            "type": "table"
           }
          ]
         },
         "layout": {
          "annotationdefaults": {
           "arrowcolor": "#2a3f5f",
           "arrowhead": 0,
           "arrowwidth": 1
          },
          "coloraxis": {
           "colorbar": {
            "outlinewidth": 0,
            "ticks": ""
           }
          },
          "colorscale": {
           "diverging": [
            [
             0,
             "#8e0152"
            ],
            [
             0.1,
             "#c51b7d"
            ],
            [
             0.2,
             "#de77ae"
            ],
            [
             0.3,
             "#f1b6da"
            ],
            [
             0.4,
             "#fde0ef"
            ],
            [
             0.5,
             "#f7f7f7"
            ],
            [
             0.6,
             "#e6f5d0"
            ],
            [
             0.7,
             "#b8e186"
            ],
            [
             0.8,
             "#7fbc41"
            ],
            [
             0.9,
             "#4d9221"
            ],
            [
             1,
             "#276419"
            ]
           ],
           "sequential": [
            [
             0,
             "#0d0887"
            ],
            [
             0.1111111111111111,
             "#46039f"
            ],
            [
             0.2222222222222222,
             "#7201a8"
            ],
            [
             0.3333333333333333,
             "#9c179e"
            ],
            [
             0.4444444444444444,
             "#bd3786"
            ],
            [
             0.5555555555555556,
             "#d8576b"
            ],
            [
             0.6666666666666666,
             "#ed7953"
            ],
            [
             0.7777777777777778,
             "#fb9f3a"
            ],
            [
             0.8888888888888888,
             "#fdca26"
            ],
            [
             1,
             "#f0f921"
            ]
           ],
           "sequentialminus": [
            [
             0,
             "#0d0887"
            ],
            [
             0.1111111111111111,
             "#46039f"
            ],
            [
             0.2222222222222222,
             "#7201a8"
            ],
            [
             0.3333333333333333,
             "#9c179e"
            ],
            [
             0.4444444444444444,
             "#bd3786"
            ],
            [
             0.5555555555555556,
             "#d8576b"
            ],
            [
             0.6666666666666666,
             "#ed7953"
            ],
            [
             0.7777777777777778,
             "#fb9f3a"
            ],
            [
             0.8888888888888888,
             "#fdca26"
            ],
            [
             1,
             "#f0f921"
            ]
           ]
          },
          "colorway": [
           "#636efa",
           "#EF553B",
           "#00cc96",
           "#ab63fa",
           "#FFA15A",
           "#19d3f3",
           "#FF6692",
           "#B6E880",
           "#FF97FF",
           "#FECB52"
          ],
          "font": {
           "color": "#2a3f5f"
          },
          "geo": {
           "bgcolor": "white",
           "lakecolor": "white",
           "landcolor": "white",
           "showlakes": true,
           "showland": true,
           "subunitcolor": "#C8D4E3"
          },
          "hoverlabel": {
           "align": "left"
          },
          "hovermode": "closest",
          "mapbox": {
           "style": "light"
          },
          "paper_bgcolor": "white",
          "plot_bgcolor": "white",
          "polar": {
           "angularaxis": {
            "gridcolor": "#EBF0F8",
            "linecolor": "#EBF0F8",
            "ticks": ""
           },
           "bgcolor": "white",
           "radialaxis": {
            "gridcolor": "#EBF0F8",
            "linecolor": "#EBF0F8",
            "ticks": ""
           }
          },
          "scene": {
           "xaxis": {
            "backgroundcolor": "white",
            "gridcolor": "#DFE8F3",
            "gridwidth": 2,
            "linecolor": "#EBF0F8",
            "showbackground": true,
            "ticks": "",
            "zerolinecolor": "#EBF0F8"
           },
           "yaxis": {
            "backgroundcolor": "white",
            "gridcolor": "#DFE8F3",
            "gridwidth": 2,
            "linecolor": "#EBF0F8",
            "showbackground": true,
            "ticks": "",
            "zerolinecolor": "#EBF0F8"
           },
           "zaxis": {
            "backgroundcolor": "white",
            "gridcolor": "#DFE8F3",
            "gridwidth": 2,
            "linecolor": "#EBF0F8",
            "showbackground": true,
            "ticks": "",
            "zerolinecolor": "#EBF0F8"
           }
          },
          "shapedefaults": {
           "line": {
            "color": "#2a3f5f"
           }
          },
          "ternary": {
           "aaxis": {
            "gridcolor": "#DFE8F3",
            "linecolor": "#A2B1C6",
            "ticks": ""
           },
           "baxis": {
            "gridcolor": "#DFE8F3",
            "linecolor": "#A2B1C6",
            "ticks": ""
           },
           "bgcolor": "white",
           "caxis": {
            "gridcolor": "#DFE8F3",
            "linecolor": "#A2B1C6",
            "ticks": ""
           }
          },
          "title": {
           "x": 0.05
          },
          "xaxis": {
           "automargin": true,
           "gridcolor": "#EBF0F8",
           "linecolor": "#EBF0F8",
           "ticks": "",
           "title": {
            "standoff": 15
           },
           "zerolinecolor": "#EBF0F8",
           "zerolinewidth": 2
          },
          "yaxis": {
           "automargin": true,
           "gridcolor": "#EBF0F8",
           "linecolor": "#EBF0F8",
           "ticks": "",
           "title": {
            "standoff": 15
           },
           "zerolinecolor": "#EBF0F8",
           "zerolinewidth": 2
          }
         }
        },
        "title": {
         "text": "Sail Yield Loss Pareto for PC CD < 98"
        },
        "xaxis": {
         "anchor": "y",
         "categoryorder": "total descending",
         "domain": [
          0,
          1
         ],
         "title": {
          "text": "Label"
         }
        },
        "yaxis": {
         "anchor": "x",
         "domain": [
          0,
          1
         ],
         "title": {
          "text": "yld_loss (%)"
         }
        }
       }
      },
      "text/html": [
       "<div>\n",
       "        \n",
       "        \n",
       "            <div id=\"804a2aaa-acd0-4b38-b21a-0174f042201e\" class=\"plotly-graph-div\" style=\"height:525px; width:100%;\"></div>\n",
       "            <script type=\"text/javascript\">\n",
       "                require([\"plotly\"], function(Plotly) {\n",
       "                    window.PLOTLYENV=window.PLOTLYENV || {};\n",
       "                    \n",
       "                if (document.getElementById(\"804a2aaa-acd0-4b38-b21a-0174f042201e\")) {\n",
       "                    Plotly.newPlot(\n",
       "                        '804a2aaa-acd0-4b38-b21a-0174f042201e',\n",
       "                        [{\"alignmentgroup\": \"True\", \"customdata\": [[\"SSL2_0p75_block6_so5\", 2.586206896551724], [\"SSL2_0p75_block22_so0\", 1.293103448275862], [\"SSL2_0p75_block25_so0\", 1.293103448275862], [\"SSL2_0p75_block6_so4\", 1.293103448275862], [\"SSL2_0p75_block6_so0\", 1.293103448275862]], \"hovertemplate\": \"sail=SSL21<br>Label=%{customdata[0]}<br>yld_loss (%)=%{customdata[1]}<extra></extra>\", \"legendgroup\": \"SSL21\", \"marker\": {\"color\": \"#ab63fa\"}, \"name\": \"SSL21\", \"offsetgroup\": \"SSL21\", \"orientation\": \"v\", \"showlegend\": true, \"textposition\": \"auto\", \"type\": \"bar\", \"x\": [\"SSL2_0p75_block6_so5\", \"SSL2_0p75_block22_so0\", \"SSL2_0p75_block25_so0\", \"SSL2_0p75_block6_so4\", \"SSL2_0p75_block6_so0\"], \"xaxis\": \"x\", \"y\": [2.586206896551724, 1.293103448275862, 1.293103448275862, 1.293103448275862, 1.293103448275862], \"yaxis\": \"y\"}, {\"alignmentgroup\": \"True\", \"customdata\": [[\"SSL1_0p75_block24_so1\", 1.4563106796116505], [\"SSL1_0p75_block24_so0\", 1.4563106796116505], [\"SSL1_0p75_block8_so1\", 0.970873786407767], [\"SSL1_0p75_block8_so3\", 0.970873786407767]], \"hovertemplate\": \"sail=SSL11<br>Label=%{customdata[0]}<br>yld_loss (%)=%{customdata[1]}<extra></extra>\", \"legendgroup\": \"SSL11\", \"marker\": {\"color\": \"#FFA15A\"}, \"name\": \"SSL11\", \"offsetgroup\": \"SSL11\", \"orientation\": \"v\", \"showlegend\": true, \"textposition\": \"auto\", \"type\": \"bar\", \"x\": [\"SSL1_0p75_block24_so1\", \"SSL1_0p75_block24_so0\", \"SSL1_0p75_block8_so1\", \"SSL1_0p75_block8_so3\"], \"xaxis\": \"x\", \"y\": [1.4563106796116505, 1.4563106796116505, 0.970873786407767, 0.970873786407767], \"yaxis\": \"y\"}, {\"alignmentgroup\": \"True\", \"customdata\": [[\"SSL3_0p75_block28_so3\", 1.4492753623188406], [\"SSL3_0p75_block28_so5\", 1.4492753623188406], [\"SSL3_0p75_block26_so2\", 1.4492753623188406], [\"SSL3_0p75_block26_so1\", 1.4492753623188406], [\"SSL3_0p75_block26_so0\", 1.4492753623188406], [\"SSL3_0p75_block25_so2\", 1.4492753623188406], [\"SSL3_0p75_block22_so0\", 1.4492753623188406], [\"SSL3_0p75_block17_so1\", 0.966183574879227], [\"SSL3_0p75_block26_so3\", 0.966183574879227], [\"SSL3_0p75_block15_so0\", 0.966183574879227], [\"SSL3_0p75_block22_so1\", 0.966183574879227]], \"hovertemplate\": \"sail=SSL31<br>Label=%{customdata[0]}<br>yld_loss (%)=%{customdata[1]}<extra></extra>\", \"legendgroup\": \"SSL31\", \"marker\": {\"color\": \"#19d3f3\"}, \"name\": \"SSL31\", \"offsetgroup\": \"SSL31\", \"orientation\": \"v\", \"showlegend\": true, \"textposition\": \"auto\", \"type\": \"bar\", \"x\": [\"SSL3_0p75_block28_so3\", \"SSL3_0p75_block28_so5\", \"SSL3_0p75_block26_so2\", \"SSL3_0p75_block26_so1\", \"SSL3_0p75_block26_so0\", \"SSL3_0p75_block25_so2\", \"SSL3_0p75_block22_so0\", \"SSL3_0p75_block17_so1\", \"SSL3_0p75_block26_so3\", \"SSL3_0p75_block15_so0\", \"SSL3_0p75_block22_so1\"], \"xaxis\": \"x\", \"y\": [1.4492753623188406, 1.4492753623188406, 1.4492753623188406, 1.4492753623188406, 1.4492753623188406, 1.4492753623188406, 1.4492753623188406, 0.966183574879227, 0.966183574879227, 0.966183574879227, 0.966183574879227], \"yaxis\": \"y\"}],\n",
       "                        {\"barmode\": \"relative\", \"legend\": {\"title\": {\"text\": \"sail\"}, \"tracegroupgap\": 0}, \"margin\": {\"t\": 60}, \"template\": {\"data\": {\"bar\": [{\"error_x\": {\"color\": \"#2a3f5f\"}, \"error_y\": {\"color\": \"#2a3f5f\"}, \"marker\": {\"line\": {\"color\": \"white\", \"width\": 0.5}}, \"type\": \"bar\"}], \"barpolar\": [{\"marker\": {\"line\": {\"color\": \"white\", \"width\": 0.5}}, \"type\": \"barpolar\"}], \"carpet\": [{\"aaxis\": {\"endlinecolor\": \"#2a3f5f\", \"gridcolor\": \"#C8D4E3\", \"linecolor\": \"#C8D4E3\", \"minorgridcolor\": \"#C8D4E3\", \"startlinecolor\": \"#2a3f5f\"}, \"baxis\": {\"endlinecolor\": \"#2a3f5f\", \"gridcolor\": \"#C8D4E3\", \"linecolor\": \"#C8D4E3\", \"minorgridcolor\": \"#C8D4E3\", \"startlinecolor\": \"#2a3f5f\"}, \"type\": \"carpet\"}], \"choropleth\": [{\"colorbar\": {\"outlinewidth\": 0, \"ticks\": \"\"}, \"type\": \"choropleth\"}], \"contour\": [{\"colorbar\": {\"outlinewidth\": 0, \"ticks\": \"\"}, \"colorscale\": [[0.0, \"#0d0887\"], [0.1111111111111111, \"#46039f\"], [0.2222222222222222, \"#7201a8\"], [0.3333333333333333, \"#9c179e\"], [0.4444444444444444, \"#bd3786\"], [0.5555555555555556, \"#d8576b\"], [0.6666666666666666, \"#ed7953\"], [0.7777777777777778, \"#fb9f3a\"], [0.8888888888888888, \"#fdca26\"], [1.0, \"#f0f921\"]], \"type\": \"contour\"}], \"contourcarpet\": [{\"colorbar\": {\"outlinewidth\": 0, \"ticks\": \"\"}, \"type\": \"contourcarpet\"}], \"heatmap\": [{\"colorbar\": {\"outlinewidth\": 0, \"ticks\": \"\"}, \"colorscale\": [[0.0, \"#0d0887\"], [0.1111111111111111, \"#46039f\"], [0.2222222222222222, \"#7201a8\"], [0.3333333333333333, \"#9c179e\"], [0.4444444444444444, \"#bd3786\"], [0.5555555555555556, \"#d8576b\"], [0.6666666666666666, \"#ed7953\"], [0.7777777777777778, \"#fb9f3a\"], [0.8888888888888888, \"#fdca26\"], [1.0, \"#f0f921\"]], \"type\": \"heatmap\"}], \"heatmapgl\": [{\"colorbar\": {\"outlinewidth\": 0, \"ticks\": \"\"}, \"colorscale\": [[0.0, \"#0d0887\"], [0.1111111111111111, \"#46039f\"], [0.2222222222222222, \"#7201a8\"], [0.3333333333333333, \"#9c179e\"], [0.4444444444444444, \"#bd3786\"], [0.5555555555555556, \"#d8576b\"], [0.6666666666666666, \"#ed7953\"], [0.7777777777777778, \"#fb9f3a\"], [0.8888888888888888, \"#fdca26\"], [1.0, \"#f0f921\"]], \"type\": \"heatmapgl\"}], \"histogram\": [{\"marker\": {\"colorbar\": {\"outlinewidth\": 0, \"ticks\": \"\"}}, \"type\": \"histogram\"}], \"histogram2d\": [{\"colorbar\": {\"outlinewidth\": 0, \"ticks\": \"\"}, \"colorscale\": [[0.0, \"#0d0887\"], [0.1111111111111111, \"#46039f\"], [0.2222222222222222, \"#7201a8\"], [0.3333333333333333, \"#9c179e\"], [0.4444444444444444, \"#bd3786\"], [0.5555555555555556, \"#d8576b\"], [0.6666666666666666, \"#ed7953\"], [0.7777777777777778, \"#fb9f3a\"], [0.8888888888888888, \"#fdca26\"], [1.0, \"#f0f921\"]], \"type\": \"histogram2d\"}], \"histogram2dcontour\": [{\"colorbar\": {\"outlinewidth\": 0, \"ticks\": \"\"}, \"colorscale\": [[0.0, \"#0d0887\"], [0.1111111111111111, \"#46039f\"], [0.2222222222222222, \"#7201a8\"], [0.3333333333333333, \"#9c179e\"], [0.4444444444444444, \"#bd3786\"], [0.5555555555555556, \"#d8576b\"], [0.6666666666666666, \"#ed7953\"], [0.7777777777777778, \"#fb9f3a\"], [0.8888888888888888, \"#fdca26\"], [1.0, \"#f0f921\"]], \"type\": \"histogram2dcontour\"}], \"mesh3d\": [{\"colorbar\": {\"outlinewidth\": 0, \"ticks\": \"\"}, \"type\": \"mesh3d\"}], \"parcoords\": [{\"line\": {\"colorbar\": {\"outlinewidth\": 0, \"ticks\": \"\"}}, \"type\": \"parcoords\"}], \"pie\": [{\"automargin\": true, \"type\": \"pie\"}], \"scatter\": [{\"marker\": {\"colorbar\": {\"outlinewidth\": 0, \"ticks\": \"\"}}, \"type\": \"scatter\"}], \"scatter3d\": [{\"line\": {\"colorbar\": {\"outlinewidth\": 0, \"ticks\": \"\"}}, \"marker\": {\"colorbar\": {\"outlinewidth\": 0, \"ticks\": \"\"}}, \"type\": \"scatter3d\"}], \"scattercarpet\": [{\"marker\": {\"colorbar\": {\"outlinewidth\": 0, \"ticks\": \"\"}}, \"type\": \"scattercarpet\"}], \"scattergeo\": [{\"marker\": {\"colorbar\": {\"outlinewidth\": 0, \"ticks\": \"\"}}, \"type\": \"scattergeo\"}], \"scattergl\": [{\"marker\": {\"colorbar\": {\"outlinewidth\": 0, \"ticks\": \"\"}}, \"type\": \"scattergl\"}], \"scattermapbox\": [{\"marker\": {\"colorbar\": {\"outlinewidth\": 0, \"ticks\": \"\"}}, \"type\": \"scattermapbox\"}], \"scatterpolar\": [{\"marker\": {\"colorbar\": {\"outlinewidth\": 0, \"ticks\": \"\"}}, \"type\": \"scatterpolar\"}], \"scatterpolargl\": [{\"marker\": {\"colorbar\": {\"outlinewidth\": 0, \"ticks\": \"\"}}, \"type\": \"scatterpolargl\"}], \"scatterternary\": [{\"marker\": {\"colorbar\": {\"outlinewidth\": 0, \"ticks\": \"\"}}, \"type\": \"scatterternary\"}], \"surface\": [{\"colorbar\": {\"outlinewidth\": 0, \"ticks\": \"\"}, \"colorscale\": [[0.0, \"#0d0887\"], [0.1111111111111111, \"#46039f\"], [0.2222222222222222, \"#7201a8\"], [0.3333333333333333, \"#9c179e\"], [0.4444444444444444, \"#bd3786\"], [0.5555555555555556, \"#d8576b\"], [0.6666666666666666, \"#ed7953\"], [0.7777777777777778, \"#fb9f3a\"], [0.8888888888888888, \"#fdca26\"], [1.0, \"#f0f921\"]], \"type\": \"surface\"}], \"table\": [{\"cells\": {\"fill\": {\"color\": \"#EBF0F8\"}, \"line\": {\"color\": \"white\"}}, \"header\": {\"fill\": {\"color\": \"#C8D4E3\"}, \"line\": {\"color\": \"white\"}}, \"type\": \"table\"}]}, \"layout\": {\"annotationdefaults\": {\"arrowcolor\": \"#2a3f5f\", \"arrowhead\": 0, \"arrowwidth\": 1}, \"coloraxis\": {\"colorbar\": {\"outlinewidth\": 0, \"ticks\": \"\"}}, \"colorscale\": {\"diverging\": [[0, \"#8e0152\"], [0.1, \"#c51b7d\"], [0.2, \"#de77ae\"], [0.3, \"#f1b6da\"], [0.4, \"#fde0ef\"], [0.5, \"#f7f7f7\"], [0.6, \"#e6f5d0\"], [0.7, \"#b8e186\"], [0.8, \"#7fbc41\"], [0.9, \"#4d9221\"], [1, \"#276419\"]], \"sequential\": [[0.0, \"#0d0887\"], [0.1111111111111111, \"#46039f\"], [0.2222222222222222, \"#7201a8\"], [0.3333333333333333, \"#9c179e\"], [0.4444444444444444, \"#bd3786\"], [0.5555555555555556, \"#d8576b\"], [0.6666666666666666, \"#ed7953\"], [0.7777777777777778, \"#fb9f3a\"], [0.8888888888888888, \"#fdca26\"], [1.0, \"#f0f921\"]], \"sequentialminus\": [[0.0, \"#0d0887\"], [0.1111111111111111, \"#46039f\"], [0.2222222222222222, \"#7201a8\"], [0.3333333333333333, \"#9c179e\"], [0.4444444444444444, \"#bd3786\"], [0.5555555555555556, \"#d8576b\"], [0.6666666666666666, \"#ed7953\"], [0.7777777777777778, \"#fb9f3a\"], [0.8888888888888888, \"#fdca26\"], [1.0, \"#f0f921\"]]}, \"colorway\": [\"#636efa\", \"#EF553B\", \"#00cc96\", \"#ab63fa\", \"#FFA15A\", \"#19d3f3\", \"#FF6692\", \"#B6E880\", \"#FF97FF\", \"#FECB52\"], \"font\": {\"color\": \"#2a3f5f\"}, \"geo\": {\"bgcolor\": \"white\", \"lakecolor\": \"white\", \"landcolor\": \"white\", \"showlakes\": true, \"showland\": true, \"subunitcolor\": \"#C8D4E3\"}, \"hoverlabel\": {\"align\": \"left\"}, \"hovermode\": \"closest\", \"mapbox\": {\"style\": \"light\"}, \"paper_bgcolor\": \"white\", \"plot_bgcolor\": \"white\", \"polar\": {\"angularaxis\": {\"gridcolor\": \"#EBF0F8\", \"linecolor\": \"#EBF0F8\", \"ticks\": \"\"}, \"bgcolor\": \"white\", \"radialaxis\": {\"gridcolor\": \"#EBF0F8\", \"linecolor\": \"#EBF0F8\", \"ticks\": \"\"}}, \"scene\": {\"xaxis\": {\"backgroundcolor\": \"white\", \"gridcolor\": \"#DFE8F3\", \"gridwidth\": 2, \"linecolor\": \"#EBF0F8\", \"showbackground\": true, \"ticks\": \"\", \"zerolinecolor\": \"#EBF0F8\"}, \"yaxis\": {\"backgroundcolor\": \"white\", \"gridcolor\": \"#DFE8F3\", \"gridwidth\": 2, \"linecolor\": \"#EBF0F8\", \"showbackground\": true, \"ticks\": \"\", \"zerolinecolor\": \"#EBF0F8\"}, \"zaxis\": {\"backgroundcolor\": \"white\", \"gridcolor\": \"#DFE8F3\", \"gridwidth\": 2, \"linecolor\": \"#EBF0F8\", \"showbackground\": true, \"ticks\": \"\", \"zerolinecolor\": \"#EBF0F8\"}}, \"shapedefaults\": {\"line\": {\"color\": \"#2a3f5f\"}}, \"ternary\": {\"aaxis\": {\"gridcolor\": \"#DFE8F3\", \"linecolor\": \"#A2B1C6\", \"ticks\": \"\"}, \"baxis\": {\"gridcolor\": \"#DFE8F3\", \"linecolor\": \"#A2B1C6\", \"ticks\": \"\"}, \"bgcolor\": \"white\", \"caxis\": {\"gridcolor\": \"#DFE8F3\", \"linecolor\": \"#A2B1C6\", \"ticks\": \"\"}}, \"title\": {\"x\": 0.05}, \"xaxis\": {\"automargin\": true, \"gridcolor\": \"#EBF0F8\", \"linecolor\": \"#EBF0F8\", \"ticks\": \"\", \"title\": {\"standoff\": 15}, \"zerolinecolor\": \"#EBF0F8\", \"zerolinewidth\": 2}, \"yaxis\": {\"automargin\": true, \"gridcolor\": \"#EBF0F8\", \"linecolor\": \"#EBF0F8\", \"ticks\": \"\", \"title\": {\"standoff\": 15}, \"zerolinecolor\": \"#EBF0F8\", \"zerolinewidth\": 2}}}, \"title\": {\"text\": \"Sail Yield Loss Pareto for PC CD < 98\"}, \"xaxis\": {\"anchor\": \"y\", \"categoryorder\": \"total descending\", \"domain\": [0.0, 1.0], \"title\": {\"text\": \"Label\"}}, \"yaxis\": {\"anchor\": \"x\", \"domain\": [0.0, 1.0], \"title\": {\"text\": \"yld_loss (%)\"}}},\n",
       "                        {\"responsive\": true}\n",
       "                    ).then(function(){\n",
       "                            \n",
       "var gd = document.getElementById('804a2aaa-acd0-4b38-b21a-0174f042201e');\n",
       "var x = new MutationObserver(function (mutations, observer) {{\n",
       "        var display = window.getComputedStyle(gd).display;\n",
       "        if (!display || display === 'none') {{\n",
       "            console.log([gd, 'removed!']);\n",
       "            Plotly.purge(gd);\n",
       "            observer.disconnect();\n",
       "        }}\n",
       "}});\n",
       "\n",
       "// Listen for the removal of the full notebook cells\n",
       "var notebookContainer = gd.closest('#notebook-container');\n",
       "if (notebookContainer) {{\n",
       "    x.observe(notebookContainer, {childList: true});\n",
       "}}\n",
       "\n",
       "// Listen for the clearing of the current output cell\n",
       "var outputEl = gd.closest('.output');\n",
       "if (outputEl) {{\n",
       "    x.observe(outputEl, {childList: true});\n",
       "}}\n",
       "\n",
       "                        })\n",
       "                };\n",
       "                });\n",
       "            </script>\n",
       "        </div>"
      ]
     },
     "metadata": {},
     "output_type": "display_data"
    }
   ],
   "source": [
    "color_map = {'SSL1':'tomato','SSL2':'springgreen','SSL3':'dodgerblue'}\n",
    "fig = px.bar(df_agg, x='label', y='yld_loss',\n",
    "            hover_data=['label', 'yld_loss'],\n",
    "            color = 'sail',\n",
    "            color_discrete_map=color_map,\n",
    "            labels={'label':'Label','yld_loss':'yld_loss'+' (%)'})\n",
    "fig.update_layout(title_text='Sail Yield Loss Pareto for PC CD < 98')\n",
    "fig.update_layout(xaxis_categoryorder = 'total descending')\n",
    "fig.show()"
   ]
  },
  {
   "cell_type": "code",
   "execution_count": 97,
   "metadata": {},
   "outputs": [
    {
     "data": {
      "text/html": [
       "<div>\n",
       "<style scoped>\n",
       "    .dataframe tbody tr th:only-of-type {\n",
       "        vertical-align: middle;\n",
       "    }\n",
       "\n",
       "    .dataframe tbody tr th {\n",
       "        vertical-align: top;\n",
       "    }\n",
       "\n",
       "    .dataframe thead th {\n",
       "        text-align: right;\n",
       "    }\n",
       "</style>\n",
       "<table border=\"1\" class=\"dataframe\">\n",
       "  <thead>\n",
       "    <tr style=\"text-align: right;\">\n",
       "      <th></th>\n",
       "      <th>wafer_id</th>\n",
       "      <th>label</th>\n",
       "      <th>sail</th>\n",
       "      <th>retx</th>\n",
       "      <th>rety</th>\n",
       "      <th>yield</th>\n",
       "      <th>pc aci cd (logic 60cpp)</th>\n",
       "      <th>yld_loss</th>\n",
       "    </tr>\n",
       "  </thead>\n",
       "  <tbody>\n",
       "    <tr>\n",
       "      <th>19</th>\n",
       "      <td>AZ6RA-25</td>\n",
       "      <td>SSL3_0p75_block28_so5</td>\n",
       "      <td>SSL31</td>\n",
       "      <td>6.0</td>\n",
       "      <td>6.0</td>\n",
       "      <td>72.727273</td>\n",
       "      <td>97.018182</td>\n",
       "      <td>27.272727</td>\n",
       "    </tr>\n",
       "    <tr>\n",
       "      <th>20</th>\n",
       "      <td>AZ6RA-25</td>\n",
       "      <td>SSL3_0p75_block28_so3</td>\n",
       "      <td>SSL31</td>\n",
       "      <td>6.0</td>\n",
       "      <td>6.0</td>\n",
       "      <td>72.727273</td>\n",
       "      <td>97.018182</td>\n",
       "      <td>27.272727</td>\n",
       "    </tr>\n",
       "    <tr>\n",
       "      <th>21</th>\n",
       "      <td>AZ6RA-25</td>\n",
       "      <td>SSL3_0p75_block26_so0</td>\n",
       "      <td>SSL31</td>\n",
       "      <td>6.0</td>\n",
       "      <td>6.0</td>\n",
       "      <td>72.727273</td>\n",
       "      <td>97.018182</td>\n",
       "      <td>27.272727</td>\n",
       "    </tr>\n",
       "    <tr>\n",
       "      <th>22</th>\n",
       "      <td>AZ6RA-25</td>\n",
       "      <td>SSL3_0p75_block26_so1</td>\n",
       "      <td>SSL31</td>\n",
       "      <td>6.0</td>\n",
       "      <td>6.0</td>\n",
       "      <td>72.727273</td>\n",
       "      <td>97.018182</td>\n",
       "      <td>27.272727</td>\n",
       "    </tr>\n",
       "    <tr>\n",
       "      <th>23</th>\n",
       "      <td>AZ6RA-25</td>\n",
       "      <td>SSL3_0p75_block26_so2</td>\n",
       "      <td>SSL31</td>\n",
       "      <td>6.0</td>\n",
       "      <td>6.0</td>\n",
       "      <td>72.727273</td>\n",
       "      <td>97.018182</td>\n",
       "      <td>27.272727</td>\n",
       "    </tr>\n",
       "    <tr>\n",
       "      <th>42</th>\n",
       "      <td>AZ6RA-25</td>\n",
       "      <td>SSL3_0p75_block26_so4</td>\n",
       "      <td>SSL31</td>\n",
       "      <td>6.0</td>\n",
       "      <td>6.0</td>\n",
       "      <td>81.818182</td>\n",
       "      <td>97.018182</td>\n",
       "      <td>18.181818</td>\n",
       "    </tr>\n",
       "    <tr>\n",
       "      <th>43</th>\n",
       "      <td>AZ6RA-25</td>\n",
       "      <td>SSL3_0p75_block26_so3</td>\n",
       "      <td>SSL31</td>\n",
       "      <td>6.0</td>\n",
       "      <td>6.0</td>\n",
       "      <td>81.818182</td>\n",
       "      <td>97.018182</td>\n",
       "      <td>18.181818</td>\n",
       "    </tr>\n",
       "    <tr>\n",
       "      <th>45</th>\n",
       "      <td>AZ6RA-25</td>\n",
       "      <td>SSL3_0p75_block26_so5</td>\n",
       "      <td>SSL31</td>\n",
       "      <td>6.0</td>\n",
       "      <td>6.0</td>\n",
       "      <td>81.818182</td>\n",
       "      <td>97.018182</td>\n",
       "      <td>18.181818</td>\n",
       "    </tr>\n",
       "    <tr>\n",
       "      <th>71</th>\n",
       "      <td>AZ6RA-25</td>\n",
       "      <td>SSL3_0p75_block28_so0</td>\n",
       "      <td>SSL31</td>\n",
       "      <td>6.0</td>\n",
       "      <td>6.0</td>\n",
       "      <td>81.818182</td>\n",
       "      <td>97.018182</td>\n",
       "      <td>18.181818</td>\n",
       "    </tr>\n",
       "    <tr>\n",
       "      <th>78</th>\n",
       "      <td>AZ6RA-25</td>\n",
       "      <td>SSL3_0p75_block28_so4</td>\n",
       "      <td>SSL31</td>\n",
       "      <td>6.0</td>\n",
       "      <td>6.0</td>\n",
       "      <td>81.818182</td>\n",
       "      <td>97.018182</td>\n",
       "      <td>18.181818</td>\n",
       "    </tr>\n",
       "    <tr>\n",
       "      <th>79</th>\n",
       "      <td>AZ6RA-25</td>\n",
       "      <td>SSL3_0p75_block28_so2</td>\n",
       "      <td>SSL31</td>\n",
       "      <td>6.0</td>\n",
       "      <td>6.0</td>\n",
       "      <td>81.818182</td>\n",
       "      <td>97.018182</td>\n",
       "      <td>18.181818</td>\n",
       "    </tr>\n",
       "    <tr>\n",
       "      <th>102</th>\n",
       "      <td>AZ6RA-25</td>\n",
       "      <td>SSL2_0p75_block28_so5</td>\n",
       "      <td>SSL21</td>\n",
       "      <td>6.1</td>\n",
       "      <td>6.0</td>\n",
       "      <td>90.000000</td>\n",
       "      <td>97.020000</td>\n",
       "      <td>10.000000</td>\n",
       "    </tr>\n",
       "    <tr>\n",
       "      <th>111</th>\n",
       "      <td>AZ6RA-25</td>\n",
       "      <td>SSL2_0p75_block28_so0</td>\n",
       "      <td>SSL21</td>\n",
       "      <td>6.1</td>\n",
       "      <td>6.0</td>\n",
       "      <td>90.000000</td>\n",
       "      <td>97.020000</td>\n",
       "      <td>10.000000</td>\n",
       "    </tr>\n",
       "    <tr>\n",
       "      <th>112</th>\n",
       "      <td>AZ6RA-25</td>\n",
       "      <td>SSL2_0p75_block28_so1</td>\n",
       "      <td>SSL21</td>\n",
       "      <td>6.1</td>\n",
       "      <td>6.0</td>\n",
       "      <td>90.000000</td>\n",
       "      <td>97.020000</td>\n",
       "      <td>10.000000</td>\n",
       "    </tr>\n",
       "    <tr>\n",
       "      <th>113</th>\n",
       "      <td>AZ6RA-25</td>\n",
       "      <td>SSL2_0p75_block28_so2</td>\n",
       "      <td>SSL21</td>\n",
       "      <td>6.1</td>\n",
       "      <td>6.0</td>\n",
       "      <td>90.000000</td>\n",
       "      <td>97.020000</td>\n",
       "      <td>10.000000</td>\n",
       "    </tr>\n",
       "    <tr>\n",
       "      <th>115</th>\n",
       "      <td>AZ6RA-25</td>\n",
       "      <td>SSL2_0p75_block28_so3</td>\n",
       "      <td>SSL21</td>\n",
       "      <td>6.1</td>\n",
       "      <td>6.0</td>\n",
       "      <td>90.000000</td>\n",
       "      <td>97.020000</td>\n",
       "      <td>10.000000</td>\n",
       "    </tr>\n",
       "    <tr>\n",
       "      <th>116</th>\n",
       "      <td>AZ6RA-25</td>\n",
       "      <td>SSL2_0p75_block28_so4</td>\n",
       "      <td>SSL21</td>\n",
       "      <td>6.1</td>\n",
       "      <td>6.0</td>\n",
       "      <td>90.000000</td>\n",
       "      <td>97.020000</td>\n",
       "      <td>10.000000</td>\n",
       "    </tr>\n",
       "    <tr>\n",
       "      <th>150</th>\n",
       "      <td>AZ6RA-25</td>\n",
       "      <td>SSL1_0p75_block28_so5</td>\n",
       "      <td>SSL11</td>\n",
       "      <td>6.1</td>\n",
       "      <td>6.0</td>\n",
       "      <td>90.000000</td>\n",
       "      <td>97.020000</td>\n",
       "      <td>10.000000</td>\n",
       "    </tr>\n",
       "    <tr>\n",
       "      <th>151</th>\n",
       "      <td>AZ6RA-25</td>\n",
       "      <td>SSL1_0p75_block26_so1</td>\n",
       "      <td>SSL11</td>\n",
       "      <td>6.1</td>\n",
       "      <td>6.0</td>\n",
       "      <td>90.000000</td>\n",
       "      <td>97.020000</td>\n",
       "      <td>10.000000</td>\n",
       "    </tr>\n",
       "    <tr>\n",
       "      <th>152</th>\n",
       "      <td>AZ6RA-25</td>\n",
       "      <td>SSL1_0p75_block28_so1</td>\n",
       "      <td>SSL11</td>\n",
       "      <td>6.1</td>\n",
       "      <td>6.0</td>\n",
       "      <td>90.000000</td>\n",
       "      <td>97.020000</td>\n",
       "      <td>10.000000</td>\n",
       "    </tr>\n",
       "    <tr>\n",
       "      <th>153</th>\n",
       "      <td>AZ6RA-25</td>\n",
       "      <td>SSL1_0p75_block28_so0</td>\n",
       "      <td>SSL11</td>\n",
       "      <td>6.1</td>\n",
       "      <td>6.0</td>\n",
       "      <td>90.000000</td>\n",
       "      <td>97.020000</td>\n",
       "      <td>10.000000</td>\n",
       "    </tr>\n",
       "    <tr>\n",
       "      <th>191</th>\n",
       "      <td>AZ6RA-25</td>\n",
       "      <td>SSL1_0p75_block26_so4</td>\n",
       "      <td>SSL11</td>\n",
       "      <td>6.1</td>\n",
       "      <td>6.0</td>\n",
       "      <td>90.000000</td>\n",
       "      <td>97.020000</td>\n",
       "      <td>10.000000</td>\n",
       "    </tr>\n",
       "    <tr>\n",
       "      <th>192</th>\n",
       "      <td>AZ6RA-25</td>\n",
       "      <td>SSL3_0p75_block28_so1</td>\n",
       "      <td>SSL31</td>\n",
       "      <td>6.0</td>\n",
       "      <td>6.0</td>\n",
       "      <td>90.909091</td>\n",
       "      <td>97.018182</td>\n",
       "      <td>9.090909</td>\n",
       "    </tr>\n",
       "    <tr>\n",
       "      <th>278</th>\n",
       "      <td>AZ6X4-17</td>\n",
       "      <td>SSL3_0p75_block28_so2</td>\n",
       "      <td>SSL31</td>\n",
       "      <td>5.8</td>\n",
       "      <td>6.8</td>\n",
       "      <td>100.000000</td>\n",
       "      <td>97.620000</td>\n",
       "      <td>0.000000</td>\n",
       "    </tr>\n",
       "    <tr>\n",
       "      <th>329</th>\n",
       "      <td>AZ6X4-17</td>\n",
       "      <td>SSL3_0p75_block26_so3</td>\n",
       "      <td>SSL31</td>\n",
       "      <td>5.8</td>\n",
       "      <td>6.8</td>\n",
       "      <td>100.000000</td>\n",
       "      <td>97.620000</td>\n",
       "      <td>0.000000</td>\n",
       "    </tr>\n",
       "    <tr>\n",
       "      <th>330</th>\n",
       "      <td>AZ6X4-17</td>\n",
       "      <td>SSL3_0p75_block26_so2</td>\n",
       "      <td>SSL31</td>\n",
       "      <td>5.8</td>\n",
       "      <td>6.8</td>\n",
       "      <td>100.000000</td>\n",
       "      <td>97.620000</td>\n",
       "      <td>0.000000</td>\n",
       "    </tr>\n",
       "    <tr>\n",
       "      <th>331</th>\n",
       "      <td>AZ6X4-17</td>\n",
       "      <td>SSL3_0p75_block26_so1</td>\n",
       "      <td>SSL31</td>\n",
       "      <td>5.8</td>\n",
       "      <td>6.8</td>\n",
       "      <td>100.000000</td>\n",
       "      <td>97.620000</td>\n",
       "      <td>0.000000</td>\n",
       "    </tr>\n",
       "    <tr>\n",
       "      <th>332</th>\n",
       "      <td>AZ6X4-17</td>\n",
       "      <td>SSL3_0p75_block26_so0</td>\n",
       "      <td>SSL31</td>\n",
       "      <td>5.8</td>\n",
       "      <td>6.8</td>\n",
       "      <td>100.000000</td>\n",
       "      <td>97.620000</td>\n",
       "      <td>0.000000</td>\n",
       "    </tr>\n",
       "    <tr>\n",
       "      <th>347</th>\n",
       "      <td>AZ6X4-17</td>\n",
       "      <td>SSL3_0p75_block26_so4</td>\n",
       "      <td>SSL31</td>\n",
       "      <td>5.8</td>\n",
       "      <td>6.8</td>\n",
       "      <td>100.000000</td>\n",
       "      <td>97.620000</td>\n",
       "      <td>0.000000</td>\n",
       "    </tr>\n",
       "    <tr>\n",
       "      <th>351</th>\n",
       "      <td>AZ6X4-17</td>\n",
       "      <td>SSL3_0p75_block28_so0</td>\n",
       "      <td>SSL31</td>\n",
       "      <td>5.8</td>\n",
       "      <td>6.8</td>\n",
       "      <td>100.000000</td>\n",
       "      <td>97.620000</td>\n",
       "      <td>0.000000</td>\n",
       "    </tr>\n",
       "    <tr>\n",
       "      <th>354</th>\n",
       "      <td>AZ6X4-17</td>\n",
       "      <td>SSL3_0p75_block28_so3</td>\n",
       "      <td>SSL31</td>\n",
       "      <td>5.8</td>\n",
       "      <td>6.8</td>\n",
       "      <td>100.000000</td>\n",
       "      <td>97.620000</td>\n",
       "      <td>0.000000</td>\n",
       "    </tr>\n",
       "    <tr>\n",
       "      <th>355</th>\n",
       "      <td>AZ6X4-17</td>\n",
       "      <td>SSL3_0p75_block28_so4</td>\n",
       "      <td>SSL31</td>\n",
       "      <td>5.8</td>\n",
       "      <td>6.8</td>\n",
       "      <td>100.000000</td>\n",
       "      <td>97.620000</td>\n",
       "      <td>0.000000</td>\n",
       "    </tr>\n",
       "    <tr>\n",
       "      <th>356</th>\n",
       "      <td>AZ6X4-17</td>\n",
       "      <td>SSL3_0p75_block28_so5</td>\n",
       "      <td>SSL31</td>\n",
       "      <td>5.8</td>\n",
       "      <td>6.8</td>\n",
       "      <td>100.000000</td>\n",
       "      <td>97.620000</td>\n",
       "      <td>0.000000</td>\n",
       "    </tr>\n",
       "    <tr>\n",
       "      <th>367</th>\n",
       "      <td>AZ6X4-17</td>\n",
       "      <td>SSL3_0p75_block26_so5</td>\n",
       "      <td>SSL31</td>\n",
       "      <td>5.8</td>\n",
       "      <td>6.8</td>\n",
       "      <td>100.000000</td>\n",
       "      <td>97.620000</td>\n",
       "      <td>0.000000</td>\n",
       "    </tr>\n",
       "    <tr>\n",
       "      <th>377</th>\n",
       "      <td>AZ6X4-17</td>\n",
       "      <td>SSL3_0p75_block28_so1</td>\n",
       "      <td>SSL31</td>\n",
       "      <td>5.8</td>\n",
       "      <td>6.8</td>\n",
       "      <td>100.000000</td>\n",
       "      <td>97.620000</td>\n",
       "      <td>0.000000</td>\n",
       "    </tr>\n",
       "    <tr>\n",
       "      <th>572</th>\n",
       "      <td>AZ6X4-17</td>\n",
       "      <td>SSL2_0p75_block26_so2</td>\n",
       "      <td>SSL21</td>\n",
       "      <td>5.8</td>\n",
       "      <td>6.8</td>\n",
       "      <td>100.000000</td>\n",
       "      <td>97.620000</td>\n",
       "      <td>0.000000</td>\n",
       "    </tr>\n",
       "    <tr>\n",
       "      <th>573</th>\n",
       "      <td>AZ6X4-17</td>\n",
       "      <td>SSL2_0p75_block28_so0</td>\n",
       "      <td>SSL21</td>\n",
       "      <td>5.8</td>\n",
       "      <td>6.8</td>\n",
       "      <td>100.000000</td>\n",
       "      <td>97.620000</td>\n",
       "      <td>0.000000</td>\n",
       "    </tr>\n",
       "    <tr>\n",
       "      <th>580</th>\n",
       "      <td>AZ6X4-17</td>\n",
       "      <td>SSL2_0p75_block26_so5</td>\n",
       "      <td>SSL21</td>\n",
       "      <td>5.8</td>\n",
       "      <td>6.8</td>\n",
       "      <td>100.000000</td>\n",
       "      <td>97.620000</td>\n",
       "      <td>0.000000</td>\n",
       "    </tr>\n",
       "    <tr>\n",
       "      <th>581</th>\n",
       "      <td>AZ6X4-17</td>\n",
       "      <td>SSL2_0p75_block26_so4</td>\n",
       "      <td>SSL21</td>\n",
       "      <td>5.8</td>\n",
       "      <td>6.8</td>\n",
       "      <td>100.000000</td>\n",
       "      <td>97.620000</td>\n",
       "      <td>0.000000</td>\n",
       "    </tr>\n",
       "    <tr>\n",
       "      <th>582</th>\n",
       "      <td>AZ6X4-17</td>\n",
       "      <td>SSL2_0p75_block26_so3</td>\n",
       "      <td>SSL21</td>\n",
       "      <td>5.8</td>\n",
       "      <td>6.8</td>\n",
       "      <td>100.000000</td>\n",
       "      <td>97.620000</td>\n",
       "      <td>0.000000</td>\n",
       "    </tr>\n",
       "    <tr>\n",
       "      <th>583</th>\n",
       "      <td>AZ6X4-17</td>\n",
       "      <td>SSL2_0p75_block26_so1</td>\n",
       "      <td>SSL21</td>\n",
       "      <td>5.8</td>\n",
       "      <td>6.8</td>\n",
       "      <td>100.000000</td>\n",
       "      <td>97.620000</td>\n",
       "      <td>0.000000</td>\n",
       "    </tr>\n",
       "    <tr>\n",
       "      <th>585</th>\n",
       "      <td>AZ6X4-17</td>\n",
       "      <td>SSL2_0p75_block26_so0</td>\n",
       "      <td>SSL21</td>\n",
       "      <td>5.8</td>\n",
       "      <td>6.8</td>\n",
       "      <td>100.000000</td>\n",
       "      <td>97.620000</td>\n",
       "      <td>0.000000</td>\n",
       "    </tr>\n",
       "    <tr>\n",
       "      <th>595</th>\n",
       "      <td>AZ6X4-17</td>\n",
       "      <td>SSL2_0p75_block28_so1</td>\n",
       "      <td>SSL21</td>\n",
       "      <td>5.8</td>\n",
       "      <td>6.8</td>\n",
       "      <td>100.000000</td>\n",
       "      <td>97.620000</td>\n",
       "      <td>0.000000</td>\n",
       "    </tr>\n",
       "    <tr>\n",
       "      <th>596</th>\n",
       "      <td>AZ6X4-17</td>\n",
       "      <td>SSL2_0p75_block28_so2</td>\n",
       "      <td>SSL21</td>\n",
       "      <td>5.8</td>\n",
       "      <td>6.8</td>\n",
       "      <td>100.000000</td>\n",
       "      <td>97.620000</td>\n",
       "      <td>0.000000</td>\n",
       "    </tr>\n",
       "    <tr>\n",
       "      <th>597</th>\n",
       "      <td>AZ6X4-17</td>\n",
       "      <td>SSL2_0p75_block28_so3</td>\n",
       "      <td>SSL21</td>\n",
       "      <td>5.8</td>\n",
       "      <td>6.8</td>\n",
       "      <td>100.000000</td>\n",
       "      <td>97.620000</td>\n",
       "      <td>0.000000</td>\n",
       "    </tr>\n",
       "    <tr>\n",
       "      <th>598</th>\n",
       "      <td>AZ6X4-17</td>\n",
       "      <td>SSL2_0p75_block28_so4</td>\n",
       "      <td>SSL21</td>\n",
       "      <td>5.8</td>\n",
       "      <td>6.8</td>\n",
       "      <td>100.000000</td>\n",
       "      <td>97.620000</td>\n",
       "      <td>0.000000</td>\n",
       "    </tr>\n",
       "    <tr>\n",
       "      <th>619</th>\n",
       "      <td>AZ6X4-17</td>\n",
       "      <td>SSL2_0p75_block28_so5</td>\n",
       "      <td>SSL21</td>\n",
       "      <td>5.8</td>\n",
       "      <td>6.8</td>\n",
       "      <td>100.000000</td>\n",
       "      <td>97.620000</td>\n",
       "      <td>0.000000</td>\n",
       "    </tr>\n",
       "    <tr>\n",
       "      <th>621</th>\n",
       "      <td>AZ6XZ-04</td>\n",
       "      <td>SSL1_0p75_block28_so5</td>\n",
       "      <td>SSL11</td>\n",
       "      <td>5.0</td>\n",
       "      <td>6.0</td>\n",
       "      <td>100.000000</td>\n",
       "      <td>97.800000</td>\n",
       "      <td>0.000000</td>\n",
       "    </tr>\n",
       "    <tr>\n",
       "      <th>624</th>\n",
       "      <td>AZ6XZ-04</td>\n",
       "      <td>SSL2_0p75_block26_so2</td>\n",
       "      <td>SSL21</td>\n",
       "      <td>5.0</td>\n",
       "      <td>6.0</td>\n",
       "      <td>100.000000</td>\n",
       "      <td>97.800000</td>\n",
       "      <td>0.000000</td>\n",
       "    </tr>\n",
       "    <tr>\n",
       "      <th>625</th>\n",
       "      <td>AZ6XZ-04</td>\n",
       "      <td>SSL2_0p75_block26_so1</td>\n",
       "      <td>SSL21</td>\n",
       "      <td>5.0</td>\n",
       "      <td>6.0</td>\n",
       "      <td>100.000000</td>\n",
       "      <td>97.800000</td>\n",
       "      <td>0.000000</td>\n",
       "    </tr>\n",
       "    <tr>\n",
       "      <th>626</th>\n",
       "      <td>AZ6XZ-04</td>\n",
       "      <td>SSL2_0p75_block26_so0</td>\n",
       "      <td>SSL21</td>\n",
       "      <td>5.0</td>\n",
       "      <td>6.0</td>\n",
       "      <td>100.000000</td>\n",
       "      <td>97.800000</td>\n",
       "      <td>0.000000</td>\n",
       "    </tr>\n",
       "    <tr>\n",
       "      <th>634</th>\n",
       "      <td>AZ6XZ-04</td>\n",
       "      <td>SSL2_0p75_block26_so4</td>\n",
       "      <td>SSL21</td>\n",
       "      <td>5.0</td>\n",
       "      <td>6.0</td>\n",
       "      <td>100.000000</td>\n",
       "      <td>97.800000</td>\n",
       "      <td>0.000000</td>\n",
       "    </tr>\n",
       "    <tr>\n",
       "      <th>644</th>\n",
       "      <td>AZ6XZ-04</td>\n",
       "      <td>SSL2_0p75_block26_so3</td>\n",
       "      <td>SSL21</td>\n",
       "      <td>5.0</td>\n",
       "      <td>6.0</td>\n",
       "      <td>100.000000</td>\n",
       "      <td>97.800000</td>\n",
       "      <td>0.000000</td>\n",
       "    </tr>\n",
       "    <tr>\n",
       "      <th>645</th>\n",
       "      <td>AZ6XZ-04</td>\n",
       "      <td>SSL2_0p75_block26_so5</td>\n",
       "      <td>SSL21</td>\n",
       "      <td>5.0</td>\n",
       "      <td>6.0</td>\n",
       "      <td>100.000000</td>\n",
       "      <td>97.800000</td>\n",
       "      <td>0.000000</td>\n",
       "    </tr>\n",
       "    <tr>\n",
       "      <th>647</th>\n",
       "      <td>AZ6XZ-04</td>\n",
       "      <td>SSL2_0p75_block28_so5</td>\n",
       "      <td>SSL21</td>\n",
       "      <td>5.0</td>\n",
       "      <td>6.0</td>\n",
       "      <td>100.000000</td>\n",
       "      <td>97.800000</td>\n",
       "      <td>0.000000</td>\n",
       "    </tr>\n",
       "    <tr>\n",
       "      <th>657</th>\n",
       "      <td>AZ6XZ-04</td>\n",
       "      <td>SSL2_0p75_block28_so4</td>\n",
       "      <td>SSL21</td>\n",
       "      <td>5.0</td>\n",
       "      <td>6.0</td>\n",
       "      <td>100.000000</td>\n",
       "      <td>97.800000</td>\n",
       "      <td>0.000000</td>\n",
       "    </tr>\n",
       "    <tr>\n",
       "      <th>659</th>\n",
       "      <td>AZ6XZ-04</td>\n",
       "      <td>SSL2_0p75_block28_so3</td>\n",
       "      <td>SSL21</td>\n",
       "      <td>5.0</td>\n",
       "      <td>6.0</td>\n",
       "      <td>100.000000</td>\n",
       "      <td>97.800000</td>\n",
       "      <td>0.000000</td>\n",
       "    </tr>\n",
       "    <tr>\n",
       "      <th>660</th>\n",
       "      <td>AZ6XZ-04</td>\n",
       "      <td>SSL2_0p75_block28_so2</td>\n",
       "      <td>SSL21</td>\n",
       "      <td>5.0</td>\n",
       "      <td>6.0</td>\n",
       "      <td>100.000000</td>\n",
       "      <td>97.800000</td>\n",
       "      <td>0.000000</td>\n",
       "    </tr>\n",
       "    <tr>\n",
       "      <th>661</th>\n",
       "      <td>AZ6XZ-04</td>\n",
       "      <td>SSL2_0p75_block28_so1</td>\n",
       "      <td>SSL21</td>\n",
       "      <td>5.0</td>\n",
       "      <td>6.0</td>\n",
       "      <td>100.000000</td>\n",
       "      <td>97.800000</td>\n",
       "      <td>0.000000</td>\n",
       "    </tr>\n",
       "    <tr>\n",
       "      <th>662</th>\n",
       "      <td>AZ6XZ-04</td>\n",
       "      <td>SSL2_0p75_block28_so0</td>\n",
       "      <td>SSL21</td>\n",
       "      <td>5.0</td>\n",
       "      <td>6.0</td>\n",
       "      <td>100.000000</td>\n",
       "      <td>97.800000</td>\n",
       "      <td>0.000000</td>\n",
       "    </tr>\n",
       "  </tbody>\n",
       "</table>\n",
       "</div>"
      ],
      "text/plain": [
       "     wafer_id                  label   sail  retx  rety       yield  \\\n",
       "19   AZ6RA-25  SSL3_0p75_block28_so5  SSL31   6.0   6.0   72.727273   \n",
       "20   AZ6RA-25  SSL3_0p75_block28_so3  SSL31   6.0   6.0   72.727273   \n",
       "21   AZ6RA-25  SSL3_0p75_block26_so0  SSL31   6.0   6.0   72.727273   \n",
       "22   AZ6RA-25  SSL3_0p75_block26_so1  SSL31   6.0   6.0   72.727273   \n",
       "23   AZ6RA-25  SSL3_0p75_block26_so2  SSL31   6.0   6.0   72.727273   \n",
       "42   AZ6RA-25  SSL3_0p75_block26_so4  SSL31   6.0   6.0   81.818182   \n",
       "43   AZ6RA-25  SSL3_0p75_block26_so3  SSL31   6.0   6.0   81.818182   \n",
       "45   AZ6RA-25  SSL3_0p75_block26_so5  SSL31   6.0   6.0   81.818182   \n",
       "71   AZ6RA-25  SSL3_0p75_block28_so0  SSL31   6.0   6.0   81.818182   \n",
       "78   AZ6RA-25  SSL3_0p75_block28_so4  SSL31   6.0   6.0   81.818182   \n",
       "79   AZ6RA-25  SSL3_0p75_block28_so2  SSL31   6.0   6.0   81.818182   \n",
       "102  AZ6RA-25  SSL2_0p75_block28_so5  SSL21   6.1   6.0   90.000000   \n",
       "111  AZ6RA-25  SSL2_0p75_block28_so0  SSL21   6.1   6.0   90.000000   \n",
       "112  AZ6RA-25  SSL2_0p75_block28_so1  SSL21   6.1   6.0   90.000000   \n",
       "113  AZ6RA-25  SSL2_0p75_block28_so2  SSL21   6.1   6.0   90.000000   \n",
       "115  AZ6RA-25  SSL2_0p75_block28_so3  SSL21   6.1   6.0   90.000000   \n",
       "116  AZ6RA-25  SSL2_0p75_block28_so4  SSL21   6.1   6.0   90.000000   \n",
       "150  AZ6RA-25  SSL1_0p75_block28_so5  SSL11   6.1   6.0   90.000000   \n",
       "151  AZ6RA-25  SSL1_0p75_block26_so1  SSL11   6.1   6.0   90.000000   \n",
       "152  AZ6RA-25  SSL1_0p75_block28_so1  SSL11   6.1   6.0   90.000000   \n",
       "153  AZ6RA-25  SSL1_0p75_block28_so0  SSL11   6.1   6.0   90.000000   \n",
       "191  AZ6RA-25  SSL1_0p75_block26_so4  SSL11   6.1   6.0   90.000000   \n",
       "192  AZ6RA-25  SSL3_0p75_block28_so1  SSL31   6.0   6.0   90.909091   \n",
       "278  AZ6X4-17  SSL3_0p75_block28_so2  SSL31   5.8   6.8  100.000000   \n",
       "329  AZ6X4-17  SSL3_0p75_block26_so3  SSL31   5.8   6.8  100.000000   \n",
       "330  AZ6X4-17  SSL3_0p75_block26_so2  SSL31   5.8   6.8  100.000000   \n",
       "331  AZ6X4-17  SSL3_0p75_block26_so1  SSL31   5.8   6.8  100.000000   \n",
       "332  AZ6X4-17  SSL3_0p75_block26_so0  SSL31   5.8   6.8  100.000000   \n",
       "347  AZ6X4-17  SSL3_0p75_block26_so4  SSL31   5.8   6.8  100.000000   \n",
       "351  AZ6X4-17  SSL3_0p75_block28_so0  SSL31   5.8   6.8  100.000000   \n",
       "354  AZ6X4-17  SSL3_0p75_block28_so3  SSL31   5.8   6.8  100.000000   \n",
       "355  AZ6X4-17  SSL3_0p75_block28_so4  SSL31   5.8   6.8  100.000000   \n",
       "356  AZ6X4-17  SSL3_0p75_block28_so5  SSL31   5.8   6.8  100.000000   \n",
       "367  AZ6X4-17  SSL3_0p75_block26_so5  SSL31   5.8   6.8  100.000000   \n",
       "377  AZ6X4-17  SSL3_0p75_block28_so1  SSL31   5.8   6.8  100.000000   \n",
       "572  AZ6X4-17  SSL2_0p75_block26_so2  SSL21   5.8   6.8  100.000000   \n",
       "573  AZ6X4-17  SSL2_0p75_block28_so0  SSL21   5.8   6.8  100.000000   \n",
       "580  AZ6X4-17  SSL2_0p75_block26_so5  SSL21   5.8   6.8  100.000000   \n",
       "581  AZ6X4-17  SSL2_0p75_block26_so4  SSL21   5.8   6.8  100.000000   \n",
       "582  AZ6X4-17  SSL2_0p75_block26_so3  SSL21   5.8   6.8  100.000000   \n",
       "583  AZ6X4-17  SSL2_0p75_block26_so1  SSL21   5.8   6.8  100.000000   \n",
       "585  AZ6X4-17  SSL2_0p75_block26_so0  SSL21   5.8   6.8  100.000000   \n",
       "595  AZ6X4-17  SSL2_0p75_block28_so1  SSL21   5.8   6.8  100.000000   \n",
       "596  AZ6X4-17  SSL2_0p75_block28_so2  SSL21   5.8   6.8  100.000000   \n",
       "597  AZ6X4-17  SSL2_0p75_block28_so3  SSL21   5.8   6.8  100.000000   \n",
       "598  AZ6X4-17  SSL2_0p75_block28_so4  SSL21   5.8   6.8  100.000000   \n",
       "619  AZ6X4-17  SSL2_0p75_block28_so5  SSL21   5.8   6.8  100.000000   \n",
       "621  AZ6XZ-04  SSL1_0p75_block28_so5  SSL11   5.0   6.0  100.000000   \n",
       "624  AZ6XZ-04  SSL2_0p75_block26_so2  SSL21   5.0   6.0  100.000000   \n",
       "625  AZ6XZ-04  SSL2_0p75_block26_so1  SSL21   5.0   6.0  100.000000   \n",
       "626  AZ6XZ-04  SSL2_0p75_block26_so0  SSL21   5.0   6.0  100.000000   \n",
       "634  AZ6XZ-04  SSL2_0p75_block26_so4  SSL21   5.0   6.0  100.000000   \n",
       "644  AZ6XZ-04  SSL2_0p75_block26_so3  SSL21   5.0   6.0  100.000000   \n",
       "645  AZ6XZ-04  SSL2_0p75_block26_so5  SSL21   5.0   6.0  100.000000   \n",
       "647  AZ6XZ-04  SSL2_0p75_block28_so5  SSL21   5.0   6.0  100.000000   \n",
       "657  AZ6XZ-04  SSL2_0p75_block28_so4  SSL21   5.0   6.0  100.000000   \n",
       "659  AZ6XZ-04  SSL2_0p75_block28_so3  SSL21   5.0   6.0  100.000000   \n",
       "660  AZ6XZ-04  SSL2_0p75_block28_so2  SSL21   5.0   6.0  100.000000   \n",
       "661  AZ6XZ-04  SSL2_0p75_block28_so1  SSL21   5.0   6.0  100.000000   \n",
       "662  AZ6XZ-04  SSL2_0p75_block28_so0  SSL21   5.0   6.0  100.000000   \n",
       "\n",
       "     pc aci cd (logic 60cpp)   yld_loss  \n",
       "19                 97.018182  27.272727  \n",
       "20                 97.018182  27.272727  \n",
       "21                 97.018182  27.272727  \n",
       "22                 97.018182  27.272727  \n",
       "23                 97.018182  27.272727  \n",
       "42                 97.018182  18.181818  \n",
       "43                 97.018182  18.181818  \n",
       "45                 97.018182  18.181818  \n",
       "71                 97.018182  18.181818  \n",
       "78                 97.018182  18.181818  \n",
       "79                 97.018182  18.181818  \n",
       "102                97.020000  10.000000  \n",
       "111                97.020000  10.000000  \n",
       "112                97.020000  10.000000  \n",
       "113                97.020000  10.000000  \n",
       "115                97.020000  10.000000  \n",
       "116                97.020000  10.000000  \n",
       "150                97.020000  10.000000  \n",
       "151                97.020000  10.000000  \n",
       "152                97.020000  10.000000  \n",
       "153                97.020000  10.000000  \n",
       "191                97.020000  10.000000  \n",
       "192                97.018182   9.090909  \n",
       "278                97.620000   0.000000  \n",
       "329                97.620000   0.000000  \n",
       "330                97.620000   0.000000  \n",
       "331                97.620000   0.000000  \n",
       "332                97.620000   0.000000  \n",
       "347                97.620000   0.000000  \n",
       "351                97.620000   0.000000  \n",
       "354                97.620000   0.000000  \n",
       "355                97.620000   0.000000  \n",
       "356                97.620000   0.000000  \n",
       "367                97.620000   0.000000  \n",
       "377                97.620000   0.000000  \n",
       "572                97.620000   0.000000  \n",
       "573                97.620000   0.000000  \n",
       "580                97.620000   0.000000  \n",
       "581                97.620000   0.000000  \n",
       "582                97.620000   0.000000  \n",
       "583                97.620000   0.000000  \n",
       "585                97.620000   0.000000  \n",
       "595                97.620000   0.000000  \n",
       "596                97.620000   0.000000  \n",
       "597                97.620000   0.000000  \n",
       "598                97.620000   0.000000  \n",
       "619                97.620000   0.000000  \n",
       "621                97.800000   0.000000  \n",
       "624                97.800000   0.000000  \n",
       "625                97.800000   0.000000  \n",
       "626                97.800000   0.000000  \n",
       "634                97.800000   0.000000  \n",
       "644                97.800000   0.000000  \n",
       "645                97.800000   0.000000  \n",
       "647                97.800000   0.000000  \n",
       "657                97.800000   0.000000  \n",
       "659                97.800000   0.000000  \n",
       "660                97.800000   0.000000  \n",
       "661                97.800000   0.000000  \n",
       "662                97.800000   0.000000  "
      ]
     },
     "execution_count": 97,
     "metadata": {},
     "output_type": "execute_result"
    }
   ],
   "source": [
    "df_agg[df_agg['label'].str.contains('block26') | df_agg['label'].str.contains('block28')][0:60]"
   ]
  },
  {
   "cell_type": "code",
   "execution_count": null,
   "metadata": {},
   "outputs": [],
   "source": []
  }
 ],
 "metadata": {
  "kernelspec": {
   "display_name": "Python 3",
   "language": "python",
   "name": "python3"
  },
  "language_info": {
   "codemirror_mode": {
    "name": "ipython",
    "version": 3
   },
   "file_extension": ".py",
   "mimetype": "text/x-python",
   "name": "python",
   "nbconvert_exporter": "python",
   "pygments_lexer": "ipython3",
   "version": "3.7.8"
  }
 },
 "nbformat": 4,
 "nbformat_minor": 4
}
