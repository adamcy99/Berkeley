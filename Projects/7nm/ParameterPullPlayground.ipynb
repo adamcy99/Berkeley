{
 "cells": [
  {
   "cell_type": "markdown",
   "id": "secondary-architect",
   "metadata": {},
   "source": [
    "# Method 1: Pull all data at once, store it as a dataframe and pull individual parameters from the dataframe as required.\n",
    "\n",
    "Good for Pybox, bad for private work computers.\n",
    "- Pybox can pull data much faster than local work computers\n",
    "- This method required a lot more memory allocated to storing all the data which can strain private computers but trivial to Pybox\n",
    "- This method is implemented because Pybox performs very poorly with parallel computing because our personal laptops have faster processors/ faster cores"
   ]
  },
  {
   "cell_type": "code",
   "execution_count": 2,
   "id": "beginning-rwanda",
   "metadata": {},
   "outputs": [],
   "source": [
    "import ibmdata\n",
    "import pandas as pd\n",
    "import numpy as np"
   ]
  },
  {
   "cell_type": "code",
   "execution_count": 10,
   "id": "multiple-hughes",
   "metadata": {},
   "outputs": [],
   "source": [
    "days_back = 100\n",
    "query = f\"\"\"\n",
    "SELECT LEFT(lot_Id,5) AS lot_id, family_Code, MIN(Last_test_date) AS date,\n",
    "tp.parm_Label as parameter, AVG(weighted_Mean) as mean \n",
    "FROM DMIW.PTileWaferFact ptwf\n",
    "JOIN DMIW_SYSTEMS.TestParm tp ON tp.testparmkey = ptwf.testparmkey\n",
    "JOIN DMIW_SYSTEMS.TestedWafer tw ON tw.testedWaferKey = ptwf.testedWaferKey\n",
    "WHERE Last_test_date >= (current date - {days_back} days)\n",
    "AND Tech_id = '7HPP' \n",
    "AND weighted_Mean is not null AND abs(weighted_Mean) < 1e25 \n",
    "AND family_Code IN ('Q6', 'X2')\n",
    "GROUP BY LEFT(lot_Id,5), family_Code, tp.parm_Label\n",
    "ORDER BY MIN(Last_test_date), LEFT(lot_Id,5)\n",
    "\"\"\"\n",
    "df = ibmdata.isdw.query(query)\n"
   ]
  },
  {
   "cell_type": "code",
   "execution_count": 6,
   "id": "complex-korea",
   "metadata": {},
   "outputs": [
    {
     "data": {
      "text/html": [
       "<div>\n",
       "<style scoped>\n",
       "    .dataframe tbody tr th:only-of-type {\n",
       "        vertical-align: middle;\n",
       "    }\n",
       "\n",
       "    .dataframe tbody tr th {\n",
       "        vertical-align: top;\n",
       "    }\n",
       "\n",
       "    .dataframe thead th {\n",
       "        text-align: right;\n",
       "    }\n",
       "</style>\n",
       "<table border=\"1\" class=\"dataframe\">\n",
       "  <thead>\n",
       "    <tr style=\"text-align: right;\">\n",
       "      <th></th>\n",
       "      <th>lot_id</th>\n",
       "      <th>family_code</th>\n",
       "      <th>date</th>\n",
       "      <th>parameter</th>\n",
       "      <th>mean</th>\n",
       "    </tr>\n",
       "  </thead>\n",
       "  <tbody>\n",
       "  </tbody>\n",
       "</table>\n",
       "</div>"
      ],
      "text/plain": [
       "Empty DataFrame\n",
       "Columns: [lot_id, family_code, date, parameter, mean]\n",
       "Index: []"
      ]
     },
     "execution_count": 6,
     "metadata": {},
     "output_type": "execute_result"
    }
   ],
   "source": [
    "df"
   ]
  },
  {
   "cell_type": "code",
   "execution_count": null,
   "id": "mathematical-multimedia",
   "metadata": {},
   "outputs": [],
   "source": []
  }
 ],
 "metadata": {
  "kernelspec": {
   "display_name": "Python 3 (ipykernel)",
   "language": "python",
   "name": "python3"
  },
  "language_info": {
   "codemirror_mode": {
    "name": "ipython",
    "version": 3
   },
   "file_extension": ".py",
   "mimetype": "text/x-python",
   "name": "python",
   "nbconvert_exporter": "python",
   "pygments_lexer": "ipython3",
   "version": "3.9.2"
  }
 },
 "nbformat": 4,
 "nbformat_minor": 5
}
