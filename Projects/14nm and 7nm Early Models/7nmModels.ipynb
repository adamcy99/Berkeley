{
 "cells": [
  {
   "cell_type": "code",
   "execution_count": 1,
   "metadata": {},
   "outputs": [
    {
     "name": "stderr",
     "output_type": "stream",
     "text": [
      "/anaconda3/lib/python3.7/site-packages/sklearn/ensemble/weight_boosting.py:29: DeprecationWarning: numpy.core.umath_tests is an internal NumPy module and should not be imported. It will be removed in a future NumPy release.\n",
      "  from numpy.core.umath_tests import inner1d\n"
     ]
    }
   ],
   "source": [
    "import pandas as pd\n",
    "import numpy as np\n",
    "import datetime\n",
    "import matplotlib.pyplot as plt\n",
    "import matplotlib\n",
    "import seaborn as sns\n",
    "%matplotlib inline\n",
    "import pyodbc\n",
    "con = pyodbc.connect('DSN=ISDW')\n",
    "from sklearn.model_selection import train_test_split\n",
    "from sklearn import model_selection\n",
    "from sklearn import ensemble\n",
    "from sklearn import metrics\n",
    "from sklearn import naive_bayes \n",
    "from sklearn.neighbors import KNeighborsClassifier\n",
    "from sklearn.externals import joblib\n",
    "\n",
    "import warnings\n",
    "warnings.simplefilter(action='ignore', category=FutureWarning)"
   ]
  },
  {
   "cell_type": "markdown",
   "metadata": {},
   "source": [
    "# Model Training"
   ]
  },
  {
   "cell_type": "markdown",
   "metadata": {},
   "source": [
    "## Radial and Smiley"
   ]
  },
  {
   "cell_type": "markdown",
   "metadata": {},
   "source": [
    "### Pull Training Features"
   ]
  },
  {
   "cell_type": "code",
   "execution_count": 2,
   "metadata": {},
   "outputs": [],
   "source": [
    "daysback = 300\n",
    "Calcdefs = 'S2561'\n",
    "corner = 'SRAM256MST00p655CHIPA'\n",
    "categoryName = 'BIT'\n",
    "\n",
    "SQLQuery = \"\"\"\n",
    "SELECT lot_id_base, APRCTable.wafer_id, APRCTable.ChipX || ', ' || APRCTable.ChipY as ChipXY, family_Code,\n",
    "     radius_Center_5, quadrant as waf_quadrant, locationType,\n",
    "     --APRCTable.corner, categoryName as aprc, \n",
    "     BitCount, Q0FailCount, Q1FailCount, Q2FailCount, Q3FailCount\n",
    "     \n",
    "FROM\n",
    "(\n",
    "Select lot_id_base, wafer_Id, ChipX, ChipY, family_Code, radius_Center_5, quadrant, locationType, SUM(BitCount) as BitCount\n",
    "FROM\n",
    "(\n",
    "SELECT left(lot_Id, 5) as lot_id_base, wafer_Id, normalized_TestX as ChipX, normalized_TestY as ChipY, family_Code,\n",
    "     corner, categoryName, count, radius_Center_5, quadrant, locationType,\n",
    "     case\n",
    "         when corner = '{}' and categoryName = '{}' then count\n",
    "         else 0\n",
    "     end as BitCount\n",
    "FROM DMIW.PattRecChipFactR prcfr\n",
    "JOIN DMIW_SYSTEMS.DerivedDataSetup dds ON prcfr.derivedSetupKey = dds.derivedSetupKey\n",
    "JOIN DMIW_SYSTEMS.PattRecCategory prc ON prcfr.pattRecCatKey = prc.pattRecCatKey\n",
    "JOIN DMIW_SYSTEMS.Geography geo ON prcfr.geographyKey = geo.geographyKey\n",
    "JOIN (select testedWaferKey, lot_Id, wafer_id, family_Code, cur_Lot_Grade as lot_Grade, last_TestTimeStamp as date,\n",
    "     level, testProgramName, last_Eqp_Id\n",
    "     from DMIW_SYSTEMS.TestedWafer tw\n",
    "     where Last_test_date >= (current date - {} days) and Tech_id = '7HPP' and Calcdefs = '{}'\n",
    "     group by testedWaferKey, lot_Id, wafer_Id, family_Code, cur_Lot_Grade, last_TestTimeStamp, level, \n",
    "     testProgramName, last_Eqp_Id) tw ON prcfr.testedWaferKey = tw.testedWaferKey\n",
    "WHERE categoryName <> '' and exclude_Flag = 'N'\n",
    ")\n",
    "GROUP BY lot_id_base, wafer_Id, ChipX, ChipY, family_Code, radius_Center_5, quadrant, locationType\n",
    "ORDER BY lot_Id_base, wafer_Id, ChipX, ChipY\n",
    ") APRCTable\n",
    "\n",
    "JOIN\n",
    "(\n",
    "SELECT wafer_Id, ChipX, ChipY,\n",
    "    SUM(Q0FailCount) as Q0FailCount, SUM(Q1FailCount) as Q1FailCount,\n",
    "    SUM(Q2FailCount) as Q2FailCount, SUM(Q3FailCount) as Q3FailCount\n",
    "FROM\n",
    "(\n",
    "SELECT wafer_Id, normalized_TestX as ChipX, normalized_TestY as ChipY, tp.parm_Label, parmValue,\n",
    "     case\n",
    "         when ucase(tp.parm_Label) = 'S256~H2~Q0_FBC_0P65' then parmValue\n",
    "         else 0\n",
    "     end as Q0FailCount,\n",
    "     case\n",
    "         when ucase(tp.parm_Label) = 'S256~H2~Q1_FBC_0P65' then parmValue\n",
    "         else 0\n",
    "     end as Q1FailCount,\n",
    "     case\n",
    "         when ucase(tp.parm_Label) = 'S256~H2~Q2_FBC_0P65' then parmValue\n",
    "         else 0\n",
    "     end as Q2FailCount,\n",
    "     case\n",
    "         when ucase(tp.parm_Label) = 'S256~H2~Q3_FBC_0P65' then parmValue\n",
    "         else 0\n",
    "     end as Q3FailCount\n",
    "FROM DMIW.ChipParmFactR cpfr\n",
    "JOIN DMIW_SYSTEMS.TestParm tp ON cpfr.testParmKey = tp.testParmKey\n",
    "JOIN DMIW_SYSTEMS.Geography geo ON cpfr.geographyKey = geo.geographyKey\n",
    "JOIN (select testedWaferKey, lot_Id, wafer_Id, family_Code, cur_Lot_Grade as lot_Grade, \n",
    "     last_TestTimeStamp as date, level, last_Eqp_Id \n",
    "     from DMIW_SYSTEMS.TestedWafer testedWafer \n",
    "     where Last_test_date >= (current date - {} days) and Tech_id = '7HPP' and Calcdefs = '{}' \n",
    "     group by testedWaferKey, lot_Id, wafer_Id, family_Code, cur_Lot_Grade, last_TestTimeStamp,\n",
    "     level, last_Eqp_Id) tw ON cpfr.testedWaferKey = tw.testedWaferKey\n",
    "WHERE cpfr.parmValue is not null and abs(parmValue) < 1e25 and\n",
    "    (ucase(tp.parm_Label) in ('S256~H2~Q0_FBC_0P65', 'S256~H2~Q1_FBC_0P65', 'S256~H2~Q2_FBC_0P65', 'S256~H2~Q3_FBC_0P65'))\n",
    ")\n",
    "GROUP BY wafer_Id, ChipX, ChipY\n",
    "ORDER BY wafer_Id, ChipX, ChipY\n",
    ") ElecTable\n",
    "\n",
    "ON APRCTable.wafer_Id = ElecTable.wafer_Id and APRCTable.ChipX = ElecTable.ChipX and APRCTable.ChipY = ElecTable.ChipY\n",
    "ORDER BY lot_Id_base, wafer_Id\n",
    "\"\"\".format(corner, categoryName, daysback, Calcdefs, daysback, Calcdefs)"
   ]
  },
  {
   "cell_type": "code",
   "execution_count": 3,
   "metadata": {},
   "outputs": [],
   "source": [
    "df = pd.read_sql(SQLQuery,con)"
   ]
  },
  {
   "cell_type": "code",
   "execution_count": 4,
   "metadata": {},
   "outputs": [],
   "source": [
    "pivot = pd.pivot_table(df, values=('BITCOUNT','Q0FAILCOUNT','Q1FAILCOUNT','Q2FAILCOUNT','Q3FAILCOUNT'), index=['WAFER_ID'], columns=['CHIPXY'], aggfunc=np.mean).fillna(0)"
   ]
  },
  {
   "cell_type": "code",
   "execution_count": 5,
   "metadata": {},
   "outputs": [],
   "source": [
    "labels = pd.read_csv(\"data/7nmLabels.csv\")"
   ]
  },
  {
   "cell_type": "code",
   "execution_count": 6,
   "metadata": {},
   "outputs": [
    {
     "name": "stderr",
     "output_type": "stream",
     "text": [
      "/anaconda3/lib/python3.7/site-packages/pandas/core/reshape/merge.py:544: UserWarning: merging between different levels can give an unintended result (2 levels on the left, 1 on the right)\n",
      "  warnings.warn(msg, UserWarning)\n"
     ]
    }
   ],
   "source": [
    "train = pivot.join(labels.set_index('WAFER_ID')[['Radial','Smiley']]).dropna()"
   ]
  },
  {
   "cell_type": "code",
   "execution_count": 7,
   "metadata": {},
   "outputs": [
    {
     "data": {
      "text/html": [
       "<div>\n",
       "<style scoped>\n",
       "    .dataframe tbody tr th:only-of-type {\n",
       "        vertical-align: middle;\n",
       "    }\n",
       "\n",
       "    .dataframe tbody tr th {\n",
       "        vertical-align: top;\n",
       "    }\n",
       "\n",
       "    .dataframe thead th {\n",
       "        text-align: right;\n",
       "    }\n",
       "</style>\n",
       "<table border=\"1\" class=\"dataframe\">\n",
       "  <thead>\n",
       "    <tr style=\"text-align: right;\">\n",
       "      <th></th>\n",
       "      <th>(BITCOUNT, 16, 21)</th>\n",
       "      <th>(BITCOUNT, 16, 28)</th>\n",
       "      <th>(BITCOUNT, 16, 35)</th>\n",
       "      <th>(BITCOUNT, 16, 42)</th>\n",
       "      <th>(BITCOUNT, 25, 14)</th>\n",
       "      <th>(BITCOUNT, 25, 21)</th>\n",
       "      <th>(BITCOUNT, 25, 28)</th>\n",
       "      <th>(BITCOUNT, 25, 35)</th>\n",
       "      <th>(BITCOUNT, 25, 42)</th>\n",
       "      <th>(BITCOUNT, 25, 49)</th>\n",
       "      <th>...</th>\n",
       "      <th>(Q3FAILCOUNT, 88, 28)</th>\n",
       "      <th>(Q3FAILCOUNT, 88, 35)</th>\n",
       "      <th>(Q3FAILCOUNT, 88, 42)</th>\n",
       "      <th>(Q3FAILCOUNT, 88, 49)</th>\n",
       "      <th>(Q3FAILCOUNT, 97, 21)</th>\n",
       "      <th>(Q3FAILCOUNT, 97, 28)</th>\n",
       "      <th>(Q3FAILCOUNT, 97, 35)</th>\n",
       "      <th>(Q3FAILCOUNT, 97, 42)</th>\n",
       "      <th>Radial</th>\n",
       "      <th>Smiley</th>\n",
       "    </tr>\n",
       "    <tr>\n",
       "      <th>WAFER_ID</th>\n",
       "      <th></th>\n",
       "      <th></th>\n",
       "      <th></th>\n",
       "      <th></th>\n",
       "      <th></th>\n",
       "      <th></th>\n",
       "      <th></th>\n",
       "      <th></th>\n",
       "      <th></th>\n",
       "      <th></th>\n",
       "      <th></th>\n",
       "      <th></th>\n",
       "      <th></th>\n",
       "      <th></th>\n",
       "      <th></th>\n",
       "      <th></th>\n",
       "      <th></th>\n",
       "      <th></th>\n",
       "      <th></th>\n",
       "      <th></th>\n",
       "      <th></th>\n",
       "    </tr>\n",
       "  </thead>\n",
       "  <tbody>\n",
       "    <tr>\n",
       "      <th>AZ2RG-01</th>\n",
       "      <td>0.0</td>\n",
       "      <td>0.0</td>\n",
       "      <td>0.0</td>\n",
       "      <td>0.0</td>\n",
       "      <td>0.0</td>\n",
       "      <td>0.0</td>\n",
       "      <td>0.0</td>\n",
       "      <td>0.0</td>\n",
       "      <td>0.0</td>\n",
       "      <td>0.0</td>\n",
       "      <td>...</td>\n",
       "      <td>2.0</td>\n",
       "      <td>1.0</td>\n",
       "      <td>0.0</td>\n",
       "      <td>0.0</td>\n",
       "      <td>0.0</td>\n",
       "      <td>1.0</td>\n",
       "      <td>0.0</td>\n",
       "      <td>0.0</td>\n",
       "      <td>0.0</td>\n",
       "      <td>0.0</td>\n",
       "    </tr>\n",
       "    <tr>\n",
       "      <th>AZ2RG-04</th>\n",
       "      <td>1.0</td>\n",
       "      <td>2.0</td>\n",
       "      <td>2.0</td>\n",
       "      <td>1.0</td>\n",
       "      <td>2.0</td>\n",
       "      <td>1.0</td>\n",
       "      <td>3.0</td>\n",
       "      <td>4.0</td>\n",
       "      <td>4.0</td>\n",
       "      <td>1.0</td>\n",
       "      <td>...</td>\n",
       "      <td>1.0</td>\n",
       "      <td>2.0</td>\n",
       "      <td>8.0</td>\n",
       "      <td>0.0</td>\n",
       "      <td>638976.0</td>\n",
       "      <td>554.0</td>\n",
       "      <td>2.0</td>\n",
       "      <td>0.0</td>\n",
       "      <td>0.0</td>\n",
       "      <td>0.0</td>\n",
       "    </tr>\n",
       "    <tr>\n",
       "      <th>AZ2RG-06</th>\n",
       "      <td>0.0</td>\n",
       "      <td>5.0</td>\n",
       "      <td>2.0</td>\n",
       "      <td>0.0</td>\n",
       "      <td>2.0</td>\n",
       "      <td>2.0</td>\n",
       "      <td>10.0</td>\n",
       "      <td>18.0</td>\n",
       "      <td>5.0</td>\n",
       "      <td>1.0</td>\n",
       "      <td>...</td>\n",
       "      <td>4.0</td>\n",
       "      <td>0.0</td>\n",
       "      <td>0.0</td>\n",
       "      <td>1.0</td>\n",
       "      <td>0.0</td>\n",
       "      <td>0.0</td>\n",
       "      <td>6942931.0</td>\n",
       "      <td>10.0</td>\n",
       "      <td>1.0</td>\n",
       "      <td>0.0</td>\n",
       "    </tr>\n",
       "    <tr>\n",
       "      <th>AZ2RG-10</th>\n",
       "      <td>0.0</td>\n",
       "      <td>1.0</td>\n",
       "      <td>1.0</td>\n",
       "      <td>0.0</td>\n",
       "      <td>0.0</td>\n",
       "      <td>0.0</td>\n",
       "      <td>8.0</td>\n",
       "      <td>8.0</td>\n",
       "      <td>2.0</td>\n",
       "      <td>0.0</td>\n",
       "      <td>...</td>\n",
       "      <td>1.0</td>\n",
       "      <td>0.0</td>\n",
       "      <td>0.0</td>\n",
       "      <td>24.0</td>\n",
       "      <td>0.0</td>\n",
       "      <td>42.0</td>\n",
       "      <td>9.0</td>\n",
       "      <td>0.0</td>\n",
       "      <td>0.0</td>\n",
       "      <td>0.0</td>\n",
       "    </tr>\n",
       "    <tr>\n",
       "      <th>AZ2RG-17</th>\n",
       "      <td>69.0</td>\n",
       "      <td>7.0</td>\n",
       "      <td>15.0</td>\n",
       "      <td>46.0</td>\n",
       "      <td>1.0</td>\n",
       "      <td>14.0</td>\n",
       "      <td>32.0</td>\n",
       "      <td>69.0</td>\n",
       "      <td>55.0</td>\n",
       "      <td>28.0</td>\n",
       "      <td>...</td>\n",
       "      <td>5.0</td>\n",
       "      <td>1.0</td>\n",
       "      <td>0.0</td>\n",
       "      <td>0.0</td>\n",
       "      <td>0.0</td>\n",
       "      <td>344.0</td>\n",
       "      <td>32802.0</td>\n",
       "      <td>0.0</td>\n",
       "      <td>1.0</td>\n",
       "      <td>0.0</td>\n",
       "    </tr>\n",
       "  </tbody>\n",
       "</table>\n",
       "<p>5 rows × 337 columns</p>\n",
       "</div>"
      ],
      "text/plain": [
       "          (BITCOUNT, 16, 21)  (BITCOUNT, 16, 28)  (BITCOUNT, 16, 35)  \\\n",
       "WAFER_ID                                                               \n",
       "AZ2RG-01                 0.0                 0.0                 0.0   \n",
       "AZ2RG-04                 1.0                 2.0                 2.0   \n",
       "AZ2RG-06                 0.0                 5.0                 2.0   \n",
       "AZ2RG-10                 0.0                 1.0                 1.0   \n",
       "AZ2RG-17                69.0                 7.0                15.0   \n",
       "\n",
       "          (BITCOUNT, 16, 42)  (BITCOUNT, 25, 14)  (BITCOUNT, 25, 21)  \\\n",
       "WAFER_ID                                                               \n",
       "AZ2RG-01                 0.0                 0.0                 0.0   \n",
       "AZ2RG-04                 1.0                 2.0                 1.0   \n",
       "AZ2RG-06                 0.0                 2.0                 2.0   \n",
       "AZ2RG-10                 0.0                 0.0                 0.0   \n",
       "AZ2RG-17                46.0                 1.0                14.0   \n",
       "\n",
       "          (BITCOUNT, 25, 28)  (BITCOUNT, 25, 35)  (BITCOUNT, 25, 42)  \\\n",
       "WAFER_ID                                                               \n",
       "AZ2RG-01                 0.0                 0.0                 0.0   \n",
       "AZ2RG-04                 3.0                 4.0                 4.0   \n",
       "AZ2RG-06                10.0                18.0                 5.0   \n",
       "AZ2RG-10                 8.0                 8.0                 2.0   \n",
       "AZ2RG-17                32.0                69.0                55.0   \n",
       "\n",
       "          (BITCOUNT, 25, 49)   ...    (Q3FAILCOUNT, 88, 28)  \\\n",
       "WAFER_ID                       ...                            \n",
       "AZ2RG-01                 0.0   ...                      2.0   \n",
       "AZ2RG-04                 1.0   ...                      1.0   \n",
       "AZ2RG-06                 1.0   ...                      4.0   \n",
       "AZ2RG-10                 0.0   ...                      1.0   \n",
       "AZ2RG-17                28.0   ...                      5.0   \n",
       "\n",
       "          (Q3FAILCOUNT, 88, 35)  (Q3FAILCOUNT, 88, 42)  (Q3FAILCOUNT, 88, 49)  \\\n",
       "WAFER_ID                                                                        \n",
       "AZ2RG-01                    1.0                    0.0                    0.0   \n",
       "AZ2RG-04                    2.0                    8.0                    0.0   \n",
       "AZ2RG-06                    0.0                    0.0                    1.0   \n",
       "AZ2RG-10                    0.0                    0.0                   24.0   \n",
       "AZ2RG-17                    1.0                    0.0                    0.0   \n",
       "\n",
       "          (Q3FAILCOUNT, 97, 21)  (Q3FAILCOUNT, 97, 28)  (Q3FAILCOUNT, 97, 35)  \\\n",
       "WAFER_ID                                                                        \n",
       "AZ2RG-01                    0.0                    1.0                    0.0   \n",
       "AZ2RG-04               638976.0                  554.0                    2.0   \n",
       "AZ2RG-06                    0.0                    0.0              6942931.0   \n",
       "AZ2RG-10                    0.0                   42.0                    9.0   \n",
       "AZ2RG-17                    0.0                  344.0                32802.0   \n",
       "\n",
       "          (Q3FAILCOUNT, 97, 42)  Radial  Smiley  \n",
       "WAFER_ID                                         \n",
       "AZ2RG-01                    0.0     0.0     0.0  \n",
       "AZ2RG-04                    0.0     0.0     0.0  \n",
       "AZ2RG-06                   10.0     1.0     0.0  \n",
       "AZ2RG-10                    0.0     0.0     0.0  \n",
       "AZ2RG-17                    0.0     1.0     0.0  \n",
       "\n",
       "[5 rows x 337 columns]"
      ]
     },
     "execution_count": 7,
     "metadata": {},
     "output_type": "execute_result"
    }
   ],
   "source": [
    "train.head()"
   ]
  },
  {
   "cell_type": "markdown",
   "metadata": {},
   "source": [
    "### Radial Random Forest Model"
   ]
  },
  {
   "cell_type": "code",
   "execution_count": 8,
   "metadata": {},
   "outputs": [],
   "source": [
    "X = train.loc[:, ((train.columns != 'Radial') & (train.columns != 'Smiley'))]\n",
    "y = train['Radial']"
   ]
  },
  {
   "cell_type": "code",
   "execution_count": 9,
   "metadata": {},
   "outputs": [],
   "source": [
    "def find_model_accuracy(train_data, train_labels, test_data, test_labels, model):\n",
    "    # Fit the model to the training set\n",
    "    model.fit(train_data, train_labels)\n",
    "    test_predict = model.predict(test_data)\n",
    "    \n",
    "    # plot_confusion matrix\n",
    "    sns.heatmap(metrics.confusion_matrix(test_labels, test_predict), \n",
    "                xticklabels=['pred: Neg', 'pred: Pos'],\n",
    "                annot=True,\n",
    "                fmt='g',\n",
    "                cmap='Blues').set_yticklabels(['actual: Neg', 'actual: Pos'], rotation=0)\n",
    "    plt.tight_layout()\n",
    "\n",
    "    plt.show()\n",
    "    # return accuracy\n",
    "    return metrics.accuracy_score(test_predict, test_labels), test_predict, test_labels"
   ]
  },
  {
   "cell_type": "code",
   "execution_count": null,
   "metadata": {},
   "outputs": [],
   "source": [
    "# Split Train and Test Sets\n",
    "train_data, test_data, train_labels, test_labels = train_test_split(train.loc[:, X, y, test_size=0.2)"
   ]
  },
  {
   "cell_type": "code",
   "execution_count": 10,
   "metadata": {},
   "outputs": [
    {
     "data": {
      "text/plain": [
       "RandomForestClassifier(bootstrap=True, class_weight=None, criterion='entropy',\n",
       "            max_depth=6, max_features='auto', max_leaf_nodes=None,\n",
       "            min_impurity_decrease=0.0, min_impurity_split=None,\n",
       "            min_samples_leaf=1, min_samples_split=2,\n",
       "            min_weight_fraction_leaf=0.0, n_estimators=220, n_jobs=-1,\n",
       "            oob_score=False, random_state=None, verbose=0,\n",
       "            warm_start=False)"
      ]
     },
     "execution_count": 10,
     "metadata": {},
     "output_type": "execute_result"
    }
   ],
   "source": [
    "# Quick Model RandomForestClassifier\n",
    "#X,y = train_data, train_labels['Radial']\n",
    "model = ensemble.RandomForestClassifier(class_weight=None, criterion='entropy',\n",
    "                                            max_depth=6, n_estimators=220, n_jobs=-1)\n",
    "#accuracy, predict, actual = find_model_accuracy(X, y, test_data, test_labels['Radial'], model)\n",
    "model.fit(X, y)\n",
    "#print(accuracy)"
   ]
  },
  {
   "cell_type": "code",
   "execution_count": null,
   "metadata": {},
   "outputs": [],
   "source": [
    "# RandomForestClassifier\n",
    "clf = ensemble.RandomForestClassifier(n_jobs=-1)\n",
    "\n",
    "# Gridsearch CV\n",
    "parameter_grid = {'max_depth' : np.arange(5, 12, 1),\n",
    "                 'n_estimators': np.arange(200, 250, 10),\n",
    "                 'criterion': ['gini','entropy'],\n",
    "                 'class_weight': [None ,'balanced']}\n",
    "\n",
    "grid_search = model_selection.GridSearchCV(clf, parameter_grid)\n",
    "grid_search.fit(X, y)\n",
    "grid_search.best_estimator_"
   ]
  },
  {
   "cell_type": "code",
   "execution_count": null,
   "metadata": {},
   "outputs": [],
   "source": [
    "# Model accuracy\n",
    "# take best estimator from gridsearch and shuffle split x times against train data to get an estimate of performance\n",
    "clf = grid_search.best_estimator_\n",
    "cv = model_selection.ShuffleSplit(n_splits=1000, test_size=.2)\n",
    "cv_scores = model_selection.cross_val_score(clf, X, y, cv=cv)\n",
    "\n",
    "# plot out the distribution of shufflesplit to get performance estimate\n",
    "plt.figure(figsize=(8,6))\n",
    "sns.set(font_scale=1.5)\n",
    "sns.distributions.distplot(tuple(cv_scores))\n",
    "print(\"average accuracy score:\", cv_scores.mean())"
   ]
  },
  {
   "cell_type": "code",
   "execution_count": null,
   "metadata": {},
   "outputs": [],
   "source": [
    "# Create a dataframe showing all the mistakes made by the classifier\n",
    "fail_analysis = actual.to_frame()\n",
    "fail_analysis['predicted'] = predict"
   ]
  },
  {
   "cell_type": "code",
   "execution_count": null,
   "metadata": {},
   "outputs": [],
   "source": [
    "fail_analysis"
   ]
  },
  {
   "cell_type": "code",
   "execution_count": 11,
   "metadata": {},
   "outputs": [
    {
     "data": {
      "text/plain": [
       "['models/7nmRadial.sav']"
      ]
     },
     "execution_count": 11,
     "metadata": {},
     "output_type": "execute_result"
    }
   ],
   "source": [
    "# Save the model\n",
    "joblib.dump(model, 'models/7nmRadial.sav')"
   ]
  },
  {
   "cell_type": "code",
   "execution_count": 5,
   "metadata": {},
   "outputs": [],
   "source": [
    "# Download the model\n",
    "Radial_model= joblib.load('models/7nmRadial.sav')"
   ]
  },
  {
   "cell_type": "markdown",
   "metadata": {},
   "source": [
    "### Smiley Random Forest Model"
   ]
  },
  {
   "cell_type": "code",
   "execution_count": 13,
   "metadata": {},
   "outputs": [],
   "source": [
    "X = train.loc[:, ((train.columns != 'Radial') & (train.columns != 'Smiley'))]\n",
    "y = train['Smiley']"
   ]
  },
  {
   "cell_type": "code",
   "execution_count": null,
   "metadata": {},
   "outputs": [],
   "source": [
    "# Split Train and Test Sets\n",
    "train_data, test_data, train_labels, test_labels = train_test_split(train.loc[:, X, y, test_size=0.2)"
   ]
  },
  {
   "cell_type": "code",
   "execution_count": 14,
   "metadata": {},
   "outputs": [
    {
     "data": {
      "text/plain": [
       "RandomForestClassifier(bootstrap=True, class_weight='balanced',\n",
       "            criterion='gini', max_depth=7, max_features='auto',\n",
       "            max_leaf_nodes=None, min_impurity_decrease=0.0,\n",
       "            min_impurity_split=None, min_samples_leaf=1,\n",
       "            min_samples_split=2, min_weight_fraction_leaf=0.0,\n",
       "            n_estimators=220, n_jobs=-1, oob_score=False,\n",
       "            random_state=None, verbose=0, warm_start=False)"
      ]
     },
     "execution_count": 14,
     "metadata": {},
     "output_type": "execute_result"
    }
   ],
   "source": [
    "# Quick Model RandomForestClassifier\n",
    "#X,y = train_data, train_labels['Smiley']\n",
    "model = ensemble.RandomForestClassifier(class_weight='balanced', criterion='gini',\n",
    "                                            max_depth=7, n_estimators=220, n_jobs=-1)\n",
    "#accuracy, predict, actual = find_model_accuracy(X, y, test_data, test_labels['Smiley'], model)\n",
    "model.fit(X, y)\n",
    "#print(accuracy)"
   ]
  },
  {
   "cell_type": "code",
   "execution_count": null,
   "metadata": {},
   "outputs": [],
   "source": [
    "# RandomForestClassifier\n",
    "clf = ensemble.RandomForestClassifier(n_jobs=-1)\n",
    "\n",
    "# Gridsearch CV\n",
    "parameter_grid = {'max_depth' : np.arange(5, 12, 1),\n",
    "                 'n_estimators': np.arange(200, 250, 10),\n",
    "                 'criterion': ['gini','entropy'],\n",
    "                 'class_weight': [None ,'balanced']}\n",
    "\n",
    "grid_search = model_selection.GridSearchCV(clf, parameter_grid)\n",
    "grid_search.fit(X, y)\n",
    "grid_search.best_estimator_"
   ]
  },
  {
   "cell_type": "code",
   "execution_count": null,
   "metadata": {},
   "outputs": [],
   "source": [
    "# Model accuracy\n",
    "# take best estimator from gridsearch and shuffle split x times against train data to get an estimate of performance\n",
    "clf = grid_search.best_estimator_\n",
    "cv = model_selection.ShuffleSplit(n_splits=1000, test_size=.2)\n",
    "cv_scores = model_selection.cross_val_score(clf, X, y, cv=cv)\n",
    "\n",
    "# plot out the distribution of shufflesplit to get performance estimate\n",
    "plt.figure(figsize=(8,6))\n",
    "sns.set(font_scale=1.5)\n",
    "sns.distributions.distplot(tuple(cv_scores))\n",
    "print(\"average accuracy score:\", cv_scores.mean())"
   ]
  },
  {
   "cell_type": "code",
   "execution_count": null,
   "metadata": {},
   "outputs": [],
   "source": [
    "# Create a dataframe showing all the mistakes made by the classifier\n",
    "fail_analysis = actual.to_frame()\n",
    "fail_analysis['predicted'] = predict"
   ]
  },
  {
   "cell_type": "code",
   "execution_count": null,
   "metadata": {},
   "outputs": [],
   "source": [
    "fail_analysis"
   ]
  },
  {
   "cell_type": "code",
   "execution_count": 15,
   "metadata": {},
   "outputs": [
    {
     "data": {
      "text/plain": [
       "['models/7nmSmiley.sav']"
      ]
     },
     "execution_count": 15,
     "metadata": {},
     "output_type": "execute_result"
    }
   ],
   "source": [
    "# Save the model\n",
    "joblib.dump(model, 'models/7nmSmiley.sav')"
   ]
  },
  {
   "cell_type": "code",
   "execution_count": 6,
   "metadata": {},
   "outputs": [],
   "source": [
    "# Download the model\n",
    "Smiley_model= joblib.load('models/7nmSmiley.sav')"
   ]
  },
  {
   "cell_type": "markdown",
   "metadata": {},
   "source": [
    "## Big and Small Center"
   ]
  },
  {
   "cell_type": "markdown",
   "metadata": {},
   "source": [
    "### Pull Training Features"
   ]
  },
  {
   "cell_type": "code",
   "execution_count": 7,
   "metadata": {},
   "outputs": [],
   "source": [
    "daysback = 300\n",
    "Calcdefs = 'S2561'\n",
    "corner = 'SRAM256MST00p655CHIPA'\n",
    "\n",
    "SQLQuery = \"\"\"\n",
    "SELECT lot_id_base, APRCTable.wafer_id, APRCTable.ChipX || ', ' || APRCTable.ChipY as ChipXY, family_Code,\n",
    "     radius_Center_5, quadrant as waf_quadrant, locationType,\n",
    "     --APRCTable.corner, categoryName as aprc, \n",
    "     BitCount,DBCCount, Q0FailCount, Q1FailCount, Q2FailCount, Q3FailCount\n",
    "     \n",
    "FROM\n",
    "(\n",
    "Select lot_id_base, wafer_Id, ChipX, ChipY, family_Code, radius_Center_5, quadrant, locationType, \n",
    "SUM(BitCount) as BitCount, SUM(DBCCount) as DBCCount\n",
    "FROM\n",
    "(\n",
    "SELECT left(lot_Id, 5) as lot_id_base, wafer_Id, normalized_TestX as ChipX, normalized_TestY as ChipY, family_Code,\n",
    "     corner, categoryName, count, radius_Center_5, quadrant, locationType,\n",
    "     case\n",
    "         when corner = '{}' and categoryName = 'BIT' then count\n",
    "         else 0\n",
    "     end as BitCount,\n",
    "     case\n",
    "         when corner = '{}' and categoryName = 'DBC' then count\n",
    "         else 0\n",
    "     end as DBCCount\n",
    "FROM DMIW.PattRecChipFactR prcfr\n",
    "JOIN DMIW_SYSTEMS.DerivedDataSetup dds ON prcfr.derivedSetupKey = dds.derivedSetupKey\n",
    "JOIN DMIW_SYSTEMS.PattRecCategory prc ON prcfr.pattRecCatKey = prc.pattRecCatKey\n",
    "JOIN DMIW_SYSTEMS.Geography geo ON prcfr.geographyKey = geo.geographyKey\n",
    "JOIN (select testedWaferKey, lot_Id, wafer_id, family_Code, cur_Lot_Grade as lot_Grade, last_TestTimeStamp as date,\n",
    "     level, testProgramName, last_Eqp_Id\n",
    "     from DMIW_SYSTEMS.TestedWafer tw\n",
    "     where Last_test_date >= (current date - {} days) and Tech_id = '7HPP' and Calcdefs = '{}'\n",
    "     group by testedWaferKey, lot_Id, wafer_Id, family_Code, cur_Lot_Grade, last_TestTimeStamp, level, \n",
    "     testProgramName, last_Eqp_Id) tw ON prcfr.testedWaferKey = tw.testedWaferKey\n",
    "WHERE categoryName <> '' and exclude_Flag = 'N'\n",
    ")\n",
    "GROUP BY lot_id_base, wafer_Id, ChipX, ChipY, family_Code, radius_Center_5, quadrant, locationType\n",
    "ORDER BY lot_Id_base, wafer_Id, ChipX, ChipY\n",
    ") APRCTable\n",
    "\n",
    "JOIN\n",
    "(\n",
    "SELECT wafer_Id, ChipX, ChipY,\n",
    "    SUM(Q0FailCount) as Q0FailCount, SUM(Q1FailCount) as Q1FailCount,\n",
    "    SUM(Q2FailCount) as Q2FailCount, SUM(Q3FailCount) as Q3FailCount\n",
    "FROM\n",
    "(\n",
    "SELECT wafer_Id, normalized_TestX as ChipX, normalized_TestY as ChipY, tp.parm_Label, parmValue,\n",
    "     case\n",
    "         when ucase(tp.parm_Label) = 'S256~H2~Q0_FBC_0P65' then parmValue\n",
    "         else 0\n",
    "     end as Q0FailCount,\n",
    "     case\n",
    "         when ucase(tp.parm_Label) = 'S256~H2~Q1_FBC_0P65' then parmValue\n",
    "         else 0\n",
    "     end as Q1FailCount,\n",
    "     case\n",
    "         when ucase(tp.parm_Label) = 'S256~H2~Q2_FBC_0P65' then parmValue\n",
    "         else 0\n",
    "     end as Q2FailCount,\n",
    "     case\n",
    "         when ucase(tp.parm_Label) = 'S256~H2~Q3_FBC_0P65' then parmValue\n",
    "         else 0\n",
    "     end as Q3FailCount\n",
    "FROM DMIW.ChipParmFactR cpfr\n",
    "JOIN DMIW_SYSTEMS.TestParm tp ON cpfr.testParmKey = tp.testParmKey\n",
    "JOIN DMIW_SYSTEMS.Geography geo ON cpfr.geographyKey = geo.geographyKey\n",
    "JOIN (select testedWaferKey, lot_Id, wafer_Id, family_Code, cur_Lot_Grade as lot_Grade, \n",
    "     last_TestTimeStamp as date, level, last_Eqp_Id \n",
    "     from DMIW_SYSTEMS.TestedWafer testedWafer \n",
    "     where Last_test_date >= (current date - {} days) and Tech_id = '7HPP' and Calcdefs = '{}' \n",
    "     group by testedWaferKey, lot_Id, wafer_Id, family_Code, cur_Lot_Grade, last_TestTimeStamp,\n",
    "     level, last_Eqp_Id) tw ON cpfr.testedWaferKey = tw.testedWaferKey\n",
    "WHERE cpfr.parmValue is not null and abs(parmValue) < 1e25 and\n",
    "    (ucase(tp.parm_Label) in ('S256~H2~Q0_FBC_0P65', 'S256~H2~Q1_FBC_0P65', 'S256~H2~Q2_FBC_0P65', 'S256~H2~Q3_FBC_0P65'))\n",
    ")\n",
    "GROUP BY wafer_Id, ChipX, ChipY\n",
    "ORDER BY wafer_Id, ChipX, ChipY\n",
    ") ElecTable\n",
    "\n",
    "ON APRCTable.wafer_Id = ElecTable.wafer_Id and APRCTable.ChipX = ElecTable.ChipX and APRCTable.ChipY = ElecTable.ChipY\n",
    "ORDER BY lot_Id_base, wafer_Id\n",
    "\"\"\".format(corner, corner, daysback, Calcdefs, daysback, Calcdefs)"
   ]
  },
  {
   "cell_type": "code",
   "execution_count": 8,
   "metadata": {},
   "outputs": [],
   "source": [
    "df = pd.read_sql(SQLQuery,con)"
   ]
  },
  {
   "cell_type": "code",
   "execution_count": 9,
   "metadata": {},
   "outputs": [],
   "source": [
    "pivot = pd.pivot_table(df, values=('BITCOUNT','DBCCOUNT','Q0FAILCOUNT','Q1FAILCOUNT','Q2FAILCOUNT','Q3FAILCOUNT'), index=['WAFER_ID'], columns=['CHIPXY'], aggfunc=np.mean).fillna(0)"
   ]
  },
  {
   "cell_type": "code",
   "execution_count": 20,
   "metadata": {},
   "outputs": [],
   "source": [
    "labels = pd.read_csv(\"data/7nmLabels.csv\")"
   ]
  },
  {
   "cell_type": "code",
   "execution_count": 21,
   "metadata": {},
   "outputs": [
    {
     "name": "stderr",
     "output_type": "stream",
     "text": [
      "/anaconda3/lib/python3.7/site-packages/pandas/core/reshape/merge.py:544: UserWarning: merging between different levels can give an unintended result (2 levels on the left, 1 on the right)\n",
      "  warnings.warn(msg, UserWarning)\n"
     ]
    }
   ],
   "source": [
    "train2 = pivot.join(labels.set_index('WAFER_ID')[['Small_Center','Big_Center']]).dropna()"
   ]
  },
  {
   "cell_type": "code",
   "execution_count": 22,
   "metadata": {},
   "outputs": [
    {
     "data": {
      "text/html": [
       "<div>\n",
       "<style scoped>\n",
       "    .dataframe tbody tr th:only-of-type {\n",
       "        vertical-align: middle;\n",
       "    }\n",
       "\n",
       "    .dataframe tbody tr th {\n",
       "        vertical-align: top;\n",
       "    }\n",
       "\n",
       "    .dataframe thead th {\n",
       "        text-align: right;\n",
       "    }\n",
       "</style>\n",
       "<table border=\"1\" class=\"dataframe\">\n",
       "  <thead>\n",
       "    <tr style=\"text-align: right;\">\n",
       "      <th></th>\n",
       "      <th>(BITCOUNT, 16, 21)</th>\n",
       "      <th>(BITCOUNT, 16, 28)</th>\n",
       "      <th>(BITCOUNT, 16, 35)</th>\n",
       "      <th>(BITCOUNT, 16, 42)</th>\n",
       "      <th>(BITCOUNT, 25, 14)</th>\n",
       "      <th>(BITCOUNT, 25, 21)</th>\n",
       "      <th>(BITCOUNT, 25, 28)</th>\n",
       "      <th>(BITCOUNT, 25, 35)</th>\n",
       "      <th>(BITCOUNT, 25, 42)</th>\n",
       "      <th>(BITCOUNT, 25, 49)</th>\n",
       "      <th>...</th>\n",
       "      <th>(Q3FAILCOUNT, 88, 28)</th>\n",
       "      <th>(Q3FAILCOUNT, 88, 35)</th>\n",
       "      <th>(Q3FAILCOUNT, 88, 42)</th>\n",
       "      <th>(Q3FAILCOUNT, 88, 49)</th>\n",
       "      <th>(Q3FAILCOUNT, 97, 21)</th>\n",
       "      <th>(Q3FAILCOUNT, 97, 28)</th>\n",
       "      <th>(Q3FAILCOUNT, 97, 35)</th>\n",
       "      <th>(Q3FAILCOUNT, 97, 42)</th>\n",
       "      <th>Small_Center</th>\n",
       "      <th>Big_Center</th>\n",
       "    </tr>\n",
       "    <tr>\n",
       "      <th>WAFER_ID</th>\n",
       "      <th></th>\n",
       "      <th></th>\n",
       "      <th></th>\n",
       "      <th></th>\n",
       "      <th></th>\n",
       "      <th></th>\n",
       "      <th></th>\n",
       "      <th></th>\n",
       "      <th></th>\n",
       "      <th></th>\n",
       "      <th></th>\n",
       "      <th></th>\n",
       "      <th></th>\n",
       "      <th></th>\n",
       "      <th></th>\n",
       "      <th></th>\n",
       "      <th></th>\n",
       "      <th></th>\n",
       "      <th></th>\n",
       "      <th></th>\n",
       "      <th></th>\n",
       "    </tr>\n",
       "  </thead>\n",
       "  <tbody>\n",
       "    <tr>\n",
       "      <th>AZ2RG-01</th>\n",
       "      <td>0.0</td>\n",
       "      <td>0.0</td>\n",
       "      <td>0.0</td>\n",
       "      <td>0.0</td>\n",
       "      <td>0.0</td>\n",
       "      <td>0.0</td>\n",
       "      <td>0.0</td>\n",
       "      <td>0.0</td>\n",
       "      <td>0.0</td>\n",
       "      <td>0.0</td>\n",
       "      <td>...</td>\n",
       "      <td>2.0</td>\n",
       "      <td>1.0</td>\n",
       "      <td>0.0</td>\n",
       "      <td>0.0</td>\n",
       "      <td>0.0</td>\n",
       "      <td>1.0</td>\n",
       "      <td>0.0</td>\n",
       "      <td>0.0</td>\n",
       "      <td>0.0</td>\n",
       "      <td>0.0</td>\n",
       "    </tr>\n",
       "    <tr>\n",
       "      <th>AZ2RG-04</th>\n",
       "      <td>1.0</td>\n",
       "      <td>2.0</td>\n",
       "      <td>2.0</td>\n",
       "      <td>1.0</td>\n",
       "      <td>2.0</td>\n",
       "      <td>1.0</td>\n",
       "      <td>3.0</td>\n",
       "      <td>4.0</td>\n",
       "      <td>4.0</td>\n",
       "      <td>1.0</td>\n",
       "      <td>...</td>\n",
       "      <td>1.0</td>\n",
       "      <td>2.0</td>\n",
       "      <td>8.0</td>\n",
       "      <td>0.0</td>\n",
       "      <td>638976.0</td>\n",
       "      <td>554.0</td>\n",
       "      <td>2.0</td>\n",
       "      <td>0.0</td>\n",
       "      <td>1.0</td>\n",
       "      <td>0.0</td>\n",
       "    </tr>\n",
       "    <tr>\n",
       "      <th>AZ2RG-06</th>\n",
       "      <td>0.0</td>\n",
       "      <td>5.0</td>\n",
       "      <td>2.0</td>\n",
       "      <td>0.0</td>\n",
       "      <td>2.0</td>\n",
       "      <td>2.0</td>\n",
       "      <td>10.0</td>\n",
       "      <td>18.0</td>\n",
       "      <td>5.0</td>\n",
       "      <td>1.0</td>\n",
       "      <td>...</td>\n",
       "      <td>4.0</td>\n",
       "      <td>0.0</td>\n",
       "      <td>0.0</td>\n",
       "      <td>1.0</td>\n",
       "      <td>0.0</td>\n",
       "      <td>0.0</td>\n",
       "      <td>6942931.0</td>\n",
       "      <td>10.0</td>\n",
       "      <td>0.0</td>\n",
       "      <td>0.0</td>\n",
       "    </tr>\n",
       "    <tr>\n",
       "      <th>AZ2RG-10</th>\n",
       "      <td>0.0</td>\n",
       "      <td>1.0</td>\n",
       "      <td>1.0</td>\n",
       "      <td>0.0</td>\n",
       "      <td>0.0</td>\n",
       "      <td>0.0</td>\n",
       "      <td>8.0</td>\n",
       "      <td>8.0</td>\n",
       "      <td>2.0</td>\n",
       "      <td>0.0</td>\n",
       "      <td>...</td>\n",
       "      <td>1.0</td>\n",
       "      <td>0.0</td>\n",
       "      <td>0.0</td>\n",
       "      <td>24.0</td>\n",
       "      <td>0.0</td>\n",
       "      <td>42.0</td>\n",
       "      <td>9.0</td>\n",
       "      <td>0.0</td>\n",
       "      <td>0.0</td>\n",
       "      <td>1.0</td>\n",
       "    </tr>\n",
       "    <tr>\n",
       "      <th>AZ2RG-17</th>\n",
       "      <td>69.0</td>\n",
       "      <td>7.0</td>\n",
       "      <td>15.0</td>\n",
       "      <td>46.0</td>\n",
       "      <td>1.0</td>\n",
       "      <td>14.0</td>\n",
       "      <td>32.0</td>\n",
       "      <td>69.0</td>\n",
       "      <td>55.0</td>\n",
       "      <td>28.0</td>\n",
       "      <td>...</td>\n",
       "      <td>5.0</td>\n",
       "      <td>1.0</td>\n",
       "      <td>0.0</td>\n",
       "      <td>0.0</td>\n",
       "      <td>0.0</td>\n",
       "      <td>344.0</td>\n",
       "      <td>32802.0</td>\n",
       "      <td>0.0</td>\n",
       "      <td>0.0</td>\n",
       "      <td>0.0</td>\n",
       "    </tr>\n",
       "  </tbody>\n",
       "</table>\n",
       "<p>5 rows × 404 columns</p>\n",
       "</div>"
      ],
      "text/plain": [
       "          (BITCOUNT, 16, 21)  (BITCOUNT, 16, 28)  (BITCOUNT, 16, 35)  \\\n",
       "WAFER_ID                                                               \n",
       "AZ2RG-01                 0.0                 0.0                 0.0   \n",
       "AZ2RG-04                 1.0                 2.0                 2.0   \n",
       "AZ2RG-06                 0.0                 5.0                 2.0   \n",
       "AZ2RG-10                 0.0                 1.0                 1.0   \n",
       "AZ2RG-17                69.0                 7.0                15.0   \n",
       "\n",
       "          (BITCOUNT, 16, 42)  (BITCOUNT, 25, 14)  (BITCOUNT, 25, 21)  \\\n",
       "WAFER_ID                                                               \n",
       "AZ2RG-01                 0.0                 0.0                 0.0   \n",
       "AZ2RG-04                 1.0                 2.0                 1.0   \n",
       "AZ2RG-06                 0.0                 2.0                 2.0   \n",
       "AZ2RG-10                 0.0                 0.0                 0.0   \n",
       "AZ2RG-17                46.0                 1.0                14.0   \n",
       "\n",
       "          (BITCOUNT, 25, 28)  (BITCOUNT, 25, 35)  (BITCOUNT, 25, 42)  \\\n",
       "WAFER_ID                                                               \n",
       "AZ2RG-01                 0.0                 0.0                 0.0   \n",
       "AZ2RG-04                 3.0                 4.0                 4.0   \n",
       "AZ2RG-06                10.0                18.0                 5.0   \n",
       "AZ2RG-10                 8.0                 8.0                 2.0   \n",
       "AZ2RG-17                32.0                69.0                55.0   \n",
       "\n",
       "          (BITCOUNT, 25, 49)     ...      (Q3FAILCOUNT, 88, 28)  \\\n",
       "WAFER_ID                         ...                              \n",
       "AZ2RG-01                 0.0     ...                        2.0   \n",
       "AZ2RG-04                 1.0     ...                        1.0   \n",
       "AZ2RG-06                 1.0     ...                        4.0   \n",
       "AZ2RG-10                 0.0     ...                        1.0   \n",
       "AZ2RG-17                28.0     ...                        5.0   \n",
       "\n",
       "          (Q3FAILCOUNT, 88, 35)  (Q3FAILCOUNT, 88, 42)  (Q3FAILCOUNT, 88, 49)  \\\n",
       "WAFER_ID                                                                        \n",
       "AZ2RG-01                    1.0                    0.0                    0.0   \n",
       "AZ2RG-04                    2.0                    8.0                    0.0   \n",
       "AZ2RG-06                    0.0                    0.0                    1.0   \n",
       "AZ2RG-10                    0.0                    0.0                   24.0   \n",
       "AZ2RG-17                    1.0                    0.0                    0.0   \n",
       "\n",
       "          (Q3FAILCOUNT, 97, 21)  (Q3FAILCOUNT, 97, 28)  (Q3FAILCOUNT, 97, 35)  \\\n",
       "WAFER_ID                                                                        \n",
       "AZ2RG-01                    0.0                    1.0                    0.0   \n",
       "AZ2RG-04               638976.0                  554.0                    2.0   \n",
       "AZ2RG-06                    0.0                    0.0              6942931.0   \n",
       "AZ2RG-10                    0.0                   42.0                    9.0   \n",
       "AZ2RG-17                    0.0                  344.0                32802.0   \n",
       "\n",
       "          (Q3FAILCOUNT, 97, 42)  Small_Center  Big_Center  \n",
       "WAFER_ID                                                   \n",
       "AZ2RG-01                    0.0           0.0         0.0  \n",
       "AZ2RG-04                    0.0           1.0         0.0  \n",
       "AZ2RG-06                   10.0           0.0         0.0  \n",
       "AZ2RG-10                    0.0           0.0         1.0  \n",
       "AZ2RG-17                    0.0           0.0         0.0  \n",
       "\n",
       "[5 rows x 404 columns]"
      ]
     },
     "execution_count": 22,
     "metadata": {},
     "output_type": "execute_result"
    }
   ],
   "source": [
    "train2.head()"
   ]
  },
  {
   "cell_type": "markdown",
   "metadata": {},
   "source": [
    "### Small Center Random Forest Classifier"
   ]
  },
  {
   "cell_type": "code",
   "execution_count": 23,
   "metadata": {},
   "outputs": [],
   "source": [
    "X = train2.loc[:, ((train2.columns != 'Small_Center') & (train2.columns != 'Big_Center'))]\n",
    "y = train2['Small_Center']"
   ]
  },
  {
   "cell_type": "code",
   "execution_count": null,
   "metadata": {},
   "outputs": [],
   "source": [
    "# Split Train and Test Sets\n",
    "train_data, test_data, train_labels, test_labels = train_test_split(train.loc[:, X, y, test_size=0.2)"
   ]
  },
  {
   "cell_type": "code",
   "execution_count": 24,
   "metadata": {},
   "outputs": [
    {
     "data": {
      "text/plain": [
       "RandomForestClassifier(bootstrap=True, class_weight='balanced',\n",
       "            criterion='gini', max_depth=9, max_features='auto',\n",
       "            max_leaf_nodes=None, min_impurity_decrease=0.0,\n",
       "            min_impurity_split=None, min_samples_leaf=1,\n",
       "            min_samples_split=2, min_weight_fraction_leaf=0.0,\n",
       "            n_estimators=230, n_jobs=-1, oob_score=False,\n",
       "            random_state=None, verbose=0, warm_start=False)"
      ]
     },
     "execution_count": 24,
     "metadata": {},
     "output_type": "execute_result"
    }
   ],
   "source": [
    "# Quick Model RandomForestClassifier\n",
    "#X,y = train_data, train_labels['Small_Center']\n",
    "model = ensemble.RandomForestClassifier(class_weight='balanced', criterion='gini',\n",
    "                                            max_depth=9, n_estimators=230, n_jobs=-1)\n",
    "#accuracy, predict, actual = find_model_accuracy(X, y, test_data, test_labels['Small_Center'], model)\n",
    "model.fit(X, y)\n",
    "#print(accuracy)"
   ]
  },
  {
   "cell_type": "code",
   "execution_count": null,
   "metadata": {},
   "outputs": [],
   "source": [
    "# RandomForestClassifier\n",
    "clf = ensemble.RandomForestClassifier(n_jobs=-1)\n",
    "\n",
    "# Gridsearch CV\n",
    "parameter_grid = {'max_depth' : np.arange(5, 12, 1),\n",
    "                 'n_estimators': np.arange(200, 250, 10),\n",
    "                 'criterion': ['gini','entropy'],\n",
    "                 'class_weight': [None ,'balanced']}\n",
    "\n",
    "grid_search = model_selection.GridSearchCV(clf, parameter_grid)\n",
    "grid_search.fit(X, y)\n",
    "grid_search.best_estimator_"
   ]
  },
  {
   "cell_type": "code",
   "execution_count": null,
   "metadata": {},
   "outputs": [],
   "source": [
    "# Model accuracy\n",
    "# take best estimator from gridsearch and shuffle split x times against train data to get an estimate of performance\n",
    "clf = grid_search.best_estimator_\n",
    "cv = model_selection.ShuffleSplit(n_splits=1000, test_size=.2)\n",
    "cv_scores = model_selection.cross_val_score(clf, X, y, cv=cv)\n",
    "\n",
    "# plot out the distribution of shufflesplit to get performance estimate\n",
    "plt.figure(figsize=(8,6))\n",
    "sns.set(font_scale=1.5)\n",
    "sns.distributions.distplot(tuple(cv_scores))\n",
    "print(\"average accuracy score:\", cv_scores.mean())"
   ]
  },
  {
   "cell_type": "code",
   "execution_count": null,
   "metadata": {},
   "outputs": [],
   "source": [
    "# Create a dataframe showing all the mistakes made by the classifier\n",
    "fail_analysis = actual.to_frame()\n",
    "fail_analysis['predicted'] = predict"
   ]
  },
  {
   "cell_type": "code",
   "execution_count": null,
   "metadata": {},
   "outputs": [],
   "source": [
    "fail_analysis"
   ]
  },
  {
   "cell_type": "code",
   "execution_count": 25,
   "metadata": {},
   "outputs": [
    {
     "data": {
      "text/plain": [
       "['models/7nmSmallCenter.sav']"
      ]
     },
     "execution_count": 25,
     "metadata": {},
     "output_type": "execute_result"
    }
   ],
   "source": [
    "# Save the model\n",
    "joblib.dump(model, 'models/7nmSmallCenter.sav')"
   ]
  },
  {
   "cell_type": "code",
   "execution_count": 10,
   "metadata": {},
   "outputs": [],
   "source": [
    "# Download the model\n",
    "SmallCenter_model= joblib.load('models/7nmSmallCenter.sav')"
   ]
  },
  {
   "cell_type": "markdown",
   "metadata": {},
   "source": [
    "### Big Center Random Forest Classifier"
   ]
  },
  {
   "cell_type": "code",
   "execution_count": 27,
   "metadata": {},
   "outputs": [],
   "source": [
    "X = train2.loc[:, ((train2.columns != 'Small_Center') & (train2.columns != 'Big_Center'))]\n",
    "y = train2['Big_Center']"
   ]
  },
  {
   "cell_type": "code",
   "execution_count": null,
   "metadata": {},
   "outputs": [],
   "source": [
    "# Split Train and Test Sets\n",
    "train_data, test_data, train_labels, test_labels = train_test_split(train.loc[:, X, y, test_size=0.2)"
   ]
  },
  {
   "cell_type": "code",
   "execution_count": 28,
   "metadata": {},
   "outputs": [
    {
     "data": {
      "text/plain": [
       "RandomForestClassifier(bootstrap=True, class_weight=None, criterion='entropy',\n",
       "            max_depth=5, max_features='auto', max_leaf_nodes=None,\n",
       "            min_impurity_decrease=0.0, min_impurity_split=None,\n",
       "            min_samples_leaf=1, min_samples_split=2,\n",
       "            min_weight_fraction_leaf=0.0, n_estimators=210, n_jobs=-1,\n",
       "            oob_score=False, random_state=None, verbose=0,\n",
       "            warm_start=False)"
      ]
     },
     "execution_count": 28,
     "metadata": {},
     "output_type": "execute_result"
    }
   ],
   "source": [
    "# Quick Model RandomForestClassifier\n",
    "#X,y = train_data, train_labels['Big_Center']\n",
    "model = ensemble.RandomForestClassifier(class_weight=None, criterion='entropy',\n",
    "                                            max_depth=5, n_estimators=210, n_jobs=-1)\n",
    "#accuracy, predict, actual = find_model_accuracy(X, y, test_data, test_labels['Big_Center'], model)\n",
    "model.fit(X, y)\n",
    "#print(accuracy)"
   ]
  },
  {
   "cell_type": "code",
   "execution_count": null,
   "metadata": {},
   "outputs": [],
   "source": [
    "# RandomForestClassifier\n",
    "clf = ensemble.RandomForestClassifier(n_jobs=-1)\n",
    "\n",
    "# Gridsearch CV\n",
    "parameter_grid = {'max_depth' : np.arange(5, 12, 1),\n",
    "                 'n_estimators': np.arange(200, 250, 10),\n",
    "                 'criterion': ['gini','entropy'],\n",
    "                 'class_weight': [None ,'balanced']}\n",
    "\n",
    "grid_search = model_selection.GridSearchCV(clf, parameter_grid)\n",
    "grid_search.fit(X, y)\n",
    "grid_search.best_estimator_"
   ]
  },
  {
   "cell_type": "code",
   "execution_count": null,
   "metadata": {},
   "outputs": [],
   "source": [
    "# Model accuracy\n",
    "# take best estimator from gridsearch and shuffle split x times against train data to get an estimate of performance\n",
    "clf = grid_search.best_estimator_\n",
    "cv = model_selection.ShuffleSplit(n_splits=1000, test_size=.2)\n",
    "cv_scores = model_selection.cross_val_score(clf, X, y, cv=cv)\n",
    "\n",
    "# plot out the distribution of shufflesplit to get performance estimate\n",
    "plt.figure(figsize=(8,6))\n",
    "sns.set(font_scale=1.5)\n",
    "sns.distributions.distplot(tuple(cv_scores))\n",
    "print(\"average accuracy score:\", cv_scores.mean())"
   ]
  },
  {
   "cell_type": "code",
   "execution_count": null,
   "metadata": {},
   "outputs": [],
   "source": [
    "# Create a dataframe showing all the mistakes made by the classifier\n",
    "fail_analysis = actual.to_frame()\n",
    "fail_analysis['predicted'] = predict"
   ]
  },
  {
   "cell_type": "code",
   "execution_count": null,
   "metadata": {},
   "outputs": [],
   "source": [
    "fail_analysis"
   ]
  },
  {
   "cell_type": "code",
   "execution_count": 29,
   "metadata": {},
   "outputs": [
    {
     "data": {
      "text/plain": [
       "['models/7nmBigCenter.sav']"
      ]
     },
     "execution_count": 29,
     "metadata": {},
     "output_type": "execute_result"
    }
   ],
   "source": [
    "# Save the model\n",
    "joblib.dump(model, 'models/7nmBigCenter.sav')"
   ]
  },
  {
   "cell_type": "code",
   "execution_count": 11,
   "metadata": {},
   "outputs": [],
   "source": [
    "# Download the model\n",
    "BigCenter_model= joblib.load('models/7nmBigCenter.sav')"
   ]
  },
  {
   "cell_type": "markdown",
   "metadata": {},
   "source": [
    "# Classify Data"
   ]
  },
  {
   "cell_type": "markdown",
   "metadata": {},
   "source": [
    "## Radial and Smiley"
   ]
  },
  {
   "cell_type": "markdown",
   "metadata": {},
   "source": [
    "### Pull Training Features"
   ]
  },
  {
   "cell_type": "code",
   "execution_count": 12,
   "metadata": {},
   "outputs": [],
   "source": [
    "daysback = 300\n",
    "Calcdefs = 'S2561'\n",
    "corner = 'SRAM256MST00p655CHIPA'\n",
    "categoryName = 'BIT'\n",
    "\n",
    "SQLQuery = \"\"\"\n",
    "SELECT lot_id_base, APRCTable.wafer_id, APRCTable.ChipX || ', ' || APRCTable.ChipY as ChipXY, family_Code,\n",
    "     radius_Center_5, quadrant as waf_quadrant, locationType,\n",
    "     --APRCTable.corner, categoryName as aprc, \n",
    "     BitCount, Q0FailCount, Q1FailCount, Q2FailCount, Q3FailCount\n",
    "     \n",
    "FROM\n",
    "(\n",
    "Select lot_id_base, wafer_Id, ChipX, ChipY, family_Code, radius_Center_5, quadrant, locationType, SUM(BitCount) as BitCount\n",
    "FROM\n",
    "(\n",
    "SELECT left(lot_Id, 5) as lot_id_base, wafer_Id, normalized_TestX as ChipX, normalized_TestY as ChipY, family_Code,\n",
    "     corner, categoryName, count, radius_Center_5, quadrant, locationType,\n",
    "     case\n",
    "         when corner = '{}' and categoryName = '{}' then count\n",
    "         else 0\n",
    "     end as BitCount\n",
    "FROM DMIW.PattRecChipFactR prcfr\n",
    "JOIN DMIW_SYSTEMS.DerivedDataSetup dds ON prcfr.derivedSetupKey = dds.derivedSetupKey\n",
    "JOIN DMIW_SYSTEMS.PattRecCategory prc ON prcfr.pattRecCatKey = prc.pattRecCatKey\n",
    "JOIN DMIW_SYSTEMS.Geography geo ON prcfr.geographyKey = geo.geographyKey\n",
    "JOIN (select testedWaferKey, lot_Id, wafer_id, family_Code, cur_Lot_Grade as lot_Grade, last_TestTimeStamp as date,\n",
    "     level, testProgramName, last_Eqp_Id\n",
    "     from DMIW_SYSTEMS.TestedWafer tw\n",
    "     where Last_test_date >= (current date - {} days) and Tech_id = '7HPP' and Calcdefs = '{}'\n",
    "     group by testedWaferKey, lot_Id, wafer_Id, family_Code, cur_Lot_Grade, last_TestTimeStamp, level, \n",
    "     testProgramName, last_Eqp_Id) tw ON prcfr.testedWaferKey = tw.testedWaferKey\n",
    "WHERE categoryName <> '' and exclude_Flag = 'N'\n",
    ")\n",
    "GROUP BY lot_id_base, wafer_Id, ChipX, ChipY, family_Code, radius_Center_5, quadrant, locationType\n",
    "ORDER BY lot_Id_base, wafer_Id, ChipX, ChipY\n",
    ") APRCTable\n",
    "\n",
    "JOIN\n",
    "(\n",
    "SELECT wafer_Id, ChipX, ChipY,\n",
    "    SUM(Q0FailCount) as Q0FailCount, SUM(Q1FailCount) as Q1FailCount,\n",
    "    SUM(Q2FailCount) as Q2FailCount, SUM(Q3FailCount) as Q3FailCount\n",
    "FROM\n",
    "(\n",
    "SELECT wafer_Id, normalized_TestX as ChipX, normalized_TestY as ChipY, tp.parm_Label, parmValue,\n",
    "     case\n",
    "         when ucase(tp.parm_Label) = 'S256~H2~Q0_FBC_0P65' then parmValue\n",
    "         else 0\n",
    "     end as Q0FailCount,\n",
    "     case\n",
    "         when ucase(tp.parm_Label) = 'S256~H2~Q1_FBC_0P65' then parmValue\n",
    "         else 0\n",
    "     end as Q1FailCount,\n",
    "     case\n",
    "         when ucase(tp.parm_Label) = 'S256~H2~Q2_FBC_0P65' then parmValue\n",
    "         else 0\n",
    "     end as Q2FailCount,\n",
    "     case\n",
    "         when ucase(tp.parm_Label) = 'S256~H2~Q3_FBC_0P65' then parmValue\n",
    "         else 0\n",
    "     end as Q3FailCount\n",
    "FROM DMIW.ChipParmFactR cpfr\n",
    "JOIN DMIW_SYSTEMS.TestParm tp ON cpfr.testParmKey = tp.testParmKey\n",
    "JOIN DMIW_SYSTEMS.Geography geo ON cpfr.geographyKey = geo.geographyKey\n",
    "JOIN (select testedWaferKey, lot_Id, wafer_Id, family_Code, cur_Lot_Grade as lot_Grade, \n",
    "     last_TestTimeStamp as date, level, last_Eqp_Id \n",
    "     from DMIW_SYSTEMS.TestedWafer testedWafer \n",
    "     where Last_test_date >= (current date - {} days) and Tech_id = '7HPP' and Calcdefs = '{}' \n",
    "     group by testedWaferKey, lot_Id, wafer_Id, family_Code, cur_Lot_Grade, last_TestTimeStamp,\n",
    "     level, last_Eqp_Id) tw ON cpfr.testedWaferKey = tw.testedWaferKey\n",
    "WHERE cpfr.parmValue is not null and abs(parmValue) < 1e25 and\n",
    "    (ucase(tp.parm_Label) in ('S256~H2~Q0_FBC_0P65', 'S256~H2~Q1_FBC_0P65', 'S256~H2~Q2_FBC_0P65', 'S256~H2~Q3_FBC_0P65'))\n",
    ")\n",
    "GROUP BY wafer_Id, ChipX, ChipY\n",
    "ORDER BY wafer_Id, ChipX, ChipY\n",
    ") ElecTable\n",
    "\n",
    "ON APRCTable.wafer_Id = ElecTable.wafer_Id and APRCTable.ChipX = ElecTable.ChipX and APRCTable.ChipY = ElecTable.ChipY\n",
    "ORDER BY lot_Id_base, wafer_Id\n",
    "\"\"\".format(corner, categoryName, daysback, Calcdefs, daysback, Calcdefs)\n",
    "\n",
    "df = pd.read_sql(SQLQuery,con)\n",
    "    \n",
    "features1 = pd.pivot_table(df, values=('BITCOUNT','Q0FAILCOUNT','Q1FAILCOUNT','Q2FAILCOUNT','Q3FAILCOUNT'), index=['WAFER_ID'], columns=['CHIPXY'], aggfunc=np.mean).fillna(0)"
   ]
  },
  {
   "cell_type": "code",
   "execution_count": 17,
   "metadata": {},
   "outputs": [],
   "source": [
    "daysback = 300\n",
    "Calcdefs = 'S2561'\n",
    "corner = 'SRAM256MST00p655CHIPA'\n",
    "\n",
    "SQLQuery = \"\"\"\n",
    "SELECT lot_id_base, APRCTable.wafer_id, APRCTable.ChipX || ', ' || APRCTable.ChipY as ChipXY, family_Code,\n",
    "     radius_Center_5, quadrant as waf_quadrant, locationType,\n",
    "     --APRCTable.corner, categoryName as aprc, \n",
    "     BitCount,DBCCount, Q0FailCount, Q1FailCount, Q2FailCount, Q3FailCount\n",
    "     \n",
    "FROM\n",
    "(\n",
    "Select lot_id_base, wafer_Id, ChipX, ChipY, family_Code, radius_Center_5, quadrant, locationType, \n",
    "SUM(BitCount) as BitCount, SUM(DBCCount) as DBCCount\n",
    "FROM\n",
    "(\n",
    "SELECT left(lot_Id, 5) as lot_id_base, wafer_Id, normalized_TestX as ChipX, normalized_TestY as ChipY, family_Code,\n",
    "     corner, categoryName, count, radius_Center_5, quadrant, locationType,\n",
    "     case\n",
    "         when corner = '{}' and categoryName = 'BIT' then count\n",
    "         else 0\n",
    "     end as BitCount,\n",
    "     case\n",
    "         when corner = '{}' and categoryName = 'DBC' then count\n",
    "         else 0\n",
    "     end as DBCCount\n",
    "FROM DMIW.PattRecChipFactR prcfr\n",
    "JOIN DMIW_SYSTEMS.DerivedDataSetup dds ON prcfr.derivedSetupKey = dds.derivedSetupKey\n",
    "JOIN DMIW_SYSTEMS.PattRecCategory prc ON prcfr.pattRecCatKey = prc.pattRecCatKey\n",
    "JOIN DMIW_SYSTEMS.Geography geo ON prcfr.geographyKey = geo.geographyKey\n",
    "JOIN (select testedWaferKey, lot_Id, wafer_id, family_Code, cur_Lot_Grade as lot_Grade, last_TestTimeStamp as date,\n",
    "     level, testProgramName, last_Eqp_Id\n",
    "     from DMIW_SYSTEMS.TestedWafer tw\n",
    "     where Last_test_date >= (current date - {} days) and Tech_id = '7HPP' and Calcdefs = '{}'\n",
    "     group by testedWaferKey, lot_Id, wafer_Id, family_Code, cur_Lot_Grade, last_TestTimeStamp, level, \n",
    "     testProgramName, last_Eqp_Id) tw ON prcfr.testedWaferKey = tw.testedWaferKey\n",
    "WHERE categoryName <> '' and exclude_Flag = 'N'\n",
    ")\n",
    "GROUP BY lot_id_base, wafer_Id, ChipX, ChipY, family_Code, radius_Center_5, quadrant, locationType\n",
    "ORDER BY lot_Id_base, wafer_Id, ChipX, ChipY\n",
    ") APRCTable\n",
    "\n",
    "JOIN\n",
    "(\n",
    "SELECT wafer_Id, ChipX, ChipY,\n",
    "    SUM(Q0FailCount) as Q0FailCount, SUM(Q1FailCount) as Q1FailCount,\n",
    "    SUM(Q2FailCount) as Q2FailCount, SUM(Q3FailCount) as Q3FailCount\n",
    "FROM\n",
    "(\n",
    "SELECT wafer_Id, normalized_TestX as ChipX, normalized_TestY as ChipY, tp.parm_Label, parmValue,\n",
    "     case\n",
    "         when ucase(tp.parm_Label) = 'S256~H2~Q0_FBC_0P65' then parmValue\n",
    "         else 0\n",
    "     end as Q0FailCount,\n",
    "     case\n",
    "         when ucase(tp.parm_Label) = 'S256~H2~Q1_FBC_0P65' then parmValue\n",
    "         else 0\n",
    "     end as Q1FailCount,\n",
    "     case\n",
    "         when ucase(tp.parm_Label) = 'S256~H2~Q2_FBC_0P65' then parmValue\n",
    "         else 0\n",
    "     end as Q2FailCount,\n",
    "     case\n",
    "         when ucase(tp.parm_Label) = 'S256~H2~Q3_FBC_0P65' then parmValue\n",
    "         else 0\n",
    "     end as Q3FailCount\n",
    "FROM DMIW.ChipParmFactR cpfr\n",
    "JOIN DMIW_SYSTEMS.TestParm tp ON cpfr.testParmKey = tp.testParmKey\n",
    "JOIN DMIW_SYSTEMS.Geography geo ON cpfr.geographyKey = geo.geographyKey\n",
    "JOIN (select testedWaferKey, lot_Id, wafer_Id, family_Code, cur_Lot_Grade as lot_Grade, \n",
    "     last_TestTimeStamp as date, level, last_Eqp_Id \n",
    "     from DMIW_SYSTEMS.TestedWafer testedWafer \n",
    "     where Last_test_date >= (current date - {} days) and Tech_id = '7HPP' and Calcdefs = '{}' \n",
    "     group by testedWaferKey, lot_Id, wafer_Id, family_Code, cur_Lot_Grade, last_TestTimeStamp,\n",
    "     level, last_Eqp_Id) tw ON cpfr.testedWaferKey = tw.testedWaferKey\n",
    "WHERE cpfr.parmValue is not null and abs(parmValue) < 1e25 and\n",
    "    (ucase(tp.parm_Label) in ('S256~H2~Q0_FBC_0P65', 'S256~H2~Q1_FBC_0P65', 'S256~H2~Q2_FBC_0P65', 'S256~H2~Q3_FBC_0P65'))\n",
    ")\n",
    "GROUP BY wafer_Id, ChipX, ChipY\n",
    "ORDER BY wafer_Id, ChipX, ChipY\n",
    ") ElecTable\n",
    "\n",
    "ON APRCTable.wafer_Id = ElecTable.wafer_Id and APRCTable.ChipX = ElecTable.ChipX and APRCTable.ChipY = ElecTable.ChipY\n",
    "ORDER BY lot_Id_base, wafer_Id\n",
    "\"\"\".format(corner, corner, daysback, Calcdefs, daysback, Calcdefs)\n",
    "    \n",
    "df = pd.read_sql(SQLQuery,con)\n",
    "    \n",
    "features2 = pd.pivot_table(df, values=('BITCOUNT','DBCCOUNT','Q0FAILCOUNT','Q1FAILCOUNT','Q2FAILCOUNT','Q3FAILCOUNT'), index=['WAFER_ID'], columns=['CHIPXY'], aggfunc=np.mean).fillna(0)"
   ]
  },
  {
   "cell_type": "markdown",
   "metadata": {},
   "source": [
    "### Fit Models"
   ]
  },
  {
   "cell_type": "code",
   "execution_count": 13,
   "metadata": {},
   "outputs": [],
   "source": [
    "X = features1.loc[:, ((features1.columns != 'Radial') & (features1.columns != 'Smiley'))]"
   ]
  },
  {
   "cell_type": "code",
   "execution_count": 14,
   "metadata": {},
   "outputs": [],
   "source": [
    "model = Radial_model\n",
    "Radial_results = pd.DataFrame({'WaferId':X.index,'Rad_pred':model.predict(X), 'Rad_prob':model.predict_proba(X)[:,1]})"
   ]
  },
  {
   "cell_type": "code",
   "execution_count": 15,
   "metadata": {},
   "outputs": [],
   "source": [
    "model = Smiley_model\n",
    "Smiley_results = pd.DataFrame({'WaferId':X.index,'Smile_pred':model.predict(X), 'Smile_prob':model.predict_proba(X)[:,1]})"
   ]
  },
  {
   "cell_type": "code",
   "execution_count": 18,
   "metadata": {},
   "outputs": [],
   "source": [
    "X = features2.loc[:, ((features2.columns != 'Small_Center') & (features2.columns != 'Big_Center'))]"
   ]
  },
  {
   "cell_type": "code",
   "execution_count": 19,
   "metadata": {},
   "outputs": [],
   "source": [
    "model = SmallCenter_model\n",
    "SmallC_results = pd.DataFrame({'WaferId':X.index,'SmallC_pred':model.predict(X), 'SmallC_prob':model.predict_proba(X)[:,1]})"
   ]
  },
  {
   "cell_type": "code",
   "execution_count": 20,
   "metadata": {},
   "outputs": [],
   "source": [
    "model = BigCenter_model\n",
    "BigC_results = pd.DataFrame({'WaferId':X.index,'BigC_pred':model.predict(X), 'BigC_prob':model.predict_proba(X)[:,1]})"
   ]
  },
  {
   "cell_type": "code",
   "execution_count": 21,
   "metadata": {},
   "outputs": [],
   "source": [
    "output = Radial_results.set_index('WaferId').join(Smiley_results.set_index('WaferId')).join(SmallC_results.set_index('WaferId')).join(BigC_results.set_index('WaferId'))"
   ]
  },
  {
   "cell_type": "code",
   "execution_count": 51,
   "metadata": {},
   "outputs": [],
   "source": [
    "output.to_csv('~/Downloads/Fail_Signatures.csv')"
   ]
  },
  {
   "cell_type": "code",
   "execution_count": 23,
   "metadata": {},
   "outputs": [
    {
     "data": {
      "text/plain": [
       "<SFTPAttributes: [ size=16949 uid=563230 gid=1024768 mode=0o200100660 atime=1571939257 mtime=1572898915 ]>"
      ]
     },
     "execution_count": 23,
     "metadata": {},
     "output_type": "execute_result"
    }
   ],
   "source": [
    "# Convert to CSV File for Cheng Tin\n",
    "localpath = \"/Users/acyang@us.ibm.com/Downloads/Fail_Signatures.csv\"\n",
    "gsapath = \"/gsa/pokgsa/home/a/c/acyang/public/Fail_Signatures.csv\"\n",
    "\n",
    "output.to_csv(localpath)\n",
    "\n",
    "import paramiko\n",
    "\n",
    "host = \"pokgsa.ibm.com\"\n",
    "#port = 22\n",
    "transport = paramiko.Transport((host))\n",
    "\n",
    "password = \"BobRoss99MakesMeSleep\"                \n",
    "username = \"acyang\"                \n",
    "transport.connect(username = username, password = password)\n",
    "\n",
    "sftp = paramiko.SFTPClient.from_transport(transport)\n",
    "\n",
    "sftp.put(localpath, gsapath)"
   ]
  },
  {
   "cell_type": "code",
   "execution_count": 35,
   "metadata": {},
   "outputs": [
    {
     "data": {
      "text/html": [
       "<div>\n",
       "<style scoped>\n",
       "    .dataframe tbody tr th:only-of-type {\n",
       "        vertical-align: middle;\n",
       "    }\n",
       "\n",
       "    .dataframe tbody tr th {\n",
       "        vertical-align: top;\n",
       "    }\n",
       "\n",
       "    .dataframe thead th {\n",
       "        text-align: right;\n",
       "    }\n",
       "</style>\n",
       "<table border=\"1\" class=\"dataframe\">\n",
       "  <thead>\n",
       "    <tr style=\"text-align: right;\">\n",
       "      <th></th>\n",
       "      <th>Rad_pred</th>\n",
       "      <th>Rad_prob</th>\n",
       "      <th>Smile_pred</th>\n",
       "      <th>Smile_prob</th>\n",
       "      <th>SmallC_pred</th>\n",
       "      <th>SmallC_prob</th>\n",
       "      <th>BigC_pred</th>\n",
       "      <th>BigC_prob</th>\n",
       "    </tr>\n",
       "    <tr>\n",
       "      <th>WaferId</th>\n",
       "      <th></th>\n",
       "      <th></th>\n",
       "      <th></th>\n",
       "      <th></th>\n",
       "      <th></th>\n",
       "      <th></th>\n",
       "      <th></th>\n",
       "      <th></th>\n",
       "    </tr>\n",
       "  </thead>\n",
       "  <tbody>\n",
       "    <tr>\n",
       "      <th>AZ3FY-01</th>\n",
       "      <td>0.0</td>\n",
       "      <td>0.031818</td>\n",
       "      <td>0.0</td>\n",
       "      <td>0.000000</td>\n",
       "      <td>0.0</td>\n",
       "      <td>0.326087</td>\n",
       "      <td>0.0</td>\n",
       "      <td>0.033333</td>\n",
       "    </tr>\n",
       "    <tr>\n",
       "      <th>AZ3FY-04</th>\n",
       "      <td>0.0</td>\n",
       "      <td>0.140909</td>\n",
       "      <td>0.0</td>\n",
       "      <td>0.018182</td>\n",
       "      <td>0.0</td>\n",
       "      <td>0.039130</td>\n",
       "      <td>0.0</td>\n",
       "      <td>0.014286</td>\n",
       "    </tr>\n",
       "    <tr>\n",
       "      <th>AZ3FY-05</th>\n",
       "      <td>0.0</td>\n",
       "      <td>0.077273</td>\n",
       "      <td>0.0</td>\n",
       "      <td>0.000000</td>\n",
       "      <td>0.0</td>\n",
       "      <td>0.017391</td>\n",
       "      <td>0.0</td>\n",
       "      <td>0.009524</td>\n",
       "    </tr>\n",
       "    <tr>\n",
       "      <th>AZ3FY-09</th>\n",
       "      <td>0.0</td>\n",
       "      <td>0.040909</td>\n",
       "      <td>0.0</td>\n",
       "      <td>0.000000</td>\n",
       "      <td>0.0</td>\n",
       "      <td>0.030435</td>\n",
       "      <td>0.0</td>\n",
       "      <td>0.009524</td>\n",
       "    </tr>\n",
       "    <tr>\n",
       "      <th>AZ3FY-11</th>\n",
       "      <td>0.0</td>\n",
       "      <td>0.140909</td>\n",
       "      <td>0.0</td>\n",
       "      <td>0.009091</td>\n",
       "      <td>0.0</td>\n",
       "      <td>0.008696</td>\n",
       "      <td>0.0</td>\n",
       "      <td>0.014286</td>\n",
       "    </tr>\n",
       "    <tr>\n",
       "      <th>AZ3FY-12</th>\n",
       "      <td>0.0</td>\n",
       "      <td>0.086364</td>\n",
       "      <td>0.0</td>\n",
       "      <td>0.009091</td>\n",
       "      <td>0.0</td>\n",
       "      <td>0.013043</td>\n",
       "      <td>0.0</td>\n",
       "      <td>0.042857</td>\n",
       "    </tr>\n",
       "    <tr>\n",
       "      <th>AZ3FY-13</th>\n",
       "      <td>0.0</td>\n",
       "      <td>0.090909</td>\n",
       "      <td>0.0</td>\n",
       "      <td>0.013636</td>\n",
       "      <td>0.0</td>\n",
       "      <td>0.004348</td>\n",
       "      <td>0.0</td>\n",
       "      <td>0.004762</td>\n",
       "    </tr>\n",
       "    <tr>\n",
       "      <th>AZ3FY-14</th>\n",
       "      <td>0.0</td>\n",
       "      <td>0.077273</td>\n",
       "      <td>0.0</td>\n",
       "      <td>0.009091</td>\n",
       "      <td>0.0</td>\n",
       "      <td>0.017391</td>\n",
       "      <td>0.0</td>\n",
       "      <td>0.000000</td>\n",
       "    </tr>\n",
       "    <tr>\n",
       "      <th>AZ3FY-15</th>\n",
       "      <td>0.0</td>\n",
       "      <td>0.050000</td>\n",
       "      <td>0.0</td>\n",
       "      <td>0.000000</td>\n",
       "      <td>0.0</td>\n",
       "      <td>0.026087</td>\n",
       "      <td>0.0</td>\n",
       "      <td>0.014286</td>\n",
       "    </tr>\n",
       "    <tr>\n",
       "      <th>AZ3FY-16</th>\n",
       "      <td>0.0</td>\n",
       "      <td>0.122727</td>\n",
       "      <td>0.0</td>\n",
       "      <td>0.022727</td>\n",
       "      <td>0.0</td>\n",
       "      <td>0.008696</td>\n",
       "      <td>0.0</td>\n",
       "      <td>0.033333</td>\n",
       "    </tr>\n",
       "    <tr>\n",
       "      <th>AZ3FY-17</th>\n",
       "      <td>0.0</td>\n",
       "      <td>0.036364</td>\n",
       "      <td>0.0</td>\n",
       "      <td>0.000000</td>\n",
       "      <td>0.0</td>\n",
       "      <td>0.000000</td>\n",
       "      <td>0.0</td>\n",
       "      <td>0.004762</td>\n",
       "    </tr>\n",
       "    <tr>\n",
       "      <th>AZ3FY-20</th>\n",
       "      <td>0.0</td>\n",
       "      <td>0.081818</td>\n",
       "      <td>0.0</td>\n",
       "      <td>0.000000</td>\n",
       "      <td>0.0</td>\n",
       "      <td>0.008696</td>\n",
       "      <td>0.0</td>\n",
       "      <td>0.019048</td>\n",
       "    </tr>\n",
       "    <tr>\n",
       "      <th>AZ3FY-21</th>\n",
       "      <td>0.0</td>\n",
       "      <td>0.068182</td>\n",
       "      <td>0.0</td>\n",
       "      <td>0.000000</td>\n",
       "      <td>0.0</td>\n",
       "      <td>0.000000</td>\n",
       "      <td>0.0</td>\n",
       "      <td>0.014286</td>\n",
       "    </tr>\n",
       "    <tr>\n",
       "      <th>AZ3FY-22</th>\n",
       "      <td>0.0</td>\n",
       "      <td>0.227273</td>\n",
       "      <td>0.0</td>\n",
       "      <td>0.004545</td>\n",
       "      <td>0.0</td>\n",
       "      <td>0.008696</td>\n",
       "      <td>0.0</td>\n",
       "      <td>0.019048</td>\n",
       "    </tr>\n",
       "    <tr>\n",
       "      <th>AZ3FY-23</th>\n",
       "      <td>0.0</td>\n",
       "      <td>0.131818</td>\n",
       "      <td>0.0</td>\n",
       "      <td>0.000000</td>\n",
       "      <td>0.0</td>\n",
       "      <td>0.008696</td>\n",
       "      <td>0.0</td>\n",
       "      <td>0.000000</td>\n",
       "    </tr>\n",
       "  </tbody>\n",
       "</table>\n",
       "</div>"
      ],
      "text/plain": [
       "          Rad_pred  Rad_prob  Smile_pred  Smile_prob  SmallC_pred  \\\n",
       "WaferId                                                             \n",
       "AZ3FY-01       0.0  0.031818         0.0    0.000000          0.0   \n",
       "AZ3FY-04       0.0  0.140909         0.0    0.018182          0.0   \n",
       "AZ3FY-05       0.0  0.077273         0.0    0.000000          0.0   \n",
       "AZ3FY-09       0.0  0.040909         0.0    0.000000          0.0   \n",
       "AZ3FY-11       0.0  0.140909         0.0    0.009091          0.0   \n",
       "AZ3FY-12       0.0  0.086364         0.0    0.009091          0.0   \n",
       "AZ3FY-13       0.0  0.090909         0.0    0.013636          0.0   \n",
       "AZ3FY-14       0.0  0.077273         0.0    0.009091          0.0   \n",
       "AZ3FY-15       0.0  0.050000         0.0    0.000000          0.0   \n",
       "AZ3FY-16       0.0  0.122727         0.0    0.022727          0.0   \n",
       "AZ3FY-17       0.0  0.036364         0.0    0.000000          0.0   \n",
       "AZ3FY-20       0.0  0.081818         0.0    0.000000          0.0   \n",
       "AZ3FY-21       0.0  0.068182         0.0    0.000000          0.0   \n",
       "AZ3FY-22       0.0  0.227273         0.0    0.004545          0.0   \n",
       "AZ3FY-23       0.0  0.131818         0.0    0.000000          0.0   \n",
       "\n",
       "          SmallC_prob  BigC_pred  BigC_prob  \n",
       "WaferId                                      \n",
       "AZ3FY-01     0.326087        0.0   0.033333  \n",
       "AZ3FY-04     0.039130        0.0   0.014286  \n",
       "AZ3FY-05     0.017391        0.0   0.009524  \n",
       "AZ3FY-09     0.030435        0.0   0.009524  \n",
       "AZ3FY-11     0.008696        0.0   0.014286  \n",
       "AZ3FY-12     0.013043        0.0   0.042857  \n",
       "AZ3FY-13     0.004348        0.0   0.004762  \n",
       "AZ3FY-14     0.017391        0.0   0.000000  \n",
       "AZ3FY-15     0.026087        0.0   0.014286  \n",
       "AZ3FY-16     0.008696        0.0   0.033333  \n",
       "AZ3FY-17     0.000000        0.0   0.004762  \n",
       "AZ3FY-20     0.008696        0.0   0.019048  \n",
       "AZ3FY-21     0.000000        0.0   0.014286  \n",
       "AZ3FY-22     0.008696        0.0   0.019048  \n",
       "AZ3FY-23     0.008696        0.0   0.000000  "
      ]
     },
     "execution_count": 35,
     "metadata": {},
     "output_type": "execute_result"
    }
   ],
   "source": [
    "output[output.index.str.contains(\"AZ3FY\")]"
   ]
  },
  {
   "cell_type": "code",
   "execution_count": null,
   "metadata": {},
   "outputs": [],
   "source": []
  }
 ],
 "metadata": {
  "kernelspec": {
   "display_name": "Python 3",
   "language": "python",
   "name": "python3"
  },
  "language_info": {
   "codemirror_mode": {
    "name": "ipython",
    "version": 3
   },
   "file_extension": ".py",
   "mimetype": "text/x-python",
   "name": "python",
   "nbconvert_exporter": "python",
   "pygments_lexer": "ipython3",
   "version": "3.7.0"
  }
 },
 "nbformat": 4,
 "nbformat_minor": 2
}
