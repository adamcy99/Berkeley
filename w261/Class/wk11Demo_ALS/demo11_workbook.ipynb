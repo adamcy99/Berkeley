{
 "cells": [
  {
   "cell_type": "markdown",
   "metadata": {},
   "source": [
    "# wk11 Demo - ALS\n",
    "__`MIDS w261: Machine Learning at Scale | UC Berkeley School of Information | Fall 2018`__\n",
    "\n",
    "Last week we did pagerank. This week we're doing Alternating Least Squares (ALS) Regression. \n",
    "\n",
    "In class today we'll start out with some basic theory of ALS using Spark. We'll do all of these with closed-form ridge regression (l2) starting with a single node implementation, distributed implementation, and a mllib implementation. \n",
    "\n",
    "By the end of today's demo you should be able to:  \n",
    "* ... __describe__ ALS regression \n",
    "* ... __implement__ ALS regression in a distributed fashion.\n",
    "* ... __explain__ how the implementation between single node and distributed differ.\n",
    "\n",
    "__`Additional Resources:`__ This notebook was based on several notebooks by Jimi and the following references:\n",
    "- https://bugra.github.io/work/notes/2014-04-19/alternating-least-squares-method-for-collaborative-filtering/\n",
    "- https://web.stanford.edu/~rezab/classes/cme323/S15/notes/lec14.pdf\n",
    "- Matrix Completion and Low-Rank SVD via Fast Alternating Least Squares (https://arxiv.org/pdf/1410.2596.pdf)\n",
    "- https://blog.insightdatascience.com/explicit-matrix-factorization-als-sgd-and-all-that-jazz-b00e4d9b21ea\n",
    "- http://yifanhu.net/PUB/cf.pdf\n",
    "- http://math.bu.edu/people/cgineste/classes/ma575/p/w14_1.pdf"
   ]
  },
  {
   "cell_type": "markdown",
   "metadata": {},
   "source": [
    "### Notebook Set-Up"
   ]
  },
  {
   "cell_type": "code",
   "execution_count": 2,
   "metadata": {
    "collapsed": true
   },
   "outputs": [],
   "source": [
    "# imports\n",
    "import re\n",
    "import numpy as np\n",
    "import pandas as pd\n",
    "import matplotlib.pyplot as plt\n",
    "from os import path"
   ]
  },
  {
   "cell_type": "code",
   "execution_count": 3,
   "metadata": {
    "collapsed": true
   },
   "outputs": [],
   "source": [
    "# store path to notebook\n",
    "PWD = !pwd\n",
    "PWD = PWD[0]"
   ]
  },
  {
   "cell_type": "code",
   "execution_count": 4,
   "metadata": {
    "collapsed": true
   },
   "outputs": [],
   "source": [
    "from pyspark.sql import SparkSession\n",
    "app_name = \"wk4_demo\"\n",
    "master = \"local[*]\"\n",
    "spark = SparkSession\\\n",
    "        .builder\\\n",
    "        .appName(app_name)\\\n",
    "        .master(master)\\\n",
    "        .getOrCreate()\n",
    "sc = spark.sparkContext"
   ]
  },
  {
   "cell_type": "code",
   "execution_count": 5,
   "metadata": {
    "collapsed": false
   },
   "outputs": [
    {
     "name": "stdout",
     "output_type": "stream",
     "text": [
      "  % Total    % Received % Xferd  Average Speed   Time    Time     Time  Current\n",
      "                                 Dload  Upload   Total   Spent    Left  Speed\n",
      "  0     0    0     0    0     0      0      0 --:--:-- --:--:-- --:--:--     0\n",
      "  % Total    % Received % Xferd  Average Speed   Time    Time     Time  Current\n",
      "                                 Dload  Upload   Total   Spent    Left  Speed\n",
      "100  955k  100  955k    0     0   198k      0  0:00:04  0:00:04 --:--:--  216k\n",
      "  % Total    % Received % Xferd  Average Speed   Time    Time     Time  Current\n",
      "                                 Dload  Upload   Total   Spent    Left  Speed\n",
      "100 62.5M  100 62.5M    0     0   615k      0  0:01:43  0:01:43 --:--:-- 1139k\n"
     ]
    }
   ],
   "source": [
    "# make data directory if it doesn't already exist\n",
    "!mkdir -p data\n",
    "!curl https://www.dropbox.com/s/yk72grsouyw018l/test.data.txt?dl=1 -o data/test.data\n",
    "!curl http://files.grouplens.org/datasets/movielens/ml-latest-small.zip -o data/data-ml-latest-small.zip\n",
    "!curl http://files.grouplens.org/datasets/movielens/ml-10m.zip -o data/data-ml-10m.zip"
   ]
  },
  {
   "cell_type": "code",
   "execution_count": 6,
   "metadata": {
    "collapsed": false
   },
   "outputs": [
    {
     "name": "stdout",
     "output_type": "stream",
     "text": [
      "Archive:  data/data-ml-latest-small.zip\n",
      "   creating: data/ml-latest-small/\n",
      "  inflating: data/ml-latest-small/links.csv  \n",
      "  inflating: data/ml-latest-small/tags.csv  \n",
      "  inflating: data/ml-latest-small/ratings.csv  \n",
      "  inflating: data/ml-latest-small/README.txt  \n",
      "  inflating: data/ml-latest-small/movies.csv  \n",
      "Archive:  data/data-ml-10m.zip\n",
      "   creating: data/ml-10M100K/\n",
      "  inflating: data/ml-10M100K/allbut.pl  \n",
      "  inflating: data/ml-10M100K/movies.dat  \n",
      "  inflating: data/ml-10M100K/ratings.dat  \n",
      "  inflating: data/ml-10M100K/README.html  \n",
      "  inflating: data/ml-10M100K/split_ratings.sh  \n",
      "  inflating: data/ml-10M100K/tags.dat  \n"
     ]
    }
   ],
   "source": [
    "!rm -rf data/ml*\n",
    "!unzip data/data-ml-latest-small.zip -d data/\n",
    "!unzip data/data-ml-10m.zip -d data/"
   ]
  },
  {
   "cell_type": "code",
   "execution_count": 8,
   "metadata": {
    "collapsed": false
   },
   "outputs": [
    {
     "name": "stdout",
     "output_type": "stream",
     "text": [
      "data/\n",
      "|-- data-ml-10m.zip\n",
      "|-- data-ml-latest-small.zip\n",
      "|-- ml-10M100K\n",
      "|   |-- README.html\n",
      "|   |-- allbut.pl\n",
      "|   |-- movies.dat\n",
      "|   |-- ratings.dat\n",
      "|   |-- split_ratings.sh\n",
      "|   `-- tags.dat\n",
      "|-- ml-latest-small\n",
      "|   |-- README.txt\n",
      "|   |-- links.csv\n",
      "|   |-- movies.csv\n",
      "|   |-- ratings.csv\n",
      "|   `-- tags.csv\n",
      "`-- test.data\n",
      "\n",
      "2 directories, 14 files\n"
     ]
    }
   ],
   "source": [
    "!tree data/"
   ]
  },
  {
   "cell_type": "markdown",
   "metadata": {},
   "source": [
    "## What's the problem"
   ]
  },
  {
   "cell_type": "markdown",
   "metadata": {},
   "source": [
    "A lot of marketing in todays world relies on putting eyes on products people want to buy; however, with a new customer or a new product you don't have enough information to make recommendations effectively. This is called the cold start problem. These products could be movies, eletronics, news, etc. effectively anything that can be consumed by a customer.\n",
    "\n",
    "Given a customer you have ratings/likes/mentions/views they've given a product and your goal is to determine which to show them next.\n",
    "\n",
    "You could represent this in a $n\\times m$ rating's matrix $R$ with entries $r_{u,i}$ representing the $i$th item rating by user $u$ with $n$ users and $m$ items\n",
    "\n",
    "A common approach for this problem is matrix factorization where we make estimates for the complete ratings matrix $R$ in terms of two matrix \"factors\" $X$ and $Y$ which multiply together to form $R$. Where $X$ is the user matrix and $Y$ is the item matrix.\n",
    "\n",
    "$$\n",
    "R \\approx X^{T}Y\n",
    "$$"
   ]
  },
  {
   "cell_type": "markdown",
   "metadata": {},
   "source": [
    "## Theory"
   ]
  },
  {
   "cell_type": "markdown",
   "metadata": {},
   "source": [
    "Goal: Estimate R by creating factor matricies with reduced complexity $X\\in\\mathbb{R}^{k,n}$ and $Y\\in\\mathbb{R}^{k,m}$ with $n$ users, $m$ items, and $k$ factors. \n",
    "\n",
    "#### Assumptions\n",
    "- Each user can be described by $k$ attributes or features. For example, feature 1 might be a number that says how much each user likes sci-fi movies; however, they are ambiguous since the model derives them similar to a neural network. So we do not get the interpretability.\n",
    "- Each item (movie) can be described by an analagous set of $k$ attributes or features. To correspond to the above example, feature 1 for the movie might be a number that says how close the movie is to pure sci-fi.\n",
    "- If we multiply each feature of the user by the corresponding feature of the movie and add everything together, this will be a good approximation for the rating the user would give that movie.\n",
    "\n",
    "$$\n",
    "r'_{u,i} = \\boldsymbol{x}^{T}_{u}\\boldsymbol{y}_{i} = \\sum_{k} x_{u,k}y_{k,i}\n",
    "$$\n",
    "\n",
    "These user and item vectors are often called latent vectors or low-dimensional embeddings.\n",
    "\n",
    "\n",
    "#### Loss\n",
    "\n",
    "Let's do RMSE for our loss and add in regularization for generalizability\n",
    "\n",
    "$$\n",
    "\\DeclareMathOperator{\\Tr}{Tr}\n",
    "\\begin{align}\n",
    "L &= \\Vert R-R' \\Vert^{2} + \\lambda \\Vert R'\\Vert^{2} \\\\\n",
    "&= \\Vert R-X^{T}Y \\Vert^{2} + \\lambda \\Vert X^{T}Y\\Vert^{2}\n",
    "\\end{align}\n",
    "$$\n",
    "\n",
    "or in vector notation\n",
    "\n",
    "$$\n",
    "\\begin{align}\n",
    "L &=\\sum_{u,i}\\left(\\Vert r_{u,i}-r'_{u,i} \\Vert^{2} +\\lambda \\Vert r'_{u,i} \\Vert^{2}\\right) \\\\\n",
    "&=\\sum_{u,i}\\left(\\Vert r_{u,i}-\\boldsymbol{x}_{u}^{T}\\boldsymbol{y}_{i} \\Vert^{2}\\right) + \\lambda \\Vert \\boldsymbol{x}_{u}^{T}\\boldsymbol{y}_{i}\\Vert^{2}\n",
    "\\end{align}\n",
    "$$\n",
    "\n",
    "Notice that $X^{T}Y$ are multiplied. This means the space isn't convex. (get picture). Also minimizing this is hard. How can we change the user space and the item space in relation to each other? Let's make an assumption to make our life easier. It turns out if we constrain $X$ ($X^{T}$ by proxy) or $Y$ to be constant, that this is a convex problem since the multiplicative factor is a constant and it has the same matrix notation as standard least square regression.\n",
    "\n",
    "If $X$ is constant and we only have regularization in items\n",
    "\n",
    "$$\n",
    "\\begin{align}\n",
    "L &= \\Vert R-xY \\Vert^{2} + \\lambda \\Vert Y\\Vert^{2} \\\\\n",
    "&= \\Vert R-xY \\Vert^{2} + \\lambda y^{T}y \\\\\n",
    "\\frac{\\partial}{\\partial y}L &= 2x\n",
    "\\end{align}\n",
    "$$\n",
    "\n",
    "If $Y$ is constant and we only have regularization in users\n",
    "\n",
    "$$\n",
    "\\begin{align}\n",
    "L &= \\Vert R-yX^{T} \\Vert^{2} + \\lambda \\Vert X\\Vert^{2} \\\\\n",
    "\\frac{\\partial}{\\partial x}L &=\n",
    "\\end{align}\n",
    "$$\n",
    "\n",
    "#### Alternating Least Squares\n",
    "\n",
    "..."
   ]
  },
  {
   "cell_type": "markdown",
   "metadata": {},
   "source": [
    "## About the Data"
   ]
  },
  {
   "cell_type": "markdown",
   "metadata": {},
   "source": [
    "..."
   ]
  },
  {
   "cell_type": "markdown",
   "metadata": {},
   "source": [
    "## Python - Single Node Implementation"
   ]
  },
  {
   "cell_type": "code",
   "execution_count": 1,
   "metadata": {
    "collapsed": false
   },
   "outputs": [
    {
     "ename": "NameError",
     "evalue": "name 'PWD' is not defined",
     "output_type": "error",
     "traceback": [
      "\u001b[0;31m\u001b[0m",
      "\u001b[0;31mNameError\u001b[0mTraceback (most recent call last)",
      "\u001b[0;32m<ipython-input-1-259b9ca73c47>\u001b[0m in \u001b[0;36m<module>\u001b[0;34m()\u001b[0m\n\u001b[1;32m      5\u001b[0m \u001b[0;32mfrom\u001b[0m \u001b[0mos\u001b[0m \u001b[0;32mimport\u001b[0m \u001b[0mpath\u001b[0m\u001b[0;34m\u001b[0m\u001b[0m\n\u001b[1;32m      6\u001b[0m \u001b[0;34m\u001b[0m\u001b[0m\n\u001b[0;32m----> 7\u001b[0;31m \u001b[0mbaseDir\u001b[0m \u001b[0;34m=\u001b[0m \u001b[0;34mf\"{PWD}/data/ml-10M100K\"\u001b[0m\u001b[0;34m\u001b[0m\u001b[0m\n\u001b[0m\u001b[1;32m      8\u001b[0m \u001b[0;34m\u001b[0m\u001b[0m\n\u001b[1;32m      9\u001b[0m \u001b[0;31m# The MovieLens dataset contains 10000054 ratings and 95580 tags applied to 10681 movies by 71567 users.\u001b[0m\u001b[0;34m\u001b[0m\u001b[0;34m\u001b[0m\u001b[0m\n",
      "\u001b[0;31mNameError\u001b[0m: name 'PWD' is not defined"
     ]
    }
   ],
   "source": [
    "baseDir = f\"{PWD}/data/ml-10M100K\"\n",
    "\n",
    "# The MovieLens dataset contains 10000054 ratings and 95580 tags applied to 10681 movies by 71567 users.\n",
    "\n",
    "rating_headers = ['user_id', 'movie_id', 'rating', 'timestamp']\n",
    "ratings = pd.read_table(path.join(baseDir,'ratings.dat'), sep='::', header=None, names=rating_headers)\n",
    "\n",
    "movie_headers = ['movie_id', 'title', 'genres']\n",
    "movies = pd.read_table(path.join(baseDir,'movies.dat'), sep='::', header=None, names=movie_headers)\n",
    "movie_titles = movies.title.tolist()\n",
    "\n",
    "df = movies.join(ratings, on=['movie_id'], rsuffix='_r')\n",
    "del df['movie_id_r']\n",
    "df.head()"
   ]
  },
  {
   "cell_type": "code",
   "execution_count": 6,
   "metadata": {
    "collapsed": false
   },
   "outputs": [
    {
     "data": {
      "text/plain": [
       "(303, 10681)"
      ]
     },
     "execution_count": 6,
     "metadata": {},
     "output_type": "execute_result"
    }
   ],
   "source": [
    "# Getting Q Matrix\n",
    "rp = df.pivot_table(columns=['movie_id'],index=['user_id'],values='rating').fillna(0)\n",
    "rp.head()\n",
    "Q = rp.values\n",
    "Q.shape"
   ]
  },
  {
   "cell_type": "code",
   "execution_count": 7,
   "metadata": {
    "collapsed": false
   },
   "outputs": [
    {
     "name": "stdout",
     "output_type": "stream",
     "text": [
      "[[1. 1. 1. ... 0. 0. 0.]\n",
      " [0. 0. 0. ... 0. 0. 0.]\n",
      " [0. 0. 0. ... 0. 0. 0.]\n",
      " ...\n",
      " [0. 0. 0. ... 0. 0. 0.]\n",
      " [0. 0. 0. ... 0. 0. 0.]\n",
      " [0. 0. 0. ... 1. 1. 1.]]\n"
     ]
    }
   ],
   "source": [
    "# build a binary weight matrix (so the algo focuses on say the movies a user rated during each subproblem \n",
    "# (each user can be view as an atomic problem to be solved) that is solved)\n",
    "W = Q>0.5\n",
    "W[W == True] = 1\n",
    "W[W == False] = 0\n",
    "# To be consistent with our Q matrix\n",
    "W = W.astype(np.float64, copy=False)\n",
    "lambda_ = 0.1 # learning rate\n",
    "n_factors = 100\n",
    "m, n = Q.shape\n",
    "\n",
    "#setup user and movie factor matrices of order n_factors between [0, 5] stars\n",
    "X = 5 * np.random.rand(m, n_factors) \n",
    "Y = 5 * np.random.rand(n_factors, n)\n",
    "X.shape\n",
    "\n",
    "#compute the error (Frobenus norm) where\n",
    "# Q target ratings matrix\n",
    "# X and Y are the factorized matrices\n",
    "# W weight matrix\n",
    "def get_error(Q, X, Y, W):\n",
    "    return np.sum((W * (Q - np.dot(X, Y)))**2)\n",
    "\n",
    "print(W)"
   ]
  },
  {
   "cell_type": "code",
   "execution_count": 8,
   "metadata": {
    "collapsed": false
   },
   "outputs": [
    {
     "name": "stdout",
     "output_type": "stream",
     "text": [
      "0th iteration is completed\n",
      "1th iteration is completed\n",
      "2th iteration is completed\n",
      "3th iteration is completed\n",
      "4th iteration is completed\n",
      "5th iteration is completed\n",
      "6th iteration is completed\n",
      "7th iteration is completed\n",
      "8th iteration is completed\n",
      "9th iteration is completed\n",
      "10th iteration is completed\n",
      "11th iteration is completed\n",
      "12th iteration is completed\n",
      "13th iteration is completed\n",
      "14th iteration is completed\n",
      "15th iteration is completed\n",
      "16th iteration is completed\n",
      "17th iteration is completed\n",
      "18th iteration is completed\n",
      "19th iteration is completed\n",
      "\n",
      "Error of rated movies: 15742.610437641586\n"
     ]
    }
   ],
   "source": [
    "# non-weighted version of ALS (does not work well!)\n",
    "# uses all user item values (as opposed to the subset of actual ratings)\n",
    "n_iterations = 20\n",
    "\n",
    "errors = []\n",
    "for i in range(n_iterations):\n",
    "    X = np.linalg.solve(np.dot(Y, Y.T) + lambda_ * np.eye(n_factors), \n",
    "                        np.dot(Y, Q.T)).T\n",
    "    Y = np.linalg.solve(np.dot(X.T, X) + lambda_ * np.eye(n_factors),\n",
    "                        np.dot(X.T, Q))\n",
    "    print(f'{i}th iteration is completed')\n",
    "    errors.append(get_error(Q, X, Y, W))\n",
    "Q_hat = np.dot(X, Y)\n",
    "\n",
    "print('')\n",
    "print(f'Error of rated movies: {get_error(Q, X, Y, W)}')"
   ]
  },
  {
   "cell_type": "code",
   "execution_count": 9,
   "metadata": {
    "collapsed": false
   },
   "outputs": [
    {
     "data": {
      "text/plain": [
       "Text(0,0.5,'Total Squared Error')"
      ]
     },
     "execution_count": 9,
     "metadata": {},
     "output_type": "execute_result"
    },
    {
     "data": {
      "image/png": "[encoded data removed]",
      "text/plain": [
       "<Figure size 432x288 with 1 Axes>"
      ]
     },
     "metadata": {},
     "output_type": "display_data"
    }
   ],
   "source": [
    "import matplotlib.pyplot as plt\n",
    "# display plots inline (otherwise it will fire up a separate window)\n",
    "%matplotlib inline\n",
    "plt.plot(errors);\n",
    "plt.ylim([0, 20000]);\n",
    "plt.ylim([0, 20000]);\n",
    "plt.xlabel(\"ALS Iteration\")\n",
    "plt.ylabel(\"Total Squared Error\")"
   ]
  },
  {
   "cell_type": "code",
   "execution_count": 17,
   "metadata": {
    "collapsed": false
   },
   "outputs": [
    {
     "name": "stdout",
     "output_type": "stream",
     "text": [
      "0th iteration is completed\n",
      "1th iteration is completed\n",
      "2th iteration is completed\n",
      "3th iteration is completed\n",
      "4th iteration is completed\n",
      "5th iteration is completed\n",
      "6th iteration is completed\n",
      "7th iteration is completed\n",
      "8th iteration is completed\n",
      "9th iteration is completed\n",
      "10th iteration is completed\n",
      "11th iteration is completed\n",
      "12th iteration is completed\n",
      "13th iteration is completed\n",
      "14th iteration is completed\n",
      "15th iteration is completed\n",
      "16th iteration is completed\n",
      "17th iteration is completed\n",
      "18th iteration is completed\n",
      "19th iteration is completed\n",
      "Error of rated movies: 10.103730329407346\n"
     ]
    },
    {
     "data": {
      "image/png": "[encoded data removed]",
      "text/plain": [
       "<Figure size 432x288 with 1 Axes>"
      ]
     },
     "metadata": {},
     "output_type": "display_data"
    }
   ],
   "source": [
    "weighted_errors = []\n",
    "for ii in range(n_iterations):\n",
    "    for u, Wu in enumerate(W):\n",
    "        #AX=B =>  X=A^-1B ; in python use solve(A, B) \n",
    "        X[u] = np.linalg.solve(np.dot(Y, np.dot(np.diag(Wu), Y.T)) + lambda_ * np.eye(n_factors),\n",
    "                               np.dot(Y, np.dot(np.diag(Wu), Q[u].T))).T\n",
    "    for i, Wi in enumerate(W.T):\n",
    "        Y[:,i] = np.linalg.solve(np.dot(X.T, np.dot(np.diag(Wi), X)) + lambda_ * np.eye(n_factors),\n",
    "                                 np.dot(X.T, np.dot(np.diag(Wi), Q[:, i])))\n",
    "    weighted_errors.append(get_error(Q, X, Y, W))\n",
    "    print(f'{ii}th iteration is completed')\n",
    "weighted_Q_hat = np.dot(X,Y)\n",
    "print(f'Error of rated movies: {get_error(Q, X, Y, W)}')\n",
    "plt.plot(weighted_errors);\n",
    "plt.xlabel('Iteration Number');\n",
    "plt.ylabel('Mean Squared Error');"
   ]
  },
  {
   "cell_type": "markdown",
   "metadata": {},
   "source": [
    "## Spark - Distributed Implementation"
   ]
  },
  {
   "cell_type": "code",
   "execution_count": 10,
   "metadata": {
    "collapsed": true
   },
   "outputs": [],
   "source": [
    "import numpy as np\n",
    "from numpy.random import rand\n",
    "from numpy import matrix"
   ]
  },
  {
   "cell_type": "code",
   "execution_count": 11,
   "metadata": {
    "collapsed": true
   },
   "outputs": [],
   "source": [
    "def rmse(R, U, V): # Metric\n",
    "    return np.sqrt(np.sum(np.power(R-U*V, 2))/(U.shape[0]*V.shape[1]))"
   ]
  },
  {
   "cell_type": "code",
   "execution_count": 12,
   "metadata": {
    "collapsed": true
   },
   "outputs": [],
   "source": [
    "def solver(mat, R, LAMBDA):  # solver to get R*mat(matT*mat + lambda*I)^-1\n",
    "    d1 = mat.shape[0]\n",
    "    d2 = mat.shape[1]\n",
    "\n",
    "    X2 = mat.T * mat\n",
    "    XY = mat.T * R.T\n",
    "\n",
    "    for j in range(d2):\n",
    "        X2[j, j] += LAMBDA * d1\n",
    "\n",
    "    return np.linalg.solve(X2, XY)"
   ]
  },
  {
   "cell_type": "code",
   "execution_count": 21,
   "metadata": {
    "collapsed": true
   },
   "outputs": [],
   "source": [
    "# Not only caculation is paralleized but also the data is wisely partitioned and shared to improve locality.\n",
    "def closedFormALS(R,InitialU,InitialVt,rank,iterations,numPartitions,LAMBDA=0.01):\n",
    "    R_Userslice = sc.parallelize(R,numPartitions).cache() # R will automaticly be partitioned by row index\n",
    "    R_Itemslice = sc.parallelize(R.T,numPartitions).cache() # R_T will automaticly be partitioned by row index\n",
    "    U = InitialU\n",
    "    Vt = InitialVt\n",
    "    \n",
    "    for i in range(iterations):\n",
    "        \n",
    "        print(f\"Iteration: {i}\")\n",
    "        print(f\"RMSE: {rmse(R, U, Vt.T)}\")\n",
    "        \n",
    "        Vtb = sc.broadcast(Vt)\n",
    "        U3d = R_Userslice.map(lambda x:solver(Vtb.value,x,LAMBDA)).collect() # a list of two 2-D matrix\n",
    "        U = matrix(np.array(U3d)[:, :, 0]) # transfered to 2-D matrix\n",
    "        \n",
    "        Ub = sc.broadcast(U)\n",
    "        Vt3d = R_Itemslice.map(lambda x:solver(Ub.value,x,LAMBDA)).collect() # a list of two 2-D matrix\n",
    "        Vt = matrix(np.array(Vt3d)[:, :, 0])  # transfered to 2-D matrix\n",
    "    \n",
    "    return U, Vt "
   ]
  },
  {
   "cell_type": "code",
   "execution_count": 20,
   "metadata": {
    "collapsed": true
   },
   "outputs": [],
   "source": [
    "# Only parallelize the calculation. It does not consider the data transmission cost\n",
    "def simpleParalleling(R,InitialU,InitialVt,rank,iterations,numPartitions,LAMBDA=0.01):\n",
    "    Rb = sc.broadcast(R)\n",
    "    U = InitialU\n",
    "    Vt = InitialVt\n",
    "    Ub = sc.broadcast(U)\n",
    "    Vtb = sc.broadcast(Vt)\n",
    "    numUsers = InitialU.shape[0]\n",
    "    numItems = InitialVt.shape[0]\n",
    "    \n",
    "    for i in range(iterations):\n",
    "        print(f\"Iteration: {i}\")\n",
    "        print(f\"RMSE: {rmse(R, U, Vt.T)}\")\n",
    "        U3d = sc.parallelize(range(numUsers), numPartitions) \\\n",
    "           .map(lambda x: solver( Vtb.value, Rb.value[x, :],LAMBDA)) \\\n",
    "           .collect() # a list of two 2-D matrix\n",
    "        U = matrix(np.array(U3d)[:, :, 0]) # transfered to 2-D matrix\n",
    "        Ub = sc.broadcast(U)\n",
    "\n",
    "        Vt3d = sc.parallelize(range(numItems), numPartitions) \\\n",
    "           .map(lambda x: solver(Ub.value, Rb.value.T[x,:],LAMBDA)) \\\n",
    "           .collect() # a list of two 2-D matrix\n",
    "        Vt = matrix(np.array(Vt3d)[:, :, 0]) # transfered to 2-D matrix\n",
    "        Vtb = sc.broadcast(Vt)\n",
    "    return U, Vt"
   ]
  },
  {
   "cell_type": "code",
   "execution_count": 24,
   "metadata": {
    "collapsed": true
   },
   "outputs": [],
   "source": [
    "def main():\n",
    "    LAMBDA = 0.01   # regularization parameter\n",
    "    np.random.seed(100)\n",
    "    numUsers = 5000\n",
    "    numItems = 100\n",
    "    rank = 10\n",
    "    iterations = 5\n",
    "    numPartitions = 4\n",
    "\n",
    "    trueU = matrix(rand(numUsers, rank)) #True matrix U to generate R\n",
    "    trueV = matrix(rand(rank, numItems)) #True matrix V to generate R\n",
    "    R = matrix(trueU*trueV)   #generate Rating matrix\n",
    "    \n",
    "    InitialU = matrix(rand(numUsers, rank)) #Initialization of U\n",
    "    InitialVt = matrix(rand(numItems,rank)) #Initialization of V\n",
    "    \n",
    "    print(f\"Running ALS with numUser={numUsers}, numItem={numItems}, rank={rank}, iterations={n_iterations}, numPartitions={numPartitions}\")\n",
    "    \n",
    "    print(\"Distributed Version---Two copies of R, one is partitioned by rowIdx, the other is partitioned by colIndx\")\n",
    "    closedFormALS(R,InitialU,InitialVt,rank,n_iterations,numPartitions,LAMBDA)\n",
    "    \n",
    "    print(\"Simple paralleling ---Suppose User Matrix R is small enough to be broadcast\")\n",
    "    simpleParalleling(R,InitialU,InitialVt,rank,n_iterations,numPartitions,LAMBDA)"
   ]
  },
  {
   "cell_type": "code",
   "execution_count": 25,
   "metadata": {
    "collapsed": false
   },
   "outputs": [
    {
     "name": "stdout",
     "output_type": "stream",
     "text": [
      "Running ALS with numUser=5000, numItem=100, rank=10, iterations=20, numPartitions=4\n",
      "Distributed Version---Two copies of R, one is partitioned by rowIdx, the other is partitioned by colIndx\n",
      "Iteration: 0\n",
      "RMSE: 0.9815230991941133\n",
      "Iteration: 1\n",
      "RMSE: 0.18383882868397297\n",
      "Iteration: 2\n",
      "RMSE: 0.04611200605830334\n",
      "Iteration: 3\n",
      "RMSE: 0.03816821312276148\n",
      "Iteration: 4\n",
      "RMSE: 0.035043154796695494\n",
      "Iteration: 5\n",
      "RMSE: 0.033598057357839016\n",
      "Iteration: 6\n",
      "RMSE: 0.032850336080172605\n",
      "Iteration: 7\n",
      "RMSE: 0.0324310726874492\n",
      "Iteration: 8\n",
      "RMSE: 0.03218314707137557\n",
      "Iteration: 9\n",
      "RMSE: 0.032031533454156776\n",
      "Iteration: 10\n",
      "RMSE: 0.03193677888775011\n",
      "Iteration: 11\n",
      "RMSE: 0.03187661225052937\n",
      "Iteration: 12\n",
      "RMSE: 0.031837862070997924\n",
      "Iteration: 13\n",
      "RMSE: 0.03181251335254612\n",
      "Iteration: 14\n",
      "RMSE: 0.03179560608548407\n",
      "Iteration: 15\n",
      "RMSE: 0.03178404039369791\n",
      "Iteration: 16\n",
      "RMSE: 0.03177586755251728\n",
      "Iteration: 17\n",
      "RMSE: 0.031769858072190627\n",
      "Iteration: 18\n",
      "RMSE: 0.031765234398224276\n",
      "Iteration: 19\n",
      "RMSE: 0.03176150394113226\n",
      "Simple paralleling ---Suppose User Matrix R is small enough to be broadcast\n",
      "Iteration: 0\n",
      "RMSE: 0.9815230991941133\n",
      "Iteration: 1\n",
      "RMSE: 0.18383882868397297\n",
      "Iteration: 2\n",
      "RMSE: 0.04611200605830334\n",
      "Iteration: 3\n",
      "RMSE: 0.03816821312276148\n",
      "Iteration: 4\n",
      "RMSE: 0.035043154796695494\n",
      "Iteration: 5\n",
      "RMSE: 0.033598057357839016\n",
      "Iteration: 6\n",
      "RMSE: 0.032850336080172605\n",
      "Iteration: 7\n",
      "RMSE: 0.0324310726874492\n",
      "Iteration: 8\n",
      "RMSE: 0.03218314707137557\n",
      "Iteration: 9\n",
      "RMSE: 0.032031533454156776\n",
      "Iteration: 10\n",
      "RMSE: 0.03193677888775011\n",
      "Iteration: 11\n",
      "RMSE: 0.03187661225052937\n",
      "Iteration: 12\n",
      "RMSE: 0.031837862070997924\n",
      "Iteration: 13\n",
      "RMSE: 0.03181251335254612\n",
      "Iteration: 14\n",
      "RMSE: 0.03179560608548407\n",
      "Iteration: 15\n",
      "RMSE: 0.03178404039369791\n",
      "Iteration: 16\n",
      "RMSE: 0.03177586755251728\n",
      "Iteration: 17\n",
      "RMSE: 0.031769858072190627\n",
      "Iteration: 18\n",
      "RMSE: 0.031765234398224276\n",
      "Iteration: 19\n",
      "RMSE: 0.03176150394113226\n"
     ]
    }
   ],
   "source": [
    "main()"
   ]
  },
  {
   "cell_type": "markdown",
   "metadata": {},
   "source": [
    "## Spark - Spark ML implementation"
   ]
  },
  {
   "cell_type": "code",
   "execution_count": null,
   "metadata": {
    "collapsed": true
   },
   "outputs": [],
   "source": []
  },
  {
   "cell_type": "code",
   "execution_count": null,
   "metadata": {
    "collapsed": true
   },
   "outputs": [],
   "source": []
  },
  {
   "cell_type": "code",
   "execution_count": null,
   "metadata": {
    "collapsed": true
   },
   "outputs": [],
   "source": []
  }
 ],
 "metadata": {
  "anaconda-cloud": {},
  "kernelspec": {
   "display_name": "Python 3",
   "language": "python",
   "name": "python3"
  },
  "language_info": {
   "codemirror_mode": {
    "name": "ipython",
    "version": 3
   },
   "file_extension": ".py",
   "mimetype": "text/x-python",
   "name": "python",
   "nbconvert_exporter": "python",
   "pygments_lexer": "ipython3",
   "version": "3.6.6"
  }
 },
 "nbformat": 4,
 "nbformat_minor": 2
}
