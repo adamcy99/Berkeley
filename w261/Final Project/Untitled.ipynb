{
 "cells": [
  {
   "cell_type": "code",
   "execution_count": 106,
   "metadata": {},
   "outputs": [],
   "source": [
    "# Imports \n",
    "import numpy as np\n",
    "import pandas as pd\n",
    "import seaborn as sns\n",
    "import matplotlib.pyplot as plt\n",
    "import matplotlib.dates as mdates\n",
    "import time\n",
    "\n",
    "from pyspark.sql import SQLContext\n",
    "from pyspark.sql import types\n",
    "from pyspark.sql.functions import isnan, when, count, col\n",
    "from pyspark.sql.types import StructType, StructField, IntegerType, StringType\n",
    "from pyspark.ml.feature import OneHotEncoderEstimator, StringIndexer, VectorAssembler, StandardScaler, VectorIndexer, Normalizer\n",
    "from pyspark.ml.linalg import VectorUDT\n",
    "from pyspark.ml import Pipeline\n",
    "from pyspark.ml.classification import LogisticRegression, BinaryLogisticRegressionSummary\n",
    "from pyspark.ml.evaluation import BinaryClassificationEvaluator, MulticlassClassificationEvaluator\n",
    "from pyspark.mllib.evaluation import BinaryClassificationMetrics\n",
    "\n",
    "%matplotlib inline\n",
    "plt.style.use('ggplot')\n",
    "\n",
    "%reload_ext autoreload\n",
    "%autoreload 2\n",
    "\n",
    "# store path to notebook\n",
    "PWD = !pwd\n",
    "PWD = PWD[0]\n",
    "\n",
    "# start Spark Session\n",
    "from pyspark.sql import SparkSession\n",
    "app_name = \"hw5_notebook\"\n",
    "master = \"local[*]\"\n",
    "spark = SparkSession\\\n",
    "        .builder\\\n",
    "        .appName(app_name)\\\n",
    "        .master(master)\\\n",
    "        .getOrCreate()\n",
    "sc = spark.sparkContext"
   ]
  },
  {
   "cell_type": "markdown",
   "metadata": {},
   "source": [
    "## Setting up the toy dataset"
   ]
  },
  {
   "cell_type": "code",
   "execution_count": 2,
   "metadata": {},
   "outputs": [],
   "source": [
    "# load the data\n",
    "# Define the schema prior to loading the data\n",
    "schema = StructType([StructField(\"label\", IntegerType(), True),\n",
    "                     StructField(\"I1\", IntegerType(), True),\n",
    "                     StructField(\"I2\", IntegerType(), True),\n",
    "                     StructField(\"I3\", IntegerType(), True),\n",
    "                     StructField(\"I4\", IntegerType(), True),\n",
    "                     StructField(\"I5\", IntegerType(), True),\n",
    "                     StructField(\"I6\", IntegerType(), True),\n",
    "                     StructField(\"I7\", IntegerType(), True),\n",
    "                     StructField(\"I8\", IntegerType(), True),\n",
    "                     StructField(\"I9\", IntegerType(), True),\n",
    "                     StructField(\"I10\", IntegerType(), True),\n",
    "                     StructField(\"I11\", IntegerType(), True),\n",
    "                     StructField(\"I12\", IntegerType(), True),\n",
    "                     StructField(\"I13\", IntegerType(), True),\n",
    "                     StructField(\"C1\", StringType(), True),\n",
    "                     StructField(\"C2\", StringType(), True),\n",
    "                     StructField(\"C3\", StringType(), True),\n",
    "                     StructField(\"C4\", StringType(), True),\n",
    "                     StructField(\"C5\", StringType(), True),\n",
    "                     StructField(\"C6\", StringType(), True),\n",
    "                     StructField(\"C7\", StringType(), True),\n",
    "                     StructField(\"C8\", StringType(), True),\n",
    "                     StructField(\"C9\", StringType(), True),\n",
    "                     StructField(\"C10\", StringType(), True),\n",
    "                     StructField(\"C11\", StringType(), True),\n",
    "                     StructField(\"C12\", StringType(), True),\n",
    "                     StructField(\"C13\", StringType(), True),\n",
    "                     StructField(\"C14\", StringType(), True),\n",
    "                     StructField(\"C15\", StringType(), True),\n",
    "                     StructField(\"C16\", StringType(), True),\n",
    "                     StructField(\"C17\", StringType(), True),\n",
    "                     StructField(\"C18\", StringType(), True),\n",
    "                     StructField(\"C19\", StringType(), True),\n",
    "                     StructField(\"C20\", StringType(), True),\n",
    "                     StructField(\"C21\", StringType(), True),\n",
    "                     StructField(\"C22\", StringType(), True),\n",
    "                     StructField(\"C23\", StringType(), True),\n",
    "                     StructField(\"C24\", StringType(), True),\n",
    "                     StructField(\"C25\", StringType(), True),\n",
    "                     StructField(\"C26\", StringType(), True)])\n"
   ]
  },
  {
   "cell_type": "code",
   "execution_count": 3,
   "metadata": {},
   "outputs": [],
   "source": [
    "# Load toy data into dataframe\n",
    "toy_df = spark.read.parquet(\"toyData/*.parquet\")"
   ]
  },
  {
   "cell_type": "code",
   "execution_count": 4,
   "metadata": {},
   "outputs": [],
   "source": [
    "# Just some code to get only the numeric numbers for training. Won't be using this for the official notebook\n",
    "toy_rdd = toy_df.rdd.map(tuple)\n",
    "toy_RDD = toy_rdd.map(lambda line: (line[0],(line[1:14]))).cache()"
   ]
  },
  {
   "cell_type": "code",
   "execution_count": 5,
   "metadata": {},
   "outputs": [
    {
     "data": {
      "text/html": [
       "<div>\n",
       "<style scoped>\n",
       "    .dataframe tbody tr th:only-of-type {\n",
       "        vertical-align: middle;\n",
       "    }\n",
       "\n",
       "    .dataframe tbody tr th {\n",
       "        vertical-align: top;\n",
       "    }\n",
       "\n",
       "    .dataframe thead th {\n",
       "        text-align: right;\n",
       "    }\n",
       "</style>\n",
       "<table border=\"1\" class=\"dataframe\">\n",
       "  <thead>\n",
       "    <tr style=\"text-align: right;\">\n",
       "      <th></th>\n",
       "      <th>0</th>\n",
       "      <th>1</th>\n",
       "      <th>2</th>\n",
       "      <th>3</th>\n",
       "      <th>4</th>\n",
       "      <th>5</th>\n",
       "      <th>6</th>\n",
       "      <th>7</th>\n",
       "      <th>8</th>\n",
       "      <th>9</th>\n",
       "      <th>...</th>\n",
       "      <th>15</th>\n",
       "      <th>16</th>\n",
       "      <th>17</th>\n",
       "      <th>18</th>\n",
       "      <th>19</th>\n",
       "      <th>20</th>\n",
       "      <th>21</th>\n",
       "      <th>22</th>\n",
       "      <th>23</th>\n",
       "      <th>24</th>\n",
       "    </tr>\n",
       "  </thead>\n",
       "  <tbody>\n",
       "    <tr>\n",
       "      <th>features</th>\n",
       "      <td>[1.0, 17.0, 3.0, 6.0, 5.0, 6.0, 1.0, 5.0, 6.0,...</td>\n",
       "      <td>[0.0, 23.0, 47.0, 6.0, 13044.0, 2546.0, 0.0, 7...</td>\n",
       "      <td>[-999.0, 0.0, 1.0, 2.0, 20.0, -999.0, 0.0, 2.0...</td>\n",
       "      <td>[0.0, 3.0, 13.0, 1.0, 2940.0, 83.0, 1.0, 16.0,...</td>\n",
       "      <td>[1.0, 0.0, 5.0, 3.0, 171.0, 34.0, 3.0, 34.0, 6...</td>\n",
       "      <td>[-999.0, -1.0, -999.0, -999.0, 2975.0, 1.0, 14...</td>\n",
       "      <td>[-999.0, 2.0, 1.0, 3.0, 3031.0, 76.0, 1.0, 3.0...</td>\n",
       "      <td>[1.0, 4.0, 19.0, 17.0, 36.0, 7.0, 6.0, 22.0, 9...</td>\n",
       "      <td>[-999.0, -1.0, -999.0, -999.0, 8740.0, 12.0, 1...</td>\n",
       "      <td>[-999.0, 0.0, 7.0, 18.0, 3424.0, 22.0, 1.0, 21...</td>\n",
       "      <td>...</td>\n",
       "      <td>[-999.0, 1.0, 3.0, 3.0, 109391.0, -999.0, 0.0,...</td>\n",
       "      <td>[0.0, 0.0, 2.0, 3.0, 1344.0, 5.0, 30.0, 7.0, 3...</td>\n",
       "      <td>[0.0, 68.0, 16.0, 3.0, 3735.0, 64.0, 1.0, 3.0,...</td>\n",
       "      <td>(-999.0, 0.0, 16.0, 8.0, 0.0, -999.0, 0.0, 7.0...</td>\n",
       "      <td>[-999.0, 1.0, 4.0, 4.0, 1837.0, 9.0, 2.0, 4.0,...</td>\n",
       "      <td>[0.0, 0.0, 4.0, -999.0, 1573.0, 42.0, 14.0, 8....</td>\n",
       "      <td>[5.0, 297.0, 5.0, 3.0, 8.0, 1.0, 34.0, 3.0, 14...</td>\n",
       "      <td>[-999.0, 1.0, 4.0, 2.0, 66163.0, -999.0, 0.0, ...</td>\n",
       "      <td>[-999.0, -1.0, 17.0, 6.0, 31979.0, 94.0, 1.0, ...</td>\n",
       "      <td>[-999.0, 31.0, 1.0, -999.0, 28527.0, -999.0, 0...</td>\n",
       "    </tr>\n",
       "    <tr>\n",
       "      <th>label</th>\n",
       "      <td>0</td>\n",
       "      <td>1</td>\n",
       "      <td>0</td>\n",
       "      <td>0</td>\n",
       "      <td>1</td>\n",
       "      <td>0</td>\n",
       "      <td>0</td>\n",
       "      <td>1</td>\n",
       "      <td>0</td>\n",
       "      <td>0</td>\n",
       "      <td>...</td>\n",
       "      <td>0</td>\n",
       "      <td>0</td>\n",
       "      <td>0</td>\n",
       "      <td>1</td>\n",
       "      <td>0</td>\n",
       "      <td>0</td>\n",
       "      <td>1</td>\n",
       "      <td>0</td>\n",
       "      <td>0</td>\n",
       "      <td>0</td>\n",
       "    </tr>\n",
       "  </tbody>\n",
       "</table>\n",
       "<p>2 rows × 25 columns</p>\n",
       "</div>"
      ],
      "text/plain": [
       "                                                         0   \\\n",
       "features  [1.0, 17.0, 3.0, 6.0, 5.0, 6.0, 1.0, 5.0, 6.0,...   \n",
       "label                                                     0   \n",
       "\n",
       "                                                         1   \\\n",
       "features  [0.0, 23.0, 47.0, 6.0, 13044.0, 2546.0, 0.0, 7...   \n",
       "label                                                     1   \n",
       "\n",
       "                                                         2   \\\n",
       "features  [-999.0, 0.0, 1.0, 2.0, 20.0, -999.0, 0.0, 2.0...   \n",
       "label                                                     0   \n",
       "\n",
       "                                                         3   \\\n",
       "features  [0.0, 3.0, 13.0, 1.0, 2940.0, 83.0, 1.0, 16.0,...   \n",
       "label                                                     0   \n",
       "\n",
       "                                                         4   \\\n",
       "features  [1.0, 0.0, 5.0, 3.0, 171.0, 34.0, 3.0, 34.0, 6...   \n",
       "label                                                     1   \n",
       "\n",
       "                                                         5   \\\n",
       "features  [-999.0, -1.0, -999.0, -999.0, 2975.0, 1.0, 14...   \n",
       "label                                                     0   \n",
       "\n",
       "                                                         6   \\\n",
       "features  [-999.0, 2.0, 1.0, 3.0, 3031.0, 76.0, 1.0, 3.0...   \n",
       "label                                                     0   \n",
       "\n",
       "                                                         7   \\\n",
       "features  [1.0, 4.0, 19.0, 17.0, 36.0, 7.0, 6.0, 22.0, 9...   \n",
       "label                                                     1   \n",
       "\n",
       "                                                         8   \\\n",
       "features  [-999.0, -1.0, -999.0, -999.0, 8740.0, 12.0, 1...   \n",
       "label                                                     0   \n",
       "\n",
       "                                                         9   \\\n",
       "features  [-999.0, 0.0, 7.0, 18.0, 3424.0, 22.0, 1.0, 21...   \n",
       "label                                                     0   \n",
       "\n",
       "                                ...                          \\\n",
       "features                        ...                           \n",
       "label                           ...                           \n",
       "\n",
       "                                                         15  \\\n",
       "features  [-999.0, 1.0, 3.0, 3.0, 109391.0, -999.0, 0.0,...   \n",
       "label                                                     0   \n",
       "\n",
       "                                                         16  \\\n",
       "features  [0.0, 0.0, 2.0, 3.0, 1344.0, 5.0, 30.0, 7.0, 3...   \n",
       "label                                                     0   \n",
       "\n",
       "                                                         17  \\\n",
       "features  [0.0, 68.0, 16.0, 3.0, 3735.0, 64.0, 1.0, 3.0,...   \n",
       "label                                                     0   \n",
       "\n",
       "                                                         18  \\\n",
       "features  (-999.0, 0.0, 16.0, 8.0, 0.0, -999.0, 0.0, 7.0...   \n",
       "label                                                     1   \n",
       "\n",
       "                                                         19  \\\n",
       "features  [-999.0, 1.0, 4.0, 4.0, 1837.0, 9.0, 2.0, 4.0,...   \n",
       "label                                                     0   \n",
       "\n",
       "                                                         20  \\\n",
       "features  [0.0, 0.0, 4.0, -999.0, 1573.0, 42.0, 14.0, 8....   \n",
       "label                                                     0   \n",
       "\n",
       "                                                         21  \\\n",
       "features  [5.0, 297.0, 5.0, 3.0, 8.0, 1.0, 34.0, 3.0, 14...   \n",
       "label                                                     1   \n",
       "\n",
       "                                                         22  \\\n",
       "features  [-999.0, 1.0, 4.0, 2.0, 66163.0, -999.0, 0.0, ...   \n",
       "label                                                     0   \n",
       "\n",
       "                                                         23  \\\n",
       "features  [-999.0, -1.0, 17.0, 6.0, 31979.0, 94.0, 1.0, ...   \n",
       "label                                                     0   \n",
       "\n",
       "                                                         24  \n",
       "features  [-999.0, 31.0, 1.0, -999.0, 28527.0, -999.0, 0...  \n",
       "label                                                     0  \n",
       "\n",
       "[2 rows x 25 columns]"
      ]
     },
     "execution_count": 5,
     "metadata": {},
     "output_type": "execute_result"
    }
   ],
   "source": [
    "assembler = VectorAssembler(\n",
    "    inputCols=['I1','I2','I3','I4','I5','I6','I7','I8','I9','I10','I11','I12','I13'],\n",
    "    outputCol=\"features\")\n",
    "\n",
    "toy_df_transformed = assembler.transform(toy_df)\n",
    "toy_df_transformed = toy_df_transformed.select('features','label')\n",
    "pd.DataFrame(toy_df_transformed.take(30), columns=toy_df_transformed.columns).transpose()"
   ]
  },
  {
   "cell_type": "markdown",
   "metadata": {},
   "source": [
    "### Titanic Data"
   ]
  },
  {
   "cell_type": "code",
   "execution_count": 117,
   "metadata": {},
   "outputs": [
    {
     "name": "stderr",
     "output_type": "stream",
     "text": [
      "/opt/anaconda/lib/python3.6/site-packages/ipykernel_launcher.py:31: SettingWithCopyWarning: \n",
      "A value is trying to be set on a copy of a slice from a DataFrame.\n",
      "Try using .loc[row_indexer,col_indexer] = value instead\n",
      "\n",
      "See the caveats in the documentation: http://pandas.pydata.org/pandas-docs/stable/indexing.html#indexing-view-versus-copy\n",
      "/opt/anaconda/lib/python3.6/site-packages/pandas/core/indexing.py:543: SettingWithCopyWarning: \n",
      "A value is trying to be set on a copy of a slice from a DataFrame.\n",
      "Try using .loc[row_indexer,col_indexer] = value instead\n",
      "\n",
      "See the caveats in the documentation: http://pandas.pydata.org/pandas-docs/stable/indexing.html#indexing-view-versus-copy\n",
      "  self.obj[item] = s\n",
      "/opt/anaconda/lib/python3.6/site-packages/ipykernel_launcher.py:32: SettingWithCopyWarning: \n",
      "A value is trying to be set on a copy of a slice from a DataFrame.\n",
      "Try using .loc[row_indexer,col_indexer] = value instead\n",
      "\n",
      "See the caveats in the documentation: http://pandas.pydata.org/pandas-docs/stable/indexing.html#indexing-view-versus-copy\n"
     ]
    }
   ],
   "source": [
    "from sklearn.model_selection import train_test_split\n",
    "from sklearn import preprocessing\n",
    "\n",
    "data=pd.read_csv('titanic_train.csv')\n",
    "data['Age_band']=0\n",
    "data.loc[data['Age']<=16,'Age_band']=0\n",
    "data.loc[(data['Age']>16)&(data['Age']<=32),'Age_band']=1\n",
    "data.loc[(data['Age']>32)&(data['Age']<=48),'Age_band']=2\n",
    "data.loc[(data['Age']>48)&(data['Age']<=64),'Age_band']=3\n",
    "data.loc[data['Age']>64,'Age_band']=4\n",
    "data['Fare_cat']=0\n",
    "data.loc[data['Fare']<=7.91,'Fare_cat']=0\n",
    "data.loc[(data['Fare']>7.91)&(data['Fare']<=14.454),'Fare_cat']=1\n",
    "data.loc[(data['Fare']>14.454)&(data['Fare']<=31),'Fare_cat']=2\n",
    "data.loc[(data['Fare']>31)&(data['Fare']<=513),'Fare_cat']=3\n",
    "data['Sex'].replace(['male','female'],[0,1],inplace=True)\n",
    "data['Embarked'].replace(['S','C','Q'],[0,1,2],inplace=True)\n",
    "data.drop(['Name','Age','Ticket','Fare','Cabin','PassengerId'],axis=1,inplace=True)\n",
    "data['Embarked'].fillna(0,inplace=True)\n",
    "\n",
    "train,test=train_test_split(data,test_size=0.3,random_state=0,stratify=data['Survived'])\n",
    "train_X=train[train.columns[1:]]\n",
    "train_Y=train[train.columns[:1]]\n",
    "test_X=test[test.columns[1:]]\n",
    "test_Y=test[test.columns[:1]]\n",
    "X=data[data.columns[1:]]\n",
    "Y=data['Survived']\n",
    "\n",
    "cols = train_X.columns\n",
    "scaler = preprocessing.StandardScaler().fit(train[cols])\n",
    "train[cols] = scaler.transform(train[cols]) \n",
    "test[cols] = scaler.transform(test[cols]) \n",
    "\n",
    "train_X=train[train.columns[1:]]\n",
    "train_Y=train[train.columns[:1]]\n",
    "test_X=test[test.columns[1:]]\n",
    "test_Y=test[test.columns[:1]]"
   ]
  },
  {
   "cell_type": "code",
   "execution_count": 119,
   "metadata": {},
   "outputs": [],
   "source": [
    "# For Spark ML\n",
    "training = spark.createDataFrame(train)\n",
    "testing = spark.createDataFrame(test)\n",
    "\n",
    "# vectorize features\n",
    "training = VectorAssembler(inputCols=[\"Pclass\", \"Sex\", \"SibSp\",\"Parch\",\"Embarked\",\"Age_band\",\"Fare_cat\"], outputCol=\"features\").transform(training)\n",
    "testing = VectorAssembler(inputCols=[\"Pclass\", \"Sex\", \"SibSp\",\"Parch\",\"Embarked\",\"Age_band\",\"Fare_cat\"], outputCol=\"features\").transform(testing)\n",
    "\n",
    "lr = LogisticRegression(featuresCol=\"features\", labelCol=\"Survived\", maxIter=100, regParam=0.1, elasticNetParam=0)\n",
    "# elasticNetParam: For alpha = 0, the penalty is an L2 penalty. For alpha = 1, it is an L1 penalty.\n",
    "\n",
    "# Fit the model\n",
    "lrModel = lr.fit(training)"
   ]
  },
  {
   "cell_type": "code",
   "execution_count": 120,
   "metadata": {},
   "outputs": [
    {
     "name": "stdout",
     "output_type": "stream",
     "text": [
      "Coefficients: [-0.3827632772606477,0.7511534778999844,-0.18501210699224013,0.03915059402928407,0.07504441253288871,-0.10084820705987878,0.27219387677927154]\n",
      "Intercept: -0.5605990457370779\n"
     ]
    }
   ],
   "source": [
    "print(\"Coefficients: \" + str(lrModel.coefficients))\n",
    "print(\"Intercept: \" + str(lrModel.intercept))"
   ]
  },
  {
   "cell_type": "code",
   "execution_count": 123,
   "metadata": {},
   "outputs": [
    {
     "name": "stderr",
     "output_type": "stream",
     "text": [
      "/opt/anaconda/lib/python3.6/site-packages/pyspark-2.3.1-py3.6.egg/pyspark/statcounter.py:80: RuntimeWarning: invalid value encountered in maximum\n",
      "  self.maxValue = maximum(self.maxValue, other.maxValue)\n",
      "/opt/anaconda/lib/python3.6/site-packages/pyspark-2.3.1-py3.6.egg/pyspark/statcounter.py:81: RuntimeWarning: invalid value encountered in minimum\n",
      "  self.minValue = minimum(self.minValue, other.minValue)\n"
     ]
    },
    {
     "name": "stdout",
     "output_type": "stream",
     "text": [
      "\n",
      "... trained 500 iterations in 107.13280081748962 seconds\n",
      "The final log loss is: nan\n",
      "The coefficients are: [-15.48938862  11.36532917  -2.77870541   1.93793205  -4.28637041\n",
      "   7.71489966  14.735553  ]\n",
      "The intercept is: -4.687515481015949\n"
     ]
    }
   ],
   "source": [
    "# For Home Grown Grad Descent\n",
    "\n",
    "trainRDD = spark.createDataFrame(train).rdd.map(lambda x: (x[0],x[1:]))\n",
    "testRDD = spark.createDataFrame(test).rdd.map(lambda x: (x[0],x[1:]))\n",
    "\n",
    "wInit = np.random.uniform(0,1,8)\n",
    "start = time.time()\n",
    "ridge_results = GradientDescent_wReg(trainRDD, wInit, nSteps = 500, regType='ridge', regParam = 0.1, verbose = False )\n",
    "\n",
    "print(f\"\\n... trained {len(results[1])} iterations in {time.time() - start} seconds\")\n",
    "print(\"The final log loss is: {}\".format(ridge_results[0][-1]))\n",
    "print(\"The coefficients are: {}\".format(ridge_results[1][-1][1:]))\n",
    "print(\"The intercept is: {}\".format(ridge_results[1][-1][0]))"
   ]
  },
  {
   "cell_type": "markdown",
   "metadata": {},
   "source": [
    "## Setting up the toy dataset"
   ]
  },
  {
   "cell_type": "code",
   "execution_count": 57,
   "metadata": {},
   "outputs": [],
   "source": [
    "toy_df = spark.createDataFrame(\n",
    "    [(1.0, 1, 0, 1),\n",
    "     (1.0, 1, 0, 1),\n",
    "     (0.0, 0, 1, 0),\n",
    "     (1.0, 1, 0, 1),\n",
    "     (1.0, 1, 0, 1),\n",
    "     (0.0, 0, 1, 0),\n",
    "     (1.0, 1, 0, 1),\n",
    "     (1.0, 1, 0, 1),\n",
    "     (0.0, 0, 1, 0),\n",
    "     (1.0, 1, 0, 1),\n",
    "     (1.0, 1, 0, 1),\n",
    "     (0.0, 0, 1, 0)],\n",
    "    [\"label\", \"feature1\", \"feature2\", \"feature3\"])"
   ]
  },
  {
   "cell_type": "code",
   "execution_count": 98,
   "metadata": {},
   "outputs": [
    {
     "data": {
      "text/plain": [
       "[(1.0, array([1, 0, 1])),\n",
       " (1.0, array([1, 0, 1])),\n",
       " (0.0, array([0, 1, 0])),\n",
       " (1.0, array([1, 0, 1])),\n",
       " (1.0, array([1, 0, 1])),\n",
       " (0.0, array([0, 1, 0])),\n",
       " (1.0, array([1, 0, 1])),\n",
       " (1.0, array([1, 0, 1])),\n",
       " (0.0, array([0, 1, 0])),\n",
       " (1.0, array([1, 0, 1])),\n",
       " (1.0, array([1, 0, 1])),\n",
       " (0.0, array([0, 1, 0]))]"
      ]
     },
     "execution_count": 98,
     "metadata": {},
     "output_type": "execute_result"
    }
   ],
   "source": [
    "toy_rdd = toy_df.rdd.map(tuple)\n",
    "toy_RDD = toy_rdd.map(lambda line: (line[0],np.array(line[1:4]))).cache()\n",
    "toy_RDD.collect()"
   ]
  },
  {
   "cell_type": "code",
   "execution_count": 101,
   "metadata": {},
   "outputs": [],
   "source": [
    "# part e - helper function to normalize the data (FILL IN THE MISSING CODE BELOW)\n",
    "def normalize(dataRDD):\n",
    "    \"\"\"\n",
    "    Scale and center data round mean of each feature.\n",
    "    Args:\n",
    "        dataRDD - records are tuples of (features_array, y)\n",
    "    Returns:\n",
    "        normedRDD - records are tuples of (features_array, y)\n",
    "    \"\"\"\n",
    "    \n",
    "    featureMeans = dataRDD.map(lambda x: x[1]).mean()\n",
    "    featureStdev = np.sqrt(dataRDD.map(lambda x: x[1]).variance())\n",
    "    \n",
    "    ################ YOUR CODE HERE #############\n",
    "    normedRDD = dataRDD.map(lambda x: (x[0], (x[1]-featureMeans)/featureStdev))\n",
    "    ################ FILL IN YOUR CODE HERE #############\n",
    "    \n",
    "    return normedRDD"
   ]
  },
  {
   "cell_type": "code",
   "execution_count": 102,
   "metadata": {},
   "outputs": [],
   "source": [
    "normed_RDD = normalize(toy_RDD).cache()"
   ]
  },
  {
   "cell_type": "markdown",
   "metadata": {},
   "source": [
    "toy_RDD will be the RDD used to train a logistic regression using the gradient descent method."
   ]
  },
  {
   "cell_type": "code",
   "execution_count": 103,
   "metadata": {},
   "outputs": [
    {
     "data": {
      "text/html": [
       "<div>\n",
       "<style scoped>\n",
       "    .dataframe tbody tr th:only-of-type {\n",
       "        vertical-align: middle;\n",
       "    }\n",
       "\n",
       "    .dataframe tbody tr th {\n",
       "        vertical-align: top;\n",
       "    }\n",
       "\n",
       "    .dataframe thead th {\n",
       "        text-align: right;\n",
       "    }\n",
       "</style>\n",
       "<table border=\"1\" class=\"dataframe\">\n",
       "  <thead>\n",
       "    <tr style=\"text-align: right;\">\n",
       "      <th></th>\n",
       "      <th>0</th>\n",
       "      <th>1</th>\n",
       "      <th>2</th>\n",
       "      <th>3</th>\n",
       "      <th>4</th>\n",
       "      <th>5</th>\n",
       "      <th>6</th>\n",
       "      <th>7</th>\n",
       "      <th>8</th>\n",
       "      <th>9</th>\n",
       "      <th>10</th>\n",
       "      <th>11</th>\n",
       "    </tr>\n",
       "  </thead>\n",
       "  <tbody>\n",
       "    <tr>\n",
       "      <th>features</th>\n",
       "      <td>[1.0, 0.0, 1.0]</td>\n",
       "      <td>[1.0, 0.0, 1.0]</td>\n",
       "      <td>[0.0, 1.0, 0.0]</td>\n",
       "      <td>[1.0, 0.0, 1.0]</td>\n",
       "      <td>[1.0, 0.0, 1.0]</td>\n",
       "      <td>[0.0, 1.0, 0.0]</td>\n",
       "      <td>[1.0, 0.0, 1.0]</td>\n",
       "      <td>[1.0, 0.0, 1.0]</td>\n",
       "      <td>[0.0, 1.0, 0.0]</td>\n",
       "      <td>[1.0, 0.0, 1.0]</td>\n",
       "      <td>[1.0, 0.0, 1.0]</td>\n",
       "      <td>[0.0, 1.0, 0.0]</td>\n",
       "    </tr>\n",
       "    <tr>\n",
       "      <th>label</th>\n",
       "      <td>1</td>\n",
       "      <td>1</td>\n",
       "      <td>0</td>\n",
       "      <td>1</td>\n",
       "      <td>1</td>\n",
       "      <td>0</td>\n",
       "      <td>1</td>\n",
       "      <td>1</td>\n",
       "      <td>0</td>\n",
       "      <td>1</td>\n",
       "      <td>1</td>\n",
       "      <td>0</td>\n",
       "    </tr>\n",
       "  </tbody>\n",
       "</table>\n",
       "</div>"
      ],
      "text/plain": [
       "                       0                1                2                3   \\\n",
       "features  [1.0, 0.0, 1.0]  [1.0, 0.0, 1.0]  [0.0, 1.0, 0.0]  [1.0, 0.0, 1.0]   \n",
       "label                   1                1                0                1   \n",
       "\n",
       "                       4                5                6                7   \\\n",
       "features  [1.0, 0.0, 1.0]  [0.0, 1.0, 0.0]  [1.0, 0.0, 1.0]  [1.0, 0.0, 1.0]   \n",
       "label                   1                0                1                1   \n",
       "\n",
       "                       8                9                10               11  \n",
       "features  [0.0, 1.0, 0.0]  [1.0, 0.0, 1.0]  [1.0, 0.0, 1.0]  [0.0, 1.0, 0.0]  \n",
       "label                   0                1                1                0  "
      ]
     },
     "execution_count": 103,
     "metadata": {},
     "output_type": "execute_result"
    }
   ],
   "source": [
    "assembler = VectorAssembler(\n",
    "    inputCols=[\"feature1\", \"feature2\", \"feature3\"],\n",
    "    outputCol=\"features\")\n",
    "toy_df_transformed = assembler.transform(toy_df)\n",
    "toy_df_transformed = toy_df_transformed.select('features','label')\n",
    "pd.DataFrame(toy_df_transformed.take(30), columns=toy_df_transformed.columns).transpose()"
   ]
  },
  {
   "cell_type": "markdown",
   "metadata": {},
   "source": [
    "toy_df_transformed will be the dataframe used to train a logistic regression using Spark ML's LogisticRegression() function"
   ]
  },
  {
   "cell_type": "markdown",
   "metadata": {},
   "source": [
    "## Log Loss"
   ]
  },
  {
   "cell_type": "code",
   "execution_count": 61,
   "metadata": {},
   "outputs": [],
   "source": [
    "def LogLoss(dataRDD, W):\n",
    "    \"\"\"\n",
    "    Compute the Log Loss of our model.\n",
    "    Args:\n",
    "        dataRDD - each record is a tuple of (y, features_array)\n",
    "        W       - (array) model coefficients\n",
    "    \"\"\"\n",
    "    # Add 1 to the front of the predictors array\n",
    "    # Note that the b value has to be added to the front of our theta array\n",
    "    augmentedData = dataRDD.map(lambda x: (x[0], np.append([1.0], x[1])))\n",
    "\n",
    "    def LogLossPerRow(line):\n",
    "        # Calculate the log loss for each row of the data in parallel\n",
    "        actual_y, features = line\n",
    "        predicted_y = np.dot(np.transpose(W),features)\n",
    "        prob = 1.0/(1.0 + np.exp(-1.0*predicted_y))\n",
    "        # Output is -[ylog(prob) + (1-y)log(1-prob)]\n",
    "        yield -1.0*(actual_y*np.log(prob) + (1-actual_y)*np.log(1-prob))\n",
    "    \n",
    "    loss = augmentedData.flatMap(LogLossPerRow).mean()\n",
    "\n",
    "    return loss"
   ]
  },
  {
   "cell_type": "markdown",
   "metadata": {},
   "source": [
    "Now lets test our LogLoss function by setting b to the mean of the our label values and all our predictors to 0."
   ]
  },
  {
   "cell_type": "code",
   "execution_count": 62,
   "metadata": {},
   "outputs": [
    {
     "name": "stdout",
     "output_type": "stream",
     "text": [
      "Mean: 0.6666666666666666\n"
     ]
    }
   ],
   "source": [
    "# Calculate the mean of all our label values\n",
    "meanQuality = toy_RDD.map(lambda x: x[0]).mean()\n",
    "print(f\"Mean: {meanQuality}\")"
   ]
  },
  {
   "cell_type": "code",
   "execution_count": 9,
   "metadata": {},
   "outputs": [],
   "source": [
    "# Set the baseline model so that b is the mean we calculated and all other features are 0\n",
    "BASELINE = np.append([meanQuality],[0,0,0,0,0,0,0,0,0,0,0,0,0])\n",
    "#BASELINE = np.append([meanQuality],[0,0,0])"
   ]
  },
  {
   "cell_type": "code",
   "execution_count": 12,
   "metadata": {},
   "outputs": [
    {
     "name": "stdout",
     "output_type": "stream",
     "text": [
      "Baseline model loss: 0.7627299666264257\n"
     ]
    }
   ],
   "source": [
    "# Compute the loss of the baseline model\n",
    "assert len(BASELINE) == len(toy_RDD.take(1)[0][1]) + 1, \"Double check model dimensions\"\n",
    "print(f\"Baseline model loss: {LogLoss(toy_RDD, BASELINE)}\")"
   ]
  },
  {
   "cell_type": "code",
   "execution_count": 15,
   "metadata": {},
   "outputs": [
    {
     "name": "stdout",
     "output_type": "stream",
     "text": [
      "There are 6 ones and 19 zeros in the label column of our dataset\n",
      "The loss of the baseline model through manual calculation is 0.7627299666264258\n"
     ]
    }
   ],
   "source": [
    "# Verify if our result is correct or not\n",
    "\n",
    "# Count how many 1's and 0's we have in our label\n",
    "m = toy_RDD.count()\n",
    "ones = toy_RDD.map(lambda line: 1 if line[0] == 1 else 0).sum()\n",
    "zeros = m - ones\n",
    "print(\"There are {} ones and {} zeros in the label column of our dataset\".format(ones, zeros))\n",
    "\n",
    "# Calculate the LogLoss in our example case\n",
    "loss = (ones*np.log(1/(1.0 + np.exp(-1.0*meanQuality))) + zeros*np.log(1.0 - 1.0/(1.0 + np.exp(-1.0*meanQuality))))/-m\n",
    "print(\"The loss of the baseline model through manual calculation is {}\".format(loss))"
   ]
  },
  {
   "cell_type": "markdown",
   "metadata": {},
   "source": [
    "We see that the results of our LogLoss() function is correct."
   ]
  },
  {
   "cell_type": "markdown",
   "metadata": {},
   "source": [
    "## Gradient Descent"
   ]
  },
  {
   "cell_type": "code",
   "execution_count": 124,
   "metadata": {},
   "outputs": [],
   "source": [
    "# This code calculates the 3 different gradients with and without regularization\n",
    "# Then it updates the model (w) and outputs the new model\n",
    "def GDUpdate_wReg(dataRDD, W, learningRate = 0.1, regType = None, regParam = 0.1):\n",
    "    \"\"\"\n",
    "    Perform one gradient descent step/update with ridge or lasso regularization.\n",
    "    Args:\n",
    "        dataRDD - tuple of (y, features_array)\n",
    "        W       - (array) model coefficients with intercept at index 0\n",
    "        learningRate - (float) defaults to 0.1\n",
    "        regType - (str) 'ridge' or 'lasso', defaults to None\n",
    "        regParam - (float) regularization term coefficient\n",
    "    Returns:\n",
    "        model   - (array) updated coefficients, intercept still at index 0\n",
    "    \"\"\"\n",
    "    # augmented data\n",
    "    augmentedData = dataRDD.map(lambda x: (x[0], np.append([1.0], x[1])))\n",
    "    \n",
    "    new_model = None\n",
    "\n",
    "    def GradientPerRow(line):\n",
    "        # Calculates -y(1- 1/ 1+ exp( -ywx))x for each row\n",
    "        actual_y, features = line\n",
    "        predicted_y = np.dot(np.transpose(W),features)\n",
    "        prob = 1.0/(1.0 + np.exp(-1.0*predicted_y))\n",
    "        yield (prob - actual_y)*features\n",
    "        \n",
    "    # Use the same way as before to find the first component of the gradient function\n",
    "    grad = augmentedData.flatMap(GradientPerRow).mean()\n",
    "    \n",
    "    # Take out the bias stored in index 0 of W\n",
    "    model = W[1:]\n",
    "    \n",
    "    # Figure out the regulation component\n",
    "    if regType == None:\n",
    "        pass\n",
    "        \n",
    "    elif regType == 'lasso':\n",
    "        reg_comp = regParam*np.sign(model)\n",
    "        # Update the gradient function by taking the regularization component into consideration\n",
    "        grad = grad + np.append(0.0,reg_comp)\n",
    "                \n",
    "    elif regType == 'ridge':\n",
    "        reg_comp = regParam*model\n",
    "        # Update the gradient function by taking the regularization component into consideration\n",
    "        grad = grad + np.append(0.0,reg_comp)\n",
    "    \n",
    "    new_model = W - (learningRate*grad)\n",
    "    \n",
    "    return new_model"
   ]
  },
  {
   "cell_type": "code",
   "execution_count": 53,
   "metadata": {},
   "outputs": [],
   "source": [
    "# This code performs the Gradient Descent iterations \n",
    "def GradientDescent_wReg(trainRDD, wInit, nSteps = 20, learningRate = 0.1,\n",
    "                         regType = None, regParam = 0.1, verbose = False):\n",
    "    \"\"\"\n",
    "    Perform nSteps iterations of regularized gradient descent and \n",
    "    track loss on a test and train set. Return lists of\n",
    "    test/train loss and the models themselves.\n",
    "    \"\"\"\n",
    "    # initialize lists to track model performance\n",
    "    train_history, model_history = [], []\n",
    "    \n",
    "    # perform n updates & compute test and train loss after each update\n",
    "    model = wInit\n",
    "    for idx in range(nSteps):  \n",
    "        # update the model\n",
    "        model = GDUpdate_wReg(trainRDD, model, learningRate, regType, regParam)\n",
    "        \n",
    "        # keep track of test/train loss for plotting\n",
    "        train_history.append(LogLoss(trainRDD, model))\n",
    "        model_history.append(model)\n",
    "        \n",
    "        # console output if desired\n",
    "        if verbose:\n",
    "            print(\"----------\")\n",
    "            print(f\"STEP: {idx+1}\")\n",
    "            print(f\"training loss: {LogLoss(trainRDD, model)}\")\n",
    "            print(f\"Model: {[round(w,3) for w in model]}\")\n",
    "    return train_history, model_history"
   ]
  },
  {
   "cell_type": "code",
   "execution_count": 125,
   "metadata": {},
   "outputs": [
    {
     "name": "stdout",
     "output_type": "stream",
     "text": [
      "\n",
      "... trained 500 iterations in 93.60545516014099 seconds\n",
      "The final log loss is: 0.2083570093787418\n",
      "The coefficients are: [ 0.92424552 -0.92883157  0.92487984]\n",
      "The intercept is: -0.023986745276121414\n"
     ]
    }
   ],
   "source": [
    "# run 50 iterations\n",
    "#meanQuality = toy_RDD.map(lambda x: x[0]).mean()\n",
    "#BASELINE = np.append([meanQuality],[0,0,0,0,0,0,0,0,0,0,0,0,0])\n",
    "#BASELINE = np.append([meanQuality],[0,0,0])\n",
    "#BASELINE = np.append([1],[1,-1,1])\n",
    "\n",
    "wInit = np.random.uniform(0,1,4)\n",
    "start = time.time()\n",
    "results = GradientDescent_wReg(toy_RDD, wInit, nSteps = 500, learningRate = 0.1, \n",
    "                                     regType='ridge', regParam = 0.1, verbose = False )\n",
    "print(f\"\\n... trained {len(results[1])} iterations in {time.time() - start} seconds\")\n",
    "print(\"The final log loss is: {}\".format(results[0][-1]))\n",
    "print(\"The coefficients are: {}\".format(results[1][-1][1:]))\n",
    "print(\"The intercept is: {}\".format(results[1][-1][0]))"
   ]
  },
  {
   "cell_type": "code",
   "execution_count": 111,
   "metadata": {},
   "outputs": [],
   "source": [
    "lr = LogisticRegression(maxIter=50, regParam=0.1, standardization=True, fitIntercept=True, elasticNetParam=0.0)\n",
    "lrModel = lr.fit(toy_df_transformed)"
   ]
  },
  {
   "cell_type": "code",
   "execution_count": 112,
   "metadata": {},
   "outputs": [
    {
     "name": "stdout",
     "output_type": "stream",
     "text": [
      "Coefficients: [1.6026464110841647,-1.602646356365978,1.6026464110841647]\n",
      "Intercept: -0.4228085161634782\n"
     ]
    }
   ],
   "source": [
    "print(\"Coefficients: \" + str(lrModel.coefficients))\n",
    "print(\"Intercept: \" + str(lrModel.intercept))"
   ]
  },
  {
   "cell_type": "code",
   "execution_count": 115,
   "metadata": {},
   "outputs": [
    {
     "data": {
      "text/plain": [
       "0.27789688952282793"
      ]
     },
     "execution_count": 115,
     "metadata": {},
     "output_type": "execute_result"
    }
   ],
   "source": [
    "coef = lrModel.coefficients\n",
    "rhs = np.dot(coef, [0,1,0]) + lrModel.intercept\n",
    "1/(1+np.exp(-1.0*rhs))"
   ]
  },
  {
   "cell_type": "code",
   "execution_count": 118,
   "metadata": {},
   "outputs": [
    {
     "data": {
      "text/plain": [
       "0.9667723968574894"
      ]
     },
     "execution_count": 118,
     "metadata": {},
     "output_type": "execute_result"
    }
   ],
   "source": [
    "coef = results[1][-1][1:]\n",
    "intercept = results[1][-1][0]\n",
    "rhs = np.dot(coef, [1,0,1]) + intercept\n",
    "1/(1+np.exp(-1.0*rhs))"
   ]
  },
  {
   "cell_type": "code",
   "execution_count": 68,
   "metadata": {},
   "outputs": [],
   "source": [
    "# plot error curves - RUN THIS CELL AS IS\n",
    "def plotErrorCurves(trainLoss, title = None):\n",
    "    \"\"\"\n",
    "    Helper function for plotting.\n",
    "    Args: trainLoss (list of MSE)\n",
    "    \"\"\"\n",
    "    fig, ax = plt.subplots(1,1,figsize = (16,8))\n",
    "    x = list(range(len(trainLoss)))[1:]\n",
    "    ax.plot(x, trainLoss[1:], 'k--', label='Training Loss')\n",
    "    ax.legend(loc='upper right', fontsize='x-large')\n",
    "    plt.xlabel('Number of Iterations')\n",
    "    plt.ylabel('Mean Squared Error')\n",
    "    if title:\n",
    "        plt.title(title)\n",
    "    plt.show()"
   ]
  },
  {
   "cell_type": "code",
   "execution_count": 74,
   "metadata": {},
   "outputs": [
    {
     "data": {
      "image/png": "[encoded data removed]",
      "text/plain": [
       "<Figure size 1152x576 with 1 Axes>"
      ]
     },
     "metadata": {},
     "output_type": "display_data"
    }
   ],
   "source": [
    "# part d - save and display ridge results (RUN THIS CELL AS IS)\n",
    "trainLoss, models = results\n",
    "plotErrorCurves(trainLoss, title = 'Regression Error Curves' )"
   ]
  },
  {
   "cell_type": "code",
   "execution_count": 71,
   "metadata": {},
   "outputs": [
    {
     "data": {
      "text/plain": [
       "LogisticRegression(C=10, class_weight=None, dual=False, fit_intercept=True,\n",
       "          intercept_scaling=1, max_iter=500, multi_class='ovr', n_jobs=1,\n",
       "          penalty='l2', random_state=None, solver='saga', tol=0.0001,\n",
       "          verbose=0, warm_start=False)"
      ]
     },
     "execution_count": 71,
     "metadata": {},
     "output_type": "execute_result"
    }
   ],
   "source": [
    "x_train = pd.DataFrame(toy_df.take(9), columns=['label','feature1','feature2','feature3']).iloc[:,1:]\n",
    "y_train = pd.DataFrame(toy_df.take(9), columns=['label','feature1','feature2','feature3']).iloc[:,0]\n",
    "\n",
    "from sklearn.linear_model import LogisticRegression\n",
    "\n",
    "logisticRegr = LogisticRegression(penalty = 'l2',fit_intercept = True,max_iter= 500,C=10, solver='saga' )\n",
    "logisticRegr.fit(x_train, y_train)"
   ]
  },
  {
   "cell_type": "code",
   "execution_count": 72,
   "metadata": {},
   "outputs": [
    {
     "data": {
      "text/plain": [
       "array([[ 1.99827187, -2.00749903,  1.99827187]])"
      ]
     },
     "execution_count": 72,
     "metadata": {},
     "output_type": "execute_result"
    }
   ],
   "source": [
    "logisticRegr.coef_"
   ]
  },
  {
   "cell_type": "code",
   "execution_count": 73,
   "metadata": {},
   "outputs": [
    {
     "data": {
      "text/plain": [
       "array([-0.62930163])"
      ]
     },
     "execution_count": 73,
     "metadata": {},
     "output_type": "execute_result"
    }
   ],
   "source": [
    "logisticRegr.intercept_"
   ]
  },
  {
   "cell_type": "code",
   "execution_count": null,
   "metadata": {},
   "outputs": [],
   "source": []
  }
 ],
 "metadata": {
  "kernelspec": {
   "display_name": "Python 3",
   "language": "python",
   "name": "python3"
  },
  "language_info": {
   "codemirror_mode": {
    "name": "ipython",
    "version": 3
   },
   "file_extension": ".py",
   "mimetype": "text/x-python",
   "name": "python",
   "nbconvert_exporter": "python",
   "pygments_lexer": "ipython3",
   "version": "3.6.6"
  }
 },
 "nbformat": 4,
 "nbformat_minor": 2
}
