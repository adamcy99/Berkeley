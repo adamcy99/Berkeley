{
 "cells": [
  {
   "cell_type": "markdown",
   "metadata": {},
   "source": [
    "Question Formulation Checklist:\n",
    "    - Introduce the goal of your analysis (I think I covered this)\n",
    "    - What questions will you seek to answer? (Needs work)\n",
    "        - Clearly articulated question that is appropriate to both the data and the algorithm and takes limitations of the data and/or algorithm into account.\n",
    "    - Why do people perform this kind of analysis on this kind of data? (I think I covered this)\n",
    "    - Preview what level of performance your model would need to achieve to be practically useful. (Needs work)\n",
    "    - Data set contents and context are clearly introduced. (I think I covered this)\n",
    "    - I think we should also mention the course concepts we want to cover. (I think I covered this)"
   ]
  },
  {
   "cell_type": "markdown",
   "metadata": {},
   "source": [
    "When it comes to making money off the internet, few things drive revenue like display advertisement. Getting the right product in front of the right people can be beneficial to the brand and consumer alike, but to do so is no easy task. Criteo works with over 4,000 e-commerce companies around the world and utilizes an algorithmic machine learning approach on an endless stream of user and advertisement data in an attempt to show the right ads to any given user. As an extension of this goal, CriteoLabs had shared a week's worth of data as a machine learning challenge to develop an algorithm which can accurately predict the click-through-rate. The click-through-rate simply describes the probability that a given user on a given webpage, would click on a given ad. The idea of a click-through-rate can be further expressed by looking at the data provided by CriteoLabs:"
   ]
  },
  {
   "cell_type": "code",
   "execution_count": null,
   "metadata": {},
   "outputs": [],
   "source": [
    "train_RDD.take(1)"
   ]
  },
  {
   "cell_type": "markdown",
   "metadata": {},
   "source": [
    "Criteo labs provided a week's worth of data where each row is similar to the one shown above. Each row of data contains tab delimited values where the first value represents the actual `label` where 1 means the user clicked on the provided advertisement and 0 means the user did not click on the provided advertisement. Then we are provided with 13 integer columns that mostly represent count features as well as 26 columns that represent categorical features. For anonymization purposes, the values of these categorical features have been hashed onto 32 bits. We are not told what each of the 39 features represent because Criteo would like to keep their feature selection a secret. However, it is implied that together, the 39 features represent a certain user, the webpage that the user is on, as well as a certain ad that the user is exposed to. With these 39 features, our goal is to come up with a machine learning algorithm in order to predict the probability that the ad will be clicked by the user on that webpage (click-through-rate). Along the development phase of our machine learning algorithm, we will be highlighting the following course concepts that was relevant to this task: **Insert Course Concepts Here**.  \n"
   ]
  },
  {
   "cell_type": "code",
   "execution_count": null,
   "metadata": {},
   "outputs": [],
   "source": []
  }
 ],
 "metadata": {
  "kernelspec": {
   "display_name": "Python 3",
   "language": "python",
   "name": "python3"
  },
  "language_info": {
   "codemirror_mode": {
    "name": "ipython",
    "version": 3
   },
   "file_extension": ".py",
   "mimetype": "text/x-python",
   "name": "python",
   "nbconvert_exporter": "python",
   "pygments_lexer": "ipython3",
   "version": "3.6.6"
  }
 },
 "nbformat": 4,
 "nbformat_minor": 2
}
